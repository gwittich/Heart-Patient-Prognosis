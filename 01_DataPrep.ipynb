{
  "nbformat": 4,
  "nbformat_minor": 0,
  "metadata": {
    "kernelspec": {
      "display_name": "Python 3",
      "language": "python",
      "name": "python3"
    },
    "language_info": {
      "codemirror_mode": {
        "name": "ipython",
        "version": 3
      },
      "file_extension": ".py",
      "mimetype": "text/x-python",
      "name": "python",
      "nbconvert_exporter": "python",
      "pygments_lexer": "ipython3",
      "version": "3.7.6"
    },
    "colab": {
      "name": "01_DataPrep.ipynb",
      "provenance": [],
      "collapsed_sections": []
    }
  },
  "cells": [
    {
      "cell_type": "markdown",
      "metadata": {
        "id": "NSZ6mv8Sgxgn"
      },
      "source": [
        "# Heart Patient Prognosis"
      ]
    },
    {
      "cell_type": "markdown",
      "metadata": {
        "id": "KKKlo6Q5gxgo"
      },
      "source": [
        "Data Scientist:   __Gail Wittich__\\\n",
        "Email:      gwittich@optusnet.com.au \\\n",
        "Website:    www.linkedin.com/in/gail-wittich \\\n",
        "Copyright:  Copyright 2020, Gail Wittich "
      ]
    },
    {
      "cell_type": "markdown",
      "metadata": {
        "id": "Fydcde2Pgxgo"
      },
      "source": [
        "### **Load Packages**"
      ]
    },
    {
      "cell_type": "code",
      "metadata": {
        "id": "_t4YvcZXgxgp"
      },
      "source": [
        "from google.colab import drive                         # for accessing files\n",
        "import numpy as np                                     # for numeric computations\n",
        "import pandas as pd                                    # for data analysis\n",
        "import pickle                                          # for file reading and saving\n",
        "\n",
        "import warnings                                        # to ignore warnings\n",
        "warnings.filterwarnings('ignore')"
      ],
      "execution_count": null,
      "outputs": []
    },
    {
      "cell_type": "markdown",
      "metadata": {
        "id": "Fzpirb8Lgxgs"
      },
      "source": [
        "### **Load Data**"
      ]
    },
    {
      "cell_type": "code",
      "metadata": {
        "id": "N9OiVPjijtp4",
        "colab": {
          "base_uri": "https://localhost:8080/"
        },
        "outputId": "f947f50a-cf75-4a40-f4ca-99441ee845c2"
      },
      "source": [
        "# mount the google drive\n",
        "drive.mount(\"/content/drive\")"
      ],
      "execution_count": null,
      "outputs": [
        {
          "output_type": "stream",
          "text": [
            "Mounted at /content/drive\n"
          ],
          "name": "stdout"
        }
      ]
    },
    {
      "cell_type": "code",
      "metadata": {
        "id": "1VtzMvw8gxgt"
      },
      "source": [
        "# Load Training data\n",
        "training_df = pd.read_csv('/content/drive/My Drive/Colab Notebooks/ML Bootcamp/Heart_Patient/Data/Training_set_advc.csv')\n",
        "\n",
        " # training_df = pd.read_csv('https://raw.githubusercontent.com/dphi-official/Datasets/master/pharma_data/Training_set_advc.csv')"
      ],
      "execution_count": null,
      "outputs": []
    },
    {
      "cell_type": "code",
      "metadata": {
        "id": "XAOv1fOqleUZ"
      },
      "source": [
        "# Load Test data\n",
        "new_test_df = pd.read_csv('/content/drive/My Drive/Colab Notebooks/ML Bootcamp/Heart_Patient/Data/Testing_set_advc.csv')\n",
        "\n",
        "# new_test_df = pd.read_csv(\"https://raw.githubusercontent.com/dphi-official/Datasets/master/pharma_data/Testing_set_advc.csv\")"
      ],
      "execution_count": null,
      "outputs": []
    },
    {
      "cell_type": "markdown",
      "metadata": {
        "id": "JawPtlIUgxgw"
      },
      "source": [
        "### **Data Preparation - Training Data**"
      ]
    },
    {
      "cell_type": "code",
      "metadata": {
        "id": "pGgqN31bRhlF",
        "colab": {
          "base_uri": "https://localhost:8080/"
        },
        "outputId": "909661df-26ca-475d-b4d1-9358c750b596"
      },
      "source": [
        "training_df.info"
      ],
      "execution_count": null,
      "outputs": [
        {
          "output_type": "execute_result",
          "data": {
            "text/plain": [
              "<bound method DataFrame.info of        ID_Patient_Care_Situation  ...  Survived_1_year\n",
              "0                          16201  ...                1\n",
              "1                           9421  ...                0\n",
              "2                          16205  ...                1\n",
              "3                           5582  ...                0\n",
              "4                          20880  ...                1\n",
              "...                          ...  ...              ...\n",
              "25074                       3233  ...                1\n",
              "25075                      31394  ...                0\n",
              "25076                      28315  ...                1\n",
              "25077                       1338  ...                1\n",
              "25078                      16072  ...                1\n",
              "\n",
              "[25079 rows x 18 columns]>"
            ]
          },
          "metadata": {
            "tags": []
          },
          "execution_count": 5
        }
      ]
    },
    {
      "cell_type": "code",
      "metadata": {
        "id": "QM41vmcCgxgx",
        "colab": {
          "base_uri": "https://localhost:8080/",
          "height": 224
        },
        "outputId": "aef591e4-3348-41cc-c88b-8ac9370acb3d"
      },
      "source": [
        "# inspect the first 5 rows of data - feature names, data types amd values\n",
        "training_df.head()"
      ],
      "execution_count": null,
      "outputs": [
        {
          "output_type": "execute_result",
          "data": {
            "text/html": [
              "<div>\n",
              "<style scoped>\n",
              "    .dataframe tbody tr th:only-of-type {\n",
              "        vertical-align: middle;\n",
              "    }\n",
              "\n",
              "    .dataframe tbody tr th {\n",
              "        vertical-align: top;\n",
              "    }\n",
              "\n",
              "    .dataframe thead th {\n",
              "        text-align: right;\n",
              "    }\n",
              "</style>\n",
              "<table border=\"1\" class=\"dataframe\">\n",
              "  <thead>\n",
              "    <tr style=\"text-align: right;\">\n",
              "      <th></th>\n",
              "      <th>ID_Patient_Care_Situation</th>\n",
              "      <th>Diagnosed_Condition</th>\n",
              "      <th>Patient_ID</th>\n",
              "      <th>Treated_with_drugs</th>\n",
              "      <th>Patient_Age</th>\n",
              "      <th>Patient_Body_Mass_Index</th>\n",
              "      <th>Patient_Smoker</th>\n",
              "      <th>Patient_Rural_Urban</th>\n",
              "      <th>Patient_mental_condition</th>\n",
              "      <th>A</th>\n",
              "      <th>B</th>\n",
              "      <th>C</th>\n",
              "      <th>D</th>\n",
              "      <th>E</th>\n",
              "      <th>F</th>\n",
              "      <th>Z</th>\n",
              "      <th>Number_of_prev_cond</th>\n",
              "      <th>Survived_1_year</th>\n",
              "    </tr>\n",
              "  </thead>\n",
              "  <tbody>\n",
              "    <tr>\n",
              "      <th>0</th>\n",
              "      <td>16201</td>\n",
              "      <td>47</td>\n",
              "      <td>8433</td>\n",
              "      <td>DX2</td>\n",
              "      <td>60</td>\n",
              "      <td>21.655523</td>\n",
              "      <td>NO</td>\n",
              "      <td>URBAN</td>\n",
              "      <td>Stable</td>\n",
              "      <td>1.0</td>\n",
              "      <td>0.0</td>\n",
              "      <td>0.0</td>\n",
              "      <td>0.0</td>\n",
              "      <td>1.0</td>\n",
              "      <td>0.0</td>\n",
              "      <td>0.0</td>\n",
              "      <td>2.0</td>\n",
              "      <td>1</td>\n",
              "    </tr>\n",
              "    <tr>\n",
              "      <th>1</th>\n",
              "      <td>9421</td>\n",
              "      <td>3</td>\n",
              "      <td>2972</td>\n",
              "      <td>DX6</td>\n",
              "      <td>2</td>\n",
              "      <td>28.852743</td>\n",
              "      <td>NO</td>\n",
              "      <td>RURAL</td>\n",
              "      <td>Stable</td>\n",
              "      <td>1.0</td>\n",
              "      <td>0.0</td>\n",
              "      <td>1.0</td>\n",
              "      <td>0.0</td>\n",
              "      <td>1.0</td>\n",
              "      <td>0.0</td>\n",
              "      <td>0.0</td>\n",
              "      <td>3.0</td>\n",
              "      <td>0</td>\n",
              "    </tr>\n",
              "    <tr>\n",
              "      <th>2</th>\n",
              "      <td>16205</td>\n",
              "      <td>7</td>\n",
              "      <td>8608</td>\n",
              "      <td>Dx6</td>\n",
              "      <td>20</td>\n",
              "      <td>26.179725</td>\n",
              "      <td>NO</td>\n",
              "      <td>RURAL</td>\n",
              "      <td>Stable</td>\n",
              "      <td>1.0</td>\n",
              "      <td>0.0</td>\n",
              "      <td>0.0</td>\n",
              "      <td>0.0</td>\n",
              "      <td>1.0</td>\n",
              "      <td>0.0</td>\n",
              "      <td>0.0</td>\n",
              "      <td>2.0</td>\n",
              "      <td>1</td>\n",
              "    </tr>\n",
              "    <tr>\n",
              "      <th>3</th>\n",
              "      <td>5582</td>\n",
              "      <td>31</td>\n",
              "      <td>10074</td>\n",
              "      <td>dx6</td>\n",
              "      <td>8</td>\n",
              "      <td>22.638945</td>\n",
              "      <td>NO</td>\n",
              "      <td>RURAL</td>\n",
              "      <td>Stable</td>\n",
              "      <td>1.0</td>\n",
              "      <td>0.0</td>\n",
              "      <td>0.0</td>\n",
              "      <td>0.0</td>\n",
              "      <td>1.0</td>\n",
              "      <td>0.0</td>\n",
              "      <td>0.0</td>\n",
              "      <td>2.0</td>\n",
              "      <td>0</td>\n",
              "    </tr>\n",
              "    <tr>\n",
              "      <th>4</th>\n",
              "      <td>20880</td>\n",
              "      <td>43</td>\n",
              "      <td>7462</td>\n",
              "      <td>dx1</td>\n",
              "      <td>53</td>\n",
              "      <td>21.326131</td>\n",
              "      <td>NO</td>\n",
              "      <td>RURAL</td>\n",
              "      <td>Stable</td>\n",
              "      <td>1.0</td>\n",
              "      <td>0.0</td>\n",
              "      <td>0.0</td>\n",
              "      <td>0.0</td>\n",
              "      <td>0.0</td>\n",
              "      <td>0.0</td>\n",
              "      <td>0.0</td>\n",
              "      <td>1.0</td>\n",
              "      <td>1</td>\n",
              "    </tr>\n",
              "  </tbody>\n",
              "</table>\n",
              "</div>"
            ],
            "text/plain": [
              "   ID_Patient_Care_Situation  ...  Survived_1_year\n",
              "0                      16201  ...                1\n",
              "1                       9421  ...                0\n",
              "2                      16205  ...                1\n",
              "3                       5582  ...                0\n",
              "4                      20880  ...                1\n",
              "\n",
              "[5 rows x 18 columns]"
            ]
          },
          "metadata": {
            "tags": []
          },
          "execution_count": 6
        }
      ]
    },
    {
      "cell_type": "markdown",
      "metadata": {
        "id": "ae83Jhl2gxg0"
      },
      "source": [
        "The feature 'Treated_with_drugs' has multiple values representing the same drug i.e. DX6 & Dx6 and dx6."
      ]
    },
    {
      "cell_type": "markdown",
      "metadata": {
        "id": "aIMA5d4U91P6"
      },
      "source": [
        "**Check for duplicate data**"
      ]
    },
    {
      "cell_type": "code",
      "metadata": {
        "id": "_4cY3Oi_900z",
        "colab": {
          "base_uri": "https://localhost:8080/"
        },
        "outputId": "07f906c7-1ef7-4dba-b478-dc8a249d47db"
      },
      "source": [
        "training_df.duplicated().sum()"
      ],
      "execution_count": null,
      "outputs": [
        {
          "output_type": "execute_result",
          "data": {
            "text/plain": [
              "1982"
            ]
          },
          "metadata": {
            "tags": []
          },
          "execution_count": 7
        }
      ]
    },
    {
      "cell_type": "code",
      "metadata": {
        "id": "pZawtIXNQJre",
        "colab": {
          "base_uri": "https://localhost:8080/",
          "height": 456
        },
        "outputId": "e6e3451f-6189-436b-f328-ae96d0eaa45d"
      },
      "source": [
        "duplicate = training_df[training_df.duplicated(['ID_Patient_Care_Situation', 'Patient_ID'])]  \n",
        "print(\"Duplicate Rows :\") \n",
        "duplicate"
      ],
      "execution_count": null,
      "outputs": [
        {
          "output_type": "stream",
          "text": [
            "Duplicate Rows :\n"
          ],
          "name": "stdout"
        },
        {
          "output_type": "execute_result",
          "data": {
            "text/html": [
              "<div>\n",
              "<style scoped>\n",
              "    .dataframe tbody tr th:only-of-type {\n",
              "        vertical-align: middle;\n",
              "    }\n",
              "\n",
              "    .dataframe tbody tr th {\n",
              "        vertical-align: top;\n",
              "    }\n",
              "\n",
              "    .dataframe thead th {\n",
              "        text-align: right;\n",
              "    }\n",
              "</style>\n",
              "<table border=\"1\" class=\"dataframe\">\n",
              "  <thead>\n",
              "    <tr style=\"text-align: right;\">\n",
              "      <th></th>\n",
              "      <th>ID_Patient_Care_Situation</th>\n",
              "      <th>Diagnosed_Condition</th>\n",
              "      <th>Patient_ID</th>\n",
              "      <th>Treated_with_drugs</th>\n",
              "      <th>Patient_Age</th>\n",
              "      <th>Patient_Body_Mass_Index</th>\n",
              "      <th>Patient_Smoker</th>\n",
              "      <th>Patient_Rural_Urban</th>\n",
              "      <th>Patient_mental_condition</th>\n",
              "      <th>A</th>\n",
              "      <th>B</th>\n",
              "      <th>C</th>\n",
              "      <th>D</th>\n",
              "      <th>E</th>\n",
              "      <th>F</th>\n",
              "      <th>Z</th>\n",
              "      <th>Number_of_prev_cond</th>\n",
              "      <th>Survived_1_year</th>\n",
              "    </tr>\n",
              "  </thead>\n",
              "  <tbody>\n",
              "    <tr>\n",
              "      <th>23097</th>\n",
              "      <td>30896</td>\n",
              "      <td>18</td>\n",
              "      <td>10023</td>\n",
              "      <td>DX6</td>\n",
              "      <td>16</td>\n",
              "      <td>29.917028</td>\n",
              "      <td>NO</td>\n",
              "      <td>URBAN</td>\n",
              "      <td>Stable</td>\n",
              "      <td>1.0</td>\n",
              "      <td>0.0</td>\n",
              "      <td>0.0</td>\n",
              "      <td>1.0</td>\n",
              "      <td>0.0</td>\n",
              "      <td>0.0</td>\n",
              "      <td>0.0</td>\n",
              "      <td>2.0</td>\n",
              "      <td>1</td>\n",
              "    </tr>\n",
              "    <tr>\n",
              "      <th>23098</th>\n",
              "      <td>10604</td>\n",
              "      <td>29</td>\n",
              "      <td>7392</td>\n",
              "      <td>Dx6</td>\n",
              "      <td>1</td>\n",
              "      <td>27.302076</td>\n",
              "      <td>NO</td>\n",
              "      <td>URBAN</td>\n",
              "      <td>Stable</td>\n",
              "      <td>NaN</td>\n",
              "      <td>NaN</td>\n",
              "      <td>NaN</td>\n",
              "      <td>NaN</td>\n",
              "      <td>NaN</td>\n",
              "      <td>NaN</td>\n",
              "      <td>NaN</td>\n",
              "      <td>NaN</td>\n",
              "      <td>0</td>\n",
              "    </tr>\n",
              "    <tr>\n",
              "      <th>23099</th>\n",
              "      <td>25016</td>\n",
              "      <td>49</td>\n",
              "      <td>8356</td>\n",
              "      <td>DX5</td>\n",
              "      <td>13</td>\n",
              "      <td>22.847150</td>\n",
              "      <td>NO</td>\n",
              "      <td>RURAL</td>\n",
              "      <td>Stable</td>\n",
              "      <td>1.0</td>\n",
              "      <td>1.0</td>\n",
              "      <td>0.0</td>\n",
              "      <td>1.0</td>\n",
              "      <td>0.0</td>\n",
              "      <td>0.0</td>\n",
              "      <td>0.0</td>\n",
              "      <td>3.0</td>\n",
              "      <td>1</td>\n",
              "    </tr>\n",
              "    <tr>\n",
              "      <th>23100</th>\n",
              "      <td>8412</td>\n",
              "      <td>2</td>\n",
              "      <td>5650</td>\n",
              "      <td>Dx6</td>\n",
              "      <td>18</td>\n",
              "      <td>28.955220</td>\n",
              "      <td>YES</td>\n",
              "      <td>RURAL</td>\n",
              "      <td>Stable</td>\n",
              "      <td>1.0</td>\n",
              "      <td>0.0</td>\n",
              "      <td>0.0</td>\n",
              "      <td>0.0</td>\n",
              "      <td>1.0</td>\n",
              "      <td>0.0</td>\n",
              "      <td>0.0</td>\n",
              "      <td>2.0</td>\n",
              "      <td>0</td>\n",
              "    </tr>\n",
              "    <tr>\n",
              "      <th>23101</th>\n",
              "      <td>754</td>\n",
              "      <td>13</td>\n",
              "      <td>7831</td>\n",
              "      <td>DX3 DX5</td>\n",
              "      <td>0</td>\n",
              "      <td>28.214876</td>\n",
              "      <td>NO</td>\n",
              "      <td>RURAL</td>\n",
              "      <td>Stable</td>\n",
              "      <td>1.0</td>\n",
              "      <td>0.0</td>\n",
              "      <td>1.0</td>\n",
              "      <td>0.0</td>\n",
              "      <td>0.0</td>\n",
              "      <td>0.0</td>\n",
              "      <td>0.0</td>\n",
              "      <td>2.0</td>\n",
              "      <td>1</td>\n",
              "    </tr>\n",
              "    <tr>\n",
              "      <th>...</th>\n",
              "      <td>...</td>\n",
              "      <td>...</td>\n",
              "      <td>...</td>\n",
              "      <td>...</td>\n",
              "      <td>...</td>\n",
              "      <td>...</td>\n",
              "      <td>...</td>\n",
              "      <td>...</td>\n",
              "      <td>...</td>\n",
              "      <td>...</td>\n",
              "      <td>...</td>\n",
              "      <td>...</td>\n",
              "      <td>...</td>\n",
              "      <td>...</td>\n",
              "      <td>...</td>\n",
              "      <td>...</td>\n",
              "      <td>...</td>\n",
              "      <td>...</td>\n",
              "    </tr>\n",
              "    <tr>\n",
              "      <th>25074</th>\n",
              "      <td>3233</td>\n",
              "      <td>2</td>\n",
              "      <td>2491</td>\n",
              "      <td>Dx3 dx4</td>\n",
              "      <td>33</td>\n",
              "      <td>20.825297</td>\n",
              "      <td>NO</td>\n",
              "      <td>RURAL</td>\n",
              "      <td>Stable</td>\n",
              "      <td>1.0</td>\n",
              "      <td>0.0</td>\n",
              "      <td>1.0</td>\n",
              "      <td>0.0</td>\n",
              "      <td>1.0</td>\n",
              "      <td>0.0</td>\n",
              "      <td>0.0</td>\n",
              "      <td>3.0</td>\n",
              "      <td>1</td>\n",
              "    </tr>\n",
              "    <tr>\n",
              "      <th>25075</th>\n",
              "      <td>31394</td>\n",
              "      <td>21</td>\n",
              "      <td>2806</td>\n",
              "      <td>DX2</td>\n",
              "      <td>60</td>\n",
              "      <td>22.679810</td>\n",
              "      <td>YES</td>\n",
              "      <td>RURAL</td>\n",
              "      <td>Stable</td>\n",
              "      <td>1.0</td>\n",
              "      <td>0.0</td>\n",
              "      <td>1.0</td>\n",
              "      <td>0.0</td>\n",
              "      <td>0.0</td>\n",
              "      <td>0.0</td>\n",
              "      <td>0.0</td>\n",
              "      <td>2.0</td>\n",
              "      <td>0</td>\n",
              "    </tr>\n",
              "    <tr>\n",
              "      <th>25076</th>\n",
              "      <td>28315</td>\n",
              "      <td>18</td>\n",
              "      <td>11733</td>\n",
              "      <td>DX4 DX5</td>\n",
              "      <td>51</td>\n",
              "      <td>19.952023</td>\n",
              "      <td>YES</td>\n",
              "      <td>RURAL</td>\n",
              "      <td>Stable</td>\n",
              "      <td>0.0</td>\n",
              "      <td>0.0</td>\n",
              "      <td>1.0</td>\n",
              "      <td>0.0</td>\n",
              "      <td>0.0</td>\n",
              "      <td>0.0</td>\n",
              "      <td>0.0</td>\n",
              "      <td>1.0</td>\n",
              "      <td>1</td>\n",
              "    </tr>\n",
              "    <tr>\n",
              "      <th>25077</th>\n",
              "      <td>1338</td>\n",
              "      <td>4</td>\n",
              "      <td>8577</td>\n",
              "      <td>dx5</td>\n",
              "      <td>21</td>\n",
              "      <td>20.681303</td>\n",
              "      <td>NO</td>\n",
              "      <td>URBAN</td>\n",
              "      <td>Stable</td>\n",
              "      <td>1.0</td>\n",
              "      <td>0.0</td>\n",
              "      <td>0.0</td>\n",
              "      <td>0.0</td>\n",
              "      <td>0.0</td>\n",
              "      <td>0.0</td>\n",
              "      <td>0.0</td>\n",
              "      <td>1.0</td>\n",
              "      <td>1</td>\n",
              "    </tr>\n",
              "    <tr>\n",
              "      <th>25078</th>\n",
              "      <td>16072</td>\n",
              "      <td>18</td>\n",
              "      <td>10629</td>\n",
              "      <td>DX2 DX3</td>\n",
              "      <td>54</td>\n",
              "      <td>21.830371</td>\n",
              "      <td>NO</td>\n",
              "      <td>RURAL</td>\n",
              "      <td>Stable</td>\n",
              "      <td>1.0</td>\n",
              "      <td>0.0</td>\n",
              "      <td>0.0</td>\n",
              "      <td>0.0</td>\n",
              "      <td>0.0</td>\n",
              "      <td>0.0</td>\n",
              "      <td>0.0</td>\n",
              "      <td>1.0</td>\n",
              "      <td>1</td>\n",
              "    </tr>\n",
              "  </tbody>\n",
              "</table>\n",
              "<p>1982 rows × 18 columns</p>\n",
              "</div>"
            ],
            "text/plain": [
              "       ID_Patient_Care_Situation  ...  Survived_1_year\n",
              "23097                      30896  ...                1\n",
              "23098                      10604  ...                0\n",
              "23099                      25016  ...                1\n",
              "23100                       8412  ...                0\n",
              "23101                        754  ...                1\n",
              "...                          ...  ...              ...\n",
              "25074                       3233  ...                1\n",
              "25075                      31394  ...                0\n",
              "25076                      28315  ...                1\n",
              "25077                       1338  ...                1\n",
              "25078                      16072  ...                1\n",
              "\n",
              "[1982 rows x 18 columns]"
            ]
          },
          "metadata": {
            "tags": []
          },
          "execution_count": 8
        }
      ]
    },
    {
      "cell_type": "code",
      "metadata": {
        "id": "Ls8C1G36RQrY"
      },
      "source": [
        "training_df = training_df.drop_duplicates()"
      ],
      "execution_count": null,
      "outputs": []
    },
    {
      "cell_type": "markdown",
      "metadata": {
        "id": "HjH2KmgXn_Z5"
      },
      "source": [
        "#### Check, correct and corfirm Treated_with_drugs values"
      ]
    },
    {
      "cell_type": "code",
      "metadata": {
        "id": "S5gUzGetgxg1",
        "colab": {
          "base_uri": "https://localhost:8080/"
        },
        "outputId": "04fd8c1c-5bf9-4f99-cb1c-86c6b8ef1fd1"
      },
      "source": [
        "training_df.Treated_with_drugs.value_counts()"
      ],
      "execution_count": null,
      "outputs": [
        {
          "output_type": "execute_result",
          "data": {
            "text/plain": [
              "DX6                 4446\n",
              "DX6                 2199\n",
              "DX5                 1038\n",
              "DX2                 1008\n",
              "DX4                  968\n",
              "                    ... \n",
              "dx1 dx3 dx4 dx5        1\n",
              "dx1 dx2 dx3 dx5        1\n",
              "Dx1 dx2 dx5            1\n",
              "Dx1 dx2 dx3 dx4        1\n",
              "Dx3 dx4 dx5            1\n",
              "Name: Treated_with_drugs, Length: 182, dtype: int64"
            ]
          },
          "metadata": {
            "tags": []
          },
          "execution_count": 10
        }
      ]
    },
    {
      "cell_type": "markdown",
      "metadata": {
        "id": "LvkPSc3Ygxg3"
      },
      "source": [
        "Convert all the values in the feature 'Treated_with_drugs' to upper case."
      ]
    },
    {
      "cell_type": "code",
      "metadata": {
        "id": "jKKQbrCRgxg4"
      },
      "source": [
        "training_df['Treated_with_drugs'] = training_df['Treated_with_drugs'].str.upper()"
      ],
      "execution_count": null,
      "outputs": []
    },
    {
      "cell_type": "code",
      "metadata": {
        "id": "l0jGYL75gxg6",
        "colab": {
          "base_uri": "https://localhost:8080/"
        },
        "outputId": "147870b1-6e95-4102-b45d-5251c1eeb271"
      },
      "source": [
        "training_df.Treated_with_drugs.value_counts()"
      ],
      "execution_count": null,
      "outputs": [
        {
          "output_type": "execute_result",
          "data": {
            "text/plain": [
              "DX6                     5807\n",
              "DX6                     2830\n",
              "DX5                     1318\n",
              "DX2                     1282\n",
              "DX4                     1260\n",
              "                        ... \n",
              "DX2 DX3 DX4 DX5            6\n",
              "DX1 DX2 DX4 DX5            5\n",
              "DX1 DX2 DX3 DX4 DX5        2\n",
              "DX1 DX2 DX3 DX4 DX5        1\n",
              "DX1 DX2 DX3 DX5            1\n",
              "Name: Treated_with_drugs, Length: 64, dtype: int64"
            ]
          },
          "metadata": {
            "tags": []
          },
          "execution_count": 12
        }
      ]
    },
    {
      "cell_type": "markdown",
      "metadata": {
        "id": "q9ehnZ56rfam"
      },
      "source": [
        "Remove trailing spaces from drug types to eliminate multiple entries of the same drug. i.e.\n",
        "- 'DX6', count: 6286\n",
        "- 'DX6__', count: 3069 (ie trailing spaces)"
      ]
    },
    {
      "cell_type": "code",
      "metadata": {
        "id": "ibnJuKH8upji"
      },
      "source": [
        "training_df['Treated_with_drugs'] = training_df['Treated_with_drugs'].str.strip()"
      ],
      "execution_count": null,
      "outputs": []
    },
    {
      "cell_type": "code",
      "metadata": {
        "id": "It1VTTcDu9VC",
        "colab": {
          "base_uri": "https://localhost:8080/"
        },
        "outputId": "4cae56c6-1e12-4650-db60-7feefea2c5b2"
      },
      "source": [
        "# check that DX6 now has count 9355 (= 6289 + 3069) and there are no other 'duplicate' entries \n",
        "training_df.Treated_with_drugs.value_counts()"
      ],
      "execution_count": null,
      "outputs": [
        {
          "output_type": "execute_result",
          "data": {
            "text/plain": [
              "DX6                    8637\n",
              "DX5                    1921\n",
              "DX2                    1901\n",
              "DX4                    1857\n",
              "DX1                    1828\n",
              "DX3                    1808\n",
              "DX1 DX2                 424\n",
              "DX2 DX4                 420\n",
              "DX2 DX3                 420\n",
              "DX3 DX4                 415\n",
              "DX3 DX5                 414\n",
              "DX4 DX5                 409\n",
              "DX2 DX5                 406\n",
              "DX1 DX5                 406\n",
              "DX1 DX4                 398\n",
              "DX1 DX3                 397\n",
              "DX1 DX2 DX4             100\n",
              "DX1 DX3 DX4             100\n",
              "DX1 DX2 DX5              98\n",
              "DX2 DX3 DX5              96\n",
              "DX3 DX4 DX5              96\n",
              "DX2 DX3 DX4              95\n",
              "DX1 DX3 DX5              91\n",
              "DX1 DX4 DX5              87\n",
              "DX1 DX2 DX3              86\n",
              "DX2 DX4 DX5              83\n",
              "DX1 DX2 DX3 DX4          23\n",
              "DX1 DX3 DX4 DX5          21\n",
              "DX1 DX2 DX4 DX5          19\n",
              "DX2 DX3 DX4 DX5          18\n",
              "DX1 DX2 DX3 DX5          12\n",
              "DX1 DX2 DX3 DX4 DX5       3\n",
              "Name: Treated_with_drugs, dtype: int64"
            ]
          },
          "metadata": {
            "tags": []
          },
          "execution_count": 14
        }
      ]
    },
    {
      "cell_type": "markdown",
      "metadata": {
        "id": "-qiKx9HEgxhA"
      },
      "source": [
        "#### Check, correct and corfirm Patient_Smoker values"
      ]
    },
    {
      "cell_type": "code",
      "metadata": {
        "id": "yZV9jcoGgxhA",
        "colab": {
          "base_uri": "https://localhost:8080/"
        },
        "outputId": "f1bde627-6d83-4d59-b7d0-39dd27c12d50"
      },
      "source": [
        "training_df.Patient_Smoker.value_counts()"
      ],
      "execution_count": null,
      "outputs": [
        {
          "output_type": "execute_result",
          "data": {
            "text/plain": [
              "NO             9653\n",
              "YES            7249\n",
              "NO             3561\n",
              "YES            2509\n",
              "YESS             92\n",
              "YESS             25\n",
              "Cannot say        4\n",
              "Cannot say        2\n",
              "CANNOT SAY        1\n",
              "CANNOT SAY        1\n",
              "Name: Patient_Smoker, dtype: int64"
            ]
          },
          "metadata": {
            "tags": []
          },
          "execution_count": 15
        }
      ]
    },
    {
      "cell_type": "markdown",
      "metadata": {
        "id": "OWOpDOm-gxhD"
      },
      "source": [
        "There should only be 3 different values - NO, YES, and UNKNOWN"
      ]
    },
    {
      "cell_type": "code",
      "metadata": {
        "id": "UzMrK13YgxhD"
      },
      "source": [
        "# clean up 'Patient_Smoker' values\n",
        "def smoker(r):\n",
        "  if (r == \"NO\") or (r == \"NO \"):\n",
        "    return 'NO'\n",
        "  elif (r == \"YES\") or (r == \"YES \") or (r == \"YESS\") or (r == \"YESS \"):\n",
        "    return 'YES'\n",
        "  else:\n",
        "    return 'UNKNOWN'\n",
        "\n",
        "training_df.Patient_Smoker = training_df.Patient_Smoker.apply(smoker)  # Applying the function to all the entries of Patient_Smoker feature"
      ],
      "execution_count": null,
      "outputs": []
    },
    {
      "cell_type": "code",
      "metadata": {
        "id": "Sim6guiPgxhG",
        "colab": {
          "base_uri": "https://localhost:8080/"
        },
        "outputId": "276c9455-22d0-4caf-9817-490fe1b46164"
      },
      "source": [
        "training_df.Patient_Smoker.value_counts()"
      ],
      "execution_count": null,
      "outputs": [
        {
          "output_type": "execute_result",
          "data": {
            "text/plain": [
              "NO         13214\n",
              "YES         9875\n",
              "UNKNOWN        8\n",
              "Name: Patient_Smoker, dtype: int64"
            ]
          },
          "metadata": {
            "tags": []
          },
          "execution_count": 17
        }
      ]
    },
    {
      "cell_type": "markdown",
      "metadata": {
        "id": "ZZFN0eiUgxhM"
      },
      "source": [
        "#### Check, correct and corfirm Patient_Rural values"
      ]
    },
    {
      "cell_type": "code",
      "metadata": {
        "id": "W8SxckNpgxhN",
        "colab": {
          "base_uri": "https://localhost:8080/"
        },
        "outputId": "3269b2c5-f05a-4433-e67f-481634a1ed38"
      },
      "source": [
        "training_df.Patient_Rural_Urban.value_counts()"
      ],
      "execution_count": null,
      "outputs": [
        {
          "output_type": "execute_result",
          "data": {
            "text/plain": [
              "RURAL    16116\n",
              "URBAN     6981\n",
              "Name: Patient_Rural_Urban, dtype: int64"
            ]
          },
          "metadata": {
            "tags": []
          },
          "execution_count": 18
        }
      ]
    },
    {
      "cell_type": "markdown",
      "metadata": {
        "id": "VifWbB1ngxhP"
      },
      "source": [
        "#### Check Patient_mental_condition values"
      ]
    },
    {
      "cell_type": "code",
      "metadata": {
        "id": "FNwAu3OKgxhQ",
        "colab": {
          "base_uri": "https://localhost:8080/"
        },
        "outputId": "09e0da2a-6398-436b-806d-e627a4a8e285"
      },
      "source": [
        "training_df.Patient_mental_condition.value_counts()"
      ],
      "execution_count": null,
      "outputs": [
        {
          "output_type": "execute_result",
          "data": {
            "text/plain": [
              "Stable    23097\n",
              "Name: Patient_mental_condition, dtype: int64"
            ]
          },
          "metadata": {
            "tags": []
          },
          "execution_count": 19
        }
      ]
    },
    {
      "cell_type": "markdown",
      "metadata": {
        "id": "DoUIwHHUgxhS"
      },
      "source": [
        "As there is only one value in the 'Patient_mental_condition' feature, i.e. all patients are stable, this feature could be removed from the data set because it does not provide any insight and wont affect the predictions.  However, this limits the value of the model for future data that may have patients that are not 'Stable'."
      ]
    },
    {
      "cell_type": "code",
      "metadata": {
        "id": "moZNX5TFgxhS",
        "colab": {
          "base_uri": "https://localhost:8080/",
          "height": 224
        },
        "outputId": "f316c559-a341-488d-c4c9-dd4bf414bb70"
      },
      "source": [
        "training_df.drop(['Patient_mental_condition'], axis=1, inplace=True)\n",
        "training_df.head()"
      ],
      "execution_count": null,
      "outputs": [
        {
          "output_type": "execute_result",
          "data": {
            "text/html": [
              "<div>\n",
              "<style scoped>\n",
              "    .dataframe tbody tr th:only-of-type {\n",
              "        vertical-align: middle;\n",
              "    }\n",
              "\n",
              "    .dataframe tbody tr th {\n",
              "        vertical-align: top;\n",
              "    }\n",
              "\n",
              "    .dataframe thead th {\n",
              "        text-align: right;\n",
              "    }\n",
              "</style>\n",
              "<table border=\"1\" class=\"dataframe\">\n",
              "  <thead>\n",
              "    <tr style=\"text-align: right;\">\n",
              "      <th></th>\n",
              "      <th>ID_Patient_Care_Situation</th>\n",
              "      <th>Diagnosed_Condition</th>\n",
              "      <th>Patient_ID</th>\n",
              "      <th>Treated_with_drugs</th>\n",
              "      <th>Patient_Age</th>\n",
              "      <th>Patient_Body_Mass_Index</th>\n",
              "      <th>Patient_Smoker</th>\n",
              "      <th>Patient_Rural_Urban</th>\n",
              "      <th>A</th>\n",
              "      <th>B</th>\n",
              "      <th>C</th>\n",
              "      <th>D</th>\n",
              "      <th>E</th>\n",
              "      <th>F</th>\n",
              "      <th>Z</th>\n",
              "      <th>Number_of_prev_cond</th>\n",
              "      <th>Survived_1_year</th>\n",
              "    </tr>\n",
              "  </thead>\n",
              "  <tbody>\n",
              "    <tr>\n",
              "      <th>0</th>\n",
              "      <td>16201</td>\n",
              "      <td>47</td>\n",
              "      <td>8433</td>\n",
              "      <td>DX2</td>\n",
              "      <td>60</td>\n",
              "      <td>21.655523</td>\n",
              "      <td>NO</td>\n",
              "      <td>URBAN</td>\n",
              "      <td>1.0</td>\n",
              "      <td>0.0</td>\n",
              "      <td>0.0</td>\n",
              "      <td>0.0</td>\n",
              "      <td>1.0</td>\n",
              "      <td>0.0</td>\n",
              "      <td>0.0</td>\n",
              "      <td>2.0</td>\n",
              "      <td>1</td>\n",
              "    </tr>\n",
              "    <tr>\n",
              "      <th>1</th>\n",
              "      <td>9421</td>\n",
              "      <td>3</td>\n",
              "      <td>2972</td>\n",
              "      <td>DX6</td>\n",
              "      <td>2</td>\n",
              "      <td>28.852743</td>\n",
              "      <td>NO</td>\n",
              "      <td>RURAL</td>\n",
              "      <td>1.0</td>\n",
              "      <td>0.0</td>\n",
              "      <td>1.0</td>\n",
              "      <td>0.0</td>\n",
              "      <td>1.0</td>\n",
              "      <td>0.0</td>\n",
              "      <td>0.0</td>\n",
              "      <td>3.0</td>\n",
              "      <td>0</td>\n",
              "    </tr>\n",
              "    <tr>\n",
              "      <th>2</th>\n",
              "      <td>16205</td>\n",
              "      <td>7</td>\n",
              "      <td>8608</td>\n",
              "      <td>DX6</td>\n",
              "      <td>20</td>\n",
              "      <td>26.179725</td>\n",
              "      <td>NO</td>\n",
              "      <td>RURAL</td>\n",
              "      <td>1.0</td>\n",
              "      <td>0.0</td>\n",
              "      <td>0.0</td>\n",
              "      <td>0.0</td>\n",
              "      <td>1.0</td>\n",
              "      <td>0.0</td>\n",
              "      <td>0.0</td>\n",
              "      <td>2.0</td>\n",
              "      <td>1</td>\n",
              "    </tr>\n",
              "    <tr>\n",
              "      <th>3</th>\n",
              "      <td>5582</td>\n",
              "      <td>31</td>\n",
              "      <td>10074</td>\n",
              "      <td>DX6</td>\n",
              "      <td>8</td>\n",
              "      <td>22.638945</td>\n",
              "      <td>NO</td>\n",
              "      <td>RURAL</td>\n",
              "      <td>1.0</td>\n",
              "      <td>0.0</td>\n",
              "      <td>0.0</td>\n",
              "      <td>0.0</td>\n",
              "      <td>1.0</td>\n",
              "      <td>0.0</td>\n",
              "      <td>0.0</td>\n",
              "      <td>2.0</td>\n",
              "      <td>0</td>\n",
              "    </tr>\n",
              "    <tr>\n",
              "      <th>4</th>\n",
              "      <td>20880</td>\n",
              "      <td>43</td>\n",
              "      <td>7462</td>\n",
              "      <td>DX1</td>\n",
              "      <td>53</td>\n",
              "      <td>21.326131</td>\n",
              "      <td>NO</td>\n",
              "      <td>RURAL</td>\n",
              "      <td>1.0</td>\n",
              "      <td>0.0</td>\n",
              "      <td>0.0</td>\n",
              "      <td>0.0</td>\n",
              "      <td>0.0</td>\n",
              "      <td>0.0</td>\n",
              "      <td>0.0</td>\n",
              "      <td>1.0</td>\n",
              "      <td>1</td>\n",
              "    </tr>\n",
              "  </tbody>\n",
              "</table>\n",
              "</div>"
            ],
            "text/plain": [
              "   ID_Patient_Care_Situation  ...  Survived_1_year\n",
              "0                      16201  ...                1\n",
              "1                       9421  ...                0\n",
              "2                      16205  ...                1\n",
              "3                       5582  ...                0\n",
              "4                      20880  ...                1\n",
              "\n",
              "[5 rows x 17 columns]"
            ]
          },
          "metadata": {
            "tags": []
          },
          "execution_count": 20
        }
      ]
    },
    {
      "cell_type": "markdown",
      "metadata": {
        "id": "KeXhHNv3gxhV"
      },
      "source": [
        "### **Data Preparation - New Test Data (as for Training Data)**"
      ]
    },
    {
      "cell_type": "code",
      "metadata": {
        "id": "DhQ9YxniqSDJ",
        "colab": {
          "base_uri": "https://localhost:8080/",
          "height": 224
        },
        "outputId": "4e3f5c3b-7768-448e-b536-f603aa7f416d"
      },
      "source": [
        "# inspect the first 5 rows of data - feature names, data types amd values\n",
        "new_test_df.head()"
      ],
      "execution_count": null,
      "outputs": [
        {
          "output_type": "execute_result",
          "data": {
            "text/html": [
              "<div>\n",
              "<style scoped>\n",
              "    .dataframe tbody tr th:only-of-type {\n",
              "        vertical-align: middle;\n",
              "    }\n",
              "\n",
              "    .dataframe tbody tr th {\n",
              "        vertical-align: top;\n",
              "    }\n",
              "\n",
              "    .dataframe thead th {\n",
              "        text-align: right;\n",
              "    }\n",
              "</style>\n",
              "<table border=\"1\" class=\"dataframe\">\n",
              "  <thead>\n",
              "    <tr style=\"text-align: right;\">\n",
              "      <th></th>\n",
              "      <th>ID_Patient_Care_Situation</th>\n",
              "      <th>Diagnosed_Condition</th>\n",
              "      <th>Patient_ID</th>\n",
              "      <th>Treated_with_drugs</th>\n",
              "      <th>Patient_Age</th>\n",
              "      <th>Patient_Body_Mass_Index</th>\n",
              "      <th>Patient_Smoker</th>\n",
              "      <th>Patient_Rural_Urban</th>\n",
              "      <th>Patient_mental_condition</th>\n",
              "      <th>A</th>\n",
              "      <th>B</th>\n",
              "      <th>C</th>\n",
              "      <th>D</th>\n",
              "      <th>E</th>\n",
              "      <th>F</th>\n",
              "      <th>Z</th>\n",
              "      <th>Number_of_prev_cond</th>\n",
              "    </tr>\n",
              "  </thead>\n",
              "  <tbody>\n",
              "    <tr>\n",
              "      <th>0</th>\n",
              "      <td>24206</td>\n",
              "      <td>35</td>\n",
              "      <td>4640</td>\n",
              "      <td>DX5</td>\n",
              "      <td>65</td>\n",
              "      <td>20.710365</td>\n",
              "      <td>NO</td>\n",
              "      <td>RURAL</td>\n",
              "      <td>Stable</td>\n",
              "      <td>1.0</td>\n",
              "      <td>0.0</td>\n",
              "      <td>0.0</td>\n",
              "      <td>0.0</td>\n",
              "      <td>1.0</td>\n",
              "      <td>0.0</td>\n",
              "      <td>0.0</td>\n",
              "      <td>2.0</td>\n",
              "    </tr>\n",
              "    <tr>\n",
              "      <th>1</th>\n",
              "      <td>32827</td>\n",
              "      <td>30</td>\n",
              "      <td>3214</td>\n",
              "      <td>dx1</td>\n",
              "      <td>2</td>\n",
              "      <td>24.250219</td>\n",
              "      <td>NO</td>\n",
              "      <td>URBAN</td>\n",
              "      <td>Stable</td>\n",
              "      <td>1.0</td>\n",
              "      <td>0.0</td>\n",
              "      <td>0.0</td>\n",
              "      <td>0.0</td>\n",
              "      <td>1.0</td>\n",
              "      <td>0.0</td>\n",
              "      <td>0.0</td>\n",
              "      <td>2.0</td>\n",
              "    </tr>\n",
              "    <tr>\n",
              "      <th>2</th>\n",
              "      <td>3694</td>\n",
              "      <td>46</td>\n",
              "      <td>3564</td>\n",
              "      <td>dx6</td>\n",
              "      <td>1</td>\n",
              "      <td>27.139276</td>\n",
              "      <td>NO</td>\n",
              "      <td>URBAN</td>\n",
              "      <td>Stable</td>\n",
              "      <td>1.0</td>\n",
              "      <td>0.0</td>\n",
              "      <td>0.0</td>\n",
              "      <td>0.0</td>\n",
              "      <td>0.0</td>\n",
              "      <td>0.0</td>\n",
              "      <td>0.0</td>\n",
              "      <td>1.0</td>\n",
              "    </tr>\n",
              "    <tr>\n",
              "      <th>3</th>\n",
              "      <td>7164</td>\n",
              "      <td>44</td>\n",
              "      <td>5176</td>\n",
              "      <td>DX1</td>\n",
              "      <td>29</td>\n",
              "      <td>29.191759</td>\n",
              "      <td>NO</td>\n",
              "      <td>RURAL</td>\n",
              "      <td>Stable</td>\n",
              "      <td>0.0</td>\n",
              "      <td>0.0</td>\n",
              "      <td>1.0</td>\n",
              "      <td>0.0</td>\n",
              "      <td>1.0</td>\n",
              "      <td>0.0</td>\n",
              "      <td>0.0</td>\n",
              "      <td>2.0</td>\n",
              "    </tr>\n",
              "    <tr>\n",
              "      <th>4</th>\n",
              "      <td>1259</td>\n",
              "      <td>30</td>\n",
              "      <td>1101</td>\n",
              "      <td>DX5</td>\n",
              "      <td>51</td>\n",
              "      <td>20.844146</td>\n",
              "      <td>NO</td>\n",
              "      <td>URBAN</td>\n",
              "      <td>Stable</td>\n",
              "      <td>0.0</td>\n",
              "      <td>0.0</td>\n",
              "      <td>0.0</td>\n",
              "      <td>0.0</td>\n",
              "      <td>1.0</td>\n",
              "      <td>0.0</td>\n",
              "      <td>0.0</td>\n",
              "      <td>1.0</td>\n",
              "    </tr>\n",
              "  </tbody>\n",
              "</table>\n",
              "</div>"
            ],
            "text/plain": [
              "   ID_Patient_Care_Situation  Diagnosed_Condition  ...    Z Number_of_prev_cond\n",
              "0                      24206                   35  ...  0.0                 2.0\n",
              "1                      32827                   30  ...  0.0                 2.0\n",
              "2                       3694                   46  ...  0.0                 1.0\n",
              "3                       7164                   44  ...  0.0                 2.0\n",
              "4                       1259                   30  ...  0.0                 1.0\n",
              "\n",
              "[5 rows x 17 columns]"
            ]
          },
          "metadata": {
            "tags": []
          },
          "execution_count": 21
        }
      ]
    },
    {
      "cell_type": "markdown",
      "metadata": {
        "id": "_Z52XRh8qbfA"
      },
      "source": [
        "The New Test data is the same format as the Training data had origonally except for the Target feature, 'Survived_1_year' as expected."
      ]
    },
    {
      "cell_type": "code",
      "metadata": {
        "id": "Z2CDXyb9gxhV",
        "colab": {
          "base_uri": "https://localhost:8080/"
        },
        "outputId": "5d5ee5a8-5626-48ed-cfcf-6057b4fbddf9"
      },
      "source": [
        "new_test_df.Treated_with_drugs.value_counts()"
      ],
      "execution_count": null,
      "outputs": [
        {
          "output_type": "execute_result",
          "data": {
            "text/plain": [
              "DX6                1856\n",
              "DX6                 789\n",
              "DX1                 416\n",
              "DX5                 407\n",
              "DX2                 405\n",
              "                   ... \n",
              "Dx1 dx3 dx5           1\n",
              "Dx1 dx2 dx3 dx5       1\n",
              "Dx2 dx4 dx5           1\n",
              "Dx2 dx3 dx4           1\n",
              "Dx1 dx4 dx5           1\n",
              "Name: Treated_with_drugs, Length: 173, dtype: int64"
            ]
          },
          "metadata": {
            "tags": []
          },
          "execution_count": 22
        }
      ]
    },
    {
      "cell_type": "markdown",
      "metadata": {
        "id": "Lp8IXz6DgxhY"
      },
      "source": [
        "Convert all the values in the feature - 'Treated_with_drugs' to upper case"
      ]
    },
    {
      "cell_type": "code",
      "metadata": {
        "id": "QzFKiQ-MgxhY"
      },
      "source": [
        "new_test_df['Treated_with_drugs'] = new_test_df['Treated_with_drugs'].str.upper()"
      ],
      "execution_count": null,
      "outputs": []
    },
    {
      "cell_type": "code",
      "metadata": {
        "id": "zN7eKKqkrUOL",
        "colab": {
          "base_uri": "https://localhost:8080/"
        },
        "outputId": "a69e6900-fbe5-4bbb-c9c1-609e92db6ed3"
      },
      "source": [
        "new_test_df.Treated_with_drugs.value_counts()"
      ],
      "execution_count": null,
      "outputs": [
        {
          "output_type": "execute_result",
          "data": {
            "text/plain": [
              "DX6                     2378\n",
              "DX6                     1064\n",
              "DX3                      532\n",
              "DX1                      525\n",
              "DX2                      516\n",
              "                        ... \n",
              "DX2 DX3 DX4 DX5            2\n",
              "DX1 DX2 DX3 DX4            2\n",
              "DX1 DX2 DX3 DX4 DX5        1\n",
              "DX1 DX2 DX4 DX5            1\n",
              "DX1 DX2 DX3 DX4 DX5        1\n",
              "Name: Treated_with_drugs, Length: 64, dtype: int64"
            ]
          },
          "metadata": {
            "tags": []
          },
          "execution_count": 24
        }
      ]
    },
    {
      "cell_type": "markdown",
      "metadata": {
        "id": "jkFTgK_Zxmdx"
      },
      "source": [
        "Remove trailing spaces from drug types to eliminate multiple entries of the same drug. i.e.\n",
        "\n",
        "'DX6', count: 2378\n",
        "'DX6__', count: 2378 (ie trailing spaces)"
      ]
    },
    {
      "cell_type": "code",
      "metadata": {
        "id": "fmLU5nDSxmdy"
      },
      "source": [
        "new_test_df['Treated_with_drugs'] = new_test_df['Treated_with_drugs'].str.strip()"
      ],
      "execution_count": null,
      "outputs": []
    },
    {
      "cell_type": "code",
      "metadata": {
        "id": "5oEDodg8xmd1",
        "colab": {
          "base_uri": "https://localhost:8080/"
        },
        "outputId": "5475f254-3a1b-42ae-d040-c411812d0351"
      },
      "source": [
        "# check that DX6 now has count 9355 (= 6289 + 3069) and there are no other 'duplicate' entries \n",
        "new_test_df.Treated_with_drugs.value_counts()"
      ],
      "execution_count": null,
      "outputs": [
        {
          "output_type": "execute_result",
          "data": {
            "text/plain": [
              "DX6                    3442\n",
              "DX3                     773\n",
              "DX1                     766\n",
              "DX5                     758\n",
              "DX2                     752\n",
              "DX4                     730\n",
              "DX3 DX4                 184\n",
              "DX1 DX2                 183\n",
              "DX2 DX4                 179\n",
              "DX4 DX5                 178\n",
              "DX1 DX3                 175\n",
              "DX1 DX4                 164\n",
              "DX2 DX5                 159\n",
              "DX2 DX3                 159\n",
              "DX1 DX5                 159\n",
              "DX3 DX5                 156\n",
              "DX1 DX2 DX5              47\n",
              "DX1 DX2 DX3              45\n",
              "DX3 DX4 DX5              37\n",
              "DX2 DX4 DX5              36\n",
              "DX1 DX2 DX4              35\n",
              "DX2 DX3 DX4              35\n",
              "DX2 DX3 DX5              34\n",
              "DX1 DX3 DX4              33\n",
              "DX1 DX3 DX5              33\n",
              "DX1 DX4 DX5              29\n",
              "DX1 DX3 DX4 DX5          13\n",
              "DX2 DX3 DX4 DX5          12\n",
              "DX1 DX2 DX3 DX4           8\n",
              "DX1 DX2 DX3 DX5           8\n",
              "DX1 DX2 DX4 DX5           6\n",
              "DX1 DX2 DX3 DX4 DX5       2\n",
              "Name: Treated_with_drugs, dtype: int64"
            ]
          },
          "metadata": {
            "tags": []
          },
          "execution_count": 26
        }
      ]
    },
    {
      "cell_type": "code",
      "metadata": {
        "id": "drDSqOXMgxhb",
        "colab": {
          "base_uri": "https://localhost:8080/"
        },
        "outputId": "586836f0-0d12-4ca8-a077-c8cea9efd7a6"
      },
      "source": [
        "new_test_df.Patient_Smoker.value_counts()"
      ],
      "execution_count": null,
      "outputs": [
        {
          "output_type": "execute_result",
          "data": {
            "text/plain": [
              "NO       3949\n",
              "YES      2879\n",
              "NO       1424\n",
              "YES      1027\n",
              "YESS       36\n",
              "YESS       15\n",
              "Name: Patient_Smoker, dtype: int64"
            ]
          },
          "metadata": {
            "tags": []
          },
          "execution_count": 27
        }
      ]
    },
    {
      "cell_type": "markdown",
      "metadata": {
        "id": "CqqMDpwZgxhd"
      },
      "source": [
        "There should only be 3 different values - NO, YES, and UNKNOWN"
      ]
    },
    {
      "cell_type": "code",
      "metadata": {
        "id": "ZL0jxFglgxhd"
      },
      "source": [
        "# Apply the previously defined function 'smoker' to 'Patient_Smoker' feature\n",
        "new_test_df.Patient_Smoker = new_test_df.Patient_Smoker.apply(smoker)"
      ],
      "execution_count": null,
      "outputs": []
    },
    {
      "cell_type": "code",
      "metadata": {
        "id": "GDjIHIaopuxM",
        "colab": {
          "base_uri": "https://localhost:8080/"
        },
        "outputId": "f8d7026c-1ac4-4821-9a20-271b0bdf5e7f"
      },
      "source": [
        "new_test_df.Patient_Smoker.value_counts()"
      ],
      "execution_count": null,
      "outputs": [
        {
          "output_type": "execute_result",
          "data": {
            "text/plain": [
              "NO     5373\n",
              "YES    3957\n",
              "Name: Patient_Smoker, dtype: int64"
            ]
          },
          "metadata": {
            "tags": []
          },
          "execution_count": 29
        }
      ]
    },
    {
      "cell_type": "code",
      "metadata": {
        "id": "TwDkNFLsgxhf",
        "colab": {
          "base_uri": "https://localhost:8080/"
        },
        "outputId": "ab802cd9-816f-4476-a0f1-f9226ec223b4"
      },
      "source": [
        "new_test_df.Patient_Rural_Urban.value_counts()"
      ],
      "execution_count": null,
      "outputs": [
        {
          "output_type": "execute_result",
          "data": {
            "text/plain": [
              "RURAL    6547\n",
              "URBAN    2783\n",
              "Name: Patient_Rural_Urban, dtype: int64"
            ]
          },
          "metadata": {
            "tags": []
          },
          "execution_count": 30
        }
      ]
    },
    {
      "cell_type": "code",
      "metadata": {
        "id": "yap8z2rqgxhh",
        "colab": {
          "base_uri": "https://localhost:8080/"
        },
        "outputId": "ba520768-1b12-49e8-fb39-b6e1b65a9594"
      },
      "source": [
        "new_test_df.Patient_mental_condition.value_counts()"
      ],
      "execution_count": null,
      "outputs": [
        {
          "output_type": "execute_result",
          "data": {
            "text/plain": [
              "Stable    9330\n",
              "Name: Patient_mental_condition, dtype: int64"
            ]
          },
          "metadata": {
            "tags": []
          },
          "execution_count": 31
        }
      ]
    },
    {
      "cell_type": "markdown",
      "metadata": {
        "id": "FpAapZ72r9yw"
      },
      "source": [
        "Testing_data records ALL have the same value for 'Patient_mental_condition'. i.e. 'stable'. This conmfirms that there is no value in it at this time.\n",
        "Drop 'Patient_mental_condition' becasue it was dropped from Training Data."
      ]
    },
    {
      "cell_type": "code",
      "metadata": {
        "id": "ByGlS5k5sw-N",
        "colab": {
          "base_uri": "https://localhost:8080/",
          "height": 224
        },
        "outputId": "efa003de-6266-412e-b99f-d086c6dd929e"
      },
      "source": [
        "new_test_df.head()"
      ],
      "execution_count": null,
      "outputs": [
        {
          "output_type": "execute_result",
          "data": {
            "text/html": [
              "<div>\n",
              "<style scoped>\n",
              "    .dataframe tbody tr th:only-of-type {\n",
              "        vertical-align: middle;\n",
              "    }\n",
              "\n",
              "    .dataframe tbody tr th {\n",
              "        vertical-align: top;\n",
              "    }\n",
              "\n",
              "    .dataframe thead th {\n",
              "        text-align: right;\n",
              "    }\n",
              "</style>\n",
              "<table border=\"1\" class=\"dataframe\">\n",
              "  <thead>\n",
              "    <tr style=\"text-align: right;\">\n",
              "      <th></th>\n",
              "      <th>ID_Patient_Care_Situation</th>\n",
              "      <th>Diagnosed_Condition</th>\n",
              "      <th>Patient_ID</th>\n",
              "      <th>Treated_with_drugs</th>\n",
              "      <th>Patient_Age</th>\n",
              "      <th>Patient_Body_Mass_Index</th>\n",
              "      <th>Patient_Smoker</th>\n",
              "      <th>Patient_Rural_Urban</th>\n",
              "      <th>Patient_mental_condition</th>\n",
              "      <th>A</th>\n",
              "      <th>B</th>\n",
              "      <th>C</th>\n",
              "      <th>D</th>\n",
              "      <th>E</th>\n",
              "      <th>F</th>\n",
              "      <th>Z</th>\n",
              "      <th>Number_of_prev_cond</th>\n",
              "    </tr>\n",
              "  </thead>\n",
              "  <tbody>\n",
              "    <tr>\n",
              "      <th>0</th>\n",
              "      <td>24206</td>\n",
              "      <td>35</td>\n",
              "      <td>4640</td>\n",
              "      <td>DX5</td>\n",
              "      <td>65</td>\n",
              "      <td>20.710365</td>\n",
              "      <td>NO</td>\n",
              "      <td>RURAL</td>\n",
              "      <td>Stable</td>\n",
              "      <td>1.0</td>\n",
              "      <td>0.0</td>\n",
              "      <td>0.0</td>\n",
              "      <td>0.0</td>\n",
              "      <td>1.0</td>\n",
              "      <td>0.0</td>\n",
              "      <td>0.0</td>\n",
              "      <td>2.0</td>\n",
              "    </tr>\n",
              "    <tr>\n",
              "      <th>1</th>\n",
              "      <td>32827</td>\n",
              "      <td>30</td>\n",
              "      <td>3214</td>\n",
              "      <td>DX1</td>\n",
              "      <td>2</td>\n",
              "      <td>24.250219</td>\n",
              "      <td>NO</td>\n",
              "      <td>URBAN</td>\n",
              "      <td>Stable</td>\n",
              "      <td>1.0</td>\n",
              "      <td>0.0</td>\n",
              "      <td>0.0</td>\n",
              "      <td>0.0</td>\n",
              "      <td>1.0</td>\n",
              "      <td>0.0</td>\n",
              "      <td>0.0</td>\n",
              "      <td>2.0</td>\n",
              "    </tr>\n",
              "    <tr>\n",
              "      <th>2</th>\n",
              "      <td>3694</td>\n",
              "      <td>46</td>\n",
              "      <td>3564</td>\n",
              "      <td>DX6</td>\n",
              "      <td>1</td>\n",
              "      <td>27.139276</td>\n",
              "      <td>NO</td>\n",
              "      <td>URBAN</td>\n",
              "      <td>Stable</td>\n",
              "      <td>1.0</td>\n",
              "      <td>0.0</td>\n",
              "      <td>0.0</td>\n",
              "      <td>0.0</td>\n",
              "      <td>0.0</td>\n",
              "      <td>0.0</td>\n",
              "      <td>0.0</td>\n",
              "      <td>1.0</td>\n",
              "    </tr>\n",
              "    <tr>\n",
              "      <th>3</th>\n",
              "      <td>7164</td>\n",
              "      <td>44</td>\n",
              "      <td>5176</td>\n",
              "      <td>DX1</td>\n",
              "      <td>29</td>\n",
              "      <td>29.191759</td>\n",
              "      <td>NO</td>\n",
              "      <td>RURAL</td>\n",
              "      <td>Stable</td>\n",
              "      <td>0.0</td>\n",
              "      <td>0.0</td>\n",
              "      <td>1.0</td>\n",
              "      <td>0.0</td>\n",
              "      <td>1.0</td>\n",
              "      <td>0.0</td>\n",
              "      <td>0.0</td>\n",
              "      <td>2.0</td>\n",
              "    </tr>\n",
              "    <tr>\n",
              "      <th>4</th>\n",
              "      <td>1259</td>\n",
              "      <td>30</td>\n",
              "      <td>1101</td>\n",
              "      <td>DX5</td>\n",
              "      <td>51</td>\n",
              "      <td>20.844146</td>\n",
              "      <td>NO</td>\n",
              "      <td>URBAN</td>\n",
              "      <td>Stable</td>\n",
              "      <td>0.0</td>\n",
              "      <td>0.0</td>\n",
              "      <td>0.0</td>\n",
              "      <td>0.0</td>\n",
              "      <td>1.0</td>\n",
              "      <td>0.0</td>\n",
              "      <td>0.0</td>\n",
              "      <td>1.0</td>\n",
              "    </tr>\n",
              "  </tbody>\n",
              "</table>\n",
              "</div>"
            ],
            "text/plain": [
              "   ID_Patient_Care_Situation  Diagnosed_Condition  ...    Z Number_of_prev_cond\n",
              "0                      24206                   35  ...  0.0                 2.0\n",
              "1                      32827                   30  ...  0.0                 2.0\n",
              "2                       3694                   46  ...  0.0                 1.0\n",
              "3                       7164                   44  ...  0.0                 2.0\n",
              "4                       1259                   30  ...  0.0                 1.0\n",
              "\n",
              "[5 rows x 17 columns]"
            ]
          },
          "metadata": {
            "tags": []
          },
          "execution_count": 32
        }
      ]
    },
    {
      "cell_type": "markdown",
      "metadata": {
        "id": "t1JJg0O4s4g2"
      },
      "source": [
        "The New Test data is now the same format as the Training data after Data Preparation, except for the Target feature, 'Survived_1_year', as required."
      ]
    },
    {
      "cell_type": "markdown",
      "metadata": {
        "id": "985gJEL9gxhk"
      },
      "source": [
        "### Checking missing values"
      ]
    },
    {
      "cell_type": "code",
      "metadata": {
        "id": "8HdwPRCmgxhk",
        "colab": {
          "base_uri": "https://localhost:8080/"
        },
        "outputId": "560650e2-b887-4234-d058-d95c31fcef7c"
      },
      "source": [
        "new_test_df.isnull().sum()"
      ],
      "execution_count": null,
      "outputs": [
        {
          "output_type": "execute_result",
          "data": {
            "text/plain": [
              "ID_Patient_Care_Situation    0\n",
              "Diagnosed_Condition          0\n",
              "Patient_ID                   0\n",
              "Treated_with_drugs           0\n",
              "Patient_Age                  0\n",
              "Patient_Body_Mass_Index      0\n",
              "Patient_Smoker               0\n",
              "Patient_Rural_Urban          0\n",
              "Patient_mental_condition     0\n",
              "A                            0\n",
              "B                            0\n",
              "C                            0\n",
              "D                            0\n",
              "E                            0\n",
              "F                            0\n",
              "Z                            0\n",
              "Number_of_prev_cond          0\n",
              "dtype: int64"
            ]
          },
          "metadata": {
            "tags": []
          },
          "execution_count": 33
        }
      ]
    },
    {
      "cell_type": "markdown",
      "metadata": {
        "id": "6ecMlY7mgxhm"
      },
      "source": [
        "New test data has no missing values. This data will be good for testing."
      ]
    },
    {
      "cell_type": "markdown",
      "metadata": {
        "id": "DouAWtohgxhn"
      },
      "source": [
        "### **Save Data**"
      ]
    },
    {
      "cell_type": "code",
      "metadata": {
        "id": "gQG7YZrxgxhn"
      },
      "source": [
        "# pickle data\n",
        "training_df.to_pickle('/content/drive/My Drive/Colab Notebooks/ML Bootcamp/Heart_Patient/Data/train_data_4_EDA.pkl')\n",
        "\n",
        "# pickle new_test_data\n",
        "new_test_df.to_pickle('/content/drive/My Drive/Colab Notebooks/ML Bootcamp/Heart_Patient/Data/test_data_4_EDA.pkl')"
      ],
      "execution_count": null,
      "outputs": []
    }
  ]
}