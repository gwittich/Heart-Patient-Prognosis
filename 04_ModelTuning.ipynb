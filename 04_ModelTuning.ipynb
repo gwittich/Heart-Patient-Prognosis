{
  "nbformat": 4,
  "nbformat_minor": 0,
  "metadata": {
    "kernelspec": {
      "display_name": "Python 3",
      "language": "python",
      "name": "python3"
    },
    "language_info": {
      "codemirror_mode": {
        "name": "ipython",
        "version": 3
      },
      "file_extension": ".py",
      "mimetype": "text/x-python",
      "name": "python",
      "nbconvert_exporter": "python",
      "pygments_lexer": "ipython3",
      "version": "3.7.6"
    },
    "colab": {
      "name": "04_ModelTuning.ipynb",
      "provenance": [],
      "collapsed_sections": []
    }
  },
  "cells": [
    {
      "cell_type": "markdown",
      "metadata": {
        "id": "KDZYuFyw6-QL"
      },
      "source": [
        "# Heart Patient Prognosis"
      ]
    },
    {
      "cell_type": "markdown",
      "metadata": {
        "id": "6BCM7EAw6-QM"
      },
      "source": [
        "Data Scientist:   __Gail Wittich__\\\n",
        "Email:      gwittich@optusnet.com.au \\\n",
        "Website:    www.linkedin.com/in/gail-wittich \\\n",
        "Copyright:  Copyright 2020, Gail Wittich "
      ]
    },
    {
      "cell_type": "markdown",
      "metadata": {
        "id": "GPtRDk0n6-QM"
      },
      "source": [
        "# Build Models"
      ]
    },
    {
      "cell_type": "code",
      "metadata": {
        "id": "oLuhEQnQJyoc",
        "colab": {
          "base_uri": "https://localhost:8080/"
        },
        "outputId": "62e954ee-497c-4dc7-c34c-380281c76f5d"
      },
      "source": [
        "!pip install Boruta"
      ],
      "execution_count": null,
      "outputs": [
        {
          "output_type": "stream",
          "text": [
            "Collecting Boruta\n",
            "\u001b[?25l  Downloading https://files.pythonhosted.org/packages/b2/11/583f4eac99d802c79af9217e1eff56027742a69e6c866b295cce6a5a8fc2/Boruta-0.3-py3-none-any.whl (56kB)\n",
            "\u001b[K     |████████████████████████████████| 61kB 2.8MB/s \n",
            "\u001b[?25hRequirement already satisfied: scikit-learn>=0.17.1 in /usr/local/lib/python3.6/dist-packages (from Boruta) (0.22.2.post1)\n",
            "Requirement already satisfied: scipy>=0.17.0 in /usr/local/lib/python3.6/dist-packages (from Boruta) (1.4.1)\n",
            "Requirement already satisfied: numpy>=1.10.4 in /usr/local/lib/python3.6/dist-packages (from Boruta) (1.19.5)\n",
            "Requirement already satisfied: joblib>=0.11 in /usr/local/lib/python3.6/dist-packages (from scikit-learn>=0.17.1->Boruta) (1.0.0)\n",
            "Installing collected packages: Boruta\n",
            "Successfully installed Boruta-0.3\n"
          ],
          "name": "stdout"
        }
      ]
    },
    {
      "cell_type": "code",
      "metadata": {
        "id": "gf-C9StD6-QN"
      },
      "source": [
        "from boruta import BorutaPy                            # for feature selection\n",
        "from google.colab import drive                         # for accessing files\n",
        "import matplotlib.pyplot as plt                        # for data visualisation\n",
        "import numpy as np                                     # for numeric computations\n",
        "import pickle                                          # for file reading and saving\n",
        "import pandas as pd                                    # for data analysis\n",
        "import seaborn as sns                                  # for data visualisation\n",
        "from sklearn.ensemble import RandomForestClassifier\n",
        "from sklearn.feature_selection import SelectFromModel\n",
        "from sklearn.linear_model import LogisticRegression    # Logistic regression model\n",
        "from sklearn.model_selection import train_test_split, GridSearchCV   # to split the dataset into train and test, hyperparameter tuning\n",
        "from sklearn.metrics import accuracy_score, f1_score   # for model evaluation\n",
        "from sklearn.metrics import confusion_matrix           # for decsion tree\n",
        "from sklearn.metrics import classification_report      # for LinearSVC\n",
        "from sklearn import preprocessing                      # for data preprocessing\n",
        "from sklearn.preprocessing import LabelEncoder         # for converting categorical to numerical data\n",
        "from sklearn.svm import LinearSVC                      # for LinearSVC\n",
        "from sklearn.tree import DecisionTreeClassifier        # for decsion tree\n",
        "\n",
        "from sklearn import tree        # for decsion tree\n",
        "import pydotplus        # for decsion tree\n",
        "import matplotlib.pyplot as plt        # for decsion tree\n",
        "import matplotlib.image as pltimg        # for decsion tree\n",
        "\n",
        "import warnings                                        # to ignore warnings\n",
        "warnings.filterwarnings('ignore')"
      ],
      "execution_count": null,
      "outputs": []
    },
    {
      "cell_type": "markdown",
      "metadata": {
        "id": "aeeTMKX96-QQ"
      },
      "source": [
        "### **Load Data**"
      ]
    },
    {
      "cell_type": "code",
      "metadata": {
        "id": "EpAT2N3fKqxQ",
        "colab": {
          "base_uri": "https://localhost:8080/"
        },
        "outputId": "29c2bb36-850f-4d59-ea76-a76f29cc7030"
      },
      "source": [
        "# mount the google drive\n",
        "drive.mount(\"/content/drive\")"
      ],
      "execution_count": null,
      "outputs": [
        {
          "output_type": "stream",
          "text": [
            "Mounted at /content/drive\n"
          ],
          "name": "stdout"
        }
      ]
    },
    {
      "cell_type": "code",
      "metadata": {
        "id": "Y5WsB5TT6-QR"
      },
      "source": [
        "# Unpickle Training data\n",
        "train_df = pd.read_pickle('/content/drive/My Drive/Colab Notebooks/ML Bootcamp/Heart_Patient/Data/train_data_4_model.pkl')\n",
        "\n",
        "# Unpickle Testing data\n",
        "test_df = pd.read_pickle('/content/drive/My Drive/Colab Notebooks/ML Bootcamp/Heart_Patient/Data/new_test_data_4_model.pkl')"
      ],
      "execution_count": null,
      "outputs": []
    },
    {
      "cell_type": "markdown",
      "metadata": {
        "id": "SOrOaJpD6-QU"
      },
      "source": [
        "### **Prepare Train/Test Data**\n",
        "1Separate the input and output variables:\n",
        "- Features (Input variables) are represented by 'X' (capital)\n",
        "- Target (Output variables) are represented by 'y' (lowercase)"
      ]
    },
    {
      "cell_type": "code",
      "metadata": {
        "id": "Yeko9sBv6-QU"
      },
      "source": [
        "X = train_df.drop('Survived_1_year',axis = 1)\n",
        "y = train_df['Survived_1_year']"
      ],
      "execution_count": null,
      "outputs": []
    },
    {
      "cell_type": "markdown",
      "metadata": {
        "id": "03gtv5k66-QX"
      },
      "source": [
        "2. Train/test split\n",
        "split the training data into train and test."
      ]
    },
    {
      "cell_type": "code",
      "metadata": {
        "id": "9nPohcVW6-QX"
      },
      "source": [
        "X_train, X_test, y_train, y_test = train_test_split(X, y, test_size=0.2, random_state=1)"
      ],
      "execution_count": null,
      "outputs": []
    },
    {
      "cell_type": "markdown",
      "metadata": {
        "id": "blEd2DqM6-Qa"
      },
      "source": [
        "### **Model Building**\n",
        "The target, 'Survived_1_year' has two possible values:\n",
        "- 0 - meaning the patient DID NOT survive for one year of treatment,\n",
        "- 1 - meaning the patient DID survive for one year or longer after treatment. This is therfore a Classification Problem in Supervised Machine Learning.\n",
        "\n",
        "Classification models include:\n",
        "- Logistic Regression, \n",
        "- Random Forest Classifier, \n",
        "- Decision Tree Classifier, \n",
        "- etc.\n",
        "\n",
        "This script tests several models to find the best model for the data."
      ]
    },
    {
      "cell_type": "markdown",
      "metadata": {
        "id": "ZIzqk9P76-Qa"
      },
      "source": [
        "### 1. Logistic Regression Model"
      ]
    },
    {
      "cell_type": "code",
      "metadata": {
        "id": "EArsO4ln6-Qb",
        "colab": {
          "base_uri": "https://localhost:8080/"
        },
        "outputId": "20c765e6-3388-4d28-851c-418793a47c34"
      },
      "source": [
        "model = LogisticRegression(max_iter = 1000)     # The maximum number of iterations will be 1000. This will help you prevent from convergence warning.\n",
        "model.fit(X_train,y_train)"
      ],
      "execution_count": null,
      "outputs": [
        {
          "output_type": "execute_result",
          "data": {
            "text/plain": [
              "LogisticRegression(C=1.0, class_weight=None, dual=False, fit_intercept=True,\n",
              "                   intercept_scaling=1, l1_ratio=None, max_iter=1000,\n",
              "                   multi_class='auto', n_jobs=None, penalty='l2',\n",
              "                   random_state=None, solver='lbfgs', tol=0.0001, verbose=0,\n",
              "                   warm_start=False)"
            ]
          },
          "metadata": {
            "tags": []
          },
          "execution_count": 7
        }
      ]
    },
    {
      "cell_type": "code",
      "metadata": {
        "id": "EQPfG1I26-Qd"
      },
      "source": [
        "pred = model.predict(X_test)"
      ],
      "execution_count": null,
      "outputs": []
    },
    {
      "cell_type": "markdown",
      "metadata": {
        "id": "hfKPkZXT6-Qg"
      },
      "source": [
        "*Logistic Regression Evaluation:*"
      ]
    },
    {
      "cell_type": "code",
      "metadata": {
        "id": "SuROzGBW6-Qh",
        "colab": {
          "base_uri": "https://localhost:8080/"
        },
        "outputId": "c45c1413-a338-4c9e-bef5-a4f3d5c6a5cb"
      },
      "source": [
        "print(f1_score(y_test,pred))"
      ],
      "execution_count": null,
      "outputs": [
        {
          "output_type": "stream",
          "text": [
            "0.7839179881467243\n"
          ],
          "name": "stdout"
        }
      ]
    },
    {
      "cell_type": "markdown",
      "metadata": {
        "id": "sVmdisKk6-Qj"
      },
      "source": [
        "The f1 score of the Logistic Regression model is 80%. \n",
        "\n",
        "Try Random Forest Classifier and see if the result is better..."
      ]
    },
    {
      "cell_type": "markdown",
      "metadata": {
        "id": "wnWRPsxC6-Qk"
      },
      "source": [
        "### 2. Random Forest"
      ]
    },
    {
      "cell_type": "code",
      "metadata": {
        "id": "INksxRPL6-Qk",
        "colab": {
          "base_uri": "https://localhost:8080/"
        },
        "outputId": "63c7ffe0-4d7a-4a07-ac78-e9a486c2cb94"
      },
      "source": [
        "forest = RandomForestClassifier(random_state=1, n_estimators=1000, max_depth=5)\n",
        " \n",
        "forest.fit(X_train, y_train)"
      ],
      "execution_count": null,
      "outputs": [
        {
          "output_type": "execute_result",
          "data": {
            "text/plain": [
              "RandomForestClassifier(bootstrap=True, ccp_alpha=0.0, class_weight=None,\n",
              "                       criterion='gini', max_depth=5, max_features='auto',\n",
              "                       max_leaf_nodes=None, max_samples=None,\n",
              "                       min_impurity_decrease=0.0, min_impurity_split=None,\n",
              "                       min_samples_leaf=1, min_samples_split=2,\n",
              "                       min_weight_fraction_leaf=0.0, n_estimators=1000,\n",
              "                       n_jobs=None, oob_score=False, random_state=1, verbose=0,\n",
              "                       warm_start=False)"
            ]
          },
          "metadata": {
            "tags": []
          },
          "execution_count": 10
        }
      ]
    },
    {
      "cell_type": "markdown",
      "metadata": {
        "id": "kiIlGyRb6-Qm"
      },
      "source": [
        "##### Evaluating Random Forest on X_test"
      ]
    },
    {
      "cell_type": "code",
      "metadata": {
        "id": "mZpBFcaW6-Qn",
        "colab": {
          "base_uri": "https://localhost:8080/"
        },
        "outputId": "6355d5a2-d0fc-4159-ea44-a5d9a09a44f9"
      },
      "source": [
        "y_pred = forest.predict(X_test)\n",
        "\n",
        "fscore = f1_score(y_test ,y_pred)\n",
        "fscore"
      ],
      "execution_count": null,
      "outputs": [
        {
          "output_type": "execute_result",
          "data": {
            "text/plain": [
              "0.838659392049883"
            ]
          },
          "metadata": {
            "tags": []
          },
          "execution_count": 11
        }
      ]
    },
    {
      "cell_type": "markdown",
      "metadata": {
        "id": "sdipZBdS6-Qq"
      },
      "source": [
        "The f1 score by Random Forest classifier is 84% which is better than logistic regression.\n",
        "\n",
        "There are a lot of feaures to train the model on.\n",
        "Feature selection may improve the accuracy of the Random Forest model.\n",
        "With a decrease in the complexity of the data the model will improve but will it be meaningful?\n",
        "\n",
        "Boruta Feature Selector will be used."
      ]
    },
    {
      "cell_type": "markdown",
      "metadata": {
        "id": "Ovgr0wvN6-Qq"
      },
      "source": [
        "### 3. Random Forest and Boruta"
      ]
    },
    {
      "cell_type": "markdown",
      "metadata": {
        "id": "pqBkRYFK6-Qr"
      },
      "source": [
        "Boruta is an all-relevant feature selection method. Unlike other techniques that select small set of features to minimize the error, Boruta tries to capture all the important and interesting features in the dataset with respect to the target variable.\n",
        "\n",
        "Boruta by default uses random forest but can be used with other algorithms such as LightGBM, XGBoost etc."
      ]
    },
    {
      "cell_type": "code",
      "metadata": {
        "id": "rX4_oELM6-Qr",
        "colab": {
          "base_uri": "https://localhost:8080/"
        },
        "outputId": "e7967c76-b56f-4dfd-d6d9-bd6514931d06"
      },
      "source": [
        "# initialize the boruta selector\n",
        "boruta_selector = BorutaPy(forest, n_estimators='auto', verbose=2, random_state=1)\n",
        "\n",
        "# fit the boruta selector (including converting data to numpy array for Boruta to read it.)\n",
        "boruta_selector.fit(np.array(X_train), np.array(y_train))"
      ],
      "execution_count": null,
      "outputs": [
        {
          "output_type": "stream",
          "text": [
            "Iteration: \t1 / 100\n",
            "Confirmed: \t0\n",
            "Tentative: \t25\n",
            "Rejected: \t0\n",
            "Iteration: \t2 / 100\n",
            "Confirmed: \t0\n",
            "Tentative: \t25\n",
            "Rejected: \t0\n",
            "Iteration: \t3 / 100\n",
            "Confirmed: \t0\n",
            "Tentative: \t25\n",
            "Rejected: \t0\n",
            "Iteration: \t4 / 100\n",
            "Confirmed: \t0\n",
            "Tentative: \t25\n",
            "Rejected: \t0\n",
            "Iteration: \t5 / 100\n",
            "Confirmed: \t0\n",
            "Tentative: \t25\n",
            "Rejected: \t0\n",
            "Iteration: \t6 / 100\n",
            "Confirmed: \t0\n",
            "Tentative: \t25\n",
            "Rejected: \t0\n",
            "Iteration: \t7 / 100\n",
            "Confirmed: \t0\n",
            "Tentative: \t25\n",
            "Rejected: \t0\n",
            "Iteration: \t8 / 100\n",
            "Confirmed: \t17\n",
            "Tentative: \t3\n",
            "Rejected: \t5\n",
            "Iteration: \t9 / 100\n",
            "Confirmed: \t17\n",
            "Tentative: \t3\n",
            "Rejected: \t5\n",
            "Iteration: \t10 / 100\n",
            "Confirmed: \t17\n",
            "Tentative: \t3\n",
            "Rejected: \t5\n",
            "Iteration: \t11 / 100\n",
            "Confirmed: \t17\n",
            "Tentative: \t3\n",
            "Rejected: \t5\n",
            "Iteration: \t12 / 100\n",
            "Confirmed: \t17\n",
            "Tentative: \t3\n",
            "Rejected: \t5\n",
            "Iteration: \t13 / 100\n",
            "Confirmed: \t17\n",
            "Tentative: \t3\n",
            "Rejected: \t5\n",
            "Iteration: \t14 / 100\n",
            "Confirmed: \t17\n",
            "Tentative: \t3\n",
            "Rejected: \t5\n",
            "Iteration: \t15 / 100\n",
            "Confirmed: \t17\n",
            "Tentative: \t3\n",
            "Rejected: \t5\n",
            "Iteration: \t16 / 100\n",
            "Confirmed: \t17\n",
            "Tentative: \t2\n",
            "Rejected: \t6\n",
            "Iteration: \t17 / 100\n",
            "Confirmed: \t17\n",
            "Tentative: \t2\n",
            "Rejected: \t6\n",
            "Iteration: \t18 / 100\n",
            "Confirmed: \t17\n",
            "Tentative: \t2\n",
            "Rejected: \t6\n",
            "Iteration: \t19 / 100\n",
            "Confirmed: \t17\n",
            "Tentative: \t2\n",
            "Rejected: \t6\n",
            "Iteration: \t20 / 100\n",
            "Confirmed: \t17\n",
            "Tentative: \t2\n",
            "Rejected: \t6\n",
            "Iteration: \t21 / 100\n",
            "Confirmed: \t17\n",
            "Tentative: \t2\n",
            "Rejected: \t6\n",
            "Iteration: \t22 / 100\n",
            "Confirmed: \t17\n",
            "Tentative: \t2\n",
            "Rejected: \t6\n",
            "Iteration: \t23 / 100\n",
            "Confirmed: \t17\n",
            "Tentative: \t2\n",
            "Rejected: \t6\n",
            "Iteration: \t24 / 100\n",
            "Confirmed: \t17\n",
            "Tentative: \t2\n",
            "Rejected: \t6\n",
            "Iteration: \t25 / 100\n",
            "Confirmed: \t17\n",
            "Tentative: \t2\n",
            "Rejected: \t6\n",
            "Iteration: \t26 / 100\n",
            "Confirmed: \t17\n",
            "Tentative: \t2\n",
            "Rejected: \t6\n",
            "Iteration: \t27 / 100\n",
            "Confirmed: \t17\n",
            "Tentative: \t2\n",
            "Rejected: \t6\n",
            "Iteration: \t28 / 100\n",
            "Confirmed: \t17\n",
            "Tentative: \t2\n",
            "Rejected: \t6\n",
            "Iteration: \t29 / 100\n",
            "Confirmed: \t17\n",
            "Tentative: \t2\n",
            "Rejected: \t6\n",
            "Iteration: \t30 / 100\n",
            "Confirmed: \t17\n",
            "Tentative: \t2\n",
            "Rejected: \t6\n",
            "Iteration: \t31 / 100\n",
            "Confirmed: \t17\n",
            "Tentative: \t2\n",
            "Rejected: \t6\n",
            "Iteration: \t32 / 100\n",
            "Confirmed: \t17\n",
            "Tentative: \t2\n",
            "Rejected: \t6\n",
            "Iteration: \t33 / 100\n",
            "Confirmed: \t17\n",
            "Tentative: \t2\n",
            "Rejected: \t6\n",
            "Iteration: \t34 / 100\n",
            "Confirmed: \t17\n",
            "Tentative: \t2\n",
            "Rejected: \t6\n",
            "Iteration: \t35 / 100\n",
            "Confirmed: \t17\n",
            "Tentative: \t2\n",
            "Rejected: \t6\n",
            "Iteration: \t36 / 100\n",
            "Confirmed: \t17\n",
            "Tentative: \t2\n",
            "Rejected: \t6\n",
            "Iteration: \t37 / 100\n",
            "Confirmed: \t17\n",
            "Tentative: \t2\n",
            "Rejected: \t6\n",
            "Iteration: \t38 / 100\n",
            "Confirmed: \t17\n",
            "Tentative: \t2\n",
            "Rejected: \t6\n",
            "Iteration: \t39 / 100\n",
            "Confirmed: \t17\n",
            "Tentative: \t2\n",
            "Rejected: \t6\n",
            "Iteration: \t40 / 100\n",
            "Confirmed: \t17\n",
            "Tentative: \t2\n",
            "Rejected: \t6\n",
            "Iteration: \t41 / 100\n",
            "Confirmed: \t17\n",
            "Tentative: \t2\n",
            "Rejected: \t6\n",
            "Iteration: \t42 / 100\n",
            "Confirmed: \t17\n",
            "Tentative: \t2\n",
            "Rejected: \t6\n",
            "Iteration: \t43 / 100\n",
            "Confirmed: \t17\n",
            "Tentative: \t2\n",
            "Rejected: \t6\n",
            "Iteration: \t44 / 100\n",
            "Confirmed: \t17\n",
            "Tentative: \t2\n",
            "Rejected: \t6\n",
            "Iteration: \t45 / 100\n",
            "Confirmed: \t17\n",
            "Tentative: \t2\n",
            "Rejected: \t6\n",
            "Iteration: \t46 / 100\n",
            "Confirmed: \t17\n",
            "Tentative: \t2\n",
            "Rejected: \t6\n",
            "Iteration: \t47 / 100\n",
            "Confirmed: \t17\n",
            "Tentative: \t2\n",
            "Rejected: \t6\n",
            "Iteration: \t48 / 100\n",
            "Confirmed: \t17\n",
            "Tentative: \t2\n",
            "Rejected: \t6\n",
            "Iteration: \t49 / 100\n",
            "Confirmed: \t17\n",
            "Tentative: \t2\n",
            "Rejected: \t6\n",
            "Iteration: \t50 / 100\n",
            "Confirmed: \t17\n",
            "Tentative: \t2\n",
            "Rejected: \t6\n",
            "Iteration: \t51 / 100\n",
            "Confirmed: \t17\n",
            "Tentative: \t2\n",
            "Rejected: \t6\n",
            "Iteration: \t52 / 100\n",
            "Confirmed: \t17\n",
            "Tentative: \t2\n",
            "Rejected: \t6\n",
            "Iteration: \t53 / 100\n",
            "Confirmed: \t17\n",
            "Tentative: \t2\n",
            "Rejected: \t6\n",
            "Iteration: \t54 / 100\n",
            "Confirmed: \t17\n",
            "Tentative: \t2\n",
            "Rejected: \t6\n",
            "Iteration: \t55 / 100\n",
            "Confirmed: \t17\n",
            "Tentative: \t2\n",
            "Rejected: \t6\n",
            "Iteration: \t56 / 100\n",
            "Confirmed: \t17\n",
            "Tentative: \t2\n",
            "Rejected: \t6\n",
            "Iteration: \t57 / 100\n",
            "Confirmed: \t17\n",
            "Tentative: \t2\n",
            "Rejected: \t6\n",
            "Iteration: \t58 / 100\n",
            "Confirmed: \t17\n",
            "Tentative: \t2\n",
            "Rejected: \t6\n",
            "Iteration: \t59 / 100\n",
            "Confirmed: \t17\n",
            "Tentative: \t2\n",
            "Rejected: \t6\n",
            "Iteration: \t60 / 100\n",
            "Confirmed: \t17\n",
            "Tentative: \t2\n",
            "Rejected: \t6\n",
            "Iteration: \t61 / 100\n",
            "Confirmed: \t17\n",
            "Tentative: \t2\n",
            "Rejected: \t6\n",
            "Iteration: \t62 / 100\n",
            "Confirmed: \t17\n",
            "Tentative: \t2\n",
            "Rejected: \t6\n",
            "Iteration: \t63 / 100\n",
            "Confirmed: \t17\n",
            "Tentative: \t2\n",
            "Rejected: \t6\n",
            "Iteration: \t64 / 100\n",
            "Confirmed: \t17\n",
            "Tentative: \t2\n",
            "Rejected: \t6\n",
            "Iteration: \t65 / 100\n",
            "Confirmed: \t17\n",
            "Tentative: \t2\n",
            "Rejected: \t6\n",
            "Iteration: \t66 / 100\n",
            "Confirmed: \t17\n",
            "Tentative: \t2\n",
            "Rejected: \t6\n",
            "Iteration: \t67 / 100\n",
            "Confirmed: \t17\n",
            "Tentative: \t2\n",
            "Rejected: \t6\n",
            "Iteration: \t68 / 100\n",
            "Confirmed: \t17\n",
            "Tentative: \t2\n",
            "Rejected: \t6\n",
            "Iteration: \t69 / 100\n",
            "Confirmed: \t17\n",
            "Tentative: \t2\n",
            "Rejected: \t6\n",
            "Iteration: \t70 / 100\n",
            "Confirmed: \t17\n",
            "Tentative: \t2\n",
            "Rejected: \t6\n",
            "Iteration: \t71 / 100\n",
            "Confirmed: \t17\n",
            "Tentative: \t2\n",
            "Rejected: \t6\n",
            "Iteration: \t72 / 100\n",
            "Confirmed: \t17\n",
            "Tentative: \t2\n",
            "Rejected: \t6\n",
            "Iteration: \t73 / 100\n",
            "Confirmed: \t17\n",
            "Tentative: \t2\n",
            "Rejected: \t6\n",
            "Iteration: \t74 / 100\n",
            "Confirmed: \t17\n",
            "Tentative: \t2\n",
            "Rejected: \t6\n",
            "Iteration: \t75 / 100\n",
            "Confirmed: \t17\n",
            "Tentative: \t2\n",
            "Rejected: \t6\n",
            "Iteration: \t76 / 100\n",
            "Confirmed: \t17\n",
            "Tentative: \t2\n",
            "Rejected: \t6\n",
            "Iteration: \t77 / 100\n",
            "Confirmed: \t17\n",
            "Tentative: \t2\n",
            "Rejected: \t6\n",
            "Iteration: \t78 / 100\n",
            "Confirmed: \t17\n",
            "Tentative: \t2\n",
            "Rejected: \t6\n",
            "Iteration: \t79 / 100\n",
            "Confirmed: \t17\n",
            "Tentative: \t2\n",
            "Rejected: \t6\n",
            "Iteration: \t80 / 100\n",
            "Confirmed: \t17\n",
            "Tentative: \t2\n",
            "Rejected: \t6\n",
            "Iteration: \t81 / 100\n",
            "Confirmed: \t17\n",
            "Tentative: \t2\n",
            "Rejected: \t6\n",
            "Iteration: \t82 / 100\n",
            "Confirmed: \t17\n",
            "Tentative: \t2\n",
            "Rejected: \t6\n",
            "Iteration: \t83 / 100\n",
            "Confirmed: \t17\n",
            "Tentative: \t2\n",
            "Rejected: \t6\n",
            "Iteration: \t84 / 100\n",
            "Confirmed: \t17\n",
            "Tentative: \t2\n",
            "Rejected: \t6\n",
            "Iteration: \t85 / 100\n",
            "Confirmed: \t17\n",
            "Tentative: \t2\n",
            "Rejected: \t6\n",
            "Iteration: \t86 / 100\n",
            "Confirmed: \t17\n",
            "Tentative: \t2\n",
            "Rejected: \t6\n",
            "Iteration: \t87 / 100\n",
            "Confirmed: \t17\n",
            "Tentative: \t2\n",
            "Rejected: \t6\n",
            "Iteration: \t88 / 100\n",
            "Confirmed: \t17\n",
            "Tentative: \t2\n",
            "Rejected: \t6\n",
            "Iteration: \t89 / 100\n",
            "Confirmed: \t17\n",
            "Tentative: \t2\n",
            "Rejected: \t6\n",
            "Iteration: \t90 / 100\n",
            "Confirmed: \t17\n",
            "Tentative: \t2\n",
            "Rejected: \t6\n",
            "Iteration: \t91 / 100\n",
            "Confirmed: \t17\n",
            "Tentative: \t2\n",
            "Rejected: \t6\n",
            "Iteration: \t92 / 100\n",
            "Confirmed: \t17\n",
            "Tentative: \t2\n",
            "Rejected: \t6\n",
            "Iteration: \t93 / 100\n",
            "Confirmed: \t17\n",
            "Tentative: \t2\n",
            "Rejected: \t6\n",
            "Iteration: \t94 / 100\n",
            "Confirmed: \t17\n",
            "Tentative: \t2\n",
            "Rejected: \t6\n",
            "Iteration: \t95 / 100\n",
            "Confirmed: \t17\n",
            "Tentative: \t2\n",
            "Rejected: \t6\n",
            "Iteration: \t96 / 100\n",
            "Confirmed: \t17\n",
            "Tentative: \t2\n",
            "Rejected: \t6\n",
            "Iteration: \t97 / 100\n",
            "Confirmed: \t17\n",
            "Tentative: \t2\n",
            "Rejected: \t6\n",
            "Iteration: \t98 / 100\n",
            "Confirmed: \t17\n",
            "Tentative: \t2\n",
            "Rejected: \t6\n",
            "Iteration: \t99 / 100\n",
            "Confirmed: \t17\n",
            "Tentative: \t2\n",
            "Rejected: \t6\n",
            "\n",
            "\n",
            "BorutaPy finished running.\n",
            "\n",
            "Iteration: \t100 / 100\n",
            "Confirmed: \t17\n",
            "Tentative: \t0\n",
            "Rejected: \t6\n"
          ],
          "name": "stdout"
        },
        {
          "output_type": "execute_result",
          "data": {
            "text/plain": [
              "BorutaPy(alpha=0.05,\n",
              "         estimator=RandomForestClassifier(bootstrap=True, ccp_alpha=0.0,\n",
              "                                          class_weight=None, criterion='gini',\n",
              "                                          max_depth=5, max_features='auto',\n",
              "                                          max_leaf_nodes=None, max_samples=None,\n",
              "                                          min_impurity_decrease=0.0,\n",
              "                                          min_impurity_split=None,\n",
              "                                          min_samples_leaf=1,\n",
              "                                          min_samples_split=2,\n",
              "                                          min_weight_fraction_leaf=0.0,\n",
              "                                          n_estimators=123, n_jobs=None,\n",
              "                                          oob_score=False,\n",
              "                                          random_state=RandomState(MT19937) at 0x7FF04AF7ADB0,\n",
              "                                          verbose=0, warm_start=False),\n",
              "         max_iter=100, n_estimators='auto', perc=100,\n",
              "         random_state=RandomState(MT19937) at 0x7FF04AF7ADB0, two_step=True,\n",
              "         verbose=2)"
            ]
          },
          "metadata": {
            "tags": []
          },
          "execution_count": 12
        }
      ]
    },
    {
      "cell_type": "code",
      "metadata": {
        "id": "nIRNyoIPR4uI",
        "colab": {
          "base_uri": "https://localhost:8080/"
        },
        "outputId": "011f0b55-c655-4aa3-9c4c-7c95435fc9d3"
      },
      "source": [
        "# check selected features\n",
        "print(\"Selected Features: \", boruta_selector.support_)\n",
        " \n",
        "# check ranking of features\n",
        "print(\"Ranking: \",boruta_selector.ranking_)               \n",
        "\n",
        "print(\"No. of significant features: \", boruta_selector.n_features_)"
      ],
      "execution_count": null,
      "outputs": [
        {
          "output_type": "stream",
          "text": [
            "Selected Features:  [False  True False  True  True  True  True False  True False False False\n",
            "  True False  True  True  True  True  True  True  True False  True  True\n",
            "  True]\n",
            "Ranking:  [3 1 2 1 1 1 1 3 1 5 6 7 1 8 1 1 1 1 1 1 1 9 1 1 1]\n",
            "No. of significant features:  17\n"
          ],
          "name": "stdout"
        }
      ]
    },
    {
      "cell_type": "markdown",
      "metadata": {
        "id": "qN_x3m-N6-Qw"
      },
      "source": [
        "Boruta has selected 17 significant features (Ranking = 1) from the 23 provided.Visualise it better in the form of a table"
      ]
    },
    {
      "cell_type": "markdown",
      "metadata": {
        "id": "DiMV30pcN4nJ"
      },
      "source": [
        "**Display features in Rank order**"
      ]
    },
    {
      "cell_type": "code",
      "metadata": {
        "id": "2SFZLmQ06-Qz",
        "colab": {
          "base_uri": "https://localhost:8080/"
        },
        "outputId": "471e4d36-6ae3-41ec-d5d3-0668e7e5abc0"
      },
      "source": [
        "selected_rfe_features = pd.DataFrame({'Feature':list(X_train.columns),\n",
        "                                      'Ranking':boruta_selector.ranking_})\n",
        "selected_rfe_features.sort_values(by='Ranking')"
      ],
      "execution_count": null,
      "outputs": [
        {
          "output_type": "execute_result",
          "data": {
            "text/html": [
              "<div>\n",
              "<style scoped>\n",
              "    .dataframe tbody tr th:only-of-type {\n",
              "        vertical-align: middle;\n",
              "    }\n",
              "\n",
              "    .dataframe tbody tr th {\n",
              "        vertical-align: top;\n",
              "    }\n",
              "\n",
              "    .dataframe thead th {\n",
              "        text-align: right;\n",
              "    }\n",
              "</style>\n",
              "<table border=\"1\" class=\"dataframe\">\n",
              "  <thead>\n",
              "    <tr style=\"text-align: right;\">\n",
              "      <th></th>\n",
              "      <th>Feature</th>\n",
              "      <th>Ranking</th>\n",
              "    </tr>\n",
              "  </thead>\n",
              "  <tbody>\n",
              "    <tr>\n",
              "      <th>12</th>\n",
              "      <td>Number_of_prev_cond</td>\n",
              "      <td>1</td>\n",
              "    </tr>\n",
              "    <tr>\n",
              "      <th>22</th>\n",
              "      <td>Patient_Smoker_YES</td>\n",
              "      <td>1</td>\n",
              "    </tr>\n",
              "    <tr>\n",
              "      <th>20</th>\n",
              "      <td>Patient_Smoker_NO</td>\n",
              "      <td>1</td>\n",
              "    </tr>\n",
              "    <tr>\n",
              "      <th>19</th>\n",
              "      <td>DX6</td>\n",
              "      <td>1</td>\n",
              "    </tr>\n",
              "    <tr>\n",
              "      <th>18</th>\n",
              "      <td>DX5</td>\n",
              "      <td>1</td>\n",
              "    </tr>\n",
              "    <tr>\n",
              "      <th>17</th>\n",
              "      <td>DX4</td>\n",
              "      <td>1</td>\n",
              "    </tr>\n",
              "    <tr>\n",
              "      <th>16</th>\n",
              "      <td>DX3</td>\n",
              "      <td>1</td>\n",
              "    </tr>\n",
              "    <tr>\n",
              "      <th>15</th>\n",
              "      <td>DX2</td>\n",
              "      <td>1</td>\n",
              "    </tr>\n",
              "    <tr>\n",
              "      <th>14</th>\n",
              "      <td>DX1</td>\n",
              "      <td>1</td>\n",
              "    </tr>\n",
              "    <tr>\n",
              "      <th>23</th>\n",
              "      <td>Patient_Rural_Urban_RURAL</td>\n",
              "      <td>1</td>\n",
              "    </tr>\n",
              "    <tr>\n",
              "      <th>24</th>\n",
              "      <td>Patient_Rural_Urban_URBAN</td>\n",
              "      <td>1</td>\n",
              "    </tr>\n",
              "    <tr>\n",
              "      <th>8</th>\n",
              "      <td>D</td>\n",
              "      <td>1</td>\n",
              "    </tr>\n",
              "    <tr>\n",
              "      <th>6</th>\n",
              "      <td>B</td>\n",
              "      <td>1</td>\n",
              "    </tr>\n",
              "    <tr>\n",
              "      <th>5</th>\n",
              "      <td>A</td>\n",
              "      <td>1</td>\n",
              "    </tr>\n",
              "    <tr>\n",
              "      <th>4</th>\n",
              "      <td>Patient_Body_Mass_Index</td>\n",
              "      <td>1</td>\n",
              "    </tr>\n",
              "    <tr>\n",
              "      <th>3</th>\n",
              "      <td>Patient_Age</td>\n",
              "      <td>1</td>\n",
              "    </tr>\n",
              "    <tr>\n",
              "      <th>1</th>\n",
              "      <td>Diagnosed_Condition</td>\n",
              "      <td>1</td>\n",
              "    </tr>\n",
              "    <tr>\n",
              "      <th>2</th>\n",
              "      <td>Patient_ID</td>\n",
              "      <td>2</td>\n",
              "    </tr>\n",
              "    <tr>\n",
              "      <th>7</th>\n",
              "      <td>C</td>\n",
              "      <td>3</td>\n",
              "    </tr>\n",
              "    <tr>\n",
              "      <th>0</th>\n",
              "      <td>ID_Patient_Care_Situation</td>\n",
              "      <td>3</td>\n",
              "    </tr>\n",
              "    <tr>\n",
              "      <th>9</th>\n",
              "      <td>E</td>\n",
              "      <td>5</td>\n",
              "    </tr>\n",
              "    <tr>\n",
              "      <th>10</th>\n",
              "      <td>F</td>\n",
              "      <td>6</td>\n",
              "    </tr>\n",
              "    <tr>\n",
              "      <th>11</th>\n",
              "      <td>Z</td>\n",
              "      <td>7</td>\n",
              "    </tr>\n",
              "    <tr>\n",
              "      <th>13</th>\n",
              "      <td>0</td>\n",
              "      <td>8</td>\n",
              "    </tr>\n",
              "    <tr>\n",
              "      <th>21</th>\n",
              "      <td>Patient_Smoker_UNKNOWN</td>\n",
              "      <td>9</td>\n",
              "    </tr>\n",
              "  </tbody>\n",
              "</table>\n",
              "</div>"
            ],
            "text/plain": [
              "                      Feature  Ranking\n",
              "12        Number_of_prev_cond        1\n",
              "22         Patient_Smoker_YES        1\n",
              "20          Patient_Smoker_NO        1\n",
              "19                        DX6        1\n",
              "18                        DX5        1\n",
              "17                        DX4        1\n",
              "16                        DX3        1\n",
              "15                        DX2        1\n",
              "14                        DX1        1\n",
              "23  Patient_Rural_Urban_RURAL        1\n",
              "24  Patient_Rural_Urban_URBAN        1\n",
              "8                           D        1\n",
              "6                           B        1\n",
              "5                           A        1\n",
              "4     Patient_Body_Mass_Index        1\n",
              "3                 Patient_Age        1\n",
              "1         Diagnosed_Condition        1\n",
              "2                  Patient_ID        2\n",
              "7                           C        3\n",
              "0   ID_Patient_Care_Situation        3\n",
              "9                           E        5\n",
              "10                          F        6\n",
              "11                          Z        7\n",
              "13                          0        8\n",
              "21     Patient_Smoker_UNKNOWN        9"
            ]
          },
          "metadata": {
            "tags": []
          },
          "execution_count": 14
        }
      ]
    },
    {
      "cell_type": "markdown",
      "metadata": {
        "id": "00S_h1UvSz1K"
      },
      "source": [
        "Interesting to see that the missing data for Patient Smoker which was encoded as UNKNOWN ranks as a significant feature. Filling with the Mode (which is NO) may have had diluted the data.\n",
        "Similarly for '0' (ie. Zero previous condions). Not filling with the Mode appears to have been a good decision."
      ]
    },
    {
      "cell_type": "markdown",
      "metadata": {
        "id": "ZSJeKwnK6-Q1"
      },
      "source": [
        "#### Create a new subset of the data with only the selected features"
      ]
    },
    {
      "cell_type": "code",
      "metadata": {
        "id": "tNvB1YJA6-Q1"
      },
      "source": [
        "X_important_train = boruta_selector.transform(np.array(X_train))\n",
        "X_important_test = boruta_selector.transform(np.array(X_test))"
      ],
      "execution_count": null,
      "outputs": []
    },
    {
      "cell_type": "markdown",
      "metadata": {
        "id": "rAlSrXYX6-Q4"
      },
      "source": [
        "#### Build model with selected features"
      ]
    },
    {
      "cell_type": "code",
      "metadata": {
        "id": "qq7SxTz86-Q4",
        "colab": {
          "base_uri": "https://localhost:8080/"
        },
        "outputId": "b0bda548-321a-49cf-bb20-54a2cf40b179"
      },
      "source": [
        "# Create a new random forest classifier for the most important features\n",
        "rf_important = RandomForestClassifier(random_state=1, n_estimators=1000, n_jobs = -1)\n",
        "\n",
        "# Train the new classifier on the new dataset containing the most important features\n",
        "rf_important.fit(X_important_train, y_train)"
      ],
      "execution_count": null,
      "outputs": [
        {
          "output_type": "execute_result",
          "data": {
            "text/plain": [
              "RandomForestClassifier(bootstrap=True, ccp_alpha=0.0, class_weight=None,\n",
              "                       criterion='gini', max_depth=None, max_features='auto',\n",
              "                       max_leaf_nodes=None, max_samples=None,\n",
              "                       min_impurity_decrease=0.0, min_impurity_split=None,\n",
              "                       min_samples_leaf=1, min_samples_split=2,\n",
              "                       min_weight_fraction_leaf=0.0, n_estimators=1000,\n",
              "                       n_jobs=-1, oob_score=False, random_state=1, verbose=0,\n",
              "                       warm_start=False)"
            ]
          },
          "metadata": {
            "tags": []
          },
          "execution_count": 16
        }
      ]
    },
    {
      "cell_type": "markdown",
      "metadata": {
        "id": "CdWEWl8g6-Q7"
      },
      "source": [
        "#### Evaluation"
      ]
    },
    {
      "cell_type": "code",
      "metadata": {
        "id": "DQimb_Qg6-Q7"
      },
      "source": [
        "y_important_pred = rf_important.predict(X_important_test)\n",
        "rf_imp_fscore = f1_score(y_test, y_important_pred)"
      ],
      "execution_count": null,
      "outputs": []
    },
    {
      "cell_type": "code",
      "metadata": {
        "id": "0O8eD4Wb6-Q9",
        "colab": {
          "base_uri": "https://localhost:8080/"
        },
        "outputId": "c6f9f0b6-8e56-4118-9e6d-aa8a7d3ca734"
      },
      "source": [
        "print(rf_imp_fscore)"
      ],
      "execution_count": null,
      "outputs": [
        {
          "output_type": "stream",
          "text": [
            "0.8614144129010584\n"
          ],
          "name": "stdout"
        }
      ]
    },
    {
      "cell_type": "markdown",
      "metadata": {
        "id": "r1Ok2JxF6-Q_"
      },
      "source": [
        "If you remember from above that the Random Forest Classifier with all the features had given f1 score as 84% while after selecting some relavent features the Random Forest Classifier has given f1 score as 88.6% which is a good improvement in terms of bothe performance of the model (i.e. the result) and the complexity is also reduced."
      ]
    },
    {
      "cell_type": "markdown",
      "metadata": {
        "id": "F2hEq0fz6-Q_"
      },
      "source": [
        "Well we have chosen some of the parameters randomly like max_depht, n_estimators. There are many other parameters related to Random Forest model.If you remember we had discussed in our session 'Performance Evaluation' about Hyper parameter tunning. Hyper parameter tunnning helps you to choose a set of  optimal parameters for a model. So let's try if this helps us to further improve the performance of the model. \n",
        "\n",
        "Grid Search helps you to find the optimal parameter for a model."
      ]
    },
    {
      "cell_type": "markdown",
      "metadata": {
        "id": "VZ2IrzWG6-RA"
      },
      "source": [
        "### Hyper Parameter Tunning"
      ]
    },
    {
      "cell_type": "code",
      "metadata": {
        "id": "q9oCOqbo6-RA"
      },
      "source": [
        "# Create the parameter grid based on the results of random search \n",
        "param_grid = {\n",
        "    'bootstrap': [True, False],\n",
        "    'max_depth': [5, 10, 15],\n",
        "    'n_estimators': [500, 1000]}"
      ],
      "execution_count": null,
      "outputs": []
    },
    {
      "cell_type": "code",
      "metadata": {
        "id": "ndy8042R6-RC"
      },
      "source": [
        "rf = RandomForestClassifier(random_state = 1)\n",
        "\n",
        "# Grid search cv\n",
        "grid_search = GridSearchCV(estimator = rf, param_grid = param_grid, \n",
        "                          cv = 2, n_jobs = -1, verbose = 2)"
      ],
      "execution_count": null,
      "outputs": []
    },
    {
      "cell_type": "code",
      "metadata": {
        "id": "F1B7c2kt6-RG",
        "colab": {
          "base_uri": "https://localhost:8080/"
        },
        "outputId": "12452be6-0bf5-429f-c9a9-0e0558571d76"
      },
      "source": [
        "grid_search.fit(X_important_train, y_train)"
      ],
      "execution_count": null,
      "outputs": [
        {
          "output_type": "stream",
          "text": [
            "Fitting 2 folds for each of 12 candidates, totalling 24 fits\n"
          ],
          "name": "stdout"
        },
        {
          "output_type": "stream",
          "text": [
            "[Parallel(n_jobs=-1)]: Using backend LokyBackend with 2 concurrent workers.\n",
            "[Parallel(n_jobs=-1)]: Done  24 out of  24 | elapsed:  2.2min finished\n"
          ],
          "name": "stderr"
        },
        {
          "output_type": "execute_result",
          "data": {
            "text/plain": [
              "GridSearchCV(cv=2, error_score=nan,\n",
              "             estimator=RandomForestClassifier(bootstrap=True, ccp_alpha=0.0,\n",
              "                                              class_weight=None,\n",
              "                                              criterion='gini', max_depth=None,\n",
              "                                              max_features='auto',\n",
              "                                              max_leaf_nodes=None,\n",
              "                                              max_samples=None,\n",
              "                                              min_impurity_decrease=0.0,\n",
              "                                              min_impurity_split=None,\n",
              "                                              min_samples_leaf=1,\n",
              "                                              min_samples_split=2,\n",
              "                                              min_weight_fraction_leaf=0.0,\n",
              "                                              n_estimators=100, n_jobs=None,\n",
              "                                              oob_score=False, random_state=1,\n",
              "                                              verbose=0, warm_start=False),\n",
              "             iid='deprecated', n_jobs=-1,\n",
              "             param_grid={'bootstrap': [True, False], 'max_depth': [5, 10, 15],\n",
              "                         'n_estimators': [500, 1000]},\n",
              "             pre_dispatch='2*n_jobs', refit=True, return_train_score=False,\n",
              "             scoring=None, verbose=2)"
            ]
          },
          "metadata": {
            "tags": []
          },
          "execution_count": 21
        }
      ]
    },
    {
      "cell_type": "code",
      "metadata": {
        "id": "H7u3G4Q26-RI",
        "colab": {
          "base_uri": "https://localhost:8080/"
        },
        "outputId": "ecebb571-9cdc-4a86-f5f8-166b2017f652"
      },
      "source": [
        "grid_search.best_params_"
      ],
      "execution_count": null,
      "outputs": [
        {
          "output_type": "execute_result",
          "data": {
            "text/plain": [
              "{'bootstrap': True, 'max_depth': 15, 'n_estimators': 1000}"
            ]
          },
          "metadata": {
            "tags": []
          },
          "execution_count": 22
        }
      ]
    },
    {
      "cell_type": "code",
      "metadata": {
        "id": "7egvifLe6-RL"
      },
      "source": [
        "pred = grid_search.predict(X_important_test)"
      ],
      "execution_count": null,
      "outputs": []
    },
    {
      "cell_type": "code",
      "metadata": {
        "id": "biLOoq1q6-RN",
        "colab": {
          "base_uri": "https://localhost:8080/"
        },
        "outputId": "d7315593-e6ce-48c0-a288-1aeebc0a3b67"
      },
      "source": [
        "f1_score(y_test, pred)"
      ],
      "execution_count": null,
      "outputs": [
        {
          "output_type": "execute_result",
          "data": {
            "text/plain": [
              "0.864684263280989"
            ]
          },
          "metadata": {
            "tags": []
          },
          "execution_count": 24
        }
      ]
    },
    {
      "cell_type": "markdown",
      "metadata": {
        "id": "t6VUxBTE6-RP"
      },
      "source": [
        "As you can see the accuracy has been improved from 84% to 88.8% by selecting some good parameters with the help of hyper parameter tunning - GridSearchCV"
      ]
    },
    {
      "cell_type": "markdown",
      "metadata": {
        "id": "FPSxdcZc6-RQ"
      },
      "source": [
        "### **4. We could also try standardizing and normalizing the data or some other algorithms and so on....**"
      ]
    },
    {
      "cell_type": "markdown",
      "metadata": {
        "id": "WhASO4PY6-RS"
      },
      "source": [
        "### 5. Decision Tree."
      ]
    },
    {
      "cell_type": "code",
      "metadata": {
        "id": "iGppclUy6-RS"
      },
      "source": [
        "dtree = DecisionTreeClassifier()\n",
        "dtree = dtree.fit(X_train, y_train)\n",
        "\n",
        "# ERROR: dot: graph is too large for cairo-renderer bitmaps. Scaling by 0.191177 to fit\n",
        "# data = tree.export_graphviz(dtree, out_file=None, feature_names=X_train.columns)\n",
        "# graph = pydotplus.graph_from_dot_data(data)\n",
        "# graph.write_png('mydecisiontree.png')\n",
        "\n",
        "# img=pltimg.imread('mydecisiontree.png')\n",
        "# imgplot = plt.imshow(img)\n",
        "# plt.show()"
      ],
      "execution_count": null,
      "outputs": []
    },
    {
      "cell_type": "code",
      "metadata": {
        "id": "mipPetRMLGwd"
      },
      "source": [
        "y_test = dtree.predict(X_test)"
      ],
      "execution_count": null,
      "outputs": []
    },
    {
      "cell_type": "markdown",
      "metadata": {
        "id": "4cv_y5WqLFkG"
      },
      "source": [
        "*Decision Tree Evaluation:*"
      ]
    },
    {
      "cell_type": "code",
      "metadata": {
        "id": "wyEo1dbnYI08",
        "colab": {
          "base_uri": "https://localhost:8080/"
        },
        "outputId": "eebba425-58b9-4426-a8b0-9d12403211e2"
      },
      "source": [
        "'''\n",
        "species = np.array(y_test).argmax(axis=1)\n",
        "predictions = np.array(y_pred).argmax(axis=1)\n",
        "confusion_matrix(species, predictions)\n",
        "'''"
      ],
      "execution_count": null,
      "outputs": [
        {
          "output_type": "execute_result",
          "data": {
            "application/vnd.google.colaboratory.intrinsic+json": {
              "type": "string"
            },
            "text/plain": [
              "'\\nspecies = np.array(y_test).argmax(axis=1)\\npredictions = np.array(y_pred).argmax(axis=1)\\nconfusion_matrix(species, predictions)\\n'"
            ]
          },
          "metadata": {
            "tags": []
          },
          "execution_count": 27
        }
      ]
    },
    {
      "cell_type": "markdown",
      "metadata": {
        "id": "X-gppWcjMIZd"
      },
      "source": [
        "### 6. Linear SVC"
      ]
    },
    {
      "cell_type": "code",
      "metadata": {
        "id": "_t2XX-a3NXKw",
        "colab": {
          "base_uri": "https://localhost:8080/",
          "height": 35
        },
        "outputId": "be2cba6d-35fd-4d4a-c404-fa535123f948"
      },
      "source": [
        "'''\n",
        "LSVC.fit(x1,y1)\n",
        "y2_LSVC_model = LSVC.predict(x2)\n",
        "print(\"LSVC Accuracy :\", accuracy_score(y2, y2_LSVC_model))\n",
        "'''"
      ],
      "execution_count": null,
      "outputs": [
        {
          "output_type": "execute_result",
          "data": {
            "application/vnd.google.colaboratory.intrinsic+json": {
              "type": "string"
            },
            "text/plain": [
              "'\\nLSVC.fit(x1,y1)\\ny2_LSVC_model = LSVC.predict(x2)\\nprint(\"LSVC Accuracy :\", accuracy_score(y2, y2_LSVC_model))\\n'"
            ]
          },
          "metadata": {
            "tags": []
          },
          "execution_count": 28
        }
      ]
    },
    {
      "cell_type": "code",
      "metadata": {
        "id": "IFn99HyIMJCZ",
        "colab": {
          "base_uri": "https://localhost:8080/",
          "height": 197
        },
        "outputId": "dc45438d-7d1b-4d08-831c-7d2a2501eeda"
      },
      "source": [
        "LSVC = LinearSVC()\n",
        "LSVC.fit(X_train, y_train)\n",
        "y2_LSVC_model = LSVC.predict(X_test)\n",
        "print(\"LSVC Accuracy :\", accuracy_score(y_test, y_test_LSVC_model))"
      ],
      "execution_count": null,
      "outputs": [
        {
          "output_type": "error",
          "ename": "NameError",
          "evalue": "ignored",
          "traceback": [
            "\u001b[0;31m---------------------------------------------------------------------------\u001b[0m",
            "\u001b[0;31mNameError\u001b[0m                                 Traceback (most recent call last)",
            "\u001b[0;32m<ipython-input-29-c5b477132d7f>\u001b[0m in \u001b[0;36m<module>\u001b[0;34m()\u001b[0m\n\u001b[1;32m      2\u001b[0m \u001b[0mLSVC\u001b[0m\u001b[0;34m.\u001b[0m\u001b[0mfit\u001b[0m\u001b[0;34m(\u001b[0m\u001b[0mX_train\u001b[0m\u001b[0;34m,\u001b[0m \u001b[0my_train\u001b[0m\u001b[0;34m)\u001b[0m\u001b[0;34m\u001b[0m\u001b[0;34m\u001b[0m\u001b[0m\n\u001b[1;32m      3\u001b[0m \u001b[0my2_LSVC_model\u001b[0m \u001b[0;34m=\u001b[0m \u001b[0mLSVC\u001b[0m\u001b[0;34m.\u001b[0m\u001b[0mpredict\u001b[0m\u001b[0;34m(\u001b[0m\u001b[0mX_test\u001b[0m\u001b[0;34m)\u001b[0m\u001b[0;34m\u001b[0m\u001b[0;34m\u001b[0m\u001b[0m\n\u001b[0;32m----> 4\u001b[0;31m \u001b[0mprint\u001b[0m\u001b[0;34m(\u001b[0m\u001b[0;34m\"LSVC Accuracy :\"\u001b[0m\u001b[0;34m,\u001b[0m \u001b[0maccuracy_score\u001b[0m\u001b[0;34m(\u001b[0m\u001b[0my_test\u001b[0m\u001b[0;34m,\u001b[0m \u001b[0my_test_LSVC_model\u001b[0m\u001b[0;34m)\u001b[0m\u001b[0;34m)\u001b[0m\u001b[0;34m\u001b[0m\u001b[0;34m\u001b[0m\u001b[0m\n\u001b[0m",
            "\u001b[0;31mNameError\u001b[0m: name 'y_test_LSVC_model' is not defined"
          ]
        }
      ]
    },
    {
      "cell_type": "markdown",
      "metadata": {
        "id": "CxtyhgJNMUea"
      },
      "source": [
        "*Linear SVC Evaluation:*"
      ]
    },
    {
      "cell_type": "code",
      "metadata": {
        "id": "e1QlH4yMMViQ"
      },
      "source": [
        ""
      ],
      "execution_count": null,
      "outputs": []
    },
    {
      "cell_type": "markdown",
      "metadata": {
        "id": "quxVVI576-RU"
      },
      "source": [
        "# Model Evaluation and Selection\n",
        "It is clearly observable that the f1 scores increased:\n",
        "- logistic regression-----------------------------------80%\n",
        "- random forest with full features----------------------84%\n",
        "- random forest on the selected features using Boruta---88.6%\n",
        "- add Hyper parameter tunning---------------------------88.7%\n",
        "\n",
        "- standardizing and normalizing the data \n",
        "- Decision Tree."
      ]
    },
    {
      "cell_type": "markdown",
      "metadata": {
        "id": "KAeFG6tN6-RV"
      },
      "source": [
        "### Save Best Model"
      ]
    },
    {
      "cell_type": "code",
      "metadata": {
        "id": "6BVdJ2cV6-RV"
      },
      "source": [
        ""
      ],
      "execution_count": null,
      "outputs": []
    }
  ]
}