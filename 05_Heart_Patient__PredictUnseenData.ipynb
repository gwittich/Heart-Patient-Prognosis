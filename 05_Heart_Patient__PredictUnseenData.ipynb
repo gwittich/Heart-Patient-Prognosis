{
  "nbformat": 4,
  "nbformat_minor": 0,
  "metadata": {
    "kernelspec": {
      "display_name": "Python 3",
      "language": "python",
      "name": "python3"
    },
    "language_info": {
      "codemirror_mode": {
        "name": "ipython",
        "version": 3
      },
      "file_extension": ".py",
      "mimetype": "text/x-python",
      "name": "python",
      "nbconvert_exporter": "python",
      "pygments_lexer": "ipython3",
      "version": "3.7.6"
    },
    "colab": {
      "name": "05_Heart_Patient__PredictUnseenData.ipynb",
      "provenance": [],
      "collapsed_sections": [],
      "include_colab_link": true
    }
  },
  "cells": [
    {
      "cell_type": "markdown",
      "metadata": {
        "id": "view-in-github",
        "colab_type": "text"
      },
      "source": [
        "<a href=\"https://colab.research.google.com/github/gwittich/Heart-Patient-Prognosis/blob/main/05_Heart_Patient__PredictUnseenData.ipynb\" target=\"_parent\"><img src=\"https://colab.research.google.com/assets/colab-badge.svg\" alt=\"Open In Colab\"/></a>"
      ]
    },
    {
      "cell_type": "markdown",
      "metadata": {
        "id": "sgrOiYyOyZcC"
      },
      "source": [
        "# **Heart Patient Prognosis**"
      ]
    },
    {
      "cell_type": "markdown",
      "metadata": {
        "id": "FfthoWnLyC2I"
      },
      "source": [
        "Data Scientist:   __Gail Wittich__<br>\n",
        "Email:      gwittich@optusnet.com.au <br>\n",
        "Website:    www.linkedin.com/in/gail-wittich <br>\n",
        "Copyright:  Copyright 2020, Gail Wittich <br>"
      ]
    },
    {
      "cell_type": "markdown",
      "metadata": {
        "id": "NmOnniGDyC2J"
      },
      "source": [
        "# Predict on unseen Test Data"
      ]
    },
    {
      "cell_type": "markdown",
      "metadata": {
        "id": "Ez2NVcrJyC2J"
      },
      "source": [
        "**predict the output for new test data**\n",
        "\n",
        "Predict the output for new test data using the Random Forest model with the selected features using Boruta and also with the best parameters that we got during hyper parmeter tunning because we have got the highest f1 score with this model on **X_test** data (also called the validation data). We can directly use **grid_search** variable to predict as this variable is the reference to the trained model."
      ]
    },
    {
      "cell_type": "markdown",
      "metadata": {
        "id": "CUEAtyNOyC2J"
      },
      "source": [
        "### **Load Packages**"
      ]
    },
    {
      "cell_type": "code",
      "metadata": {
        "id": "fdJlrtbNyC2K"
      },
      "source": [
        "from google.colab import drive, files                  # for accessing files\n",
        "from numpy import savetxt                              # for saving array to csv\n",
        "import pandas as pd                                    # for data analysis\n",
        "from sklearn.ensemble import RandomForestClassifier    # for data building\n",
        "from sklearn.metrics import accuracy_score, f1_score   # for model evaluation\n",
        "\n",
        "import warnings                                        # to ignore warnings\n",
        "warnings.filterwarnings('ignore')"
      ],
      "execution_count": 15,
      "outputs": []
    },
    {
      "cell_type": "markdown",
      "metadata": {
        "id": "1ItrGtXYyC2K"
      },
      "source": [
        "### Load Data"
      ]
    },
    {
      "cell_type": "code",
      "metadata": {
        "id": "EpAT2N3fKqxQ",
        "colab": {
          "base_uri": "https://localhost:8080/"
        },
        "outputId": "e239eb3b-bda9-43db-e731-ff0fad44e7bf"
      },
      "source": [
        "# mount the google drive\n",
        "drive.mount(\"/content/drive\")"
      ],
      "execution_count": 16,
      "outputs": [
        {
          "output_type": "stream",
          "text": [
            "Drive already mounted at /content/drive; to attempt to forcibly remount, call drive.mount(\"/content/drive\", force_remount=True).\n"
          ],
          "name": "stdout"
        }
      ]
    },
    {
      "cell_type": "code",
      "metadata": {
        "id": "Y5WsB5TT6-QR"
      },
      "source": [
        "# Unpickle Training data\n",
        "train_df = pd.read_pickle('/content/drive/My Drive/Heart_Patient/Data/train_data_4_predict.pkl')\n",
        "\n",
        "# Unpickle Testing data\n",
        "test_df = pd.read_pickle('/content/drive/My Drive/Heart_Patient/Data/new_test_data_4_predict.pkl')\n",
        "\n",
        "# Unpickle Best Model\n",
        "best_model = pd.read_pickle('/content/drive/My Drive/Heart_Patient/Data/Best_Model.pkl')"
      ],
      "execution_count": 17,
      "outputs": []
    },
    {
      "cell_type": "markdown",
      "metadata": {
        "id": "73wdaeGIyC2L"
      },
      "source": [
        "### Load Best Model"
      ]
    },
    {
      "cell_type": "code",
      "metadata": {
        "colab": {
          "base_uri": "https://localhost:8080/"
        },
        "id": "w3lDPi5tvdTQ",
        "outputId": "59968d7c-d3e1-4190-9671-20f7dd711bbe"
      },
      "source": [
        "print(best_model)"
      ],
      "execution_count": 18,
      "outputs": [
        {
          "output_type": "stream",
          "text": [
            "RandomForestClassifier(bootstrap=False, ccp_alpha=0.0, class_weight=None,\n",
            "                       criterion='gini', max_depth=12, max_features=6,\n",
            "                       max_leaf_nodes=None, max_samples=None,\n",
            "                       min_impurity_decrease=0.0, min_impurity_split=None,\n",
            "                       min_samples_leaf=2, min_samples_split=14,\n",
            "                       min_weight_fraction_leaf=0.0, n_estimators=50,\n",
            "                       n_jobs=None, oob_score=False, random_state=1, verbose=0,\n",
            "                       warm_start=False)\n"
          ],
          "name": "stdout"
        }
      ]
    },
    {
      "cell_type": "code",
      "metadata": {
        "colab": {
          "base_uri": "https://localhost:8080/",
          "height": 222
        },
        "id": "JD1T5OkWeK8_",
        "outputId": "4e427919-db31-403b-8cf4-4010a32a20cd"
      },
      "source": [
        "test_df.head()"
      ],
      "execution_count": 19,
      "outputs": [
        {
          "output_type": "execute_result",
          "data": {
            "text/html": [
              "<div>\n",
              "<style scoped>\n",
              "    .dataframe tbody tr th:only-of-type {\n",
              "        vertical-align: middle;\n",
              "    }\n",
              "\n",
              "    .dataframe tbody tr th {\n",
              "        vertical-align: top;\n",
              "    }\n",
              "\n",
              "    .dataframe thead th {\n",
              "        text-align: right;\n",
              "    }\n",
              "</style>\n",
              "<table border=\"1\" class=\"dataframe\">\n",
              "  <thead>\n",
              "    <tr style=\"text-align: right;\">\n",
              "      <th></th>\n",
              "      <th>Diagnosed_Condition</th>\n",
              "      <th>Patient_Age</th>\n",
              "      <th>Patient_Body_Mass_Index</th>\n",
              "      <th>A</th>\n",
              "      <th>B</th>\n",
              "      <th>C</th>\n",
              "      <th>D</th>\n",
              "      <th>E</th>\n",
              "      <th>Number_of_prev_cond</th>\n",
              "      <th>DX1</th>\n",
              "      <th>DX2</th>\n",
              "      <th>DX3</th>\n",
              "      <th>DX4</th>\n",
              "      <th>DX5</th>\n",
              "      <th>DX6</th>\n",
              "      <th>Patient_Smoker_NO</th>\n",
              "      <th>Patient_Smoker_YES</th>\n",
              "      <th>Patient_Rural_Urban_RURAL</th>\n",
              "      <th>Patient_Rural_Urban_URBAN</th>\n",
              "    </tr>\n",
              "  </thead>\n",
              "  <tbody>\n",
              "    <tr>\n",
              "      <th>0</th>\n",
              "      <td>35</td>\n",
              "      <td>65</td>\n",
              "      <td>20.710365</td>\n",
              "      <td>1</td>\n",
              "      <td>0</td>\n",
              "      <td>0</td>\n",
              "      <td>0</td>\n",
              "      <td>1</td>\n",
              "      <td>2</td>\n",
              "      <td>0</td>\n",
              "      <td>0</td>\n",
              "      <td>0</td>\n",
              "      <td>0</td>\n",
              "      <td>1</td>\n",
              "      <td>0</td>\n",
              "      <td>1</td>\n",
              "      <td>0</td>\n",
              "      <td>1</td>\n",
              "      <td>0</td>\n",
              "    </tr>\n",
              "    <tr>\n",
              "      <th>1</th>\n",
              "      <td>30</td>\n",
              "      <td>2</td>\n",
              "      <td>24.250219</td>\n",
              "      <td>1</td>\n",
              "      <td>0</td>\n",
              "      <td>0</td>\n",
              "      <td>0</td>\n",
              "      <td>1</td>\n",
              "      <td>2</td>\n",
              "      <td>1</td>\n",
              "      <td>0</td>\n",
              "      <td>0</td>\n",
              "      <td>0</td>\n",
              "      <td>0</td>\n",
              "      <td>0</td>\n",
              "      <td>1</td>\n",
              "      <td>0</td>\n",
              "      <td>0</td>\n",
              "      <td>1</td>\n",
              "    </tr>\n",
              "    <tr>\n",
              "      <th>2</th>\n",
              "      <td>46</td>\n",
              "      <td>1</td>\n",
              "      <td>27.139276</td>\n",
              "      <td>1</td>\n",
              "      <td>0</td>\n",
              "      <td>0</td>\n",
              "      <td>0</td>\n",
              "      <td>0</td>\n",
              "      <td>1</td>\n",
              "      <td>0</td>\n",
              "      <td>0</td>\n",
              "      <td>0</td>\n",
              "      <td>0</td>\n",
              "      <td>0</td>\n",
              "      <td>1</td>\n",
              "      <td>1</td>\n",
              "      <td>0</td>\n",
              "      <td>0</td>\n",
              "      <td>1</td>\n",
              "    </tr>\n",
              "    <tr>\n",
              "      <th>3</th>\n",
              "      <td>44</td>\n",
              "      <td>29</td>\n",
              "      <td>29.191759</td>\n",
              "      <td>0</td>\n",
              "      <td>0</td>\n",
              "      <td>1</td>\n",
              "      <td>0</td>\n",
              "      <td>1</td>\n",
              "      <td>2</td>\n",
              "      <td>1</td>\n",
              "      <td>0</td>\n",
              "      <td>0</td>\n",
              "      <td>0</td>\n",
              "      <td>0</td>\n",
              "      <td>0</td>\n",
              "      <td>1</td>\n",
              "      <td>0</td>\n",
              "      <td>1</td>\n",
              "      <td>0</td>\n",
              "    </tr>\n",
              "    <tr>\n",
              "      <th>4</th>\n",
              "      <td>30</td>\n",
              "      <td>51</td>\n",
              "      <td>20.844146</td>\n",
              "      <td>0</td>\n",
              "      <td>0</td>\n",
              "      <td>0</td>\n",
              "      <td>0</td>\n",
              "      <td>1</td>\n",
              "      <td>1</td>\n",
              "      <td>0</td>\n",
              "      <td>0</td>\n",
              "      <td>0</td>\n",
              "      <td>0</td>\n",
              "      <td>1</td>\n",
              "      <td>0</td>\n",
              "      <td>1</td>\n",
              "      <td>0</td>\n",
              "      <td>0</td>\n",
              "      <td>1</td>\n",
              "    </tr>\n",
              "  </tbody>\n",
              "</table>\n",
              "</div>"
            ],
            "text/plain": [
              "   Diagnosed_Condition  ...  Patient_Rural_Urban_URBAN\n",
              "0                   35  ...                          0\n",
              "1                   30  ...                          1\n",
              "2                   46  ...                          1\n",
              "3                   44  ...                          0\n",
              "4                   30  ...                          1\n",
              "\n",
              "[5 rows x 19 columns]"
            ]
          },
          "metadata": {
            "tags": []
          },
          "execution_count": 19
        }
      ]
    },
    {
      "cell_type": "code",
      "metadata": {
        "colab": {
          "base_uri": "https://localhost:8080/"
        },
        "id": "lqup7f4q_51c",
        "outputId": "bbd75266-830e-480c-b50d-a5e0cc099332"
      },
      "source": [
        "test_df.info()"
      ],
      "execution_count": 20,
      "outputs": [
        {
          "output_type": "stream",
          "text": [
            "<class 'pandas.core.frame.DataFrame'>\n",
            "RangeIndex: 9330 entries, 0 to 9329\n",
            "Data columns (total 19 columns):\n",
            " #   Column                     Non-Null Count  Dtype  \n",
            "---  ------                     --------------  -----  \n",
            " 0   Diagnosed_Condition        9330 non-null   uint8  \n",
            " 1   Patient_Age                9330 non-null   uint8  \n",
            " 2   Patient_Body_Mass_Index    9330 non-null   float64\n",
            " 3   A                          9330 non-null   uint8  \n",
            " 4   B                          9330 non-null   uint8  \n",
            " 5   C                          9330 non-null   uint8  \n",
            " 6   D                          9330 non-null   uint8  \n",
            " 7   E                          9330 non-null   uint8  \n",
            " 8   Number_of_prev_cond        9330 non-null   uint8  \n",
            " 9   DX1                        9330 non-null   uint8  \n",
            " 10  DX2                        9330 non-null   uint8  \n",
            " 11  DX3                        9330 non-null   uint8  \n",
            " 12  DX4                        9330 non-null   uint8  \n",
            " 13  DX5                        9330 non-null   uint8  \n",
            " 14  DX6                        9330 non-null   uint8  \n",
            " 15  Patient_Smoker_NO          9330 non-null   uint8  \n",
            " 16  Patient_Smoker_YES         9330 non-null   uint8  \n",
            " 17  Patient_Rural_Urban_RURAL  9330 non-null   uint8  \n",
            " 18  Patient_Rural_Urban_URBAN  9330 non-null   uint8  \n",
            "dtypes: float64(1), uint8(18)\n",
            "memory usage: 237.0 KB\n"
          ],
          "name": "stdout"
        }
      ]
    },
    {
      "cell_type": "markdown",
      "metadata": {
        "id": "zH5ZOBCoeHJi"
      },
      "source": [
        "## Make Predictions on unseen Test Data for client assessment."
      ]
    },
    {
      "cell_type": "code",
      "metadata": {
        "id": "AIzKKyteu8bX"
      },
      "source": [
        "new_predictions = best_model.predict(test_df)"
      ],
      "execution_count": 21,
      "outputs": []
    },
    {
      "cell_type": "code",
      "metadata": {
        "colab": {
          "base_uri": "https://localhost:8080/"
        },
        "id": "3kE5xXpnNRb0",
        "outputId": "3880a54a-4ca2-4c76-cca7-285da14b161f"
      },
      "source": [
        "new_predictions"
      ],
      "execution_count": 22,
      "outputs": [
        {
          "output_type": "execute_result",
          "data": {
            "text/plain": [
              "array([1, 1, 0, ..., 0, 0, 1], dtype=uint8)"
            ]
          },
          "metadata": {
            "tags": []
          },
          "execution_count": 22
        }
      ]
    },
    {
      "cell_type": "markdown",
      "metadata": {
        "id": "GTsHcICkD3vo"
      },
      "source": [
        "## Download the prediction file in csv"
      ]
    },
    {
      "cell_type": "code",
      "metadata": {
        "colab": {
          "base_uri": "https://localhost:8080/",
          "height": 16
        },
        "id": "ZU0UzQIdN-sE",
        "outputId": "5eca2fbb-0aec-4f35-c68b-f2644e83db88"
      },
      "source": [
        "savetxt('/content/drive/My Drive/Heart_Patient/Data/heartPatientPredictions.csv', \n",
        "        new_predictions, fmt = '%d', delimiter = ',', comments = '', header = \"prediction\")\n",
        "files.download('/content/drive/My Drive/Heart_Patient/Data/heartPatientPredictions.csv')"
      ],
      "execution_count": 23,
      "outputs": [
        {
          "output_type": "display_data",
          "data": {
            "application/javascript": [
              "\n",
              "    async function download(id, filename, size) {\n",
              "      if (!google.colab.kernel.accessAllowed) {\n",
              "        return;\n",
              "      }\n",
              "      const div = document.createElement('div');\n",
              "      const label = document.createElement('label');\n",
              "      label.textContent = `Downloading \"${filename}\": `;\n",
              "      div.appendChild(label);\n",
              "      const progress = document.createElement('progress');\n",
              "      progress.max = size;\n",
              "      div.appendChild(progress);\n",
              "      document.body.appendChild(div);\n",
              "\n",
              "      const buffers = [];\n",
              "      let downloaded = 0;\n",
              "\n",
              "      const channel = await google.colab.kernel.comms.open(id);\n",
              "      // Send a message to notify the kernel that we're ready.\n",
              "      channel.send({})\n",
              "\n",
              "      for await (const message of channel.messages) {\n",
              "        // Send a message to notify the kernel that we're ready.\n",
              "        channel.send({})\n",
              "        if (message.buffers) {\n",
              "          for (const buffer of message.buffers) {\n",
              "            buffers.push(buffer);\n",
              "            downloaded += buffer.byteLength;\n",
              "            progress.value = downloaded;\n",
              "          }\n",
              "        }\n",
              "      }\n",
              "      const blob = new Blob(buffers, {type: 'application/binary'});\n",
              "      const a = document.createElement('a');\n",
              "      a.href = window.URL.createObjectURL(blob);\n",
              "      a.download = filename;\n",
              "      div.appendChild(a);\n",
              "      a.click();\n",
              "      div.remove();\n",
              "    }\n",
              "  "
            ],
            "text/plain": [
              "<IPython.core.display.Javascript object>"
            ]
          },
          "metadata": {
            "tags": []
          }
        },
        {
          "output_type": "display_data",
          "data": {
            "application/javascript": [
              "download(\"download_69ef6ff0-660d-4d18-912c-53547d028054\", \"heartPatientPredictions.csv\", 18671)"
            ],
            "text/plain": [
              "<IPython.core.display.Javascript object>"
            ]
          },
          "metadata": {
            "tags": []
          }
        }
      ]
    },
    {
      "cell_type": "markdown",
      "metadata": {
        "id": "612v_l7SyYjc"
      },
      "source": [
        "# **Client Assessment Results:**\n",
        "The above predictions on the unseen test dataset (New_X) were submitted to the client for evaluation which resulted in a F1 Score of 86.47%"
      ]
    }
  ]
}