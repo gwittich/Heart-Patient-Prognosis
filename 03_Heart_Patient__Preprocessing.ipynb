{
  "nbformat": 4,
  "nbformat_minor": 0,
  "metadata": {
    "kernelspec": {
      "display_name": "Python 3",
      "language": "python",
      "name": "python3"
    },
    "language_info": {
      "codemirror_mode": {
        "name": "ipython",
        "version": 3
      },
      "file_extension": ".py",
      "mimetype": "text/x-python",
      "name": "python",
      "nbconvert_exporter": "python",
      "pygments_lexer": "ipython3",
      "version": "3.7.6"
    },
    "colab": {
      "name": "03_Heart_Patient__Preprocessing.ipynb",
      "provenance": [],
      "collapsed_sections": []
    }
  },
  "cells": [
    {
      "cell_type": "markdown",
      "metadata": {
        "id": "3aIaBwY7JrxH"
      },
      "source": [
        "# **Heart Patient Prognosis**"
      ]
    },
    {
      "cell_type": "markdown",
      "metadata": {
        "id": "FzGoMq7oJrxI"
      },
      "source": [
        "Data Scientist:   __Gail Wittich__<br>\n",
        "Email:      gwittich@optusnet.com.au<br>\n",
        "Website:    www.linkedin.com/in/gail-wittich<br>\n",
        "Copyright:  Copyright 2020, Gail Wittich <br>"
      ]
    },
    {
      "cell_type": "markdown",
      "metadata": {
        "id": "4UL8JP5mJrxJ"
      },
      "source": [
        "# Data Preprocessing"
      ]
    },
    {
      "cell_type": "markdown",
      "metadata": {
        "id": "OuBX7iBsJrxJ"
      },
      "source": [
        "### **Load Packages**"
      ]
    },
    {
      "cell_type": "code",
      "metadata": {
        "id": "BWnH_UquJrxK"
      },
      "source": [
        "from google.colab import drive                         # for accessing files\n",
        "import numpy as np                                     # for numeric computations\n",
        "import pandas as pd                                    # for data analysis\n",
        "import pickle                                          # for file reading and saving\n",
        "from sklearn.preprocessing import LabelEncoder         # for converting categorical to numerical data\n",
        "from sklearn.preprocessing import MinMaxScaler         # for normalising the data\n",
        "from sklearn.preprocessing import StandardScaler       # for standardising the data\n",
        "\n",
        "import warnings                                        # to ignore warnings\n",
        "warnings.filterwarnings('ignore')"
      ],
      "execution_count": null,
      "outputs": []
    },
    {
      "cell_type": "markdown",
      "metadata": {
        "id": "D3F46zebJrxN"
      },
      "source": [
        "### **Load Data**"
      ]
    },
    {
      "cell_type": "code",
      "metadata": {
        "id": "TyW79AO_Vs5X",
        "colab": {
          "base_uri": "https://localhost:8080/"
        },
        "outputId": "85ce3ca5-1e8a-41f1-901b-f4837e6e37b2"
      },
      "source": [
        "# mount the google drive\n",
        "drive.mount(\"/content/drive\")"
      ],
      "execution_count": null,
      "outputs": [
        {
          "output_type": "stream",
          "text": [
            "Drive already mounted at /content/drive; to attempt to forcibly remount, call drive.mount(\"/content/drive\", force_remount=True).\n"
          ],
          "name": "stdout"
        }
      ]
    },
    {
      "cell_type": "code",
      "metadata": {
        "id": "FA6TPxkNJrxO"
      },
      "source": [
        "# Unpickle Training data\n",
        "PP_train_df = pd.read_pickle('/content/drive/My Drive/Heart_Patient/Data/train_data_4_PP.pkl')\n",
        "\n",
        "# Unpickle Testing data\n",
        "PP_test_df = pd.read_pickle('/content/drive/My Drive/Heart_Patient/Data/new_test_data_4_PP.pkl')"
      ],
      "execution_count": null,
      "outputs": []
    },
    {
      "cell_type": "markdown",
      "metadata": {
        "id": "4gpqI0b6JrxR"
      },
      "source": [
        "### Preprocessing of Training Data"
      ]
    },
    {
      "cell_type": "code",
      "metadata": {
        "colab": {
          "base_uri": "https://localhost:8080/",
          "height": 222
        },
        "id": "xU6ZTyJKrcw4",
        "outputId": "fb66de7a-7751-4b0f-fb77-031da2396230"
      },
      "source": [
        "PP_train_df.head()"
      ],
      "execution_count": null,
      "outputs": [
        {
          "output_type": "execute_result",
          "data": {
            "text/html": [
              "<div>\n",
              "<style scoped>\n",
              "    .dataframe tbody tr th:only-of-type {\n",
              "        vertical-align: middle;\n",
              "    }\n",
              "\n",
              "    .dataframe tbody tr th {\n",
              "        vertical-align: top;\n",
              "    }\n",
              "\n",
              "    .dataframe thead th {\n",
              "        text-align: right;\n",
              "    }\n",
              "</style>\n",
              "<table border=\"1\" class=\"dataframe\">\n",
              "  <thead>\n",
              "    <tr style=\"text-align: right;\">\n",
              "      <th></th>\n",
              "      <th>ID_Patient_Care_Situation</th>\n",
              "      <th>Diagnosed_Condition</th>\n",
              "      <th>Patient_ID</th>\n",
              "      <th>Treated_with_drugs</th>\n",
              "      <th>Patient_Age</th>\n",
              "      <th>Patient_Body_Mass_Index</th>\n",
              "      <th>Patient_Smoker</th>\n",
              "      <th>Patient_Rural_Urban</th>\n",
              "      <th>A</th>\n",
              "      <th>B</th>\n",
              "      <th>C</th>\n",
              "      <th>D</th>\n",
              "      <th>E</th>\n",
              "      <th>F</th>\n",
              "      <th>Z</th>\n",
              "      <th>Number_of_prev_cond</th>\n",
              "      <th>Survived_1_year</th>\n",
              "    </tr>\n",
              "  </thead>\n",
              "  <tbody>\n",
              "    <tr>\n",
              "      <th>0</th>\n",
              "      <td>16201</td>\n",
              "      <td>47</td>\n",
              "      <td>8433</td>\n",
              "      <td>DX2</td>\n",
              "      <td>60.0</td>\n",
              "      <td>21.655523</td>\n",
              "      <td>NO</td>\n",
              "      <td>URBAN</td>\n",
              "      <td>1.0</td>\n",
              "      <td>0.0</td>\n",
              "      <td>0.0</td>\n",
              "      <td>0.0</td>\n",
              "      <td>1.0</td>\n",
              "      <td>0.0</td>\n",
              "      <td>0.0</td>\n",
              "      <td>2.0</td>\n",
              "      <td>1</td>\n",
              "    </tr>\n",
              "    <tr>\n",
              "      <th>1</th>\n",
              "      <td>9421</td>\n",
              "      <td>3</td>\n",
              "      <td>2972</td>\n",
              "      <td>DX6</td>\n",
              "      <td>2.0</td>\n",
              "      <td>28.852743</td>\n",
              "      <td>NO</td>\n",
              "      <td>RURAL</td>\n",
              "      <td>1.0</td>\n",
              "      <td>0.0</td>\n",
              "      <td>1.0</td>\n",
              "      <td>0.0</td>\n",
              "      <td>1.0</td>\n",
              "      <td>0.0</td>\n",
              "      <td>0.0</td>\n",
              "      <td>3.0</td>\n",
              "      <td>0</td>\n",
              "    </tr>\n",
              "    <tr>\n",
              "      <th>2</th>\n",
              "      <td>16205</td>\n",
              "      <td>7</td>\n",
              "      <td>8608</td>\n",
              "      <td>DX6</td>\n",
              "      <td>20.0</td>\n",
              "      <td>26.179725</td>\n",
              "      <td>NO</td>\n",
              "      <td>RURAL</td>\n",
              "      <td>1.0</td>\n",
              "      <td>0.0</td>\n",
              "      <td>0.0</td>\n",
              "      <td>0.0</td>\n",
              "      <td>1.0</td>\n",
              "      <td>0.0</td>\n",
              "      <td>0.0</td>\n",
              "      <td>2.0</td>\n",
              "      <td>1</td>\n",
              "    </tr>\n",
              "    <tr>\n",
              "      <th>3</th>\n",
              "      <td>5582</td>\n",
              "      <td>31</td>\n",
              "      <td>10074</td>\n",
              "      <td>DX6</td>\n",
              "      <td>8.0</td>\n",
              "      <td>22.638945</td>\n",
              "      <td>NO</td>\n",
              "      <td>RURAL</td>\n",
              "      <td>1.0</td>\n",
              "      <td>0.0</td>\n",
              "      <td>0.0</td>\n",
              "      <td>0.0</td>\n",
              "      <td>1.0</td>\n",
              "      <td>0.0</td>\n",
              "      <td>0.0</td>\n",
              "      <td>2.0</td>\n",
              "      <td>0</td>\n",
              "    </tr>\n",
              "    <tr>\n",
              "      <th>4</th>\n",
              "      <td>20880</td>\n",
              "      <td>43</td>\n",
              "      <td>7462</td>\n",
              "      <td>DX1</td>\n",
              "      <td>53.0</td>\n",
              "      <td>21.326131</td>\n",
              "      <td>NO</td>\n",
              "      <td>RURAL</td>\n",
              "      <td>1.0</td>\n",
              "      <td>0.0</td>\n",
              "      <td>0.0</td>\n",
              "      <td>0.0</td>\n",
              "      <td>0.0</td>\n",
              "      <td>0.0</td>\n",
              "      <td>0.0</td>\n",
              "      <td>1.0</td>\n",
              "      <td>1</td>\n",
              "    </tr>\n",
              "  </tbody>\n",
              "</table>\n",
              "</div>"
            ],
            "text/plain": [
              "   ID_Patient_Care_Situation  ...  Survived_1_year\n",
              "0                      16201  ...                1\n",
              "1                       9421  ...                0\n",
              "2                      16205  ...                1\n",
              "3                       5582  ...                0\n",
              "4                      20880  ...                1\n",
              "\n",
              "[5 rows x 17 columns]"
            ]
          },
          "metadata": {
            "tags": []
          },
          "execution_count": 222
        }
      ]
    },
    {
      "cell_type": "markdown",
      "metadata": {
        "id": "w--nrjkKJ0x-"
      },
      "source": [
        "#### Feature Generation - Training Data"
      ]
    },
    {
      "cell_type": "markdown",
      "metadata": {
        "id": "I3GSUFr3JrxX"
      },
      "source": [
        "'Treated_with_drugs' column is a categorical column. In addition to single drug values, it has values representing combinations of drugs. It would be of value to know the impact of each drug alone. \n",
        "\n",
        "Split combined drug values into individual drugs and create dummies variables."
      ]
    },
    {
      "cell_type": "code",
      "metadata": {
        "id": "v-AOm5pOJrxY",
        "colab": {
          "base_uri": "https://localhost:8080/",
          "height": 202
        },
        "outputId": "81f88857-7722-4f85-8490-f082c486f150"
      },
      "source": [
        "# split all the entries separated by space and create dummy variable\n",
        "drugs_df = PP_train_df['Treated_with_drugs'].str.get_dummies(sep=' ') \n",
        "drugs_df.head()"
      ],
      "execution_count": null,
      "outputs": [
        {
          "output_type": "execute_result",
          "data": {
            "text/html": [
              "<div>\n",
              "<style scoped>\n",
              "    .dataframe tbody tr th:only-of-type {\n",
              "        vertical-align: middle;\n",
              "    }\n",
              "\n",
              "    .dataframe tbody tr th {\n",
              "        vertical-align: top;\n",
              "    }\n",
              "\n",
              "    .dataframe thead th {\n",
              "        text-align: right;\n",
              "    }\n",
              "</style>\n",
              "<table border=\"1\" class=\"dataframe\">\n",
              "  <thead>\n",
              "    <tr style=\"text-align: right;\">\n",
              "      <th></th>\n",
              "      <th>0</th>\n",
              "      <th>DX1</th>\n",
              "      <th>DX2</th>\n",
              "      <th>DX3</th>\n",
              "      <th>DX4</th>\n",
              "      <th>DX5</th>\n",
              "      <th>DX6</th>\n",
              "    </tr>\n",
              "  </thead>\n",
              "  <tbody>\n",
              "    <tr>\n",
              "      <th>0</th>\n",
              "      <td>0</td>\n",
              "      <td>0</td>\n",
              "      <td>1</td>\n",
              "      <td>0</td>\n",
              "      <td>0</td>\n",
              "      <td>0</td>\n",
              "      <td>0</td>\n",
              "    </tr>\n",
              "    <tr>\n",
              "      <th>1</th>\n",
              "      <td>0</td>\n",
              "      <td>0</td>\n",
              "      <td>0</td>\n",
              "      <td>0</td>\n",
              "      <td>0</td>\n",
              "      <td>0</td>\n",
              "      <td>1</td>\n",
              "    </tr>\n",
              "    <tr>\n",
              "      <th>2</th>\n",
              "      <td>0</td>\n",
              "      <td>0</td>\n",
              "      <td>0</td>\n",
              "      <td>0</td>\n",
              "      <td>0</td>\n",
              "      <td>0</td>\n",
              "      <td>1</td>\n",
              "    </tr>\n",
              "    <tr>\n",
              "      <th>3</th>\n",
              "      <td>0</td>\n",
              "      <td>0</td>\n",
              "      <td>0</td>\n",
              "      <td>0</td>\n",
              "      <td>0</td>\n",
              "      <td>0</td>\n",
              "      <td>1</td>\n",
              "    </tr>\n",
              "    <tr>\n",
              "      <th>4</th>\n",
              "      <td>0</td>\n",
              "      <td>1</td>\n",
              "      <td>0</td>\n",
              "      <td>0</td>\n",
              "      <td>0</td>\n",
              "      <td>0</td>\n",
              "      <td>0</td>\n",
              "    </tr>\n",
              "  </tbody>\n",
              "</table>\n",
              "</div>"
            ],
            "text/plain": [
              "   0  DX1  DX2  DX3  DX4  DX5  DX6\n",
              "0  0    0    1    0    0    0    0\n",
              "1  0    0    0    0    0    0    1\n",
              "2  0    0    0    0    0    0    1\n",
              "3  0    0    0    0    0    0    1\n",
              "4  0    1    0    0    0    0    0"
            ]
          },
          "metadata": {
            "tags": []
          },
          "execution_count": 223
        }
      ]
    },
    {
      "cell_type": "code",
      "metadata": {
        "colab": {
          "base_uri": "https://localhost:8080/",
          "height": 202
        },
        "id": "AM78O0sNs4Oo",
        "outputId": "49dda85e-e14e-4e7f-9a6d-db1fa8880579"
      },
      "source": [
        "# Rename '0' feature with meaningful name.\n",
        "drugs_df.rename(columns = {'0': 'No_Drugs'}, inplace = True)\n",
        "drugs_df.head()"
      ],
      "execution_count": null,
      "outputs": [
        {
          "output_type": "execute_result",
          "data": {
            "text/html": [
              "<div>\n",
              "<style scoped>\n",
              "    .dataframe tbody tr th:only-of-type {\n",
              "        vertical-align: middle;\n",
              "    }\n",
              "\n",
              "    .dataframe tbody tr th {\n",
              "        vertical-align: top;\n",
              "    }\n",
              "\n",
              "    .dataframe thead th {\n",
              "        text-align: right;\n",
              "    }\n",
              "</style>\n",
              "<table border=\"1\" class=\"dataframe\">\n",
              "  <thead>\n",
              "    <tr style=\"text-align: right;\">\n",
              "      <th></th>\n",
              "      <th>No_Drugs</th>\n",
              "      <th>DX1</th>\n",
              "      <th>DX2</th>\n",
              "      <th>DX3</th>\n",
              "      <th>DX4</th>\n",
              "      <th>DX5</th>\n",
              "      <th>DX6</th>\n",
              "    </tr>\n",
              "  </thead>\n",
              "  <tbody>\n",
              "    <tr>\n",
              "      <th>0</th>\n",
              "      <td>0</td>\n",
              "      <td>0</td>\n",
              "      <td>1</td>\n",
              "      <td>0</td>\n",
              "      <td>0</td>\n",
              "      <td>0</td>\n",
              "      <td>0</td>\n",
              "    </tr>\n",
              "    <tr>\n",
              "      <th>1</th>\n",
              "      <td>0</td>\n",
              "      <td>0</td>\n",
              "      <td>0</td>\n",
              "      <td>0</td>\n",
              "      <td>0</td>\n",
              "      <td>0</td>\n",
              "      <td>1</td>\n",
              "    </tr>\n",
              "    <tr>\n",
              "      <th>2</th>\n",
              "      <td>0</td>\n",
              "      <td>0</td>\n",
              "      <td>0</td>\n",
              "      <td>0</td>\n",
              "      <td>0</td>\n",
              "      <td>0</td>\n",
              "      <td>1</td>\n",
              "    </tr>\n",
              "    <tr>\n",
              "      <th>3</th>\n",
              "      <td>0</td>\n",
              "      <td>0</td>\n",
              "      <td>0</td>\n",
              "      <td>0</td>\n",
              "      <td>0</td>\n",
              "      <td>0</td>\n",
              "      <td>1</td>\n",
              "    </tr>\n",
              "    <tr>\n",
              "      <th>4</th>\n",
              "      <td>0</td>\n",
              "      <td>1</td>\n",
              "      <td>0</td>\n",
              "      <td>0</td>\n",
              "      <td>0</td>\n",
              "      <td>0</td>\n",
              "      <td>0</td>\n",
              "    </tr>\n",
              "  </tbody>\n",
              "</table>\n",
              "</div>"
            ],
            "text/plain": [
              "   No_Drugs  DX1  DX2  DX3  DX4  DX5  DX6\n",
              "0         0    0    1    0    0    0    0\n",
              "1         0    0    0    0    0    0    1\n",
              "2         0    0    0    0    0    0    1\n",
              "3         0    0    0    0    0    0    1\n",
              "4         0    1    0    0    0    0    0"
            ]
          },
          "metadata": {
            "tags": []
          },
          "execution_count": 224
        }
      ]
    },
    {
      "cell_type": "code",
      "metadata": {
        "id": "BjuqDjHLJrxb",
        "colab": {
          "base_uri": "https://localhost:8080/",
          "height": 222
        },
        "outputId": "28dd9e3b-08a6-4e95-a724-e3d43c9a8369"
      },
      "source": [
        "# concatenate the two dataframes 'drugs' and 'data'\n",
        "PP_train_df = pd.concat([PP_train_df, drugs_df], axis=1)\n",
        "\n",
        "# drop the column 'Treated_with_drugs' as its values are now represented in \n",
        "# features 0, DX1, DX2, DX3, DX4, DX5 and DX6.\n",
        "PP_train_df = PP_train_df.drop('Treated_with_drugs', axis=1)\n",
        "\n",
        "PP_train_df.head()"
      ],
      "execution_count": null,
      "outputs": [
        {
          "output_type": "execute_result",
          "data": {
            "text/html": [
              "<div>\n",
              "<style scoped>\n",
              "    .dataframe tbody tr th:only-of-type {\n",
              "        vertical-align: middle;\n",
              "    }\n",
              "\n",
              "    .dataframe tbody tr th {\n",
              "        vertical-align: top;\n",
              "    }\n",
              "\n",
              "    .dataframe thead th {\n",
              "        text-align: right;\n",
              "    }\n",
              "</style>\n",
              "<table border=\"1\" class=\"dataframe\">\n",
              "  <thead>\n",
              "    <tr style=\"text-align: right;\">\n",
              "      <th></th>\n",
              "      <th>ID_Patient_Care_Situation</th>\n",
              "      <th>Diagnosed_Condition</th>\n",
              "      <th>Patient_ID</th>\n",
              "      <th>Patient_Age</th>\n",
              "      <th>Patient_Body_Mass_Index</th>\n",
              "      <th>Patient_Smoker</th>\n",
              "      <th>Patient_Rural_Urban</th>\n",
              "      <th>A</th>\n",
              "      <th>B</th>\n",
              "      <th>C</th>\n",
              "      <th>D</th>\n",
              "      <th>E</th>\n",
              "      <th>F</th>\n",
              "      <th>Z</th>\n",
              "      <th>Number_of_prev_cond</th>\n",
              "      <th>Survived_1_year</th>\n",
              "      <th>No_Drugs</th>\n",
              "      <th>DX1</th>\n",
              "      <th>DX2</th>\n",
              "      <th>DX3</th>\n",
              "      <th>DX4</th>\n",
              "      <th>DX5</th>\n",
              "      <th>DX6</th>\n",
              "    </tr>\n",
              "  </thead>\n",
              "  <tbody>\n",
              "    <tr>\n",
              "      <th>0</th>\n",
              "      <td>16201</td>\n",
              "      <td>47</td>\n",
              "      <td>8433</td>\n",
              "      <td>60.0</td>\n",
              "      <td>21.655523</td>\n",
              "      <td>NO</td>\n",
              "      <td>URBAN</td>\n",
              "      <td>1.0</td>\n",
              "      <td>0.0</td>\n",
              "      <td>0.0</td>\n",
              "      <td>0.0</td>\n",
              "      <td>1.0</td>\n",
              "      <td>0.0</td>\n",
              "      <td>0.0</td>\n",
              "      <td>2.0</td>\n",
              "      <td>1</td>\n",
              "      <td>0</td>\n",
              "      <td>0</td>\n",
              "      <td>1</td>\n",
              "      <td>0</td>\n",
              "      <td>0</td>\n",
              "      <td>0</td>\n",
              "      <td>0</td>\n",
              "    </tr>\n",
              "    <tr>\n",
              "      <th>1</th>\n",
              "      <td>9421</td>\n",
              "      <td>3</td>\n",
              "      <td>2972</td>\n",
              "      <td>2.0</td>\n",
              "      <td>28.852743</td>\n",
              "      <td>NO</td>\n",
              "      <td>RURAL</td>\n",
              "      <td>1.0</td>\n",
              "      <td>0.0</td>\n",
              "      <td>1.0</td>\n",
              "      <td>0.0</td>\n",
              "      <td>1.0</td>\n",
              "      <td>0.0</td>\n",
              "      <td>0.0</td>\n",
              "      <td>3.0</td>\n",
              "      <td>0</td>\n",
              "      <td>0</td>\n",
              "      <td>0</td>\n",
              "      <td>0</td>\n",
              "      <td>0</td>\n",
              "      <td>0</td>\n",
              "      <td>0</td>\n",
              "      <td>1</td>\n",
              "    </tr>\n",
              "    <tr>\n",
              "      <th>2</th>\n",
              "      <td>16205</td>\n",
              "      <td>7</td>\n",
              "      <td>8608</td>\n",
              "      <td>20.0</td>\n",
              "      <td>26.179725</td>\n",
              "      <td>NO</td>\n",
              "      <td>RURAL</td>\n",
              "      <td>1.0</td>\n",
              "      <td>0.0</td>\n",
              "      <td>0.0</td>\n",
              "      <td>0.0</td>\n",
              "      <td>1.0</td>\n",
              "      <td>0.0</td>\n",
              "      <td>0.0</td>\n",
              "      <td>2.0</td>\n",
              "      <td>1</td>\n",
              "      <td>0</td>\n",
              "      <td>0</td>\n",
              "      <td>0</td>\n",
              "      <td>0</td>\n",
              "      <td>0</td>\n",
              "      <td>0</td>\n",
              "      <td>1</td>\n",
              "    </tr>\n",
              "    <tr>\n",
              "      <th>3</th>\n",
              "      <td>5582</td>\n",
              "      <td>31</td>\n",
              "      <td>10074</td>\n",
              "      <td>8.0</td>\n",
              "      <td>22.638945</td>\n",
              "      <td>NO</td>\n",
              "      <td>RURAL</td>\n",
              "      <td>1.0</td>\n",
              "      <td>0.0</td>\n",
              "      <td>0.0</td>\n",
              "      <td>0.0</td>\n",
              "      <td>1.0</td>\n",
              "      <td>0.0</td>\n",
              "      <td>0.0</td>\n",
              "      <td>2.0</td>\n",
              "      <td>0</td>\n",
              "      <td>0</td>\n",
              "      <td>0</td>\n",
              "      <td>0</td>\n",
              "      <td>0</td>\n",
              "      <td>0</td>\n",
              "      <td>0</td>\n",
              "      <td>1</td>\n",
              "    </tr>\n",
              "    <tr>\n",
              "      <th>4</th>\n",
              "      <td>20880</td>\n",
              "      <td>43</td>\n",
              "      <td>7462</td>\n",
              "      <td>53.0</td>\n",
              "      <td>21.326131</td>\n",
              "      <td>NO</td>\n",
              "      <td>RURAL</td>\n",
              "      <td>1.0</td>\n",
              "      <td>0.0</td>\n",
              "      <td>0.0</td>\n",
              "      <td>0.0</td>\n",
              "      <td>0.0</td>\n",
              "      <td>0.0</td>\n",
              "      <td>0.0</td>\n",
              "      <td>1.0</td>\n",
              "      <td>1</td>\n",
              "      <td>0</td>\n",
              "      <td>1</td>\n",
              "      <td>0</td>\n",
              "      <td>0</td>\n",
              "      <td>0</td>\n",
              "      <td>0</td>\n",
              "      <td>0</td>\n",
              "    </tr>\n",
              "  </tbody>\n",
              "</table>\n",
              "</div>"
            ],
            "text/plain": [
              "   ID_Patient_Care_Situation  Diagnosed_Condition  Patient_ID  ...  DX4  DX5 DX6\n",
              "0                      16201                   47        8433  ...    0    0   0\n",
              "1                       9421                    3        2972  ...    0    0   1\n",
              "2                      16205                    7        8608  ...    0    0   1\n",
              "3                       5582                   31       10074  ...    0    0   1\n",
              "4                      20880                   43        7462  ...    0    0   0\n",
              "\n",
              "[5 rows x 23 columns]"
            ]
          },
          "metadata": {
            "tags": []
          },
          "execution_count": 225
        }
      ]
    },
    {
      "cell_type": "code",
      "metadata": {
        "id": "j09NCVc67SYx",
        "colab": {
          "base_uri": "https://localhost:8080/"
        },
        "outputId": "3fb6825d-3fed-4858-8f1a-ffbcfeff3eeb"
      },
      "source": [
        "PP_train_df.Patient_Smoker.value_counts()"
      ],
      "execution_count": null,
      "outputs": [
        {
          "output_type": "execute_result",
          "data": {
            "text/plain": [
              "NO         13214\n",
              "YES         9875\n",
              "UNKNOWN        8\n",
              "Name: Patient_Smoker, dtype: int64"
            ]
          },
          "metadata": {
            "tags": []
          },
          "execution_count": 226
        }
      ]
    },
    {
      "cell_type": "markdown",
      "metadata": {
        "id": "6ibzst3-Jrxe"
      },
      "source": [
        "'Patient_Smoker' is also a categorical column. To create dummies for it 'Unknown' needs to be addressed. Fill with Mode ('NO')"
      ]
    },
    {
      "cell_type": "markdown",
      "metadata": {
        "id": "1MhbR1t8Jrxh"
      },
      "source": [
        "There are several ways to deal with the category 'Unknown'. In this situation the safest thing is to consider it as missing data and replace those values '0' rather than the mode value of the column."
      ]
    },
    {
      "cell_type": "code",
      "metadata": {
        "id": "PfgZOPPe-nJP",
        "colab": {
          "base_uri": "https://localhost:8080/"
        },
        "outputId": "75b4f55f-b6bd-477d-c302-1e6419039d59"
      },
      "source": [
        "print(PP_train_df[(PP_train_df.Patient_Smoker == 'UNKNOWN')][\"Patient_ID\"])"
      ],
      "execution_count": null,
      "outputs": [
        {
          "output_type": "stream",
          "text": [
            "1239     12508\n",
            "2137     12509\n",
            "3346     12511\n",
            "6257     12512\n",
            "12863    12510\n",
            "13192    12514\n",
            "14574    12504\n",
            "19669    12505\n",
            "Name: Patient_ID, dtype: int64\n"
          ],
          "name": "stdout"
        }
      ]
    },
    {
      "cell_type": "code",
      "metadata": {
        "id": "ecWBr4-B-9_T",
        "colab": {
          "base_uri": "https://localhost:8080/",
          "height": 314
        },
        "outputId": "1649b8ae-85fb-40a7-c6a9-a300b0e60c93"
      },
      "source": [
        "# Check for other records for those patients whose smoker status is unknown\n",
        "PP_train_df[(PP_train_df.Patient_ID == 12508) | (PP_train_df.Patient_ID == 12509)\n",
        "| (PP_train_df.Patient_ID == 12511) | (PP_train_df.Patient_ID == 12512) \n",
        "| (PP_train_df.Patient_ID == 12510) | (PP_train_df.Patient_ID == 12514)\n",
        "| (PP_train_df.Patient_ID == 12504) | (PP_train_df.Patient_ID == 12505)]"
      ],
      "execution_count": null,
      "outputs": [
        {
          "output_type": "execute_result",
          "data": {
            "text/html": [
              "<div>\n",
              "<style scoped>\n",
              "    .dataframe tbody tr th:only-of-type {\n",
              "        vertical-align: middle;\n",
              "    }\n",
              "\n",
              "    .dataframe tbody tr th {\n",
              "        vertical-align: top;\n",
              "    }\n",
              "\n",
              "    .dataframe thead th {\n",
              "        text-align: right;\n",
              "    }\n",
              "</style>\n",
              "<table border=\"1\" class=\"dataframe\">\n",
              "  <thead>\n",
              "    <tr style=\"text-align: right;\">\n",
              "      <th></th>\n",
              "      <th>ID_Patient_Care_Situation</th>\n",
              "      <th>Diagnosed_Condition</th>\n",
              "      <th>Patient_ID</th>\n",
              "      <th>Patient_Age</th>\n",
              "      <th>Patient_Body_Mass_Index</th>\n",
              "      <th>Patient_Smoker</th>\n",
              "      <th>Patient_Rural_Urban</th>\n",
              "      <th>A</th>\n",
              "      <th>B</th>\n",
              "      <th>C</th>\n",
              "      <th>D</th>\n",
              "      <th>E</th>\n",
              "      <th>F</th>\n",
              "      <th>Z</th>\n",
              "      <th>Number_of_prev_cond</th>\n",
              "      <th>Survived_1_year</th>\n",
              "      <th>No_Drugs</th>\n",
              "      <th>DX1</th>\n",
              "      <th>DX2</th>\n",
              "      <th>DX3</th>\n",
              "      <th>DX4</th>\n",
              "      <th>DX5</th>\n",
              "      <th>DX6</th>\n",
              "    </tr>\n",
              "  </thead>\n",
              "  <tbody>\n",
              "    <tr>\n",
              "      <th>1239</th>\n",
              "      <td>33007</td>\n",
              "      <td>0</td>\n",
              "      <td>12508</td>\n",
              "      <td>33.235831</td>\n",
              "      <td>1.4606</td>\n",
              "      <td>UNKNOWN</td>\n",
              "      <td>RURAL</td>\n",
              "      <td>0.0</td>\n",
              "      <td>0.0</td>\n",
              "      <td>0.0</td>\n",
              "      <td>0.0</td>\n",
              "      <td>0.0</td>\n",
              "      <td>0.0</td>\n",
              "      <td>1.0</td>\n",
              "      <td>1.0</td>\n",
              "      <td>1</td>\n",
              "      <td>1</td>\n",
              "      <td>0</td>\n",
              "      <td>0</td>\n",
              "      <td>0</td>\n",
              "      <td>0</td>\n",
              "      <td>0</td>\n",
              "      <td>0</td>\n",
              "    </tr>\n",
              "    <tr>\n",
              "      <th>2137</th>\n",
              "      <td>33008</td>\n",
              "      <td>0</td>\n",
              "      <td>12509</td>\n",
              "      <td>33.235831</td>\n",
              "      <td>1.2925</td>\n",
              "      <td>UNKNOWN</td>\n",
              "      <td>RURAL</td>\n",
              "      <td>0.0</td>\n",
              "      <td>0.0</td>\n",
              "      <td>0.0</td>\n",
              "      <td>0.0</td>\n",
              "      <td>0.0</td>\n",
              "      <td>0.0</td>\n",
              "      <td>1.0</td>\n",
              "      <td>1.0</td>\n",
              "      <td>1</td>\n",
              "      <td>1</td>\n",
              "      <td>0</td>\n",
              "      <td>0</td>\n",
              "      <td>0</td>\n",
              "      <td>0</td>\n",
              "      <td>0</td>\n",
              "      <td>0</td>\n",
              "    </tr>\n",
              "    <tr>\n",
              "      <th>3346</th>\n",
              "      <td>33010</td>\n",
              "      <td>0</td>\n",
              "      <td>12511</td>\n",
              "      <td>33.235831</td>\n",
              "      <td>1.5701</td>\n",
              "      <td>UNKNOWN</td>\n",
              "      <td>RURAL</td>\n",
              "      <td>0.0</td>\n",
              "      <td>0.0</td>\n",
              "      <td>0.0</td>\n",
              "      <td>0.0</td>\n",
              "      <td>0.0</td>\n",
              "      <td>0.0</td>\n",
              "      <td>1.0</td>\n",
              "      <td>1.0</td>\n",
              "      <td>1</td>\n",
              "      <td>1</td>\n",
              "      <td>0</td>\n",
              "      <td>0</td>\n",
              "      <td>0</td>\n",
              "      <td>0</td>\n",
              "      <td>0</td>\n",
              "      <td>0</td>\n",
              "    </tr>\n",
              "    <tr>\n",
              "      <th>6257</th>\n",
              "      <td>33011</td>\n",
              "      <td>0</td>\n",
              "      <td>12512</td>\n",
              "      <td>33.235831</td>\n",
              "      <td>1.9896</td>\n",
              "      <td>UNKNOWN</td>\n",
              "      <td>RURAL</td>\n",
              "      <td>0.0</td>\n",
              "      <td>0.0</td>\n",
              "      <td>0.0</td>\n",
              "      <td>0.0</td>\n",
              "      <td>0.0</td>\n",
              "      <td>0.0</td>\n",
              "      <td>1.0</td>\n",
              "      <td>1.0</td>\n",
              "      <td>1</td>\n",
              "      <td>1</td>\n",
              "      <td>0</td>\n",
              "      <td>0</td>\n",
              "      <td>0</td>\n",
              "      <td>0</td>\n",
              "      <td>0</td>\n",
              "      <td>0</td>\n",
              "    </tr>\n",
              "    <tr>\n",
              "      <th>12863</th>\n",
              "      <td>33009</td>\n",
              "      <td>0</td>\n",
              "      <td>12510</td>\n",
              "      <td>33.235831</td>\n",
              "      <td>1.1450</td>\n",
              "      <td>UNKNOWN</td>\n",
              "      <td>RURAL</td>\n",
              "      <td>0.0</td>\n",
              "      <td>0.0</td>\n",
              "      <td>0.0</td>\n",
              "      <td>0.0</td>\n",
              "      <td>0.0</td>\n",
              "      <td>0.0</td>\n",
              "      <td>1.0</td>\n",
              "      <td>1.0</td>\n",
              "      <td>1</td>\n",
              "      <td>1</td>\n",
              "      <td>0</td>\n",
              "      <td>0</td>\n",
              "      <td>0</td>\n",
              "      <td>0</td>\n",
              "      <td>0</td>\n",
              "      <td>0</td>\n",
              "    </tr>\n",
              "    <tr>\n",
              "      <th>13192</th>\n",
              "      <td>33013</td>\n",
              "      <td>0</td>\n",
              "      <td>12514</td>\n",
              "      <td>33.235831</td>\n",
              "      <td>1.0893</td>\n",
              "      <td>UNKNOWN</td>\n",
              "      <td>RURAL</td>\n",
              "      <td>0.0</td>\n",
              "      <td>0.0</td>\n",
              "      <td>0.0</td>\n",
              "      <td>0.0</td>\n",
              "      <td>0.0</td>\n",
              "      <td>0.0</td>\n",
              "      <td>1.0</td>\n",
              "      <td>1.0</td>\n",
              "      <td>1</td>\n",
              "      <td>1</td>\n",
              "      <td>0</td>\n",
              "      <td>0</td>\n",
              "      <td>0</td>\n",
              "      <td>0</td>\n",
              "      <td>0</td>\n",
              "      <td>0</td>\n",
              "    </tr>\n",
              "    <tr>\n",
              "      <th>14574</th>\n",
              "      <td>33003</td>\n",
              "      <td>0</td>\n",
              "      <td>12504</td>\n",
              "      <td>33.235831</td>\n",
              "      <td>1.8282</td>\n",
              "      <td>UNKNOWN</td>\n",
              "      <td>RURAL</td>\n",
              "      <td>0.0</td>\n",
              "      <td>0.0</td>\n",
              "      <td>0.0</td>\n",
              "      <td>0.0</td>\n",
              "      <td>0.0</td>\n",
              "      <td>0.0</td>\n",
              "      <td>1.0</td>\n",
              "      <td>1.0</td>\n",
              "      <td>1</td>\n",
              "      <td>1</td>\n",
              "      <td>0</td>\n",
              "      <td>0</td>\n",
              "      <td>0</td>\n",
              "      <td>0</td>\n",
              "      <td>0</td>\n",
              "      <td>0</td>\n",
              "    </tr>\n",
              "    <tr>\n",
              "      <th>19669</th>\n",
              "      <td>33004</td>\n",
              "      <td>0</td>\n",
              "      <td>12505</td>\n",
              "      <td>33.235831</td>\n",
              "      <td>1.9290</td>\n",
              "      <td>UNKNOWN</td>\n",
              "      <td>RURAL</td>\n",
              "      <td>0.0</td>\n",
              "      <td>0.0</td>\n",
              "      <td>0.0</td>\n",
              "      <td>0.0</td>\n",
              "      <td>0.0</td>\n",
              "      <td>0.0</td>\n",
              "      <td>1.0</td>\n",
              "      <td>1.0</td>\n",
              "      <td>1</td>\n",
              "      <td>1</td>\n",
              "      <td>0</td>\n",
              "      <td>0</td>\n",
              "      <td>0</td>\n",
              "      <td>0</td>\n",
              "      <td>0</td>\n",
              "      <td>0</td>\n",
              "    </tr>\n",
              "  </tbody>\n",
              "</table>\n",
              "</div>"
            ],
            "text/plain": [
              "       ID_Patient_Care_Situation  Diagnosed_Condition  ...  DX5  DX6\n",
              "1239                       33007                    0  ...    0    0\n",
              "2137                       33008                    0  ...    0    0\n",
              "3346                       33010                    0  ...    0    0\n",
              "6257                       33011                    0  ...    0    0\n",
              "12863                      33009                    0  ...    0    0\n",
              "13192                      33013                    0  ...    0    0\n",
              "14574                      33003                    0  ...    0    0\n",
              "19669                      33004                    0  ...    0    0\n",
              "\n",
              "[8 rows x 23 columns]"
            ]
          },
          "metadata": {
            "tags": []
          },
          "execution_count": 228
        }
      ]
    },
    {
      "cell_type": "markdown",
      "metadata": {
        "id": "5ADfqHJMFJpI"
      },
      "source": [
        "There are no other entries to assist with the information for those patients."
      ]
    },
    {
      "cell_type": "code",
      "metadata": {
        "id": "WNUrQdtaJrxe",
        "colab": {
          "base_uri": "https://localhost:8080/"
        },
        "outputId": "00bf4555-d242-412e-8c7b-b21c5b23f902"
      },
      "source": [
        "PP_train_df.Patient_Smoker.value_counts()"
      ],
      "execution_count": null,
      "outputs": [
        {
          "output_type": "execute_result",
          "data": {
            "text/plain": [
              "NO         13214\n",
              "YES         9875\n",
              "UNKNOWN        8\n",
              "Name: Patient_Smoker, dtype: int64"
            ]
          },
          "metadata": {
            "tags": []
          },
          "execution_count": 229
        }
      ]
    },
    {
      "cell_type": "markdown",
      "metadata": {
        "id": "NHQTMiK2sQSd"
      },
      "source": [
        "#### Data Encoding - Training Data"
      ]
    },
    {
      "cell_type": "markdown",
      "metadata": {
        "id": "UhmlwNQTJrxj"
      },
      "source": [
        "Convert the remaining categorical column to numerical using get_dummies() function of pandas (i.e. one hot encoding)."
      ]
    },
    {
      "cell_type": "code",
      "metadata": {
        "id": "VxjcjCz9Jrxk"
      },
      "source": [
        "PP_train_df = pd.get_dummies(PP_train_df, columns=['Patient_Smoker', \n",
        "                                                   'Patient_Rural_Urban'])"
      ],
      "execution_count": null,
      "outputs": []
    },
    {
      "cell_type": "code",
      "metadata": {
        "id": "m7XaH5YJJrxn",
        "colab": {
          "base_uri": "https://localhost:8080/",
          "height": 222
        },
        "outputId": "d1860872-3d03-4a42-b7ec-29662c4d3ca2"
      },
      "source": [
        "PP_train_df.head()"
      ],
      "execution_count": null,
      "outputs": [
        {
          "output_type": "execute_result",
          "data": {
            "text/html": [
              "<div>\n",
              "<style scoped>\n",
              "    .dataframe tbody tr th:only-of-type {\n",
              "        vertical-align: middle;\n",
              "    }\n",
              "\n",
              "    .dataframe tbody tr th {\n",
              "        vertical-align: top;\n",
              "    }\n",
              "\n",
              "    .dataframe thead th {\n",
              "        text-align: right;\n",
              "    }\n",
              "</style>\n",
              "<table border=\"1\" class=\"dataframe\">\n",
              "  <thead>\n",
              "    <tr style=\"text-align: right;\">\n",
              "      <th></th>\n",
              "      <th>ID_Patient_Care_Situation</th>\n",
              "      <th>Diagnosed_Condition</th>\n",
              "      <th>Patient_ID</th>\n",
              "      <th>Patient_Age</th>\n",
              "      <th>Patient_Body_Mass_Index</th>\n",
              "      <th>A</th>\n",
              "      <th>B</th>\n",
              "      <th>C</th>\n",
              "      <th>D</th>\n",
              "      <th>E</th>\n",
              "      <th>F</th>\n",
              "      <th>Z</th>\n",
              "      <th>Number_of_prev_cond</th>\n",
              "      <th>Survived_1_year</th>\n",
              "      <th>No_Drugs</th>\n",
              "      <th>DX1</th>\n",
              "      <th>DX2</th>\n",
              "      <th>DX3</th>\n",
              "      <th>DX4</th>\n",
              "      <th>DX5</th>\n",
              "      <th>DX6</th>\n",
              "      <th>Patient_Smoker_NO</th>\n",
              "      <th>Patient_Smoker_UNKNOWN</th>\n",
              "      <th>Patient_Smoker_YES</th>\n",
              "      <th>Patient_Rural_Urban_RURAL</th>\n",
              "      <th>Patient_Rural_Urban_URBAN</th>\n",
              "    </tr>\n",
              "  </thead>\n",
              "  <tbody>\n",
              "    <tr>\n",
              "      <th>0</th>\n",
              "      <td>16201</td>\n",
              "      <td>47</td>\n",
              "      <td>8433</td>\n",
              "      <td>60.0</td>\n",
              "      <td>21.655523</td>\n",
              "      <td>1.0</td>\n",
              "      <td>0.0</td>\n",
              "      <td>0.0</td>\n",
              "      <td>0.0</td>\n",
              "      <td>1.0</td>\n",
              "      <td>0.0</td>\n",
              "      <td>0.0</td>\n",
              "      <td>2.0</td>\n",
              "      <td>1</td>\n",
              "      <td>0</td>\n",
              "      <td>0</td>\n",
              "      <td>1</td>\n",
              "      <td>0</td>\n",
              "      <td>0</td>\n",
              "      <td>0</td>\n",
              "      <td>0</td>\n",
              "      <td>1</td>\n",
              "      <td>0</td>\n",
              "      <td>0</td>\n",
              "      <td>0</td>\n",
              "      <td>1</td>\n",
              "    </tr>\n",
              "    <tr>\n",
              "      <th>1</th>\n",
              "      <td>9421</td>\n",
              "      <td>3</td>\n",
              "      <td>2972</td>\n",
              "      <td>2.0</td>\n",
              "      <td>28.852743</td>\n",
              "      <td>1.0</td>\n",
              "      <td>0.0</td>\n",
              "      <td>1.0</td>\n",
              "      <td>0.0</td>\n",
              "      <td>1.0</td>\n",
              "      <td>0.0</td>\n",
              "      <td>0.0</td>\n",
              "      <td>3.0</td>\n",
              "      <td>0</td>\n",
              "      <td>0</td>\n",
              "      <td>0</td>\n",
              "      <td>0</td>\n",
              "      <td>0</td>\n",
              "      <td>0</td>\n",
              "      <td>0</td>\n",
              "      <td>1</td>\n",
              "      <td>1</td>\n",
              "      <td>0</td>\n",
              "      <td>0</td>\n",
              "      <td>1</td>\n",
              "      <td>0</td>\n",
              "    </tr>\n",
              "    <tr>\n",
              "      <th>2</th>\n",
              "      <td>16205</td>\n",
              "      <td>7</td>\n",
              "      <td>8608</td>\n",
              "      <td>20.0</td>\n",
              "      <td>26.179725</td>\n",
              "      <td>1.0</td>\n",
              "      <td>0.0</td>\n",
              "      <td>0.0</td>\n",
              "      <td>0.0</td>\n",
              "      <td>1.0</td>\n",
              "      <td>0.0</td>\n",
              "      <td>0.0</td>\n",
              "      <td>2.0</td>\n",
              "      <td>1</td>\n",
              "      <td>0</td>\n",
              "      <td>0</td>\n",
              "      <td>0</td>\n",
              "      <td>0</td>\n",
              "      <td>0</td>\n",
              "      <td>0</td>\n",
              "      <td>1</td>\n",
              "      <td>1</td>\n",
              "      <td>0</td>\n",
              "      <td>0</td>\n",
              "      <td>1</td>\n",
              "      <td>0</td>\n",
              "    </tr>\n",
              "    <tr>\n",
              "      <th>3</th>\n",
              "      <td>5582</td>\n",
              "      <td>31</td>\n",
              "      <td>10074</td>\n",
              "      <td>8.0</td>\n",
              "      <td>22.638945</td>\n",
              "      <td>1.0</td>\n",
              "      <td>0.0</td>\n",
              "      <td>0.0</td>\n",
              "      <td>0.0</td>\n",
              "      <td>1.0</td>\n",
              "      <td>0.0</td>\n",
              "      <td>0.0</td>\n",
              "      <td>2.0</td>\n",
              "      <td>0</td>\n",
              "      <td>0</td>\n",
              "      <td>0</td>\n",
              "      <td>0</td>\n",
              "      <td>0</td>\n",
              "      <td>0</td>\n",
              "      <td>0</td>\n",
              "      <td>1</td>\n",
              "      <td>1</td>\n",
              "      <td>0</td>\n",
              "      <td>0</td>\n",
              "      <td>1</td>\n",
              "      <td>0</td>\n",
              "    </tr>\n",
              "    <tr>\n",
              "      <th>4</th>\n",
              "      <td>20880</td>\n",
              "      <td>43</td>\n",
              "      <td>7462</td>\n",
              "      <td>53.0</td>\n",
              "      <td>21.326131</td>\n",
              "      <td>1.0</td>\n",
              "      <td>0.0</td>\n",
              "      <td>0.0</td>\n",
              "      <td>0.0</td>\n",
              "      <td>0.0</td>\n",
              "      <td>0.0</td>\n",
              "      <td>0.0</td>\n",
              "      <td>1.0</td>\n",
              "      <td>1</td>\n",
              "      <td>0</td>\n",
              "      <td>1</td>\n",
              "      <td>0</td>\n",
              "      <td>0</td>\n",
              "      <td>0</td>\n",
              "      <td>0</td>\n",
              "      <td>0</td>\n",
              "      <td>1</td>\n",
              "      <td>0</td>\n",
              "      <td>0</td>\n",
              "      <td>1</td>\n",
              "      <td>0</td>\n",
              "    </tr>\n",
              "  </tbody>\n",
              "</table>\n",
              "</div>"
            ],
            "text/plain": [
              "   ID_Patient_Care_Situation  ...  Patient_Rural_Urban_URBAN\n",
              "0                      16201  ...                          1\n",
              "1                       9421  ...                          0\n",
              "2                      16205  ...                          0\n",
              "3                       5582  ...                          0\n",
              "4                      20880  ...                          0\n",
              "\n",
              "[5 rows x 26 columns]"
            ]
          },
          "metadata": {
            "tags": []
          },
          "execution_count": 231
        }
      ]
    },
    {
      "cell_type": "code",
      "metadata": {
        "id": "KOHALjgfJrxp",
        "colab": {
          "base_uri": "https://localhost:8080/"
        },
        "outputId": "95a162b2-6e41-4275-f7a7-14ab829ae36b"
      },
      "source": [
        "PP_train_df.info()"
      ],
      "execution_count": null,
      "outputs": [
        {
          "output_type": "stream",
          "text": [
            "<class 'pandas.core.frame.DataFrame'>\n",
            "Int64Index: 23097 entries, 0 to 23096\n",
            "Data columns (total 26 columns):\n",
            " #   Column                     Non-Null Count  Dtype  \n",
            "---  ------                     --------------  -----  \n",
            " 0   ID_Patient_Care_Situation  23097 non-null  int64  \n",
            " 1   Diagnosed_Condition        23097 non-null  int64  \n",
            " 2   Patient_ID                 23097 non-null  int64  \n",
            " 3   Patient_Age                23097 non-null  float64\n",
            " 4   Patient_Body_Mass_Index    23097 non-null  float64\n",
            " 5   A                          23097 non-null  float64\n",
            " 6   B                          23097 non-null  float64\n",
            " 7   C                          23097 non-null  float64\n",
            " 8   D                          23097 non-null  float64\n",
            " 9   E                          23097 non-null  float64\n",
            " 10  F                          23097 non-null  float64\n",
            " 11  Z                          23097 non-null  float64\n",
            " 12  Number_of_prev_cond        23097 non-null  float64\n",
            " 13  Survived_1_year            23097 non-null  int64  \n",
            " 14  No_Drugs                   23097 non-null  int64  \n",
            " 15  DX1                        23097 non-null  int64  \n",
            " 16  DX2                        23097 non-null  int64  \n",
            " 17  DX3                        23097 non-null  int64  \n",
            " 18  DX4                        23097 non-null  int64  \n",
            " 19  DX5                        23097 non-null  int64  \n",
            " 20  DX6                        23097 non-null  int64  \n",
            " 21  Patient_Smoker_NO          23097 non-null  uint8  \n",
            " 22  Patient_Smoker_UNKNOWN     23097 non-null  uint8  \n",
            " 23  Patient_Smoker_YES         23097 non-null  uint8  \n",
            " 24  Patient_Rural_Urban_RURAL  23097 non-null  uint8  \n",
            " 25  Patient_Rural_Urban_URBAN  23097 non-null  uint8  \n",
            "dtypes: float64(10), int64(11), uint8(5)\n",
            "memory usage: 4.0 MB\n"
          ],
          "name": "stdout"
        }
      ]
    },
    {
      "cell_type": "code",
      "metadata": {
        "colab": {
          "base_uri": "https://localhost:8080/"
        },
        "id": "-2qqnpMy8fdT",
        "outputId": "f406d4de-3136-452a-8cf0-c8468673a8ec"
      },
      "source": [
        "PP_train_df.select_dtypes(np.int64).columns.tolist"
      ],
      "execution_count": null,
      "outputs": [
        {
          "output_type": "execute_result",
          "data": {
            "text/plain": [
              "<bound method IndexOpsMixin.tolist of Index(['ID_Patient_Care_Situation', 'Diagnosed_Condition', 'Patient_ID',\n",
              "       'Survived_1_year', 'No_Drugs', 'DX1', 'DX2', 'DX3', 'DX4', 'DX5',\n",
              "       'DX6'],\n",
              "      dtype='object')>"
            ]
          },
          "metadata": {
            "tags": []
          },
          "execution_count": 233
        }
      ]
    },
    {
      "cell_type": "markdown",
      "metadata": {
        "id": "sXzW25MBKR2z"
      },
      "source": [
        "Change Datatype of the following columns to 'uint8' from 'float64' or 'int64' accordingly:\\\n",
        "'Diagnosed_Condition' \\\n",
        "'Patient_Age' \\\n",
        "'A'\\\n",
        "'B'\\\n",
        "'C'\\\n",
        "'D'\\\n",
        "'E'\\\n",
        "'F'\\\n",
        "'Z'\\\n",
        "'Number_of_prev_cond'\\\n",
        "'Survived_1_year'\\\n",
        "'0'\\\n",
        "'DX1'\\\n",
        "'DX2'\\\n",
        "'DX3'\\\n",
        "'DX4'\\\n",
        "'DX5'\\\n",
        "'DX6'"
      ]
    },
    {
      "cell_type": "code",
      "metadata": {
        "id": "COaSjwg-ASEN"
      },
      "source": [
        "PP_train_df = PP_train_df.astype({'Diagnosed_Condition' : 'uint8',\n",
        "                                  'Patient_Age' : 'uint8', 'A' : 'uint8',\n",
        "                                  'B' : 'uint8', 'C' : 'uint8', 'D' : 'uint8',\n",
        "                                  'E' : 'uint8', 'F' : 'uint8', 'Z' : 'uint8',\n",
        "                                  'Number_of_prev_cond' : 'uint8',\n",
        "                                  'Survived_1_year' : 'uint8', 'No_Drugs' : 'uint8',\n",
        "                                  'DX1' : 'uint8', 'DX2' : 'uint8',\n",
        "                                  'DX3' : 'uint8', 'DX4' : 'uint8',\n",
        "                                  'DX5' : 'uint8', 'DX6' : 'uint8'}) "
      ],
      "execution_count": null,
      "outputs": []
    },
    {
      "cell_type": "code",
      "metadata": {
        "colab": {
          "base_uri": "https://localhost:8080/"
        },
        "id": "thFlekmIBCIO",
        "outputId": "d29dad58-0b7a-4b2a-b160-1795adc3b3ea"
      },
      "source": [
        "PP_train_df.info()"
      ],
      "execution_count": null,
      "outputs": [
        {
          "output_type": "stream",
          "text": [
            "<class 'pandas.core.frame.DataFrame'>\n",
            "Int64Index: 23097 entries, 0 to 23096\n",
            "Data columns (total 26 columns):\n",
            " #   Column                     Non-Null Count  Dtype  \n",
            "---  ------                     --------------  -----  \n",
            " 0   ID_Patient_Care_Situation  23097 non-null  int64  \n",
            " 1   Diagnosed_Condition        23097 non-null  uint8  \n",
            " 2   Patient_ID                 23097 non-null  int64  \n",
            " 3   Patient_Age                23097 non-null  uint8  \n",
            " 4   Patient_Body_Mass_Index    23097 non-null  float64\n",
            " 5   A                          23097 non-null  uint8  \n",
            " 6   B                          23097 non-null  uint8  \n",
            " 7   C                          23097 non-null  uint8  \n",
            " 8   D                          23097 non-null  uint8  \n",
            " 9   E                          23097 non-null  uint8  \n",
            " 10  F                          23097 non-null  uint8  \n",
            " 11  Z                          23097 non-null  uint8  \n",
            " 12  Number_of_prev_cond        23097 non-null  uint8  \n",
            " 13  Survived_1_year            23097 non-null  uint8  \n",
            " 14  No_Drugs                   23097 non-null  uint8  \n",
            " 15  DX1                        23097 non-null  uint8  \n",
            " 16  DX2                        23097 non-null  uint8  \n",
            " 17  DX3                        23097 non-null  uint8  \n",
            " 18  DX4                        23097 non-null  uint8  \n",
            " 19  DX5                        23097 non-null  uint8  \n",
            " 20  DX6                        23097 non-null  uint8  \n",
            " 21  Patient_Smoker_NO          23097 non-null  uint8  \n",
            " 22  Patient_Smoker_UNKNOWN     23097 non-null  uint8  \n",
            " 23  Patient_Smoker_YES         23097 non-null  uint8  \n",
            " 24  Patient_Rural_Urban_RURAL  23097 non-null  uint8  \n",
            " 25  Patient_Rural_Urban_URBAN  23097 non-null  uint8  \n",
            "dtypes: float64(1), int64(2), uint8(23)\n",
            "memory usage: 1.2 MB\n"
          ],
          "name": "stdout"
        }
      ]
    },
    {
      "cell_type": "markdown",
      "metadata": {
        "id": "rleHbKtoJrxs"
      },
      "source": [
        "There are now no missing values and all the data is of an appropriate numerical data type."
      ]
    },
    {
      "cell_type": "code",
      "metadata": {
        "colab": {
          "base_uri": "https://localhost:8080/",
          "height": 222
        },
        "id": "1KpDBXGhGINU",
        "outputId": "131532b3-777d-47e8-a10e-cafb5bdc2901"
      },
      "source": [
        "PP_train_df.head()"
      ],
      "execution_count": null,
      "outputs": [
        {
          "output_type": "execute_result",
          "data": {
            "text/html": [
              "<div>\n",
              "<style scoped>\n",
              "    .dataframe tbody tr th:only-of-type {\n",
              "        vertical-align: middle;\n",
              "    }\n",
              "\n",
              "    .dataframe tbody tr th {\n",
              "        vertical-align: top;\n",
              "    }\n",
              "\n",
              "    .dataframe thead th {\n",
              "        text-align: right;\n",
              "    }\n",
              "</style>\n",
              "<table border=\"1\" class=\"dataframe\">\n",
              "  <thead>\n",
              "    <tr style=\"text-align: right;\">\n",
              "      <th></th>\n",
              "      <th>ID_Patient_Care_Situation</th>\n",
              "      <th>Diagnosed_Condition</th>\n",
              "      <th>Patient_ID</th>\n",
              "      <th>Patient_Age</th>\n",
              "      <th>Patient_Body_Mass_Index</th>\n",
              "      <th>A</th>\n",
              "      <th>B</th>\n",
              "      <th>C</th>\n",
              "      <th>D</th>\n",
              "      <th>E</th>\n",
              "      <th>F</th>\n",
              "      <th>Z</th>\n",
              "      <th>Number_of_prev_cond</th>\n",
              "      <th>Survived_1_year</th>\n",
              "      <th>No_Drugs</th>\n",
              "      <th>DX1</th>\n",
              "      <th>DX2</th>\n",
              "      <th>DX3</th>\n",
              "      <th>DX4</th>\n",
              "      <th>DX5</th>\n",
              "      <th>DX6</th>\n",
              "      <th>Patient_Smoker_NO</th>\n",
              "      <th>Patient_Smoker_UNKNOWN</th>\n",
              "      <th>Patient_Smoker_YES</th>\n",
              "      <th>Patient_Rural_Urban_RURAL</th>\n",
              "      <th>Patient_Rural_Urban_URBAN</th>\n",
              "    </tr>\n",
              "  </thead>\n",
              "  <tbody>\n",
              "    <tr>\n",
              "      <th>0</th>\n",
              "      <td>16201</td>\n",
              "      <td>47</td>\n",
              "      <td>8433</td>\n",
              "      <td>60</td>\n",
              "      <td>21.655523</td>\n",
              "      <td>1</td>\n",
              "      <td>0</td>\n",
              "      <td>0</td>\n",
              "      <td>0</td>\n",
              "      <td>1</td>\n",
              "      <td>0</td>\n",
              "      <td>0</td>\n",
              "      <td>2</td>\n",
              "      <td>1</td>\n",
              "      <td>0</td>\n",
              "      <td>0</td>\n",
              "      <td>1</td>\n",
              "      <td>0</td>\n",
              "      <td>0</td>\n",
              "      <td>0</td>\n",
              "      <td>0</td>\n",
              "      <td>1</td>\n",
              "      <td>0</td>\n",
              "      <td>0</td>\n",
              "      <td>0</td>\n",
              "      <td>1</td>\n",
              "    </tr>\n",
              "    <tr>\n",
              "      <th>1</th>\n",
              "      <td>9421</td>\n",
              "      <td>3</td>\n",
              "      <td>2972</td>\n",
              "      <td>2</td>\n",
              "      <td>28.852743</td>\n",
              "      <td>1</td>\n",
              "      <td>0</td>\n",
              "      <td>1</td>\n",
              "      <td>0</td>\n",
              "      <td>1</td>\n",
              "      <td>0</td>\n",
              "      <td>0</td>\n",
              "      <td>3</td>\n",
              "      <td>0</td>\n",
              "      <td>0</td>\n",
              "      <td>0</td>\n",
              "      <td>0</td>\n",
              "      <td>0</td>\n",
              "      <td>0</td>\n",
              "      <td>0</td>\n",
              "      <td>1</td>\n",
              "      <td>1</td>\n",
              "      <td>0</td>\n",
              "      <td>0</td>\n",
              "      <td>1</td>\n",
              "      <td>0</td>\n",
              "    </tr>\n",
              "    <tr>\n",
              "      <th>2</th>\n",
              "      <td>16205</td>\n",
              "      <td>7</td>\n",
              "      <td>8608</td>\n",
              "      <td>20</td>\n",
              "      <td>26.179725</td>\n",
              "      <td>1</td>\n",
              "      <td>0</td>\n",
              "      <td>0</td>\n",
              "      <td>0</td>\n",
              "      <td>1</td>\n",
              "      <td>0</td>\n",
              "      <td>0</td>\n",
              "      <td>2</td>\n",
              "      <td>1</td>\n",
              "      <td>0</td>\n",
              "      <td>0</td>\n",
              "      <td>0</td>\n",
              "      <td>0</td>\n",
              "      <td>0</td>\n",
              "      <td>0</td>\n",
              "      <td>1</td>\n",
              "      <td>1</td>\n",
              "      <td>0</td>\n",
              "      <td>0</td>\n",
              "      <td>1</td>\n",
              "      <td>0</td>\n",
              "    </tr>\n",
              "    <tr>\n",
              "      <th>3</th>\n",
              "      <td>5582</td>\n",
              "      <td>31</td>\n",
              "      <td>10074</td>\n",
              "      <td>8</td>\n",
              "      <td>22.638945</td>\n",
              "      <td>1</td>\n",
              "      <td>0</td>\n",
              "      <td>0</td>\n",
              "      <td>0</td>\n",
              "      <td>1</td>\n",
              "      <td>0</td>\n",
              "      <td>0</td>\n",
              "      <td>2</td>\n",
              "      <td>0</td>\n",
              "      <td>0</td>\n",
              "      <td>0</td>\n",
              "      <td>0</td>\n",
              "      <td>0</td>\n",
              "      <td>0</td>\n",
              "      <td>0</td>\n",
              "      <td>1</td>\n",
              "      <td>1</td>\n",
              "      <td>0</td>\n",
              "      <td>0</td>\n",
              "      <td>1</td>\n",
              "      <td>0</td>\n",
              "    </tr>\n",
              "    <tr>\n",
              "      <th>4</th>\n",
              "      <td>20880</td>\n",
              "      <td>43</td>\n",
              "      <td>7462</td>\n",
              "      <td>53</td>\n",
              "      <td>21.326131</td>\n",
              "      <td>1</td>\n",
              "      <td>0</td>\n",
              "      <td>0</td>\n",
              "      <td>0</td>\n",
              "      <td>0</td>\n",
              "      <td>0</td>\n",
              "      <td>0</td>\n",
              "      <td>1</td>\n",
              "      <td>1</td>\n",
              "      <td>0</td>\n",
              "      <td>1</td>\n",
              "      <td>0</td>\n",
              "      <td>0</td>\n",
              "      <td>0</td>\n",
              "      <td>0</td>\n",
              "      <td>0</td>\n",
              "      <td>1</td>\n",
              "      <td>0</td>\n",
              "      <td>0</td>\n",
              "      <td>1</td>\n",
              "      <td>0</td>\n",
              "    </tr>\n",
              "  </tbody>\n",
              "</table>\n",
              "</div>"
            ],
            "text/plain": [
              "   ID_Patient_Care_Situation  ...  Patient_Rural_Urban_URBAN\n",
              "0                      16201  ...                          1\n",
              "1                       9421  ...                          0\n",
              "2                      16205  ...                          0\n",
              "3                       5582  ...                          0\n",
              "4                      20880  ...                          0\n",
              "\n",
              "[5 rows x 26 columns]"
            ]
          },
          "metadata": {
            "tags": []
          },
          "execution_count": 236
        }
      ]
    },
    {
      "cell_type": "markdown",
      "metadata": {
        "id": "RjjFg54QJrxs"
      },
      "source": [
        "There are two ID columns - 'ID_Patient_Care_Situation' and 'Patient_ID'. Consider removing one of these columns if they dont both provide benefit ie. there are no ID's  **repeated**.  Check these two ID columns."
      ]
    },
    {
      "cell_type": "code",
      "metadata": {
        "id": "IaJMI77YJrxt",
        "colab": {
          "base_uri": "https://localhost:8080/"
        },
        "outputId": "ceca01a8-265a-4c6e-d248-ddd0dceba180"
      },
      "source": [
        "print('ID_Patient_Care_Situation unique values: ', PP_train_df.ID_Patient_Care_Situation.nunique())\n",
        "print('Patient_ID unique values: ', PP_train_df.Patient_ID.nunique())"
      ],
      "execution_count": null,
      "outputs": [
        {
          "output_type": "stream",
          "text": [
            "ID_Patient_Care_Situation unique values:  23097\n",
            "Patient_ID unique values:  10599\n"
          ],
          "name": "stdout"
        }
      ]
    },
    {
      "cell_type": "markdown",
      "metadata": {
        "id": "13EGbfFWJrxv"
      },
      "source": [
        "There are 23097 unique 'ID_Patient_Care_Situation', the same no of total records in the Training data.\n",
        "\n",
        "There are only 10570 unique values in the feature 'Patient_ID'. This means there were some patients who presented two or more times to the hospital for treatment (which is likely). And the same patient will have different caring condition for different presentations (visites to the hospital). \n",
        "\n",
        "The combination of 'ID_Patient_Care_Situation' and 'Patient_ID' represent who and how many repeat patients there were. Therefore:\n",
        "- There is useful information in the feature 'ID_Patient_Care_Situation' This feature will be kept. (ie identified \n",
        "- Dropping 'Patient_ID' feature means losing information relating to a repeat patient. This feature will be kept."
      ]
    },
    {
      "cell_type": "code",
      "metadata": {
        "colab": {
          "base_uri": "https://localhost:8080/"
        },
        "id": "gWYR76jPPL1Z",
        "outputId": "f6f0eba0-b2c0-4fea-cd51-3fdf658d230a"
      },
      "source": [
        "PP_train_df.shape"
      ],
      "execution_count": null,
      "outputs": [
        {
          "output_type": "execute_result",
          "data": {
            "text/plain": [
              "(23097, 26)"
            ]
          },
          "metadata": {
            "tags": []
          },
          "execution_count": 238
        }
      ]
    },
    {
      "cell_type": "code",
      "metadata": {
        "id": "U2z8TmcU0yDT",
        "colab": {
          "base_uri": "https://localhost:8080/"
        },
        "outputId": "32d3adb3-a167-45c4-8364-7e4de990ce9c"
      },
      "source": [
        "# Reorder features so Target is last feature in dataframe\n",
        "PP_train_df.columns"
      ],
      "execution_count": null,
      "outputs": [
        {
          "output_type": "execute_result",
          "data": {
            "text/plain": [
              "Index(['ID_Patient_Care_Situation', 'Diagnosed_Condition', 'Patient_ID',\n",
              "       'Patient_Age', 'Patient_Body_Mass_Index', 'A', 'B', 'C', 'D', 'E', 'F',\n",
              "       'Z', 'Number_of_prev_cond', 'Survived_1_year', 'No_Drugs', 'DX1', 'DX2',\n",
              "       'DX3', 'DX4', 'DX5', 'DX6', 'Patient_Smoker_NO',\n",
              "       'Patient_Smoker_UNKNOWN', 'Patient_Smoker_YES',\n",
              "       'Patient_Rural_Urban_RURAL', 'Patient_Rural_Urban_URBAN'],\n",
              "      dtype='object')"
            ]
          },
          "metadata": {
            "tags": []
          },
          "execution_count": 239
        }
      ]
    },
    {
      "cell_type": "code",
      "metadata": {
        "id": "7OahyQc31BHd",
        "colab": {
          "base_uri": "https://localhost:8080/"
        },
        "outputId": "b0cd15b9-11bf-489e-e7d4-7fdd14f710dd"
      },
      "source": [
        "PP_train_df = PP_train_df[['ID_Patient_Care_Situation', 'Diagnosed_Condition',\n",
        "                           'Patient_ID', 'Patient_Age', 'Patient_Body_Mass_Index',\n",
        "                           'A', 'B', 'C', 'D', 'E', 'F', 'Z', 'Number_of_prev_cond',\n",
        "                           'No_Drugs', 'DX1', 'DX2', 'DX3', 'DX4', 'DX5', 'DX6',\n",
        "                           'Patient_Smoker_NO', 'Patient_Smoker_UNKNOWN',\n",
        "                           'Patient_Smoker_YES', 'Patient_Rural_Urban_RURAL', \n",
        "                           'Patient_Rural_Urban_URBAN', 'Survived_1_year']]\n",
        " \n",
        "PP_train_df.columns"
      ],
      "execution_count": null,
      "outputs": [
        {
          "output_type": "execute_result",
          "data": {
            "text/plain": [
              "Index(['ID_Patient_Care_Situation', 'Diagnosed_Condition', 'Patient_ID',\n",
              "       'Patient_Age', 'Patient_Body_Mass_Index', 'A', 'B', 'C', 'D', 'E', 'F',\n",
              "       'Z', 'Number_of_prev_cond', 'No_Drugs', 'DX1', 'DX2', 'DX3', 'DX4',\n",
              "       'DX5', 'DX6', 'Patient_Smoker_NO', 'Patient_Smoker_UNKNOWN',\n",
              "       'Patient_Smoker_YES', 'Patient_Rural_Urban_RURAL',\n",
              "       'Patient_Rural_Urban_URBAN', 'Survived_1_year'],\n",
              "      dtype='object')"
            ]
          },
          "metadata": {
            "tags": []
          },
          "execution_count": 240
        }
      ]
    },
    {
      "cell_type": "code",
      "metadata": {
        "colab": {
          "base_uri": "https://localhost:8080/"
        },
        "id": "PoTZw8v9PMtj",
        "outputId": "868bd95f-1ae7-4596-8531-d9be5581bda7"
      },
      "source": [
        "PP_train_df.shape"
      ],
      "execution_count": null,
      "outputs": [
        {
          "output_type": "execute_result",
          "data": {
            "text/plain": [
              "(23097, 26)"
            ]
          },
          "metadata": {
            "tags": []
          },
          "execution_count": 241
        }
      ]
    },
    {
      "cell_type": "code",
      "metadata": {
        "colab": {
          "base_uri": "https://localhost:8080/"
        },
        "id": "EmM2Cz2nWyiQ",
        "outputId": "6734fed1-aa56-4266-faa4-cab7a0ea7740"
      },
      "source": [
        "PP_train_df.info()"
      ],
      "execution_count": null,
      "outputs": [
        {
          "output_type": "stream",
          "text": [
            "<class 'pandas.core.frame.DataFrame'>\n",
            "Int64Index: 23097 entries, 0 to 23096\n",
            "Data columns (total 26 columns):\n",
            " #   Column                     Non-Null Count  Dtype  \n",
            "---  ------                     --------------  -----  \n",
            " 0   ID_Patient_Care_Situation  23097 non-null  int64  \n",
            " 1   Diagnosed_Condition        23097 non-null  uint8  \n",
            " 2   Patient_ID                 23097 non-null  int64  \n",
            " 3   Patient_Age                23097 non-null  uint8  \n",
            " 4   Patient_Body_Mass_Index    23097 non-null  float64\n",
            " 5   A                          23097 non-null  uint8  \n",
            " 6   B                          23097 non-null  uint8  \n",
            " 7   C                          23097 non-null  uint8  \n",
            " 8   D                          23097 non-null  uint8  \n",
            " 9   E                          23097 non-null  uint8  \n",
            " 10  F                          23097 non-null  uint8  \n",
            " 11  Z                          23097 non-null  uint8  \n",
            " 12  Number_of_prev_cond        23097 non-null  uint8  \n",
            " 13  No_Drugs                   23097 non-null  uint8  \n",
            " 14  DX1                        23097 non-null  uint8  \n",
            " 15  DX2                        23097 non-null  uint8  \n",
            " 16  DX3                        23097 non-null  uint8  \n",
            " 17  DX4                        23097 non-null  uint8  \n",
            " 18  DX5                        23097 non-null  uint8  \n",
            " 19  DX6                        23097 non-null  uint8  \n",
            " 20  Patient_Smoker_NO          23097 non-null  uint8  \n",
            " 21  Patient_Smoker_UNKNOWN     23097 non-null  uint8  \n",
            " 22  Patient_Smoker_YES         23097 non-null  uint8  \n",
            " 23  Patient_Rural_Urban_RURAL  23097 non-null  uint8  \n",
            " 24  Patient_Rural_Urban_URBAN  23097 non-null  uint8  \n",
            " 25  Survived_1_year            23097 non-null  uint8  \n",
            "dtypes: float64(1), int64(2), uint8(23)\n",
            "memory usage: 1.2 MB\n"
          ],
          "name": "stdout"
        }
      ]
    },
    {
      "cell_type": "markdown",
      "metadata": {
        "id": "JERw5taGJrxy"
      },
      "source": [
        "### Preprocessing of Test Data"
      ]
    },
    {
      "cell_type": "code",
      "metadata": {
        "id": "-UMUOeYEJrxy",
        "colab": {
          "base_uri": "https://localhost:8080/",
          "height": 222
        },
        "outputId": "f0993c2d-1104-411e-db03-801789f7c32f"
      },
      "source": [
        "# take a look at the new test data\n",
        "PP_test_df.head()"
      ],
      "execution_count": null,
      "outputs": [
        {
          "output_type": "execute_result",
          "data": {
            "text/html": [
              "<div>\n",
              "<style scoped>\n",
              "    .dataframe tbody tr th:only-of-type {\n",
              "        vertical-align: middle;\n",
              "    }\n",
              "\n",
              "    .dataframe tbody tr th {\n",
              "        vertical-align: top;\n",
              "    }\n",
              "\n",
              "    .dataframe thead th {\n",
              "        text-align: right;\n",
              "    }\n",
              "</style>\n",
              "<table border=\"1\" class=\"dataframe\">\n",
              "  <thead>\n",
              "    <tr style=\"text-align: right;\">\n",
              "      <th></th>\n",
              "      <th>ID_Patient_Care_Situation</th>\n",
              "      <th>Diagnosed_Condition</th>\n",
              "      <th>Patient_ID</th>\n",
              "      <th>Treated_with_drugs</th>\n",
              "      <th>Patient_Age</th>\n",
              "      <th>Patient_Body_Mass_Index</th>\n",
              "      <th>Patient_Smoker</th>\n",
              "      <th>Patient_Rural_Urban</th>\n",
              "      <th>A</th>\n",
              "      <th>B</th>\n",
              "      <th>C</th>\n",
              "      <th>D</th>\n",
              "      <th>E</th>\n",
              "      <th>F</th>\n",
              "      <th>Z</th>\n",
              "      <th>Number_of_prev_cond</th>\n",
              "    </tr>\n",
              "  </thead>\n",
              "  <tbody>\n",
              "    <tr>\n",
              "      <th>0</th>\n",
              "      <td>24206</td>\n",
              "      <td>35</td>\n",
              "      <td>4640</td>\n",
              "      <td>DX5</td>\n",
              "      <td>65</td>\n",
              "      <td>20.710365</td>\n",
              "      <td>NO</td>\n",
              "      <td>RURAL</td>\n",
              "      <td>1.0</td>\n",
              "      <td>0.0</td>\n",
              "      <td>0.0</td>\n",
              "      <td>0.0</td>\n",
              "      <td>1.0</td>\n",
              "      <td>0.0</td>\n",
              "      <td>0.0</td>\n",
              "      <td>2.0</td>\n",
              "    </tr>\n",
              "    <tr>\n",
              "      <th>1</th>\n",
              "      <td>32827</td>\n",
              "      <td>30</td>\n",
              "      <td>3214</td>\n",
              "      <td>DX1</td>\n",
              "      <td>2</td>\n",
              "      <td>24.250219</td>\n",
              "      <td>NO</td>\n",
              "      <td>URBAN</td>\n",
              "      <td>1.0</td>\n",
              "      <td>0.0</td>\n",
              "      <td>0.0</td>\n",
              "      <td>0.0</td>\n",
              "      <td>1.0</td>\n",
              "      <td>0.0</td>\n",
              "      <td>0.0</td>\n",
              "      <td>2.0</td>\n",
              "    </tr>\n",
              "    <tr>\n",
              "      <th>2</th>\n",
              "      <td>3694</td>\n",
              "      <td>46</td>\n",
              "      <td>3564</td>\n",
              "      <td>DX6</td>\n",
              "      <td>1</td>\n",
              "      <td>27.139276</td>\n",
              "      <td>NO</td>\n",
              "      <td>URBAN</td>\n",
              "      <td>1.0</td>\n",
              "      <td>0.0</td>\n",
              "      <td>0.0</td>\n",
              "      <td>0.0</td>\n",
              "      <td>0.0</td>\n",
              "      <td>0.0</td>\n",
              "      <td>0.0</td>\n",
              "      <td>1.0</td>\n",
              "    </tr>\n",
              "    <tr>\n",
              "      <th>3</th>\n",
              "      <td>7164</td>\n",
              "      <td>44</td>\n",
              "      <td>5176</td>\n",
              "      <td>DX1</td>\n",
              "      <td>29</td>\n",
              "      <td>29.191759</td>\n",
              "      <td>NO</td>\n",
              "      <td>RURAL</td>\n",
              "      <td>0.0</td>\n",
              "      <td>0.0</td>\n",
              "      <td>1.0</td>\n",
              "      <td>0.0</td>\n",
              "      <td>1.0</td>\n",
              "      <td>0.0</td>\n",
              "      <td>0.0</td>\n",
              "      <td>2.0</td>\n",
              "    </tr>\n",
              "    <tr>\n",
              "      <th>4</th>\n",
              "      <td>1259</td>\n",
              "      <td>30</td>\n",
              "      <td>1101</td>\n",
              "      <td>DX5</td>\n",
              "      <td>51</td>\n",
              "      <td>20.844146</td>\n",
              "      <td>NO</td>\n",
              "      <td>URBAN</td>\n",
              "      <td>0.0</td>\n",
              "      <td>0.0</td>\n",
              "      <td>0.0</td>\n",
              "      <td>0.0</td>\n",
              "      <td>1.0</td>\n",
              "      <td>0.0</td>\n",
              "      <td>0.0</td>\n",
              "      <td>1.0</td>\n",
              "    </tr>\n",
              "  </tbody>\n",
              "</table>\n",
              "</div>"
            ],
            "text/plain": [
              "   ID_Patient_Care_Situation  Diagnosed_Condition  ...    Z Number_of_prev_cond\n",
              "0                      24206                   35  ...  0.0                 2.0\n",
              "1                      32827                   30  ...  0.0                 2.0\n",
              "2                       3694                   46  ...  0.0                 1.0\n",
              "3                       7164                   44  ...  0.0                 2.0\n",
              "4                       1259                   30  ...  0.0                 1.0\n",
              "\n",
              "[5 rows x 16 columns]"
            ]
          },
          "metadata": {
            "tags": []
          },
          "execution_count": 243
        }
      ]
    },
    {
      "cell_type": "markdown",
      "metadata": {
        "id": "FLe3zvZnJrx4"
      },
      "source": [
        "#### Feature Generation - Test Data (as for Training Data)"
      ]
    },
    {
      "cell_type": "code",
      "metadata": {
        "id": "RaN3Whf3Jrx4",
        "colab": {
          "base_uri": "https://localhost:8080/",
          "height": 202
        },
        "outputId": "506452f8-41cc-4a48-ec30-bb1308d02c14"
      },
      "source": [
        "# split all the entries separated by space and create dummy variable\n",
        "drugs = PP_test_df['Treated_with_drugs'].str.get_dummies(sep=' ') # split all the entries\n",
        "drugs.head()"
      ],
      "execution_count": null,
      "outputs": [
        {
          "output_type": "execute_result",
          "data": {
            "text/html": [
              "<div>\n",
              "<style scoped>\n",
              "    .dataframe tbody tr th:only-of-type {\n",
              "        vertical-align: middle;\n",
              "    }\n",
              "\n",
              "    .dataframe tbody tr th {\n",
              "        vertical-align: top;\n",
              "    }\n",
              "\n",
              "    .dataframe thead th {\n",
              "        text-align: right;\n",
              "    }\n",
              "</style>\n",
              "<table border=\"1\" class=\"dataframe\">\n",
              "  <thead>\n",
              "    <tr style=\"text-align: right;\">\n",
              "      <th></th>\n",
              "      <th>DX1</th>\n",
              "      <th>DX2</th>\n",
              "      <th>DX3</th>\n",
              "      <th>DX4</th>\n",
              "      <th>DX5</th>\n",
              "      <th>DX6</th>\n",
              "    </tr>\n",
              "  </thead>\n",
              "  <tbody>\n",
              "    <tr>\n",
              "      <th>0</th>\n",
              "      <td>0</td>\n",
              "      <td>0</td>\n",
              "      <td>0</td>\n",
              "      <td>0</td>\n",
              "      <td>1</td>\n",
              "      <td>0</td>\n",
              "    </tr>\n",
              "    <tr>\n",
              "      <th>1</th>\n",
              "      <td>1</td>\n",
              "      <td>0</td>\n",
              "      <td>0</td>\n",
              "      <td>0</td>\n",
              "      <td>0</td>\n",
              "      <td>0</td>\n",
              "    </tr>\n",
              "    <tr>\n",
              "      <th>2</th>\n",
              "      <td>0</td>\n",
              "      <td>0</td>\n",
              "      <td>0</td>\n",
              "      <td>0</td>\n",
              "      <td>0</td>\n",
              "      <td>1</td>\n",
              "    </tr>\n",
              "    <tr>\n",
              "      <th>3</th>\n",
              "      <td>1</td>\n",
              "      <td>0</td>\n",
              "      <td>0</td>\n",
              "      <td>0</td>\n",
              "      <td>0</td>\n",
              "      <td>0</td>\n",
              "    </tr>\n",
              "    <tr>\n",
              "      <th>4</th>\n",
              "      <td>0</td>\n",
              "      <td>0</td>\n",
              "      <td>0</td>\n",
              "      <td>0</td>\n",
              "      <td>1</td>\n",
              "      <td>0</td>\n",
              "    </tr>\n",
              "  </tbody>\n",
              "</table>\n",
              "</div>"
            ],
            "text/plain": [
              "   DX1  DX2  DX3  DX4  DX5  DX6\n",
              "0    0    0    0    0    1    0\n",
              "1    1    0    0    0    0    0\n",
              "2    0    0    0    0    0    1\n",
              "3    1    0    0    0    0    0\n",
              "4    0    0    0    0    1    0"
            ]
          },
          "metadata": {
            "tags": []
          },
          "execution_count": 244
        }
      ]
    },
    {
      "cell_type": "code",
      "metadata": {
        "id": "qBfZiC29Jrx6",
        "colab": {
          "base_uri": "https://localhost:8080/",
          "height": 222
        },
        "outputId": "04e4619e-4953-4f20-f967-5cbef587ec49"
      },
      "source": [
        "# concat the two dataframes 'drugs' and 'data'\n",
        "PP_test_df = pd.concat([PP_test_df, drugs], axis=1)     \n",
        "\n",
        "# dropping the column 'Treated_with_drugs' \n",
        "PP_test_df = PP_test_df.drop('Treated_with_drugs', axis=1)    \n",
        "\n",
        "PP_test_df.head()"
      ],
      "execution_count": null,
      "outputs": [
        {
          "output_type": "execute_result",
          "data": {
            "text/html": [
              "<div>\n",
              "<style scoped>\n",
              "    .dataframe tbody tr th:only-of-type {\n",
              "        vertical-align: middle;\n",
              "    }\n",
              "\n",
              "    .dataframe tbody tr th {\n",
              "        vertical-align: top;\n",
              "    }\n",
              "\n",
              "    .dataframe thead th {\n",
              "        text-align: right;\n",
              "    }\n",
              "</style>\n",
              "<table border=\"1\" class=\"dataframe\">\n",
              "  <thead>\n",
              "    <tr style=\"text-align: right;\">\n",
              "      <th></th>\n",
              "      <th>ID_Patient_Care_Situation</th>\n",
              "      <th>Diagnosed_Condition</th>\n",
              "      <th>Patient_ID</th>\n",
              "      <th>Patient_Age</th>\n",
              "      <th>Patient_Body_Mass_Index</th>\n",
              "      <th>Patient_Smoker</th>\n",
              "      <th>Patient_Rural_Urban</th>\n",
              "      <th>A</th>\n",
              "      <th>B</th>\n",
              "      <th>C</th>\n",
              "      <th>D</th>\n",
              "      <th>E</th>\n",
              "      <th>F</th>\n",
              "      <th>Z</th>\n",
              "      <th>Number_of_prev_cond</th>\n",
              "      <th>DX1</th>\n",
              "      <th>DX2</th>\n",
              "      <th>DX3</th>\n",
              "      <th>DX4</th>\n",
              "      <th>DX5</th>\n",
              "      <th>DX6</th>\n",
              "    </tr>\n",
              "  </thead>\n",
              "  <tbody>\n",
              "    <tr>\n",
              "      <th>0</th>\n",
              "      <td>24206</td>\n",
              "      <td>35</td>\n",
              "      <td>4640</td>\n",
              "      <td>65</td>\n",
              "      <td>20.710365</td>\n",
              "      <td>NO</td>\n",
              "      <td>RURAL</td>\n",
              "      <td>1.0</td>\n",
              "      <td>0.0</td>\n",
              "      <td>0.0</td>\n",
              "      <td>0.0</td>\n",
              "      <td>1.0</td>\n",
              "      <td>0.0</td>\n",
              "      <td>0.0</td>\n",
              "      <td>2.0</td>\n",
              "      <td>0</td>\n",
              "      <td>0</td>\n",
              "      <td>0</td>\n",
              "      <td>0</td>\n",
              "      <td>1</td>\n",
              "      <td>0</td>\n",
              "    </tr>\n",
              "    <tr>\n",
              "      <th>1</th>\n",
              "      <td>32827</td>\n",
              "      <td>30</td>\n",
              "      <td>3214</td>\n",
              "      <td>2</td>\n",
              "      <td>24.250219</td>\n",
              "      <td>NO</td>\n",
              "      <td>URBAN</td>\n",
              "      <td>1.0</td>\n",
              "      <td>0.0</td>\n",
              "      <td>0.0</td>\n",
              "      <td>0.0</td>\n",
              "      <td>1.0</td>\n",
              "      <td>0.0</td>\n",
              "      <td>0.0</td>\n",
              "      <td>2.0</td>\n",
              "      <td>1</td>\n",
              "      <td>0</td>\n",
              "      <td>0</td>\n",
              "      <td>0</td>\n",
              "      <td>0</td>\n",
              "      <td>0</td>\n",
              "    </tr>\n",
              "    <tr>\n",
              "      <th>2</th>\n",
              "      <td>3694</td>\n",
              "      <td>46</td>\n",
              "      <td>3564</td>\n",
              "      <td>1</td>\n",
              "      <td>27.139276</td>\n",
              "      <td>NO</td>\n",
              "      <td>URBAN</td>\n",
              "      <td>1.0</td>\n",
              "      <td>0.0</td>\n",
              "      <td>0.0</td>\n",
              "      <td>0.0</td>\n",
              "      <td>0.0</td>\n",
              "      <td>0.0</td>\n",
              "      <td>0.0</td>\n",
              "      <td>1.0</td>\n",
              "      <td>0</td>\n",
              "      <td>0</td>\n",
              "      <td>0</td>\n",
              "      <td>0</td>\n",
              "      <td>0</td>\n",
              "      <td>1</td>\n",
              "    </tr>\n",
              "    <tr>\n",
              "      <th>3</th>\n",
              "      <td>7164</td>\n",
              "      <td>44</td>\n",
              "      <td>5176</td>\n",
              "      <td>29</td>\n",
              "      <td>29.191759</td>\n",
              "      <td>NO</td>\n",
              "      <td>RURAL</td>\n",
              "      <td>0.0</td>\n",
              "      <td>0.0</td>\n",
              "      <td>1.0</td>\n",
              "      <td>0.0</td>\n",
              "      <td>1.0</td>\n",
              "      <td>0.0</td>\n",
              "      <td>0.0</td>\n",
              "      <td>2.0</td>\n",
              "      <td>1</td>\n",
              "      <td>0</td>\n",
              "      <td>0</td>\n",
              "      <td>0</td>\n",
              "      <td>0</td>\n",
              "      <td>0</td>\n",
              "    </tr>\n",
              "    <tr>\n",
              "      <th>4</th>\n",
              "      <td>1259</td>\n",
              "      <td>30</td>\n",
              "      <td>1101</td>\n",
              "      <td>51</td>\n",
              "      <td>20.844146</td>\n",
              "      <td>NO</td>\n",
              "      <td>URBAN</td>\n",
              "      <td>0.0</td>\n",
              "      <td>0.0</td>\n",
              "      <td>0.0</td>\n",
              "      <td>0.0</td>\n",
              "      <td>1.0</td>\n",
              "      <td>0.0</td>\n",
              "      <td>0.0</td>\n",
              "      <td>1.0</td>\n",
              "      <td>0</td>\n",
              "      <td>0</td>\n",
              "      <td>0</td>\n",
              "      <td>0</td>\n",
              "      <td>1</td>\n",
              "      <td>0</td>\n",
              "    </tr>\n",
              "  </tbody>\n",
              "</table>\n",
              "</div>"
            ],
            "text/plain": [
              "   ID_Patient_Care_Situation  Diagnosed_Condition  Patient_ID  ...  DX4  DX5 DX6\n",
              "0                      24206                   35        4640  ...    0    1   0\n",
              "1                      32827                   30        3214  ...    0    0   0\n",
              "2                       3694                   46        3564  ...    0    0   1\n",
              "3                       7164                   44        5176  ...    0    0   0\n",
              "4                       1259                   30        1101  ...    0    1   0\n",
              "\n",
              "[5 rows x 21 columns]"
            ]
          },
          "metadata": {
            "tags": []
          },
          "execution_count": 245
        }
      ]
    },
    {
      "cell_type": "code",
      "metadata": {
        "id": "Fw4yUmtLJrx8",
        "colab": {
          "base_uri": "https://localhost:8080/"
        },
        "outputId": "6545225c-7751-461e-e458-16583eb2c598"
      },
      "source": [
        "PP_test_df.Patient_Smoker.value_counts()"
      ],
      "execution_count": null,
      "outputs": [
        {
          "output_type": "execute_result",
          "data": {
            "text/plain": [
              "NO     5373\n",
              "YES    3957\n",
              "Name: Patient_Smoker, dtype: int64"
            ]
          },
          "metadata": {
            "tags": []
          },
          "execution_count": 246
        }
      ]
    },
    {
      "cell_type": "markdown",
      "metadata": {
        "id": "zGLDHLSZsXWx"
      },
      "source": [
        "#### Data Encoding - Test Data (as for Training Data)"
      ]
    },
    {
      "cell_type": "markdown",
      "metadata": {
        "id": "HnwY3u--rc5L"
      },
      "source": [
        "Convert the categorical features to numerical data using get_dummies() function of pandas (i.e. one hot encoding)."
      ]
    },
    {
      "cell_type": "code",
      "metadata": {
        "id": "iD1iZUUWJryH"
      },
      "source": [
        "PP_test_df = pd.get_dummies(PP_test_df, columns=['Patient_Smoker', 'Patient_Rural_Urban'])"
      ],
      "execution_count": null,
      "outputs": []
    },
    {
      "cell_type": "code",
      "metadata": {
        "id": "FUmOfMdFJryK",
        "colab": {
          "base_uri": "https://localhost:8080/"
        },
        "outputId": "08efc0ac-7310-493d-ad4c-810f566b94d4"
      },
      "source": [
        "PP_test_df.info()"
      ],
      "execution_count": null,
      "outputs": [
        {
          "output_type": "stream",
          "text": [
            "<class 'pandas.core.frame.DataFrame'>\n",
            "RangeIndex: 9330 entries, 0 to 9329\n",
            "Data columns (total 23 columns):\n",
            " #   Column                     Non-Null Count  Dtype  \n",
            "---  ------                     --------------  -----  \n",
            " 0   ID_Patient_Care_Situation  9330 non-null   int64  \n",
            " 1   Diagnosed_Condition        9330 non-null   int64  \n",
            " 2   Patient_ID                 9330 non-null   int64  \n",
            " 3   Patient_Age                9330 non-null   int64  \n",
            " 4   Patient_Body_Mass_Index    9330 non-null   float64\n",
            " 5   A                          9330 non-null   float64\n",
            " 6   B                          9330 non-null   float64\n",
            " 7   C                          9330 non-null   float64\n",
            " 8   D                          9330 non-null   float64\n",
            " 9   E                          9330 non-null   float64\n",
            " 10  F                          9330 non-null   float64\n",
            " 11  Z                          9330 non-null   float64\n",
            " 12  Number_of_prev_cond        9330 non-null   float64\n",
            " 13  DX1                        9330 non-null   int64  \n",
            " 14  DX2                        9330 non-null   int64  \n",
            " 15  DX3                        9330 non-null   int64  \n",
            " 16  DX4                        9330 non-null   int64  \n",
            " 17  DX5                        9330 non-null   int64  \n",
            " 18  DX6                        9330 non-null   int64  \n",
            " 19  Patient_Smoker_NO          9330 non-null   uint8  \n",
            " 20  Patient_Smoker_YES         9330 non-null   uint8  \n",
            " 21  Patient_Rural_Urban_RURAL  9330 non-null   uint8  \n",
            " 22  Patient_Rural_Urban_URBAN  9330 non-null   uint8  \n",
            "dtypes: float64(9), int64(10), uint8(4)\n",
            "memory usage: 1.4 MB\n"
          ],
          "name": "stdout"
        }
      ]
    },
    {
      "cell_type": "markdown",
      "metadata": {
        "id": "P_M_PSSmKaBv"
      },
      "source": [
        "Change Datatype of the following columns to 'uint8' from 'float64' or 'int64' accordingly:\\\n",
        "'Diagnosed_Condition' \\\n",
        "'Patient_Age' \\\n",
        "'A'\\\n",
        "'B'\\\n",
        "'C'\\\n",
        "'D'\\\n",
        "'E'\\\n",
        "'F'\\\n",
        "'Z'\\\n",
        "'Number_of_prev_cond'\\\n",
        "'DX1'\\\n",
        "'DX2'\\\n",
        "'DX3'\\\n",
        "'DX4'\\\n",
        "'DX5'\\\n",
        "'DX6'"
      ]
    },
    {
      "cell_type": "code",
      "metadata": {
        "id": "q2Lr9peRqx3O"
      },
      "source": [
        "PP_test_df = PP_test_df.astype({'Diagnosed_Condition' : 'uint8',\n",
        "                                'Patient_Age' : 'uint8', 'A' : 'uint8',\n",
        "                                'B' : 'uint8', 'C' : 'uint8', 'D' : 'uint8',\n",
        "                                'E' : 'uint8', 'F' : 'uint8', 'Z' : 'uint8',\n",
        "                                'Number_of_prev_cond' : 'uint8',\n",
        "                                'DX1' : 'uint8', 'DX2' : 'uint8',\n",
        "                                'DX3' : 'uint8', 'DX4' : 'uint8',\n",
        "                                'DX5' : 'uint8', 'DX6' : 'uint8'})"
      ],
      "execution_count": null,
      "outputs": []
    },
    {
      "cell_type": "markdown",
      "metadata": {
        "id": "8AllI3EWrfzO"
      },
      "source": [
        "There are no missing values now and all the data are of appropriate numerical data types, as per Training data."
      ]
    },
    {
      "cell_type": "code",
      "metadata": {
        "id": "S8K2FUHkJryP",
        "colab": {
          "base_uri": "https://localhost:8080/"
        },
        "outputId": "c9e83cff-2610-4183-aeaf-f085d6d27592"
      },
      "source": [
        "PP_test_df.info()"
      ],
      "execution_count": null,
      "outputs": [
        {
          "output_type": "stream",
          "text": [
            "<class 'pandas.core.frame.DataFrame'>\n",
            "RangeIndex: 9330 entries, 0 to 9329\n",
            "Data columns (total 23 columns):\n",
            " #   Column                     Non-Null Count  Dtype  \n",
            "---  ------                     --------------  -----  \n",
            " 0   ID_Patient_Care_Situation  9330 non-null   int64  \n",
            " 1   Diagnosed_Condition        9330 non-null   uint8  \n",
            " 2   Patient_ID                 9330 non-null   int64  \n",
            " 3   Patient_Age                9330 non-null   uint8  \n",
            " 4   Patient_Body_Mass_Index    9330 non-null   float64\n",
            " 5   A                          9330 non-null   uint8  \n",
            " 6   B                          9330 non-null   uint8  \n",
            " 7   C                          9330 non-null   uint8  \n",
            " 8   D                          9330 non-null   uint8  \n",
            " 9   E                          9330 non-null   uint8  \n",
            " 10  F                          9330 non-null   uint8  \n",
            " 11  Z                          9330 non-null   uint8  \n",
            " 12  Number_of_prev_cond        9330 non-null   uint8  \n",
            " 13  DX1                        9330 non-null   uint8  \n",
            " 14  DX2                        9330 non-null   uint8  \n",
            " 15  DX3                        9330 non-null   uint8  \n",
            " 16  DX4                        9330 non-null   uint8  \n",
            " 17  DX5                        9330 non-null   uint8  \n",
            " 18  DX6                        9330 non-null   uint8  \n",
            " 19  Patient_Smoker_NO          9330 non-null   uint8  \n",
            " 20  Patient_Smoker_YES         9330 non-null   uint8  \n",
            " 21  Patient_Rural_Urban_RURAL  9330 non-null   uint8  \n",
            " 22  Patient_Rural_Urban_URBAN  9330 non-null   uint8  \n",
            "dtypes: float64(1), int64(2), uint8(20)\n",
            "memory usage: 401.0 KB\n"
          ],
          "name": "stdout"
        }
      ]
    },
    {
      "cell_type": "code",
      "metadata": {
        "colab": {
          "base_uri": "https://localhost:8080/"
        },
        "id": "iSWr96MmOAnk",
        "outputId": "e98790cf-55d9-4e5a-8e47-159c29ae66b5"
      },
      "source": [
        "PP_test_df.shape"
      ],
      "execution_count": null,
      "outputs": [
        {
          "output_type": "execute_result",
          "data": {
            "text/plain": [
              "(9330, 23)"
            ]
          },
          "metadata": {
            "tags": []
          },
          "execution_count": 251
        }
      ]
    },
    {
      "cell_type": "code",
      "metadata": {
        "id": "KcHJAQNivv3K"
      },
      "source": [
        "# Insert columns created during Training Data encoding \n",
        "# Test data had no missing values in the related features therefore these features were not generated.\n",
        "\n",
        "PP_test_df.insert(22, 'Patient_Smoker_UNKNOWN', 0)\n",
        "PP_test_df.insert(14, 'No_Drugs', 0)"
      ],
      "execution_count": null,
      "outputs": []
    },
    {
      "cell_type": "code",
      "metadata": {
        "colab": {
          "base_uri": "https://localhost:8080/"
        },
        "id": "-ggFjw2tPvzD",
        "outputId": "cbd8ff67-a7f1-4811-e993-7821f2f3ceb5"
      },
      "source": [
        "PP_test_df.shape"
      ],
      "execution_count": null,
      "outputs": [
        {
          "output_type": "execute_result",
          "data": {
            "text/plain": [
              "(9330, 25)"
            ]
          },
          "metadata": {
            "tags": []
          },
          "execution_count": 253
        }
      ]
    },
    {
      "cell_type": "code",
      "metadata": {
        "id": "2ik_ninE1ykE",
        "colab": {
          "base_uri": "https://localhost:8080/"
        },
        "outputId": "696d0c54-5b5c-46cd-b039-77723d7c3d80"
      },
      "source": [
        "# Reorder Test data columns to match Training data\n",
        "PP_test_df = PP_test_df[['ID_Patient_Care_Situation', 'Diagnosed_Condition',\n",
        "                         'Patient_ID', 'Patient_Age', 'Patient_Body_Mass_Index',\n",
        "                         'A', 'B', 'C', 'D', 'E', 'F', 'Z', 'Number_of_prev_cond',\n",
        "                         'No_Drugs', 'DX1', 'DX2', 'DX3', 'DX4', 'DX5', 'DX6',\n",
        "                         'Patient_Smoker_NO', 'Patient_Smoker_UNKNOWN',\n",
        "                         'Patient_Smoker_YES', 'Patient_Rural_Urban_RURAL', \n",
        "                         'Patient_Rural_Urban_URBAN']]\n",
        "\n",
        "PP_test_df.columns"
      ],
      "execution_count": null,
      "outputs": [
        {
          "output_type": "execute_result",
          "data": {
            "text/plain": [
              "Index(['ID_Patient_Care_Situation', 'Diagnosed_Condition', 'Patient_ID',\n",
              "       'Patient_Age', 'Patient_Body_Mass_Index', 'A', 'B', 'C', 'D', 'E', 'F',\n",
              "       'Z', 'Number_of_prev_cond', 'No_Drugs', 'DX1', 'DX2', 'DX3', 'DX4',\n",
              "       'DX5', 'DX6', 'Patient_Smoker_NO', 'Patient_Smoker_UNKNOWN',\n",
              "       'Patient_Smoker_YES', 'Patient_Rural_Urban_RURAL',\n",
              "       'Patient_Rural_Urban_URBAN'],\n",
              "      dtype='object')"
            ]
          },
          "metadata": {
            "tags": []
          },
          "execution_count": 254
        }
      ]
    },
    {
      "cell_type": "code",
      "metadata": {
        "colab": {
          "base_uri": "https://localhost:8080/"
        },
        "id": "6WNOgfiFOF2w",
        "outputId": "5b0d6b05-2765-46a5-9b48-c12b9ce08c66"
      },
      "source": [
        "PP_test_df.shape"
      ],
      "execution_count": null,
      "outputs": [
        {
          "output_type": "execute_result",
          "data": {
            "text/plain": [
              "(9330, 25)"
            ]
          },
          "metadata": {
            "tags": []
          },
          "execution_count": 255
        }
      ]
    },
    {
      "cell_type": "markdown",
      "metadata": {
        "id": "MjMbci4jyPPF"
      },
      "source": [
        "Compare Dataframe format for Training and Test dataframes"
      ]
    },
    {
      "cell_type": "code",
      "metadata": {
        "id": "lUIhV3f-yDv4",
        "colab": {
          "base_uri": "https://localhost:8080/"
        },
        "outputId": "177c44cb-27e6-462f-9cb5-23d5bf1edb3b"
      },
      "source": [
        "PP_train_df.info()"
      ],
      "execution_count": null,
      "outputs": [
        {
          "output_type": "stream",
          "text": [
            "<class 'pandas.core.frame.DataFrame'>\n",
            "Int64Index: 23097 entries, 0 to 23096\n",
            "Data columns (total 26 columns):\n",
            " #   Column                     Non-Null Count  Dtype  \n",
            "---  ------                     --------------  -----  \n",
            " 0   ID_Patient_Care_Situation  23097 non-null  int64  \n",
            " 1   Diagnosed_Condition        23097 non-null  uint8  \n",
            " 2   Patient_ID                 23097 non-null  int64  \n",
            " 3   Patient_Age                23097 non-null  uint8  \n",
            " 4   Patient_Body_Mass_Index    23097 non-null  float64\n",
            " 5   A                          23097 non-null  uint8  \n",
            " 6   B                          23097 non-null  uint8  \n",
            " 7   C                          23097 non-null  uint8  \n",
            " 8   D                          23097 non-null  uint8  \n",
            " 9   E                          23097 non-null  uint8  \n",
            " 10  F                          23097 non-null  uint8  \n",
            " 11  Z                          23097 non-null  uint8  \n",
            " 12  Number_of_prev_cond        23097 non-null  uint8  \n",
            " 13  No_Drugs                   23097 non-null  uint8  \n",
            " 14  DX1                        23097 non-null  uint8  \n",
            " 15  DX2                        23097 non-null  uint8  \n",
            " 16  DX3                        23097 non-null  uint8  \n",
            " 17  DX4                        23097 non-null  uint8  \n",
            " 18  DX5                        23097 non-null  uint8  \n",
            " 19  DX6                        23097 non-null  uint8  \n",
            " 20  Patient_Smoker_NO          23097 non-null  uint8  \n",
            " 21  Patient_Smoker_UNKNOWN     23097 non-null  uint8  \n",
            " 22  Patient_Smoker_YES         23097 non-null  uint8  \n",
            " 23  Patient_Rural_Urban_RURAL  23097 non-null  uint8  \n",
            " 24  Patient_Rural_Urban_URBAN  23097 non-null  uint8  \n",
            " 25  Survived_1_year            23097 non-null  uint8  \n",
            "dtypes: float64(1), int64(2), uint8(23)\n",
            "memory usage: 1.2 MB\n"
          ],
          "name": "stdout"
        }
      ]
    },
    {
      "cell_type": "code",
      "metadata": {
        "id": "vq9pNOzdyEQT",
        "colab": {
          "base_uri": "https://localhost:8080/"
        },
        "outputId": "30a8c98f-02c7-414a-a493-d091bf5ecafd"
      },
      "source": [
        "PP_test_df.info()"
      ],
      "execution_count": null,
      "outputs": [
        {
          "output_type": "stream",
          "text": [
            "<class 'pandas.core.frame.DataFrame'>\n",
            "RangeIndex: 9330 entries, 0 to 9329\n",
            "Data columns (total 25 columns):\n",
            " #   Column                     Non-Null Count  Dtype  \n",
            "---  ------                     --------------  -----  \n",
            " 0   ID_Patient_Care_Situation  9330 non-null   int64  \n",
            " 1   Diagnosed_Condition        9330 non-null   uint8  \n",
            " 2   Patient_ID                 9330 non-null   int64  \n",
            " 3   Patient_Age                9330 non-null   uint8  \n",
            " 4   Patient_Body_Mass_Index    9330 non-null   float64\n",
            " 5   A                          9330 non-null   uint8  \n",
            " 6   B                          9330 non-null   uint8  \n",
            " 7   C                          9330 non-null   uint8  \n",
            " 8   D                          9330 non-null   uint8  \n",
            " 9   E                          9330 non-null   uint8  \n",
            " 10  F                          9330 non-null   uint8  \n",
            " 11  Z                          9330 non-null   uint8  \n",
            " 12  Number_of_prev_cond        9330 non-null   uint8  \n",
            " 13  No_Drugs                   9330 non-null   int64  \n",
            " 14  DX1                        9330 non-null   uint8  \n",
            " 15  DX2                        9330 non-null   uint8  \n",
            " 16  DX3                        9330 non-null   uint8  \n",
            " 17  DX4                        9330 non-null   uint8  \n",
            " 18  DX5                        9330 non-null   uint8  \n",
            " 19  DX6                        9330 non-null   uint8  \n",
            " 20  Patient_Smoker_NO          9330 non-null   uint8  \n",
            " 21  Patient_Smoker_UNKNOWN     9330 non-null   int64  \n",
            " 22  Patient_Smoker_YES         9330 non-null   uint8  \n",
            " 23  Patient_Rural_Urban_RURAL  9330 non-null   uint8  \n",
            " 24  Patient_Rural_Urban_URBAN  9330 non-null   uint8  \n",
            "dtypes: float64(1), int64(4), uint8(20)\n",
            "memory usage: 546.8 KB\n"
          ],
          "name": "stdout"
        }
      ]
    },
    {
      "cell_type": "markdown",
      "metadata": {
        "id": "9t4qZjQfs4l3"
      },
      "source": [
        "Compare summary of Training data to Test Data"
      ]
    },
    {
      "cell_type": "code",
      "metadata": {
        "id": "71PNGKYftG4o",
        "colab": {
          "base_uri": "https://localhost:8080/"
        },
        "outputId": "ad3c05ec-abcd-4989-e33f-5d71dd0134c0"
      },
      "source": [
        "PP_train_df.isnull().sum()"
      ],
      "execution_count": null,
      "outputs": [
        {
          "output_type": "execute_result",
          "data": {
            "text/plain": [
              "ID_Patient_Care_Situation    0\n",
              "Diagnosed_Condition          0\n",
              "Patient_ID                   0\n",
              "Patient_Age                  0\n",
              "Patient_Body_Mass_Index      0\n",
              "A                            0\n",
              "B                            0\n",
              "C                            0\n",
              "D                            0\n",
              "E                            0\n",
              "F                            0\n",
              "Z                            0\n",
              "Number_of_prev_cond          0\n",
              "No_Drugs                     0\n",
              "DX1                          0\n",
              "DX2                          0\n",
              "DX3                          0\n",
              "DX4                          0\n",
              "DX5                          0\n",
              "DX6                          0\n",
              "Patient_Smoker_NO            0\n",
              "Patient_Smoker_UNKNOWN       0\n",
              "Patient_Smoker_YES           0\n",
              "Patient_Rural_Urban_RURAL    0\n",
              "Patient_Rural_Urban_URBAN    0\n",
              "Survived_1_year              0\n",
              "dtype: int64"
            ]
          },
          "metadata": {
            "tags": []
          },
          "execution_count": 258
        }
      ]
    },
    {
      "cell_type": "code",
      "metadata": {
        "id": "6Km1aYHNtHio",
        "colab": {
          "base_uri": "https://localhost:8080/"
        },
        "outputId": "8f6ea8a9-b27c-4b3e-db7e-1ffa23616e75"
      },
      "source": [
        "PP_test_df.isnull().sum()"
      ],
      "execution_count": null,
      "outputs": [
        {
          "output_type": "execute_result",
          "data": {
            "text/plain": [
              "ID_Patient_Care_Situation    0\n",
              "Diagnosed_Condition          0\n",
              "Patient_ID                   0\n",
              "Patient_Age                  0\n",
              "Patient_Body_Mass_Index      0\n",
              "A                            0\n",
              "B                            0\n",
              "C                            0\n",
              "D                            0\n",
              "E                            0\n",
              "F                            0\n",
              "Z                            0\n",
              "Number_of_prev_cond          0\n",
              "No_Drugs                     0\n",
              "DX1                          0\n",
              "DX2                          0\n",
              "DX3                          0\n",
              "DX4                          0\n",
              "DX5                          0\n",
              "DX6                          0\n",
              "Patient_Smoker_NO            0\n",
              "Patient_Smoker_UNKNOWN       0\n",
              "Patient_Smoker_YES           0\n",
              "Patient_Rural_Urban_RURAL    0\n",
              "Patient_Rural_Urban_URBAN    0\n",
              "dtype: int64"
            ]
          },
          "metadata": {
            "tags": []
          },
          "execution_count": 259
        }
      ]
    },
    {
      "cell_type": "code",
      "metadata": {
        "id": "f4lFTc-5tHMD",
        "colab": {
          "base_uri": "https://localhost:8080/"
        },
        "outputId": "262f9a71-6c6f-46fe-fb3a-3c942b0a11db"
      },
      "source": [
        "PP_train_df.nunique()"
      ],
      "execution_count": null,
      "outputs": [
        {
          "output_type": "execute_result",
          "data": {
            "text/plain": [
              "ID_Patient_Care_Situation    23097\n",
              "Diagnosed_Condition             53\n",
              "Patient_ID                   10599\n",
              "Patient_Age                     67\n",
              "Patient_Body_Mass_Index      10599\n",
              "A                                2\n",
              "B                                2\n",
              "C                                2\n",
              "D                                2\n",
              "E                                2\n",
              "F                                2\n",
              "Z                                2\n",
              "Number_of_prev_cond              6\n",
              "No_Drugs                         2\n",
              "DX1                              2\n",
              "DX2                              2\n",
              "DX3                              2\n",
              "DX4                              2\n",
              "DX5                              2\n",
              "DX6                              2\n",
              "Patient_Smoker_NO                2\n",
              "Patient_Smoker_UNKNOWN           2\n",
              "Patient_Smoker_YES               2\n",
              "Patient_Rural_Urban_RURAL        2\n",
              "Patient_Rural_Urban_URBAN        2\n",
              "Survived_1_year                  2\n",
              "dtype: int64"
            ]
          },
          "metadata": {
            "tags": []
          },
          "execution_count": 260
        }
      ]
    },
    {
      "cell_type": "code",
      "metadata": {
        "id": "8ydlL4nktG-7",
        "colab": {
          "base_uri": "https://localhost:8080/"
        },
        "outputId": "52a4b669-d060-4795-9afc-4090fb589632"
      },
      "source": [
        "PP_test_df.nunique()"
      ],
      "execution_count": null,
      "outputs": [
        {
          "output_type": "execute_result",
          "data": {
            "text/plain": [
              "ID_Patient_Care_Situation    9330\n",
              "Diagnosed_Condition            52\n",
              "Patient_ID                   6486\n",
              "Patient_Age                    67\n",
              "Patient_Body_Mass_Index      6486\n",
              "A                               2\n",
              "B                               2\n",
              "C                               2\n",
              "D                               2\n",
              "E                               2\n",
              "F                               2\n",
              "Z                               1\n",
              "Number_of_prev_cond             5\n",
              "No_Drugs                        1\n",
              "DX1                             2\n",
              "DX2                             2\n",
              "DX3                             2\n",
              "DX4                             2\n",
              "DX5                             2\n",
              "DX6                             2\n",
              "Patient_Smoker_NO               2\n",
              "Patient_Smoker_UNKNOWN          1\n",
              "Patient_Smoker_YES              2\n",
              "Patient_Rural_Urban_RURAL       2\n",
              "Patient_Rural_Urban_URBAN       2\n",
              "dtype: int64"
            ]
          },
          "metadata": {
            "tags": []
          },
          "execution_count": 261
        }
      ]
    },
    {
      "cell_type": "markdown",
      "metadata": {
        "id": "JBWsgdbitfg6"
      },
      "source": [
        "Now, the only difference between the format of the data in 'PP_train_df' and 'PP_test_df' is that 'PP_test_df' has no Survived_1_year', as this is the target feature.             "
      ]
    },
    {
      "cell_type": "markdown",
      "metadata": {
        "id": "wi3pvD-ZJryS"
      },
      "source": [
        "### **Save Data**"
      ]
    },
    {
      "cell_type": "code",
      "metadata": {
        "id": "aT639NpZJryS"
      },
      "source": [
        "# pickle Training data\n",
        "PP_train_df.to_pickle('/content/drive/My Drive/Heart_Patient/Data/train_data_4_model.pkl')\n",
        "\n",
        "# pickle Testing data\n",
        "PP_test_df.to_pickle('/content/drive/My Drive/Heart_Patient/Data/new_test_data_4_model.pkl')"
      ],
      "execution_count": null,
      "outputs": []
    }
  ]
}