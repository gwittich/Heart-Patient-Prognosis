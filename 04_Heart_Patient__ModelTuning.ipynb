{
  "nbformat": 4,
  "nbformat_minor": 0,
  "metadata": {
    "accelerator": "TPU",
    "colab": {
      "name": "04_Heart_Patient__ModelTuning.ipynb",
      "provenance": [],
      "collapsed_sections": [],
      "include_colab_link": true
    },
    "kernelspec": {
      "display_name": "Python 3",
      "language": "python",
      "name": "python3"
    },
    "language_info": {
      "codemirror_mode": {
        "name": "ipython",
        "version": 3
      },
      "file_extension": ".py",
      "mimetype": "text/x-python",
      "name": "python",
      "nbconvert_exporter": "python",
      "pygments_lexer": "ipython3",
      "version": "3.8.5"
    }
  },
  "cells": [
    {
      "cell_type": "markdown",
      "metadata": {
        "id": "view-in-github",
        "colab_type": "text"
      },
      "source": [
        "<a href=\"https://colab.research.google.com/github/gwittich/Heart-Patient-Prognosis/blob/main/04_Heart_Patient__ModelTuning.ipynb\" target=\"_parent\"><img src=\"https://colab.research.google.com/assets/colab-badge.svg\" alt=\"Open In Colab\"/></a>"
      ]
    },
    {
      "cell_type": "markdown",
      "metadata": {
        "id": "KDZYuFyw6-QL"
      },
      "source": [
        "# **Heart Patient Prognosis**"
      ]
    },
    {
      "cell_type": "markdown",
      "metadata": {
        "id": "6BCM7EAw6-QM"
      },
      "source": [
        "Data Scientist:   __Gail Wittich__<br>\n",
        "Email:      gwittich@optusnet.com.au <br>\n",
        "Website:    www.linkedin.com/in/gail-wittich <br>\n",
        "Copyright:  Copyright 2020, Gail Wittich <br>"
      ]
    },
    {
      "cell_type": "markdown",
      "metadata": {
        "id": "7DehsybqMmp_"
      },
      "source": [
        "### **Install Packages**"
      ]
    },
    {
      "cell_type": "code",
      "metadata": {
        "id": "spNHmMkaSNJ-",
        "colab": {
          "base_uri": "https://localhost:8080/"
        },
        "outputId": "6ea3c269-7d89-49d8-ec34-17fe58445cd8"
      },
      "source": [
        "!pip install Boruta"
      ],
      "execution_count": 1,
      "outputs": [
        {
          "output_type": "stream",
          "text": [
            "Collecting Boruta\n",
            "\u001b[?25l  Downloading https://files.pythonhosted.org/packages/b2/11/583f4eac99d802c79af9217e1eff56027742a69e6c866b295cce6a5a8fc2/Boruta-0.3-py3-none-any.whl (56kB)\n",
            "\r\u001b[K     |█████▉                          | 10kB 10.7MB/s eta 0:00:01\r\u001b[K     |███████████▋                    | 20kB 13.7MB/s eta 0:00:01\r\u001b[K     |█████████████████▍              | 30kB 16.6MB/s eta 0:00:01\r\u001b[K     |███████████████████████▏        | 40kB 18.3MB/s eta 0:00:01\r\u001b[K     |█████████████████████████████   | 51kB 6.4MB/s eta 0:00:01\r\u001b[K     |████████████████████████████████| 61kB 4.1MB/s \n",
            "\u001b[?25hRequirement already satisfied: scikit-learn>=0.17.1 in /usr/local/lib/python3.7/dist-packages (from Boruta) (0.22.2.post1)\n",
            "Requirement already satisfied: scipy>=0.17.0 in /usr/local/lib/python3.7/dist-packages (from Boruta) (1.4.1)\n",
            "Requirement already satisfied: numpy>=1.10.4 in /usr/local/lib/python3.7/dist-packages (from Boruta) (1.19.5)\n",
            "Requirement already satisfied: joblib>=0.11 in /usr/local/lib/python3.7/dist-packages (from scikit-learn>=0.17.1->Boruta) (1.0.1)\n",
            "Installing collected packages: Boruta\n",
            "Successfully installed Boruta-0.3\n"
          ],
          "name": "stdout"
        }
      ]
    },
    {
      "cell_type": "markdown",
      "metadata": {
        "id": "rQyO0hzMz7sb"
      },
      "source": [
        "### **Load Packages**"
      ]
    },
    {
      "cell_type": "code",
      "metadata": {
        "id": "gf-C9StD6-QN"
      },
      "source": [
        "from boruta import BorutaPy                            # for feature selection\n",
        "from google.colab import drive, files                  # for accessing files\n",
        "import matplotlib.pyplot as plt                        # for data visualisation\n",
        "import matplotlib.image as pltimg                      # for decsion tree\n",
        "import numpy as np                                     # for numeric computations\n",
        "import pickle                                          # for file reading and saving\n",
        "import pandas as pd                                    # for data analysis\n",
        "import pydotplus                                       # for decsion tree\n",
        "import seaborn as sns                                  # for data visualisation\n",
        "from sklearn.ensemble import RandomForestClassifier    # Random Forest Classifier model\n",
        "from sklearn.linear_model import LogisticRegression    # Logistic regression model\n",
        "from sklearn.model_selection import train_test_split, GridSearchCV    # to split the dataset into train and test, hyperparameter tuning\n",
        "from sklearn.metrics import accuracy_score, f1_score   # for model evaluation\n",
        "from sklearn.metrics import confusion_matrix, mean_squared_error        # for decsion tree\n",
        "from sklearn.metrics import classification_report      # for LinearSVC\n",
        "from sklearn import preprocessing                      # for data preprocessing\n",
        "from sklearn import tree                               # for decsion tree\n",
        "from sklearn.preprocessing import LabelEncoder         # for converting categorical to numerical data\n",
        "from sklearn.svm import LinearSVC                      # for LinearSVC\n",
        "from sklearn.tree import DecisionTreeClassifier        # for decsion tree\n",
        "\n",
        "import warnings                                        # to ignore warnings\n",
        "warnings.filterwarnings('ignore')"
      ],
      "execution_count": 2,
      "outputs": []
    },
    {
      "cell_type": "markdown",
      "metadata": {
        "id": "MBfbC6r-un_8"
      },
      "source": [
        "### **Define Classes**"
      ]
    },
    {
      "cell_type": "code",
      "metadata": {
        "id": "8dgmZEYHolwR"
      },
      "source": [
        "class ModelContainer:\n",
        "    \n",
        "    def __init__(self, models=[]):       # default_num_iters=10, verbose_lvl=0):\n",
        "        # initializes model list, dicts and variables\n",
        "        self.models = []\n",
        "        self.model_scores = []\n",
        "        self.best_model = None\n",
        "        self.predictions = None\n",
        "        self.feature = None\n",
        "        self.model_names = []\n",
        "                 \n",
        "    def add_model_detail(self, model, score):\n",
        "        self.models.append(model)\n",
        "        self.model_scores.append(score)\n",
        "        model_name = container.extract_name(model)\n",
        "        self.model_names.append(model_name)\n",
        "\n",
        "    def select_best_model(self):\n",
        "        # select model with lowest test_score\n",
        "        best = self.model_scores[0]\n",
        "        best_model = self.models[0]\n",
        "        index = 0\n",
        "        for i in range (len(self.models)):\n",
        "            if self.model_scores[i] > best:\n",
        "                best = self.model_scores[i]\n",
        "                best_model = self.models[i]\n",
        "                index += 1\n",
        "        return best_model, best, index\n",
        "\n",
        "    def get_important_features(self):     \n",
        "        # Feature Correlation to Target\n",
        "        cor = train_df.corr()\n",
        "        # Show Correlation Heat Map\n",
        "        print('Feature Importance using Correlation:\\n')\n",
        "        fig = plt.figure(figsize=(24, 20))\n",
        "        colormap = sns.diverging_palette(500, 500, as_cmap = True)\n",
        "        sns.heatmap(cor,\n",
        "                    cmap = 'Blues',\n",
        "                    square = True,\n",
        "                    annot = True)\n",
        "        plt.xticks(rotation = 45, ha = 'right')\n",
        "        plt.show()\n",
        "        print('\\n')        \n",
        "        col = cor.columns\n",
        "        cor = abs(cor.Survived_1_year * 100) # make all importances positive(abs)\n",
        "        print('\\n')\n",
        "\n",
        "        # Create lists of features with importances > 0.7  \n",
        "        cor_col = []\n",
        "        cor_col_imp = []\n",
        "        for i, j in zip(col, cor):\n",
        "            if(j >= 0.7):\n",
        "                cor_col.append(i)\n",
        "                cor_col_imp.append(j)\n",
        "\n",
        "        # Bar Plot of feature importances\n",
        "        fig = plt.figure(figsize = (24, 20))\n",
        "        plt.bar(cor_col, cor_col_imp)\n",
        "        plt.title(\"Feature Importance of most important Features\", fontsize = 30)\n",
        "        plt.xlabel('Feature')\n",
        "        plt.ylabel('Importance')\n",
        "        plt.xticks(rotation = 45, ha = 'right')\n",
        "        plt.show()\n",
        "        return cor_col\n",
        "\n",
        "    def best_model_fit(self, features, targets):\n",
        "        #fits best model\n",
        "        self.best_model.fit(features, targets)\n",
        "         \n",
        "    def best_model_predict(self, features):\n",
        "        # scores features using best model\n",
        "        self.feature = features\n",
        "        self.predictions = self.best_model.predict(features)\n",
        "\n",
        "    def extract_name(self, model):\n",
        "        # Extract name of model from saved model data\n",
        "        s = str(model)\n",
        "        model_name = s.split(sep='(')[0]\n",
        "        print(\"Model Details for:   \" + model_name)\n",
        "        return model_name\n",
        "        \n",
        "    def save_results(self):\n",
        "        print(best_model)\n",
        "        with open('/content/drive/My Drive/Heart_Patient/Data/Best_Model.pkl', 'wb') as temp:\n",
        "            pickle.dump(best_model, temp)\n",
        "        return (self)\n",
        "\n",
        "    def print_summary(self):\n",
        "        # prints summary of models, best model, and feature importance\n",
        "        print('\\nModel Summaries\\n')\n",
        "        print(\"MODEL NAME\\t\\t\\tMODEL ACCURACY\")\n",
        "        for model, score in zip(self.models, self.model_scores):\n",
        "            s = str(model)\n",
        "            print('\\n', s.split(sep='(')[0], '\\t\\t', score)\n",
        "        self.select_best_model()           \n",
        "#        print(\"__\"*50, '\\nBest Model: ', self.best_model)\n"
      ],
      "execution_count": 3,
      "outputs": []
    },
    {
      "cell_type": "code",
      "metadata": {
        "id": "wRciPnc2Rdl6"
      },
      "source": [
        "# Defining Class' Object instance\n",
        "container = ModelContainer()"
      ],
      "execution_count": 4,
      "outputs": []
    },
    {
      "cell_type": "markdown",
      "metadata": {
        "id": "aeeTMKX96-QQ"
      },
      "source": [
        "### **Load Data**"
      ]
    },
    {
      "cell_type": "code",
      "metadata": {
        "id": "EpAT2N3fKqxQ",
        "colab": {
          "base_uri": "https://localhost:8080/"
        },
        "outputId": "45cf6159-0cfd-41f9-ea49-4e535793dde3"
      },
      "source": [
        "# mount the google drive\n",
        "drive.mount(\"/content/drive\")"
      ],
      "execution_count": 5,
      "outputs": [
        {
          "output_type": "stream",
          "text": [
            "Mounted at /content/drive\n"
          ],
          "name": "stdout"
        }
      ]
    },
    {
      "cell_type": "code",
      "metadata": {
        "id": "Y5WsB5TT6-QR"
      },
      "source": [
        "# Unpickle Training data\n",
        "train_df = pd.read_pickle('/content/drive/My Drive/Heart_Patient/Data/train_data_4_model.pkl')\n",
        "\n",
        "# Unpickle Blind Testing data\n",
        "test_df = pd.read_pickle('/content/drive/My Drive/Heart_Patient/Data/new_test_data_4_model.pkl')"
      ],
      "execution_count": 6,
      "outputs": []
    },
    {
      "cell_type": "code",
      "metadata": {
        "colab": {
          "base_uri": "https://localhost:8080/",
          "height": 222
        },
        "id": "JgpioN7-7KpK",
        "outputId": "b2d9a70b-7f5f-4f89-aee7-35b7083fc4fa"
      },
      "source": [
        "train_df.head()"
      ],
      "execution_count": 7,
      "outputs": [
        {
          "output_type": "execute_result",
          "data": {
            "text/html": [
              "<div>\n",
              "<style scoped>\n",
              "    .dataframe tbody tr th:only-of-type {\n",
              "        vertical-align: middle;\n",
              "    }\n",
              "\n",
              "    .dataframe tbody tr th {\n",
              "        vertical-align: top;\n",
              "    }\n",
              "\n",
              "    .dataframe thead th {\n",
              "        text-align: right;\n",
              "    }\n",
              "</style>\n",
              "<table border=\"1\" class=\"dataframe\">\n",
              "  <thead>\n",
              "    <tr style=\"text-align: right;\">\n",
              "      <th></th>\n",
              "      <th>ID_Patient_Care_Situation</th>\n",
              "      <th>Diagnosed_Condition</th>\n",
              "      <th>Patient_ID</th>\n",
              "      <th>Patient_Age</th>\n",
              "      <th>Patient_Body_Mass_Index</th>\n",
              "      <th>A</th>\n",
              "      <th>B</th>\n",
              "      <th>C</th>\n",
              "      <th>D</th>\n",
              "      <th>E</th>\n",
              "      <th>F</th>\n",
              "      <th>Z</th>\n",
              "      <th>Number_of_prev_cond</th>\n",
              "      <th>No_Drugs</th>\n",
              "      <th>DX1</th>\n",
              "      <th>DX2</th>\n",
              "      <th>DX3</th>\n",
              "      <th>DX4</th>\n",
              "      <th>DX5</th>\n",
              "      <th>DX6</th>\n",
              "      <th>Patient_Smoker_NO</th>\n",
              "      <th>Patient_Smoker_UNKNOWN</th>\n",
              "      <th>Patient_Smoker_YES</th>\n",
              "      <th>Patient_Rural_Urban_RURAL</th>\n",
              "      <th>Patient_Rural_Urban_URBAN</th>\n",
              "      <th>Survived_1_year</th>\n",
              "    </tr>\n",
              "  </thead>\n",
              "  <tbody>\n",
              "    <tr>\n",
              "      <th>0</th>\n",
              "      <td>16201</td>\n",
              "      <td>47</td>\n",
              "      <td>8433</td>\n",
              "      <td>60</td>\n",
              "      <td>21.655523</td>\n",
              "      <td>1</td>\n",
              "      <td>0</td>\n",
              "      <td>0</td>\n",
              "      <td>0</td>\n",
              "      <td>1</td>\n",
              "      <td>0</td>\n",
              "      <td>0</td>\n",
              "      <td>2</td>\n",
              "      <td>0</td>\n",
              "      <td>0</td>\n",
              "      <td>1</td>\n",
              "      <td>0</td>\n",
              "      <td>0</td>\n",
              "      <td>0</td>\n",
              "      <td>0</td>\n",
              "      <td>1</td>\n",
              "      <td>0</td>\n",
              "      <td>0</td>\n",
              "      <td>0</td>\n",
              "      <td>1</td>\n",
              "      <td>1</td>\n",
              "    </tr>\n",
              "    <tr>\n",
              "      <th>1</th>\n",
              "      <td>9421</td>\n",
              "      <td>3</td>\n",
              "      <td>2972</td>\n",
              "      <td>2</td>\n",
              "      <td>28.852743</td>\n",
              "      <td>1</td>\n",
              "      <td>0</td>\n",
              "      <td>1</td>\n",
              "      <td>0</td>\n",
              "      <td>1</td>\n",
              "      <td>0</td>\n",
              "      <td>0</td>\n",
              "      <td>3</td>\n",
              "      <td>0</td>\n",
              "      <td>0</td>\n",
              "      <td>0</td>\n",
              "      <td>0</td>\n",
              "      <td>0</td>\n",
              "      <td>0</td>\n",
              "      <td>1</td>\n",
              "      <td>1</td>\n",
              "      <td>0</td>\n",
              "      <td>0</td>\n",
              "      <td>1</td>\n",
              "      <td>0</td>\n",
              "      <td>0</td>\n",
              "    </tr>\n",
              "    <tr>\n",
              "      <th>2</th>\n",
              "      <td>16205</td>\n",
              "      <td>7</td>\n",
              "      <td>8608</td>\n",
              "      <td>20</td>\n",
              "      <td>26.179725</td>\n",
              "      <td>1</td>\n",
              "      <td>0</td>\n",
              "      <td>0</td>\n",
              "      <td>0</td>\n",
              "      <td>1</td>\n",
              "      <td>0</td>\n",
              "      <td>0</td>\n",
              "      <td>2</td>\n",
              "      <td>0</td>\n",
              "      <td>0</td>\n",
              "      <td>0</td>\n",
              "      <td>0</td>\n",
              "      <td>0</td>\n",
              "      <td>0</td>\n",
              "      <td>1</td>\n",
              "      <td>1</td>\n",
              "      <td>0</td>\n",
              "      <td>0</td>\n",
              "      <td>1</td>\n",
              "      <td>0</td>\n",
              "      <td>1</td>\n",
              "    </tr>\n",
              "    <tr>\n",
              "      <th>3</th>\n",
              "      <td>5582</td>\n",
              "      <td>31</td>\n",
              "      <td>10074</td>\n",
              "      <td>8</td>\n",
              "      <td>22.638945</td>\n",
              "      <td>1</td>\n",
              "      <td>0</td>\n",
              "      <td>0</td>\n",
              "      <td>0</td>\n",
              "      <td>1</td>\n",
              "      <td>0</td>\n",
              "      <td>0</td>\n",
              "      <td>2</td>\n",
              "      <td>0</td>\n",
              "      <td>0</td>\n",
              "      <td>0</td>\n",
              "      <td>0</td>\n",
              "      <td>0</td>\n",
              "      <td>0</td>\n",
              "      <td>1</td>\n",
              "      <td>1</td>\n",
              "      <td>0</td>\n",
              "      <td>0</td>\n",
              "      <td>1</td>\n",
              "      <td>0</td>\n",
              "      <td>0</td>\n",
              "    </tr>\n",
              "    <tr>\n",
              "      <th>4</th>\n",
              "      <td>20880</td>\n",
              "      <td>43</td>\n",
              "      <td>7462</td>\n",
              "      <td>53</td>\n",
              "      <td>21.326131</td>\n",
              "      <td>1</td>\n",
              "      <td>0</td>\n",
              "      <td>0</td>\n",
              "      <td>0</td>\n",
              "      <td>0</td>\n",
              "      <td>0</td>\n",
              "      <td>0</td>\n",
              "      <td>1</td>\n",
              "      <td>0</td>\n",
              "      <td>1</td>\n",
              "      <td>0</td>\n",
              "      <td>0</td>\n",
              "      <td>0</td>\n",
              "      <td>0</td>\n",
              "      <td>0</td>\n",
              "      <td>1</td>\n",
              "      <td>0</td>\n",
              "      <td>0</td>\n",
              "      <td>1</td>\n",
              "      <td>0</td>\n",
              "      <td>1</td>\n",
              "    </tr>\n",
              "  </tbody>\n",
              "</table>\n",
              "</div>"
            ],
            "text/plain": [
              "   ID_Patient_Care_Situation  ...  Survived_1_year\n",
              "0                      16201  ...                1\n",
              "1                       9421  ...                0\n",
              "2                      16205  ...                1\n",
              "3                       5582  ...                0\n",
              "4                      20880  ...                1\n",
              "\n",
              "[5 rows x 26 columns]"
            ]
          },
          "metadata": {
            "tags": []
          },
          "execution_count": 7
        }
      ]
    },
    {
      "cell_type": "code",
      "metadata": {
        "colab": {
          "base_uri": "https://localhost:8080/",
          "height": 222
        },
        "id": "Ki8adXM3q90v",
        "outputId": "70ffcbbf-582e-4dc4-b51c-1222aa1ddd98"
      },
      "source": [
        "test_df.head()"
      ],
      "execution_count": 8,
      "outputs": [
        {
          "output_type": "execute_result",
          "data": {
            "text/html": [
              "<div>\n",
              "<style scoped>\n",
              "    .dataframe tbody tr th:only-of-type {\n",
              "        vertical-align: middle;\n",
              "    }\n",
              "\n",
              "    .dataframe tbody tr th {\n",
              "        vertical-align: top;\n",
              "    }\n",
              "\n",
              "    .dataframe thead th {\n",
              "        text-align: right;\n",
              "    }\n",
              "</style>\n",
              "<table border=\"1\" class=\"dataframe\">\n",
              "  <thead>\n",
              "    <tr style=\"text-align: right;\">\n",
              "      <th></th>\n",
              "      <th>ID_Patient_Care_Situation</th>\n",
              "      <th>Diagnosed_Condition</th>\n",
              "      <th>Patient_ID</th>\n",
              "      <th>Patient_Age</th>\n",
              "      <th>Patient_Body_Mass_Index</th>\n",
              "      <th>A</th>\n",
              "      <th>B</th>\n",
              "      <th>C</th>\n",
              "      <th>D</th>\n",
              "      <th>E</th>\n",
              "      <th>F</th>\n",
              "      <th>Z</th>\n",
              "      <th>Number_of_prev_cond</th>\n",
              "      <th>No_Drugs</th>\n",
              "      <th>DX1</th>\n",
              "      <th>DX2</th>\n",
              "      <th>DX3</th>\n",
              "      <th>DX4</th>\n",
              "      <th>DX5</th>\n",
              "      <th>DX6</th>\n",
              "      <th>Patient_Smoker_NO</th>\n",
              "      <th>Patient_Smoker_UNKNOWN</th>\n",
              "      <th>Patient_Smoker_YES</th>\n",
              "      <th>Patient_Rural_Urban_RURAL</th>\n",
              "      <th>Patient_Rural_Urban_URBAN</th>\n",
              "    </tr>\n",
              "  </thead>\n",
              "  <tbody>\n",
              "    <tr>\n",
              "      <th>0</th>\n",
              "      <td>24206</td>\n",
              "      <td>35</td>\n",
              "      <td>4640</td>\n",
              "      <td>65</td>\n",
              "      <td>20.710365</td>\n",
              "      <td>1</td>\n",
              "      <td>0</td>\n",
              "      <td>0</td>\n",
              "      <td>0</td>\n",
              "      <td>1</td>\n",
              "      <td>0</td>\n",
              "      <td>0</td>\n",
              "      <td>2</td>\n",
              "      <td>0</td>\n",
              "      <td>0</td>\n",
              "      <td>0</td>\n",
              "      <td>0</td>\n",
              "      <td>0</td>\n",
              "      <td>1</td>\n",
              "      <td>0</td>\n",
              "      <td>1</td>\n",
              "      <td>0</td>\n",
              "      <td>0</td>\n",
              "      <td>1</td>\n",
              "      <td>0</td>\n",
              "    </tr>\n",
              "    <tr>\n",
              "      <th>1</th>\n",
              "      <td>32827</td>\n",
              "      <td>30</td>\n",
              "      <td>3214</td>\n",
              "      <td>2</td>\n",
              "      <td>24.250219</td>\n",
              "      <td>1</td>\n",
              "      <td>0</td>\n",
              "      <td>0</td>\n",
              "      <td>0</td>\n",
              "      <td>1</td>\n",
              "      <td>0</td>\n",
              "      <td>0</td>\n",
              "      <td>2</td>\n",
              "      <td>0</td>\n",
              "      <td>1</td>\n",
              "      <td>0</td>\n",
              "      <td>0</td>\n",
              "      <td>0</td>\n",
              "      <td>0</td>\n",
              "      <td>0</td>\n",
              "      <td>1</td>\n",
              "      <td>0</td>\n",
              "      <td>0</td>\n",
              "      <td>0</td>\n",
              "      <td>1</td>\n",
              "    </tr>\n",
              "    <tr>\n",
              "      <th>2</th>\n",
              "      <td>3694</td>\n",
              "      <td>46</td>\n",
              "      <td>3564</td>\n",
              "      <td>1</td>\n",
              "      <td>27.139276</td>\n",
              "      <td>1</td>\n",
              "      <td>0</td>\n",
              "      <td>0</td>\n",
              "      <td>0</td>\n",
              "      <td>0</td>\n",
              "      <td>0</td>\n",
              "      <td>0</td>\n",
              "      <td>1</td>\n",
              "      <td>0</td>\n",
              "      <td>0</td>\n",
              "      <td>0</td>\n",
              "      <td>0</td>\n",
              "      <td>0</td>\n",
              "      <td>0</td>\n",
              "      <td>1</td>\n",
              "      <td>1</td>\n",
              "      <td>0</td>\n",
              "      <td>0</td>\n",
              "      <td>0</td>\n",
              "      <td>1</td>\n",
              "    </tr>\n",
              "    <tr>\n",
              "      <th>3</th>\n",
              "      <td>7164</td>\n",
              "      <td>44</td>\n",
              "      <td>5176</td>\n",
              "      <td>29</td>\n",
              "      <td>29.191759</td>\n",
              "      <td>0</td>\n",
              "      <td>0</td>\n",
              "      <td>1</td>\n",
              "      <td>0</td>\n",
              "      <td>1</td>\n",
              "      <td>0</td>\n",
              "      <td>0</td>\n",
              "      <td>2</td>\n",
              "      <td>0</td>\n",
              "      <td>1</td>\n",
              "      <td>0</td>\n",
              "      <td>0</td>\n",
              "      <td>0</td>\n",
              "      <td>0</td>\n",
              "      <td>0</td>\n",
              "      <td>1</td>\n",
              "      <td>0</td>\n",
              "      <td>0</td>\n",
              "      <td>1</td>\n",
              "      <td>0</td>\n",
              "    </tr>\n",
              "    <tr>\n",
              "      <th>4</th>\n",
              "      <td>1259</td>\n",
              "      <td>30</td>\n",
              "      <td>1101</td>\n",
              "      <td>51</td>\n",
              "      <td>20.844146</td>\n",
              "      <td>0</td>\n",
              "      <td>0</td>\n",
              "      <td>0</td>\n",
              "      <td>0</td>\n",
              "      <td>1</td>\n",
              "      <td>0</td>\n",
              "      <td>0</td>\n",
              "      <td>1</td>\n",
              "      <td>0</td>\n",
              "      <td>0</td>\n",
              "      <td>0</td>\n",
              "      <td>0</td>\n",
              "      <td>0</td>\n",
              "      <td>1</td>\n",
              "      <td>0</td>\n",
              "      <td>1</td>\n",
              "      <td>0</td>\n",
              "      <td>0</td>\n",
              "      <td>0</td>\n",
              "      <td>1</td>\n",
              "    </tr>\n",
              "  </tbody>\n",
              "</table>\n",
              "</div>"
            ],
            "text/plain": [
              "   ID_Patient_Care_Situation  ...  Patient_Rural_Urban_URBAN\n",
              "0                      24206  ...                          0\n",
              "1                      32827  ...                          1\n",
              "2                       3694  ...                          1\n",
              "3                       7164  ...                          0\n",
              "4                       1259  ...                          1\n",
              "\n",
              "[5 rows x 25 columns]"
            ]
          },
          "metadata": {
            "tags": []
          },
          "execution_count": 8
        }
      ]
    },
    {
      "cell_type": "markdown",
      "metadata": {
        "id": "SOrOaJpD6-QU"
      },
      "source": [
        "### **Prepare Train/Test Data**\n",
        "1) Separate the input and output variables:\n",
        "- Features (Input variables) are represented by 'X' (capital)\n",
        "- Target (Output variables) are represented by 'y' (lowercase)"
      ]
    },
    {
      "cell_type": "code",
      "metadata": {
        "id": "Yeko9sBv6-QU"
      },
      "source": [
        "X = train_df.drop('Survived_1_year',axis = 1)\n",
        "y = pd.DataFrame(train_df['Survived_1_year'])"
      ],
      "execution_count": 9,
      "outputs": []
    },
    {
      "cell_type": "markdown",
      "metadata": {
        "id": "coMJaMcBbVz7"
      },
      "source": [
        "Remove the data Keys, Patient_ID and ID_Patient_Care_Situation.\n",
        "\n",
        "The key is discarded because it is unique to individual entries."
      ]
    },
    {
      "cell_type": "code",
      "metadata": {
        "id": "Z2eCw1lFbdqE"
      },
      "source": [
        "X = X.drop('Patient_ID', axis = 1)\n",
        "X = X.drop('ID_Patient_Care_Situation', axis = 1)\n",
        "\n",
        "# Same for the data for the final Prediction\n",
        "New_X = test_df.drop('Patient_ID', axis = 1)\n",
        "New_X = New_X.drop('ID_Patient_Care_Situation', axis = 1)"
      ],
      "execution_count": 10,
      "outputs": []
    },
    {
      "cell_type": "markdown",
      "metadata": {
        "id": "03gtv5k66-QX"
      },
      "source": [
        "2) Train/test split\\\n",
        "Split the training data into train and test."
      ]
    },
    {
      "cell_type": "code",
      "metadata": {
        "id": "9nPohcVW6-QX"
      },
      "source": [
        "X_train, X_test, y_train, y_test = train_test_split(X, y, test_size = 0.2, stratify=y, random_state = 1)"
      ],
      "execution_count": 11,
      "outputs": []
    },
    {
      "cell_type": "markdown",
      "metadata": {
        "id": "GPtRDk0n6-QM"
      },
      "source": [
        "# Build Models"
      ]
    },
    {
      "cell_type": "markdown",
      "metadata": {
        "id": "blEd2DqM6-Qa"
      },
      "source": [
        "### **Model Building**"
      ]
    },
    {
      "cell_type": "markdown",
      "metadata": {
        "id": "Ua9CUFTj13X2"
      },
      "source": [
        "The target, 'Survived_1_year' has two possible values:\n",
        "- 0 - meaning the patient DID NOT survive for one year of treatment,\n",
        "- 1 - meaning the patient DID survive for one year or longer after treatment. This is therfore a Classification Problem in Supervised Machine Learning.\n",
        "\n",
        "Classification models include:\n",
        "- Support Vector Classifier,\n",
        "- Logistic Regression, \n",
        "- Decision Tree Classifier\n",
        "- Random Forest Classifier,\n",
        "- etc.\n",
        "\n",
        "This script tests several models with and without some tuning approaches to find the best model for the data."
      ]
    },
    {
      "cell_type": "code",
      "metadata": {
        "colab": {
          "base_uri": "https://localhost:8080/"
        },
        "id": "l_KZjx05Rdl7",
        "outputId": "506203fb-5eaf-42de-f189-8984d3667242"
      },
      "source": [
        "models = {\"Support Vector Classifier\": LinearSVC(),\n",
        "        \"Logistic Regression\": LogisticRegression(),\n",
        "        \"DecisionTreeClassifier\": DecisionTreeClassifier(),\n",
        "        \"Random Forest With Full Features\": RandomForestClassifier()}\n",
        "\n",
        "i=1\n",
        "for name, model in models.items():\n",
        "    # Training & Predicting Model\n",
        "    model.fit(X_train, y_train)\n",
        "    y_pred = model.predict(X_test)\n",
        "    \n",
        "    # Storing Model Performance to container\n",
        "    container.add_model_detail(model, f1_score(y_test, y_pred))\n",
        "\n",
        "    # Model Evaluation\n",
        "    print(i, \":\", name, \"Evaluation\")\n",
        "    print(\"F1 Score is \", f1_score(y_test, y_pred), \"\\n\", \"__\"*50, \"\\n\")\n",
        "    i=i+1    "
      ],
      "execution_count": 12,
      "outputs": [
        {
          "output_type": "stream",
          "text": [
            "Model Details for:   LinearSVC\n",
            "1 : Support Vector Classifier Evaluation\n",
            "F1 Score is  0.3138028169014085 \n",
            " ____________________________________________________________________________________________________ \n",
            "\n",
            "Model Details for:   LogisticRegression\n",
            "2 : Logistic Regression Evaluation\n",
            "F1 Score is  0.8042058308108969 \n",
            " ____________________________________________________________________________________________________ \n",
            "\n",
            "Model Details for:   DecisionTreeClassifier\n",
            "3 : DecisionTreeClassifier Evaluation\n",
            "F1 Score is  0.8221129387824317 \n",
            " ____________________________________________________________________________________________________ \n",
            "\n",
            "Model Details for:   RandomForestClassifier\n",
            "4 : Random Forest With Full Features Evaluation\n",
            "F1 Score is  0.8568090787716955 \n",
            " ____________________________________________________________________________________________________ \n",
            "\n"
          ],
          "name": "stdout"
        }
      ]
    },
    {
      "cell_type": "code",
      "metadata": {
        "colab": {
          "base_uri": "https://localhost:8080/"
        },
        "id": "Gks_Mdr0Z0tH",
        "outputId": "70efe502-cc4a-4c10-fcaa-73364ba1ac6b"
      },
      "source": [
        "# Summarize results\n",
        "container.print_summary()"
      ],
      "execution_count": 13,
      "outputs": [
        {
          "output_type": "stream",
          "text": [
            "\n",
            "Model Summaries\n",
            "\n",
            "MODEL NAME\t\t\tMODEL ACCURACY\n",
            "\n",
            " LinearSVC \t\t 0.3138028169014085\n",
            "\n",
            " LogisticRegression \t\t 0.8042058308108969\n",
            "\n",
            " DecisionTreeClassifier \t\t 0.8221129387824317\n",
            "\n",
            " RandomForestClassifier \t\t 0.8568090787716955\n"
          ],
          "name": "stdout"
        }
      ]
    },
    {
      "cell_type": "markdown",
      "metadata": {
        "id": "sdipZBdS6-Qq"
      },
      "source": [
        "Random Forrect Classifier the best performig model. \n",
        "There are a lot of feaures to train the model on.\n",
        "Feature selection may improve the accuracy of the Random Forest model.\n",
        "\n",
        "Both 'Feature Correlation' and 'Boruta Feature Selector' will be tried."
      ]
    },
    {
      "cell_type": "markdown",
      "metadata": {
        "id": "yR3joJT6h_2-"
      },
      "source": [
        "### Feature Correlation"
      ]
    },
    {
      "cell_type": "code",
      "metadata": {
        "colab": {
          "base_uri": "https://localhost:8080/",
          "height": 1000
        },
        "id": "GEEMiw-FkxgV",
        "outputId": "165b21b7-6db4-4890-9365-5e97ea7882d0"
      },
      "source": [
        "cor_col = container.get_important_features()\n",
        "# container.get_important_features()"
      ],
      "execution_count": 14,
      "outputs": [
        {
          "output_type": "stream",
          "text": [
            "Feature Importance using Correlation:\n",
            "\n"
          ],
          "name": "stdout"
        },
        {
          "output_type": "display_data",
          "data": {
            "image/png": "[encoded data removed]",
            "text/plain": [
              "<Figure size 1728x1440 with 2 Axes>"
            ]
          },
          "metadata": {
            "tags": [],
            "needs_background": "light"
          }
        },
        {
          "output_type": "stream",
          "text": [
            "\n",
            "\n",
            "\n",
            "\n"
          ],
          "name": "stdout"
        },
        {
          "output_type": "display_data",
          "data": {
            "image/png": "[encoded data removed]",
            "text/plain": [
              "<Figure size 1728x1440 with 1 Axes>"
            ]
          },
          "metadata": {
            "tags": [],
            "needs_background": "light"
          }
        }
      ]
    },
    {
      "cell_type": "code",
      "metadata": {
        "colab": {
          "base_uri": "https://localhost:8080/"
        },
        "id": "g2zer7arTBgl",
        "outputId": "3f9a2b0e-3cab-4bc7-f170-95397c351784"
      },
      "source": [
        "# Show Features with a correlation of greater than +0.7 or less than -0.7.\n",
        "print(cor_col)"
      ],
      "execution_count": 15,
      "outputs": [
        {
          "output_type": "stream",
          "text": [
            "['Diagnosed_Condition', 'Patient_Age', 'Patient_Body_Mass_Index', 'A', 'B', 'C', 'D', 'Z', 'Number_of_prev_cond', 'No_Drugs', 'DX1', 'DX2', 'DX3', 'DX4', 'DX5', 'DX6', 'Patient_Smoker_NO', 'Patient_Smoker_UNKNOWN', 'Patient_Smoker_YES', 'Patient_Rural_Urban_RURAL', 'Patient_Rural_Urban_URBAN', 'Survived_1_year']\n"
          ],
          "name": "stdout"
        }
      ]
    },
    {
      "cell_type": "code",
      "metadata": {
        "colab": {
          "base_uri": "https://localhost:8080/"
        },
        "id": "W7G8CIZaWMmr",
        "outputId": "623a9007-8b24-41cb-b394-13a521f1a407"
      },
      "source": [
        "cor_col.remove(\"Survived_1_year\")\n",
        "print(cor_col)"
      ],
      "execution_count": 16,
      "outputs": [
        {
          "output_type": "stream",
          "text": [
            "['Diagnosed_Condition', 'Patient_Age', 'Patient_Body_Mass_Index', 'A', 'B', 'C', 'D', 'Z', 'Number_of_prev_cond', 'No_Drugs', 'DX1', 'DX2', 'DX3', 'DX4', 'DX5', 'DX6', 'Patient_Smoker_NO', 'Patient_Smoker_UNKNOWN', 'Patient_Smoker_YES', 'Patient_Rural_Urban_RURAL', 'Patient_Rural_Urban_URBAN']\n"
          ],
          "name": "stdout"
        }
      ]
    },
    {
      "cell_type": "markdown",
      "metadata": {
        "id": "pwqF_fApi_CC"
      },
      "source": [
        "#### Create a new subset of the data with only the selected features"
      ]
    },
    {
      "cell_type": "code",
      "metadata": {
        "id": "XmtEmoMMi_CD"
      },
      "source": [
        "X_important_train = pd.DataFrame(X_train[cor_col])\n",
        "X_important_test = pd.DataFrame(X_test[cor_col])"
      ],
      "execution_count": 17,
      "outputs": []
    },
    {
      "cell_type": "code",
      "metadata": {
        "colab": {
          "base_uri": "https://localhost:8080/",
          "height": 222
        },
        "id": "KBgltd7BqMYa",
        "outputId": "3d8c950f-4266-48bd-ee5f-99ccbbc2a2c1"
      },
      "source": [
        "X_important_train.head()"
      ],
      "execution_count": 18,
      "outputs": [
        {
          "output_type": "execute_result",
          "data": {
            "text/html": [
              "<div>\n",
              "<style scoped>\n",
              "    .dataframe tbody tr th:only-of-type {\n",
              "        vertical-align: middle;\n",
              "    }\n",
              "\n",
              "    .dataframe tbody tr th {\n",
              "        vertical-align: top;\n",
              "    }\n",
              "\n",
              "    .dataframe thead th {\n",
              "        text-align: right;\n",
              "    }\n",
              "</style>\n",
              "<table border=\"1\" class=\"dataframe\">\n",
              "  <thead>\n",
              "    <tr style=\"text-align: right;\">\n",
              "      <th></th>\n",
              "      <th>Diagnosed_Condition</th>\n",
              "      <th>Patient_Age</th>\n",
              "      <th>Patient_Body_Mass_Index</th>\n",
              "      <th>A</th>\n",
              "      <th>B</th>\n",
              "      <th>C</th>\n",
              "      <th>D</th>\n",
              "      <th>Z</th>\n",
              "      <th>Number_of_prev_cond</th>\n",
              "      <th>No_Drugs</th>\n",
              "      <th>DX1</th>\n",
              "      <th>DX2</th>\n",
              "      <th>DX3</th>\n",
              "      <th>DX4</th>\n",
              "      <th>DX5</th>\n",
              "      <th>DX6</th>\n",
              "      <th>Patient_Smoker_NO</th>\n",
              "      <th>Patient_Smoker_UNKNOWN</th>\n",
              "      <th>Patient_Smoker_YES</th>\n",
              "      <th>Patient_Rural_Urban_RURAL</th>\n",
              "      <th>Patient_Rural_Urban_URBAN</th>\n",
              "    </tr>\n",
              "  </thead>\n",
              "  <tbody>\n",
              "    <tr>\n",
              "      <th>3993</th>\n",
              "      <td>9</td>\n",
              "      <td>23</td>\n",
              "      <td>27.053833</td>\n",
              "      <td>0</td>\n",
              "      <td>0</td>\n",
              "      <td>0</td>\n",
              "      <td>0</td>\n",
              "      <td>0</td>\n",
              "      <td>0</td>\n",
              "      <td>0</td>\n",
              "      <td>1</td>\n",
              "      <td>0</td>\n",
              "      <td>0</td>\n",
              "      <td>0</td>\n",
              "      <td>1</td>\n",
              "      <td>0</td>\n",
              "      <td>1</td>\n",
              "      <td>0</td>\n",
              "      <td>0</td>\n",
              "      <td>1</td>\n",
              "      <td>0</td>\n",
              "    </tr>\n",
              "    <tr>\n",
              "      <th>13291</th>\n",
              "      <td>18</td>\n",
              "      <td>37</td>\n",
              "      <td>28.495814</td>\n",
              "      <td>0</td>\n",
              "      <td>0</td>\n",
              "      <td>0</td>\n",
              "      <td>0</td>\n",
              "      <td>0</td>\n",
              "      <td>0</td>\n",
              "      <td>0</td>\n",
              "      <td>0</td>\n",
              "      <td>0</td>\n",
              "      <td>0</td>\n",
              "      <td>0</td>\n",
              "      <td>0</td>\n",
              "      <td>1</td>\n",
              "      <td>0</td>\n",
              "      <td>0</td>\n",
              "      <td>1</td>\n",
              "      <td>1</td>\n",
              "      <td>0</td>\n",
              "    </tr>\n",
              "    <tr>\n",
              "      <th>14821</th>\n",
              "      <td>37</td>\n",
              "      <td>61</td>\n",
              "      <td>26.188982</td>\n",
              "      <td>1</td>\n",
              "      <td>0</td>\n",
              "      <td>0</td>\n",
              "      <td>0</td>\n",
              "      <td>0</td>\n",
              "      <td>1</td>\n",
              "      <td>0</td>\n",
              "      <td>1</td>\n",
              "      <td>0</td>\n",
              "      <td>0</td>\n",
              "      <td>0</td>\n",
              "      <td>0</td>\n",
              "      <td>0</td>\n",
              "      <td>1</td>\n",
              "      <td>0</td>\n",
              "      <td>0</td>\n",
              "      <td>1</td>\n",
              "      <td>0</td>\n",
              "    </tr>\n",
              "    <tr>\n",
              "      <th>13192</th>\n",
              "      <td>0</td>\n",
              "      <td>33</td>\n",
              "      <td>1.089300</td>\n",
              "      <td>0</td>\n",
              "      <td>0</td>\n",
              "      <td>0</td>\n",
              "      <td>0</td>\n",
              "      <td>1</td>\n",
              "      <td>1</td>\n",
              "      <td>1</td>\n",
              "      <td>0</td>\n",
              "      <td>0</td>\n",
              "      <td>0</td>\n",
              "      <td>0</td>\n",
              "      <td>0</td>\n",
              "      <td>0</td>\n",
              "      <td>0</td>\n",
              "      <td>1</td>\n",
              "      <td>0</td>\n",
              "      <td>1</td>\n",
              "      <td>0</td>\n",
              "    </tr>\n",
              "    <tr>\n",
              "      <th>8369</th>\n",
              "      <td>47</td>\n",
              "      <td>32</td>\n",
              "      <td>27.539629</td>\n",
              "      <td>1</td>\n",
              "      <td>0</td>\n",
              "      <td>0</td>\n",
              "      <td>0</td>\n",
              "      <td>0</td>\n",
              "      <td>2</td>\n",
              "      <td>0</td>\n",
              "      <td>0</td>\n",
              "      <td>0</td>\n",
              "      <td>0</td>\n",
              "      <td>0</td>\n",
              "      <td>0</td>\n",
              "      <td>1</td>\n",
              "      <td>1</td>\n",
              "      <td>0</td>\n",
              "      <td>0</td>\n",
              "      <td>0</td>\n",
              "      <td>1</td>\n",
              "    </tr>\n",
              "  </tbody>\n",
              "</table>\n",
              "</div>"
            ],
            "text/plain": [
              "       Diagnosed_Condition  ...  Patient_Rural_Urban_URBAN\n",
              "3993                     9  ...                          0\n",
              "13291                   18  ...                          0\n",
              "14821                   37  ...                          0\n",
              "13192                    0  ...                          0\n",
              "8369                    47  ...                          1\n",
              "\n",
              "[5 rows x 21 columns]"
            ]
          },
          "metadata": {
            "tags": []
          },
          "execution_count": 18
        }
      ]
    },
    {
      "cell_type": "code",
      "metadata": {
        "colab": {
          "base_uri": "https://localhost:8080/",
          "height": 222
        },
        "id": "nZZdC9YcIGtb",
        "outputId": "880f8095-ec54-4a40-824b-e6b05ba3f771"
      },
      "source": [
        "X_important_test.head()"
      ],
      "execution_count": 19,
      "outputs": [
        {
          "output_type": "execute_result",
          "data": {
            "text/html": [
              "<div>\n",
              "<style scoped>\n",
              "    .dataframe tbody tr th:only-of-type {\n",
              "        vertical-align: middle;\n",
              "    }\n",
              "\n",
              "    .dataframe tbody tr th {\n",
              "        vertical-align: top;\n",
              "    }\n",
              "\n",
              "    .dataframe thead th {\n",
              "        text-align: right;\n",
              "    }\n",
              "</style>\n",
              "<table border=\"1\" class=\"dataframe\">\n",
              "  <thead>\n",
              "    <tr style=\"text-align: right;\">\n",
              "      <th></th>\n",
              "      <th>Diagnosed_Condition</th>\n",
              "      <th>Patient_Age</th>\n",
              "      <th>Patient_Body_Mass_Index</th>\n",
              "      <th>A</th>\n",
              "      <th>B</th>\n",
              "      <th>C</th>\n",
              "      <th>D</th>\n",
              "      <th>Z</th>\n",
              "      <th>Number_of_prev_cond</th>\n",
              "      <th>No_Drugs</th>\n",
              "      <th>DX1</th>\n",
              "      <th>DX2</th>\n",
              "      <th>DX3</th>\n",
              "      <th>DX4</th>\n",
              "      <th>DX5</th>\n",
              "      <th>DX6</th>\n",
              "      <th>Patient_Smoker_NO</th>\n",
              "      <th>Patient_Smoker_UNKNOWN</th>\n",
              "      <th>Patient_Smoker_YES</th>\n",
              "      <th>Patient_Rural_Urban_RURAL</th>\n",
              "      <th>Patient_Rural_Urban_URBAN</th>\n",
              "    </tr>\n",
              "  </thead>\n",
              "  <tbody>\n",
              "    <tr>\n",
              "      <th>3604</th>\n",
              "      <td>19</td>\n",
              "      <td>43</td>\n",
              "      <td>17.291259</td>\n",
              "      <td>1</td>\n",
              "      <td>0</td>\n",
              "      <td>0</td>\n",
              "      <td>0</td>\n",
              "      <td>0</td>\n",
              "      <td>1</td>\n",
              "      <td>0</td>\n",
              "      <td>0</td>\n",
              "      <td>0</td>\n",
              "      <td>0</td>\n",
              "      <td>1</td>\n",
              "      <td>0</td>\n",
              "      <td>0</td>\n",
              "      <td>0</td>\n",
              "      <td>0</td>\n",
              "      <td>1</td>\n",
              "      <td>0</td>\n",
              "      <td>1</td>\n",
              "    </tr>\n",
              "    <tr>\n",
              "      <th>13554</th>\n",
              "      <td>42</td>\n",
              "      <td>32</td>\n",
              "      <td>28.637347</td>\n",
              "      <td>1</td>\n",
              "      <td>1</td>\n",
              "      <td>0</td>\n",
              "      <td>0</td>\n",
              "      <td>0</td>\n",
              "      <td>2</td>\n",
              "      <td>0</td>\n",
              "      <td>0</td>\n",
              "      <td>0</td>\n",
              "      <td>0</td>\n",
              "      <td>0</td>\n",
              "      <td>0</td>\n",
              "      <td>1</td>\n",
              "      <td>0</td>\n",
              "      <td>0</td>\n",
              "      <td>1</td>\n",
              "      <td>1</td>\n",
              "      <td>0</td>\n",
              "    </tr>\n",
              "    <tr>\n",
              "      <th>8788</th>\n",
              "      <td>19</td>\n",
              "      <td>33</td>\n",
              "      <td>25.739042</td>\n",
              "      <td>1</td>\n",
              "      <td>0</td>\n",
              "      <td>0</td>\n",
              "      <td>0</td>\n",
              "      <td>0</td>\n",
              "      <td>1</td>\n",
              "      <td>0</td>\n",
              "      <td>0</td>\n",
              "      <td>0</td>\n",
              "      <td>0</td>\n",
              "      <td>0</td>\n",
              "      <td>0</td>\n",
              "      <td>1</td>\n",
              "      <td>0</td>\n",
              "      <td>0</td>\n",
              "      <td>1</td>\n",
              "      <td>0</td>\n",
              "      <td>1</td>\n",
              "    </tr>\n",
              "    <tr>\n",
              "      <th>4847</th>\n",
              "      <td>20</td>\n",
              "      <td>28</td>\n",
              "      <td>20.549522</td>\n",
              "      <td>1</td>\n",
              "      <td>0</td>\n",
              "      <td>0</td>\n",
              "      <td>0</td>\n",
              "      <td>0</td>\n",
              "      <td>1</td>\n",
              "      <td>0</td>\n",
              "      <td>0</td>\n",
              "      <td>0</td>\n",
              "      <td>0</td>\n",
              "      <td>0</td>\n",
              "      <td>1</td>\n",
              "      <td>0</td>\n",
              "      <td>1</td>\n",
              "      <td>0</td>\n",
              "      <td>0</td>\n",
              "      <td>0</td>\n",
              "      <td>1</td>\n",
              "    </tr>\n",
              "    <tr>\n",
              "      <th>23082</th>\n",
              "      <td>2</td>\n",
              "      <td>38</td>\n",
              "      <td>22.700380</td>\n",
              "      <td>1</td>\n",
              "      <td>0</td>\n",
              "      <td>1</td>\n",
              "      <td>0</td>\n",
              "      <td>0</td>\n",
              "      <td>2</td>\n",
              "      <td>0</td>\n",
              "      <td>0</td>\n",
              "      <td>0</td>\n",
              "      <td>0</td>\n",
              "      <td>0</td>\n",
              "      <td>0</td>\n",
              "      <td>1</td>\n",
              "      <td>1</td>\n",
              "      <td>0</td>\n",
              "      <td>0</td>\n",
              "      <td>1</td>\n",
              "      <td>0</td>\n",
              "    </tr>\n",
              "  </tbody>\n",
              "</table>\n",
              "</div>"
            ],
            "text/plain": [
              "       Diagnosed_Condition  ...  Patient_Rural_Urban_URBAN\n",
              "3604                    19  ...                          1\n",
              "13554                   42  ...                          0\n",
              "8788                    19  ...                          1\n",
              "4847                    20  ...                          1\n",
              "23082                    2  ...                          0\n",
              "\n",
              "[5 rows x 21 columns]"
            ]
          },
          "metadata": {
            "tags": []
          },
          "execution_count": 19
        }
      ]
    },
    {
      "cell_type": "markdown",
      "metadata": {
        "id": "NqXSMl9di_CD"
      },
      "source": [
        "#### Build model with selected features"
      ]
    },
    {
      "cell_type": "code",
      "metadata": {
        "colab": {
          "base_uri": "https://localhost:8080/"
        },
        "id": "4UQSviKxi_CE",
        "outputId": "53258734-8659-4b68-e821-d84c24e1f86f"
      },
      "source": [
        "# Create a new random forest classifier for the most important features and the same hyperparameters\n",
        "rf_important = RandomForestClassifier()\n",
        "\n",
        "# Train the new classifier on the new dataset containing the most important features\n",
        "rf_important.fit(X_important_train, y_train)"
      ],
      "execution_count": 20,
      "outputs": [
        {
          "output_type": "execute_result",
          "data": {
            "text/plain": [
              "RandomForestClassifier(bootstrap=True, ccp_alpha=0.0, class_weight=None,\n",
              "                       criterion='gini', max_depth=None, max_features='auto',\n",
              "                       max_leaf_nodes=None, max_samples=None,\n",
              "                       min_impurity_decrease=0.0, min_impurity_split=None,\n",
              "                       min_samples_leaf=1, min_samples_split=2,\n",
              "                       min_weight_fraction_leaf=0.0, n_estimators=100,\n",
              "                       n_jobs=None, oob_score=False, random_state=None,\n",
              "                       verbose=0, warm_start=False)"
            ]
          },
          "metadata": {
            "tags": []
          },
          "execution_count": 20
        }
      ]
    },
    {
      "cell_type": "code",
      "metadata": {
        "id": "CHdrS0gVi_CE"
      },
      "source": [
        "y_important_pred = rf_important.predict(X_important_test)\n",
        "rf_imp_fscore = f1_score(y_test, y_important_pred)"
      ],
      "execution_count": 21,
      "outputs": []
    },
    {
      "cell_type": "markdown",
      "metadata": {
        "id": "XPfpxQvxXUqR"
      },
      "source": [
        "#### Evaluation"
      ]
    },
    {
      "cell_type": "code",
      "metadata": {
        "colab": {
          "base_uri": "https://localhost:8080/"
        },
        "id": "jn5rU0cqi_CF",
        "outputId": "5a7883cc-eeb3-4902-ef63-b892e825708e"
      },
      "source": [
        "# Storing Model Performance to container\n",
        "container.add_model_detail(rf_important, rf_imp_fscore)\n",
        "print(rf_imp_fscore)"
      ],
      "execution_count": 22,
      "outputs": [
        {
          "output_type": "stream",
          "text": [
            "Model Details for:   RandomForestClassifier\n",
            "0.8591925258591926\n"
          ],
          "name": "stdout"
        }
      ]
    },
    {
      "cell_type": "markdown",
      "metadata": {
        "id": "Ovgr0wvN6-Qq"
      },
      "source": [
        "### Random Forest and Boruta\n",
        "\n",
        "\n"
      ]
    },
    {
      "cell_type": "markdown",
      "metadata": {
        "id": "pqBkRYFK6-Qr"
      },
      "source": [
        "Boruta is an all-relevant feature selection method. Unlike other techniques that select small set of features to minimize the error, Boruta tries to capture all the important and interesting features in the dataset with respect to the target variable.\n",
        "\n",
        "Boruta by default uses random forest but can be used with other algorithms such as LightGBM, XGBoost etc."
      ]
    },
    {
      "cell_type": "code",
      "metadata": {
        "colab": {
          "base_uri": "https://localhost:8080/"
        },
        "id": "rX4_oELM6-Qr",
        "outputId": "34894ff6-b192-448e-9aa3-c303eef17a01"
      },
      "source": [
        "# initialize the boruta selector\n",
        "boruta_forest = RandomForestClassifier()\n",
        "boruta_selector = BorutaPy(boruta_forest, n_estimators = 'auto', verbose = 2, random_state = 1)\n",
        "\n",
        "# fit the boruta selector (including converting data to numpy array for Boruta to read it.)\n",
        "boruta_selector.fit(np.array(X_train), np.array(y_train))"
      ],
      "execution_count": 23,
      "outputs": [
        {
          "output_type": "stream",
          "text": [
            "Iteration: \t1 / 100\n",
            "Confirmed: \t0\n",
            "Tentative: \t23\n",
            "Rejected: \t0\n",
            "Iteration: \t2 / 100\n",
            "Confirmed: \t0\n",
            "Tentative: \t23\n",
            "Rejected: \t0\n",
            "Iteration: \t3 / 100\n",
            "Confirmed: \t0\n",
            "Tentative: \t23\n",
            "Rejected: \t0\n",
            "Iteration: \t4 / 100\n",
            "Confirmed: \t0\n",
            "Tentative: \t23\n",
            "Rejected: \t0\n",
            "Iteration: \t5 / 100\n",
            "Confirmed: \t0\n",
            "Tentative: \t23\n",
            "Rejected: \t0\n",
            "Iteration: \t6 / 100\n",
            "Confirmed: \t0\n",
            "Tentative: \t23\n",
            "Rejected: \t0\n",
            "Iteration: \t7 / 100\n",
            "Confirmed: \t0\n",
            "Tentative: \t23\n",
            "Rejected: \t0\n",
            "Iteration: \t8 / 100\n",
            "Confirmed: \t4\n",
            "Tentative: \t0\n",
            "Rejected: \t19\n",
            "\n",
            "\n",
            "BorutaPy finished running.\n",
            "\n",
            "Iteration: \t9 / 100\n",
            "Confirmed: \t4\n",
            "Tentative: \t0\n",
            "Rejected: \t19\n"
          ],
          "name": "stdout"
        },
        {
          "output_type": "execute_result",
          "data": {
            "text/plain": [
              "BorutaPy(alpha=0.05,\n",
              "         estimator=RandomForestClassifier(bootstrap=True, ccp_alpha=0.0,\n",
              "                                          class_weight=None, criterion='gini',\n",
              "                                          max_depth=None, max_features='auto',\n",
              "                                          max_leaf_nodes=None, max_samples=None,\n",
              "                                          min_impurity_decrease=0.0,\n",
              "                                          min_impurity_split=None,\n",
              "                                          min_samples_leaf=1,\n",
              "                                          min_samples_split=2,\n",
              "                                          min_weight_fraction_leaf=0.0,\n",
              "                                          n_estimators=67, n_jobs=None,\n",
              "                                          oob_score=False,\n",
              "                                          random_state=RandomState(MT19937) at 0x7FE8F6B0A050,\n",
              "                                          verbose=0, warm_start=False),\n",
              "         max_iter=100, n_estimators='auto', perc=100,\n",
              "         random_state=RandomState(MT19937) at 0x7FE8F6B0A050, two_step=True,\n",
              "         verbose=2)"
            ]
          },
          "metadata": {
            "tags": []
          },
          "execution_count": 23
        }
      ]
    },
    {
      "cell_type": "markdown",
      "metadata": {
        "id": "DiMV30pcN4nJ"
      },
      "source": [
        "**Display features in Rank order**"
      ]
    },
    {
      "cell_type": "code",
      "metadata": {
        "colab": {
          "base_uri": "https://localhost:8080/",
          "height": 754
        },
        "id": "2SFZLmQ06-Qz",
        "outputId": "442e9136-6075-4425-f319-80c253db44eb"
      },
      "source": [
        "# check selected features\n",
        "selected_rfe_features = pd.DataFrame({'Feature':list(X_train.columns),\n",
        "                                      'Ranking':boruta_selector.ranking_})\n",
        "selected_rfe_features.sort_values(by='Ranking')"
      ],
      "execution_count": 24,
      "outputs": [
        {
          "output_type": "execute_result",
          "data": {
            "text/html": [
              "<div>\n",
              "<style scoped>\n",
              "    .dataframe tbody tr th:only-of-type {\n",
              "        vertical-align: middle;\n",
              "    }\n",
              "\n",
              "    .dataframe tbody tr th {\n",
              "        vertical-align: top;\n",
              "    }\n",
              "\n",
              "    .dataframe thead th {\n",
              "        text-align: right;\n",
              "    }\n",
              "</style>\n",
              "<table border=\"1\" class=\"dataframe\">\n",
              "  <thead>\n",
              "    <tr style=\"text-align: right;\">\n",
              "      <th></th>\n",
              "      <th>Feature</th>\n",
              "      <th>Ranking</th>\n",
              "    </tr>\n",
              "  </thead>\n",
              "  <tbody>\n",
              "    <tr>\n",
              "      <th>0</th>\n",
              "      <td>Diagnosed_Condition</td>\n",
              "      <td>1</td>\n",
              "    </tr>\n",
              "    <tr>\n",
              "      <th>1</th>\n",
              "      <td>Patient_Age</td>\n",
              "      <td>1</td>\n",
              "    </tr>\n",
              "    <tr>\n",
              "      <th>2</th>\n",
              "      <td>Patient_Body_Mass_Index</td>\n",
              "      <td>1</td>\n",
              "    </tr>\n",
              "    <tr>\n",
              "      <th>17</th>\n",
              "      <td>DX6</td>\n",
              "      <td>1</td>\n",
              "    </tr>\n",
              "    <tr>\n",
              "      <th>20</th>\n",
              "      <td>Patient_Smoker_YES</td>\n",
              "      <td>2</td>\n",
              "    </tr>\n",
              "    <tr>\n",
              "      <th>18</th>\n",
              "      <td>Patient_Smoker_NO</td>\n",
              "      <td>3</td>\n",
              "    </tr>\n",
              "    <tr>\n",
              "      <th>10</th>\n",
              "      <td>Number_of_prev_cond</td>\n",
              "      <td>4</td>\n",
              "    </tr>\n",
              "    <tr>\n",
              "      <th>16</th>\n",
              "      <td>DX5</td>\n",
              "      <td>5</td>\n",
              "    </tr>\n",
              "    <tr>\n",
              "      <th>6</th>\n",
              "      <td>D</td>\n",
              "      <td>6</td>\n",
              "    </tr>\n",
              "    <tr>\n",
              "      <th>3</th>\n",
              "      <td>A</td>\n",
              "      <td>7</td>\n",
              "    </tr>\n",
              "    <tr>\n",
              "      <th>21</th>\n",
              "      <td>Patient_Rural_Urban_RURAL</td>\n",
              "      <td>8</td>\n",
              "    </tr>\n",
              "    <tr>\n",
              "      <th>12</th>\n",
              "      <td>DX1</td>\n",
              "      <td>9</td>\n",
              "    </tr>\n",
              "    <tr>\n",
              "      <th>22</th>\n",
              "      <td>Patient_Rural_Urban_URBAN</td>\n",
              "      <td>10</td>\n",
              "    </tr>\n",
              "    <tr>\n",
              "      <th>7</th>\n",
              "      <td>E</td>\n",
              "      <td>11</td>\n",
              "    </tr>\n",
              "    <tr>\n",
              "      <th>14</th>\n",
              "      <td>DX3</td>\n",
              "      <td>12</td>\n",
              "    </tr>\n",
              "    <tr>\n",
              "      <th>15</th>\n",
              "      <td>DX4</td>\n",
              "      <td>12</td>\n",
              "    </tr>\n",
              "    <tr>\n",
              "      <th>5</th>\n",
              "      <td>C</td>\n",
              "      <td>14</td>\n",
              "    </tr>\n",
              "    <tr>\n",
              "      <th>13</th>\n",
              "      <td>DX2</td>\n",
              "      <td>15</td>\n",
              "    </tr>\n",
              "    <tr>\n",
              "      <th>4</th>\n",
              "      <td>B</td>\n",
              "      <td>16</td>\n",
              "    </tr>\n",
              "    <tr>\n",
              "      <th>8</th>\n",
              "      <td>F</td>\n",
              "      <td>17</td>\n",
              "    </tr>\n",
              "    <tr>\n",
              "      <th>11</th>\n",
              "      <td>No_Drugs</td>\n",
              "      <td>18</td>\n",
              "    </tr>\n",
              "    <tr>\n",
              "      <th>9</th>\n",
              "      <td>Z</td>\n",
              "      <td>19</td>\n",
              "    </tr>\n",
              "    <tr>\n",
              "      <th>19</th>\n",
              "      <td>Patient_Smoker_UNKNOWN</td>\n",
              "      <td>20</td>\n",
              "    </tr>\n",
              "  </tbody>\n",
              "</table>\n",
              "</div>"
            ],
            "text/plain": [
              "                      Feature  Ranking\n",
              "0         Diagnosed_Condition        1\n",
              "1                 Patient_Age        1\n",
              "2     Patient_Body_Mass_Index        1\n",
              "17                        DX6        1\n",
              "20         Patient_Smoker_YES        2\n",
              "18          Patient_Smoker_NO        3\n",
              "10        Number_of_prev_cond        4\n",
              "16                        DX5        5\n",
              "6                           D        6\n",
              "3                           A        7\n",
              "21  Patient_Rural_Urban_RURAL        8\n",
              "12                        DX1        9\n",
              "22  Patient_Rural_Urban_URBAN       10\n",
              "7                           E       11\n",
              "14                        DX3       12\n",
              "15                        DX4       12\n",
              "5                           C       14\n",
              "13                        DX2       15\n",
              "4                           B       16\n",
              "8                           F       17\n",
              "11                   No_Drugs       18\n",
              "9                           Z       19\n",
              "19     Patient_Smoker_UNKNOWN       20"
            ]
          },
          "metadata": {
            "tags": []
          },
          "execution_count": 24
        }
      ]
    },
    {
      "cell_type": "code",
      "metadata": {
        "colab": {
          "base_uri": "https://localhost:8080/"
        },
        "id": "JhZWccwj-y38",
        "outputId": "184ede02-395a-41c8-9f5d-a40ec0aa276e"
      },
      "source": [
        "# List highest ranking features\n",
        "boruta_cols = selected_rfe_features[selected_rfe_features['Ranking']<17]['Feature']\n",
        "print(boruta_cols)"
      ],
      "execution_count": 25,
      "outputs": [
        {
          "output_type": "stream",
          "text": [
            "0           Diagnosed_Condition\n",
            "1                   Patient_Age\n",
            "2       Patient_Body_Mass_Index\n",
            "3                             A\n",
            "4                             B\n",
            "5                             C\n",
            "6                             D\n",
            "7                             E\n",
            "10          Number_of_prev_cond\n",
            "12                          DX1\n",
            "13                          DX2\n",
            "14                          DX3\n",
            "15                          DX4\n",
            "16                          DX5\n",
            "17                          DX6\n",
            "18            Patient_Smoker_NO\n",
            "20           Patient_Smoker_YES\n",
            "21    Patient_Rural_Urban_RURAL\n",
            "22    Patient_Rural_Urban_URBAN\n",
            "Name: Feature, dtype: object\n"
          ],
          "name": "stdout"
        }
      ]
    },
    {
      "cell_type": "code",
      "metadata": {
        "colab": {
          "base_uri": "https://localhost:8080/"
        },
        "id": "ag73aHBkEqbN",
        "outputId": "0dc12e3f-a76a-4f79-d195-f8341a3c3283"
      },
      "source": [
        "print(\"No. of significant features (ie. Ranking < 17):\", len(boruta_cols), \"from the 24 provided.\")"
      ],
      "execution_count": 26,
      "outputs": [
        {
          "output_type": "stream",
          "text": [
            "No. of significant features (ie. Ranking < 17): 19 from the 24 provided.\n"
          ],
          "name": "stdout"
        }
      ]
    },
    {
      "cell_type": "code",
      "metadata": {
        "id": "quhFgxQUKF9L"
      },
      "source": [
        "# Remove Target feature from list of Ranked features\n",
        "boruta_cols = boruta_cols.drop(columns = [\"Survived_1_year\"])"
      ],
      "execution_count": 27,
      "outputs": []
    },
    {
      "cell_type": "code",
      "metadata": {
        "colab": {
          "base_uri": "https://localhost:8080/"
        },
        "id": "1Hb6CtNzUg_s",
        "outputId": "1c553dd6-c3de-4fda-d052-bd92f8b38f80"
      },
      "source": [
        "boruta_cols"
      ],
      "execution_count": 28,
      "outputs": [
        {
          "output_type": "execute_result",
          "data": {
            "text/plain": [
              "0           Diagnosed_Condition\n",
              "1                   Patient_Age\n",
              "2       Patient_Body_Mass_Index\n",
              "3                             A\n",
              "4                             B\n",
              "5                             C\n",
              "6                             D\n",
              "7                             E\n",
              "10          Number_of_prev_cond\n",
              "12                          DX1\n",
              "13                          DX2\n",
              "14                          DX3\n",
              "15                          DX4\n",
              "16                          DX5\n",
              "17                          DX6\n",
              "18            Patient_Smoker_NO\n",
              "20           Patient_Smoker_YES\n",
              "21    Patient_Rural_Urban_RURAL\n",
              "22    Patient_Rural_Urban_URBAN\n",
              "Name: Feature, dtype: object"
            ]
          },
          "metadata": {
            "tags": []
          },
          "execution_count": 28
        }
      ]
    },
    {
      "cell_type": "markdown",
      "metadata": {
        "id": "ZSJeKwnK6-Q1"
      },
      "source": [
        "#### Create a new subset of the data with only the selected features"
      ]
    },
    {
      "cell_type": "code",
      "metadata": {
        "id": "tNvB1YJA6-Q1"
      },
      "source": [
        "X_ranked_train = pd.DataFrame(X_train[boruta_cols])\n",
        "X_ranked_test = pd.DataFrame(X_test[boruta_cols])"
      ],
      "execution_count": 29,
      "outputs": []
    },
    {
      "cell_type": "markdown",
      "metadata": {
        "id": "rAlSrXYX6-Q4"
      },
      "source": [
        "#### Build model with selected features"
      ]
    },
    {
      "cell_type": "code",
      "metadata": {
        "colab": {
          "base_uri": "https://localhost:8080/",
          "height": 222
        },
        "id": "N6IHxGWez4Ty",
        "outputId": "8537d8e0-cee2-4683-c964-7f4d679676b5"
      },
      "source": [
        "X_ranked_train.head()"
      ],
      "execution_count": 30,
      "outputs": [
        {
          "output_type": "execute_result",
          "data": {
            "text/html": [
              "<div>\n",
              "<style scoped>\n",
              "    .dataframe tbody tr th:only-of-type {\n",
              "        vertical-align: middle;\n",
              "    }\n",
              "\n",
              "    .dataframe tbody tr th {\n",
              "        vertical-align: top;\n",
              "    }\n",
              "\n",
              "    .dataframe thead th {\n",
              "        text-align: right;\n",
              "    }\n",
              "</style>\n",
              "<table border=\"1\" class=\"dataframe\">\n",
              "  <thead>\n",
              "    <tr style=\"text-align: right;\">\n",
              "      <th></th>\n",
              "      <th>Diagnosed_Condition</th>\n",
              "      <th>Patient_Age</th>\n",
              "      <th>Patient_Body_Mass_Index</th>\n",
              "      <th>A</th>\n",
              "      <th>B</th>\n",
              "      <th>C</th>\n",
              "      <th>D</th>\n",
              "      <th>E</th>\n",
              "      <th>Number_of_prev_cond</th>\n",
              "      <th>DX1</th>\n",
              "      <th>DX2</th>\n",
              "      <th>DX3</th>\n",
              "      <th>DX4</th>\n",
              "      <th>DX5</th>\n",
              "      <th>DX6</th>\n",
              "      <th>Patient_Smoker_NO</th>\n",
              "      <th>Patient_Smoker_YES</th>\n",
              "      <th>Patient_Rural_Urban_RURAL</th>\n",
              "      <th>Patient_Rural_Urban_URBAN</th>\n",
              "    </tr>\n",
              "  </thead>\n",
              "  <tbody>\n",
              "    <tr>\n",
              "      <th>3993</th>\n",
              "      <td>9</td>\n",
              "      <td>23</td>\n",
              "      <td>27.053833</td>\n",
              "      <td>0</td>\n",
              "      <td>0</td>\n",
              "      <td>0</td>\n",
              "      <td>0</td>\n",
              "      <td>0</td>\n",
              "      <td>0</td>\n",
              "      <td>1</td>\n",
              "      <td>0</td>\n",
              "      <td>0</td>\n",
              "      <td>0</td>\n",
              "      <td>1</td>\n",
              "      <td>0</td>\n",
              "      <td>1</td>\n",
              "      <td>0</td>\n",
              "      <td>1</td>\n",
              "      <td>0</td>\n",
              "    </tr>\n",
              "    <tr>\n",
              "      <th>13291</th>\n",
              "      <td>18</td>\n",
              "      <td>37</td>\n",
              "      <td>28.495814</td>\n",
              "      <td>0</td>\n",
              "      <td>0</td>\n",
              "      <td>0</td>\n",
              "      <td>0</td>\n",
              "      <td>0</td>\n",
              "      <td>0</td>\n",
              "      <td>0</td>\n",
              "      <td>0</td>\n",
              "      <td>0</td>\n",
              "      <td>0</td>\n",
              "      <td>0</td>\n",
              "      <td>1</td>\n",
              "      <td>0</td>\n",
              "      <td>1</td>\n",
              "      <td>1</td>\n",
              "      <td>0</td>\n",
              "    </tr>\n",
              "    <tr>\n",
              "      <th>14821</th>\n",
              "      <td>37</td>\n",
              "      <td>61</td>\n",
              "      <td>26.188982</td>\n",
              "      <td>1</td>\n",
              "      <td>0</td>\n",
              "      <td>0</td>\n",
              "      <td>0</td>\n",
              "      <td>0</td>\n",
              "      <td>1</td>\n",
              "      <td>1</td>\n",
              "      <td>0</td>\n",
              "      <td>0</td>\n",
              "      <td>0</td>\n",
              "      <td>0</td>\n",
              "      <td>0</td>\n",
              "      <td>1</td>\n",
              "      <td>0</td>\n",
              "      <td>1</td>\n",
              "      <td>0</td>\n",
              "    </tr>\n",
              "    <tr>\n",
              "      <th>13192</th>\n",
              "      <td>0</td>\n",
              "      <td>33</td>\n",
              "      <td>1.089300</td>\n",
              "      <td>0</td>\n",
              "      <td>0</td>\n",
              "      <td>0</td>\n",
              "      <td>0</td>\n",
              "      <td>0</td>\n",
              "      <td>1</td>\n",
              "      <td>0</td>\n",
              "      <td>0</td>\n",
              "      <td>0</td>\n",
              "      <td>0</td>\n",
              "      <td>0</td>\n",
              "      <td>0</td>\n",
              "      <td>0</td>\n",
              "      <td>0</td>\n",
              "      <td>1</td>\n",
              "      <td>0</td>\n",
              "    </tr>\n",
              "    <tr>\n",
              "      <th>8369</th>\n",
              "      <td>47</td>\n",
              "      <td>32</td>\n",
              "      <td>27.539629</td>\n",
              "      <td>1</td>\n",
              "      <td>0</td>\n",
              "      <td>0</td>\n",
              "      <td>0</td>\n",
              "      <td>1</td>\n",
              "      <td>2</td>\n",
              "      <td>0</td>\n",
              "      <td>0</td>\n",
              "      <td>0</td>\n",
              "      <td>0</td>\n",
              "      <td>0</td>\n",
              "      <td>1</td>\n",
              "      <td>1</td>\n",
              "      <td>0</td>\n",
              "      <td>0</td>\n",
              "      <td>1</td>\n",
              "    </tr>\n",
              "  </tbody>\n",
              "</table>\n",
              "</div>"
            ],
            "text/plain": [
              "       Diagnosed_Condition  ...  Patient_Rural_Urban_URBAN\n",
              "3993                     9  ...                          0\n",
              "13291                   18  ...                          0\n",
              "14821                   37  ...                          0\n",
              "13192                    0  ...                          0\n",
              "8369                    47  ...                          1\n",
              "\n",
              "[5 rows x 19 columns]"
            ]
          },
          "metadata": {
            "tags": []
          },
          "execution_count": 30
        }
      ]
    },
    {
      "cell_type": "code",
      "metadata": {
        "colab": {
          "base_uri": "https://localhost:8080/"
        },
        "id": "qq7SxTz86-Q4",
        "outputId": "0486fbba-3ca4-4ab4-ce5d-e6b675f4554b"
      },
      "source": [
        "# Create a new random forest classifier for the highest ranked features\n",
        "rf_ranked = RandomForestClassifier()\n",
        "\n",
        "# Train the new classifier on the new dataset containing the highest ranked features\n",
        "rf_ranked.fit(X_ranked_train, y_train)"
      ],
      "execution_count": 31,
      "outputs": [
        {
          "output_type": "execute_result",
          "data": {
            "text/plain": [
              "RandomForestClassifier(bootstrap=True, ccp_alpha=0.0, class_weight=None,\n",
              "                       criterion='gini', max_depth=None, max_features='auto',\n",
              "                       max_leaf_nodes=None, max_samples=None,\n",
              "                       min_impurity_decrease=0.0, min_impurity_split=None,\n",
              "                       min_samples_leaf=1, min_samples_split=2,\n",
              "                       min_weight_fraction_leaf=0.0, n_estimators=100,\n",
              "                       n_jobs=None, oob_score=False, random_state=None,\n",
              "                       verbose=0, warm_start=False)"
            ]
          },
          "metadata": {
            "tags": []
          },
          "execution_count": 31
        }
      ]
    },
    {
      "cell_type": "markdown",
      "metadata": {
        "id": "CdWEWl8g6-Q7"
      },
      "source": [
        "#### Evaluation"
      ]
    },
    {
      "cell_type": "code",
      "metadata": {
        "id": "DQimb_Qg6-Q7"
      },
      "source": [
        "y_ranked_pred = rf_ranked.predict(X_ranked_test)\n",
        "rf_ranked_fscore = f1_score(y_test, y_ranked_pred)"
      ],
      "execution_count": 32,
      "outputs": []
    },
    {
      "cell_type": "code",
      "metadata": {
        "colab": {
          "base_uri": "https://localhost:8080/"
        },
        "id": "EoKXQPthRdmD",
        "outputId": "9015f3c4-c67b-420b-af47-33a524fd7308"
      },
      "source": [
        "# Storing Model Performance to container\n",
        "container.add_model_detail(rf_ranked, rf_ranked_fscore)\n",
        "print(rf_ranked_fscore)"
      ],
      "execution_count": 33,
      "outputs": [
        {
          "output_type": "stream",
          "text": [
            "Model Details for:   RandomForestClassifier\n",
            "0.8601574275665718\n"
          ],
          "name": "stdout"
        }
      ]
    },
    {
      "cell_type": "markdown",
      "metadata": {
        "id": "r1Ok2JxF6-Q_"
      },
      "source": [
        "Random Forest Classifier with all the features had given F1 score as 83% while after selecting some relavent features the Random Forest Classifier has given f1 score as 84% which is a good improvement in terms of both performance of the model (i.e. the result) and the complexity is also reduced."
      ]
    },
    {
      "cell_type": "markdown",
      "metadata": {
        "id": "VZ2IrzWG6-RA"
      },
      "source": [
        "### Hyper Parameter Tunning\n",
        "\n",
        "Hyper Parameter Tunning\\\n",
        "Hyper parameter tunnning helps choose a set of optimal parameters for a model. \\\n",
        "\n",
        "Grid Search was selected as the method to tune hyperparameters as it is exhaustive, \n",
        "By default, Grid Search stores the best parameters in 'best_params_'"
      ]
    },
    {
      "cell_type": "code",
      "metadata": {
        "id": "EfSOgqqibnvS"
      },
      "source": [
        "# Create the parameter grid ??based on the results of random search??\n",
        "param_grid = {'bootstrap': [True, False],\n",
        "              'max_depth': [10, 11, 12],\n",
        "              'max_features': [5, 6, 7],\n",
        "              'min_samples_leaf': [2, 3, 4],\n",
        "              'min_samples_split': [12, 14, 16],\n",
        "              'n_estimators': [50, 100, 125],\n",
        "              'random_state': [1]}       "
      ],
      "execution_count": 34,
      "outputs": []
    },
    {
      "cell_type": "code",
      "metadata": {
        "id": "ndy8042R6-RC"
      },
      "source": [
        "rf_imp_grid = RandomForestClassifier()\n",
        "\n",
        "# Grid search CV\n",
        "grid_search = GridSearchCV(estimator = rf_imp_grid, \n",
        "                           param_grid = param_grid, \n",
        "                           cv = 2, \n",
        "                           n_jobs = -1,\n",
        "                           verbose = 2)"
      ],
      "execution_count": 35,
      "outputs": []
    },
    {
      "cell_type": "code",
      "metadata": {
        "colab": {
          "base_uri": "https://localhost:8080/"
        },
        "id": "F1B7c2kt6-RG",
        "outputId": "63aec004-e3d4-419a-a2ce-b4c255190785"
      },
      "source": [
        "grid_search.fit(X_ranked_train, y_train)"
      ],
      "execution_count": 36,
      "outputs": [
        {
          "output_type": "stream",
          "text": [
            "Fitting 2 folds for each of 486 candidates, totalling 972 fits\n"
          ],
          "name": "stdout"
        },
        {
          "output_type": "stream",
          "text": [
            "[Parallel(n_jobs=-1)]: Using backend LokyBackend with 2 concurrent workers.\n",
            "[Parallel(n_jobs=-1)]: Done  37 tasks      | elapsed:   26.7s\n",
            "[Parallel(n_jobs=-1)]: Done 158 tasks      | elapsed:  2.0min\n",
            "[Parallel(n_jobs=-1)]: Done 361 tasks      | elapsed:  4.5min\n",
            "[Parallel(n_jobs=-1)]: Done 644 tasks      | elapsed:  8.7min\n",
            "[Parallel(n_jobs=-1)]: Done 972 out of 972 | elapsed: 14.3min finished\n"
          ],
          "name": "stderr"
        },
        {
          "output_type": "execute_result",
          "data": {
            "text/plain": [
              "GridSearchCV(cv=2, error_score=nan,\n",
              "             estimator=RandomForestClassifier(bootstrap=True, ccp_alpha=0.0,\n",
              "                                              class_weight=None,\n",
              "                                              criterion='gini', max_depth=None,\n",
              "                                              max_features='auto',\n",
              "                                              max_leaf_nodes=None,\n",
              "                                              max_samples=None,\n",
              "                                              min_impurity_decrease=0.0,\n",
              "                                              min_impurity_split=None,\n",
              "                                              min_samples_leaf=1,\n",
              "                                              min_samples_split=2,\n",
              "                                              min_weight_fraction_leaf=0.0,\n",
              "                                              n_estimators=100, n_jobs=None,\n",
              "                                              oob_score=False,\n",
              "                                              random_state=None, verbose=0,\n",
              "                                              warm_start=False),\n",
              "             iid='deprecated', n_jobs=-1,\n",
              "             param_grid={'bootstrap': [True, False], 'max_depth': [10, 11, 12],\n",
              "                         'max_features': [5, 6, 7],\n",
              "                         'min_samples_leaf': [2, 3, 4],\n",
              "                         'min_samples_split': [12, 14, 16],\n",
              "                         'n_estimators': [50, 100, 125], 'random_state': [1]},\n",
              "             pre_dispatch='2*n_jobs', refit=True, return_train_score=False,\n",
              "             scoring=None, verbose=2)"
            ]
          },
          "metadata": {
            "tags": []
          },
          "execution_count": 36
        }
      ]
    },
    {
      "cell_type": "code",
      "metadata": {
        "id": "H7u3G4Q26-RI",
        "colab": {
          "base_uri": "https://localhost:8080/"
        },
        "outputId": "94f9b764-ff2f-4dc7-edd8-efcf3310591f"
      },
      "source": [
        "print(\"Grid Search found the following to be the best parameters from the range given:\")\n",
        "grid_search.best_params_"
      ],
      "execution_count": 37,
      "outputs": [
        {
          "output_type": "stream",
          "text": [
            "Grid Search found the following to be the best parameters from the range given:\n"
          ],
          "name": "stdout"
        },
        {
          "output_type": "execute_result",
          "data": {
            "text/plain": [
              "{'bootstrap': False,\n",
              " 'max_depth': 12,\n",
              " 'max_features': 6,\n",
              " 'min_samples_leaf': 2,\n",
              " 'min_samples_split': 14,\n",
              " 'n_estimators': 50,\n",
              " 'random_state': 1}"
            ]
          },
          "metadata": {
            "tags": []
          },
          "execution_count": 37
        }
      ]
    },
    {
      "cell_type": "markdown",
      "metadata": {
        "id": "P7CxthhEuxyu"
      },
      "source": [
        "Predict Target using the best parameters from Grid Search, on just the highly ranked features as per Boruta."
      ]
    },
    {
      "cell_type": "code",
      "metadata": {
        "id": "DqE8R1erpM5v"
      },
      "source": [
        "rf_gs = RandomForestClassifier(**grid_search.best_params_)"
      ],
      "execution_count": 38,
      "outputs": []
    },
    {
      "cell_type": "code",
      "metadata": {
        "id": "_3PPv7NRoHRz",
        "colab": {
          "base_uri": "https://localhost:8080/"
        },
        "outputId": "7f45416e-d8a3-4fea-dbe6-ad55bbbb1886"
      },
      "source": [
        "rf_gs.fit(X_ranked_train, y_train)"
      ],
      "execution_count": 39,
      "outputs": [
        {
          "output_type": "execute_result",
          "data": {
            "text/plain": [
              "RandomForestClassifier(bootstrap=False, ccp_alpha=0.0, class_weight=None,\n",
              "                       criterion='gini', max_depth=12, max_features=6,\n",
              "                       max_leaf_nodes=None, max_samples=None,\n",
              "                       min_impurity_decrease=0.0, min_impurity_split=None,\n",
              "                       min_samples_leaf=2, min_samples_split=14,\n",
              "                       min_weight_fraction_leaf=0.0, n_estimators=50,\n",
              "                       n_jobs=None, oob_score=False, random_state=1, verbose=0,\n",
              "                       warm_start=False)"
            ]
          },
          "metadata": {
            "tags": []
          },
          "execution_count": 39
        }
      ]
    },
    {
      "cell_type": "code",
      "metadata": {
        "id": "3yM3DQW_WFa5"
      },
      "source": [
        "y_ranked_gs_pred = rf_gs.predict(X_ranked_test)"
      ],
      "execution_count": 40,
      "outputs": []
    },
    {
      "cell_type": "code",
      "metadata": {
        "id": "f4q2rtukF9du"
      },
      "source": [
        "rf_gs_fscore = f1_score(y_test, y_ranked_gs_pred)"
      ],
      "execution_count": 41,
      "outputs": []
    },
    {
      "cell_type": "code",
      "metadata": {
        "id": "pDvbqUGYRdmG",
        "colab": {
          "base_uri": "https://localhost:8080/"
        },
        "outputId": "b970590e-520f-4859-c8fb-9251360dbf54"
      },
      "source": [
        "# Storing Model Performance to container\n",
        "container.add_model_detail(rf_gs, rf_gs_fscore)\n",
        "rf_gs_fscore"
      ],
      "execution_count": 42,
      "outputs": [
        {
          "output_type": "stream",
          "text": [
            "Model Details for:   RandomForestClassifier\n"
          ],
          "name": "stdout"
        },
        {
          "output_type": "execute_result",
          "data": {
            "text/plain": [
              "0.8699866310160428"
            ]
          },
          "metadata": {
            "tags": []
          },
          "execution_count": 42
        }
      ]
    },
    {
      "cell_type": "markdown",
      "metadata": {
        "id": "t6VUxBTE6-RP"
      },
      "source": [
        "The accuracy has improved by selecting some good parameters with the help of hyper parameter tunning - GridSearchCV"
      ]
    },
    {
      "cell_type": "markdown",
      "metadata": {
        "id": "quxVVI576-RU"
      },
      "source": [
        "## Model Evaluation and Selection"
      ]
    },
    {
      "cell_type": "code",
      "metadata": {
        "id": "A2CMWkOaMu8G",
        "scrolled": true,
        "colab": {
          "base_uri": "https://localhost:8080/"
        },
        "outputId": "107f852b-ffe2-4d62-b7a4-0de31b610bf9"
      },
      "source": [
        "best_model, best_score, index = container.select_best_model()\n",
        "print(\"\\n\")\n",
        "# print(\"The Model with the Best score and parameters:\")\n",
        "container.print_summary()\n",
        "model_name = container.extract_name(best_model)"
      ],
      "execution_count": 43,
      "outputs": [
        {
          "output_type": "stream",
          "text": [
            "\n",
            "\n",
            "\n",
            "Model Summaries\n",
            "\n",
            "MODEL NAME\t\t\tMODEL ACCURACY\n",
            "\n",
            " LinearSVC \t\t 0.3138028169014085\n",
            "\n",
            " LogisticRegression \t\t 0.8042058308108969\n",
            "\n",
            " DecisionTreeClassifier \t\t 0.8221129387824317\n",
            "\n",
            " RandomForestClassifier \t\t 0.8568090787716955\n",
            "\n",
            " RandomForestClassifier \t\t 0.8591925258591926\n",
            "\n",
            " RandomForestClassifier \t\t 0.8601574275665718\n",
            "\n",
            " RandomForestClassifier \t\t 0.8699866310160428\n",
            "Model Details for:   RandomForestClassifier\n"
          ],
          "name": "stdout"
        }
      ]
    },
    {
      "cell_type": "markdown",
      "metadata": {
        "id": "vHdOpMyo3Kb8"
      },
      "source": [
        "It is clearly observable that the f1 score increased."
      ]
    },
    {
      "cell_type": "code",
      "metadata": {
        "id": "qrFnvyj1X1EI",
        "colab": {
          "base_uri": "https://localhost:8080/"
        },
        "outputId": "85877605-2b72-48c4-b303-0fa81c66fe39"
      },
      "source": [
        "print('\\033[4m' + \"The best performing model is:\", '\\033[0m', model_name)\n",
        "print(\"\\n\")\n",
        "print('\\033[4m' + \"Using the following parameters:\", '\\033[0m')\n",
        "best_model"
      ],
      "execution_count": 44,
      "outputs": [
        {
          "output_type": "stream",
          "text": [
            "\u001b[4mThe best performing model is: \u001b[0m RandomForestClassifier\n",
            "\n",
            "\n",
            "\u001b[4mUsing the following parameters: \u001b[0m\n"
          ],
          "name": "stdout"
        },
        {
          "output_type": "execute_result",
          "data": {
            "text/plain": [
              "RandomForestClassifier(bootstrap=False, ccp_alpha=0.0, class_weight=None,\n",
              "                       criterion='gini', max_depth=12, max_features=6,\n",
              "                       max_leaf_nodes=None, max_samples=None,\n",
              "                       min_impurity_decrease=0.0, min_impurity_split=None,\n",
              "                       min_samples_leaf=2, min_samples_split=14,\n",
              "                       min_weight_fraction_leaf=0.0, n_estimators=50,\n",
              "                       n_jobs=None, oob_score=False, random_state=1, verbose=0,\n",
              "                       warm_start=False)"
            ]
          },
          "metadata": {
            "tags": []
          },
          "execution_count": 44
        }
      ]
    },
    {
      "cell_type": "code",
      "metadata": {
        "id": "wkLK7zZqRdmI",
        "colab": {
          "base_uri": "https://localhost:8080/"
        },
        "outputId": "9b318dc0-1b1d-42e4-f84e-201e3075a4fd"
      },
      "source": [
        "print(model_name, \"with optimal parameters gives an F1 accuracy score of:\")\n",
        "best_score"
      ],
      "execution_count": 45,
      "outputs": [
        {
          "output_type": "stream",
          "text": [
            "RandomForestClassifier with optimal parameters gives an F1 accuracy score of:\n"
          ],
          "name": "stdout"
        },
        {
          "output_type": "execute_result",
          "data": {
            "text/plain": [
              "0.8699866310160428"
            ]
          },
          "metadata": {
            "tags": []
          },
          "execution_count": 45
        }
      ]
    },
    {
      "cell_type": "code",
      "metadata": {
        "id": "9D0QAAmZZ0s8",
        "scrolled": true,
        "colab": {
          "base_uri": "https://localhost:8080/"
        },
        "outputId": "ede670a3-c165-402a-ae30-682528fde5ca"
      },
      "source": [
        "if index == 0:\n",
        "    XTrain = X_train\n",
        "    XTest = X_test  \n",
        "elif index >0 and index <4:\n",
        "    XTrain = X_important_train\n",
        "    XTest = X_important_test  \n",
        "else:\n",
        "    XTrain = X_ranked_train\n",
        "    XTest = X_ranked_test  \n",
        "\n",
        "best_model.fit(XTrain, y_train)"
      ],
      "execution_count": 46,
      "outputs": [
        {
          "output_type": "execute_result",
          "data": {
            "text/plain": [
              "RandomForestClassifier(bootstrap=False, ccp_alpha=0.0, class_weight=None,\n",
              "                       criterion='gini', max_depth=12, max_features=6,\n",
              "                       max_leaf_nodes=None, max_samples=None,\n",
              "                       min_impurity_decrease=0.0, min_impurity_split=None,\n",
              "                       min_samples_leaf=2, min_samples_split=14,\n",
              "                       min_weight_fraction_leaf=0.0, n_estimators=50,\n",
              "                       n_jobs=None, oob_score=False, random_state=1, verbose=0,\n",
              "                       warm_start=False)"
            ]
          },
          "metadata": {
            "tags": []
          },
          "execution_count": 46
        }
      ]
    },
    {
      "cell_type": "code",
      "metadata": {
        "id": "v7e5R5R0RdmI",
        "colab": {
          "base_uri": "https://localhost:8080/"
        },
        "outputId": "e88a79e2-ae3a-41b4-f29d-f5aed56c037e"
      },
      "source": [
        "# Summarize results\n",
        "container.select_best_model()\n",
        "container.print_summary()"
      ],
      "execution_count": 47,
      "outputs": [
        {
          "output_type": "stream",
          "text": [
            "\n",
            "Model Summaries\n",
            "\n",
            "MODEL NAME\t\t\tMODEL ACCURACY\n",
            "\n",
            " LinearSVC \t\t 0.3138028169014085\n",
            "\n",
            " LogisticRegression \t\t 0.8042058308108969\n",
            "\n",
            " DecisionTreeClassifier \t\t 0.8221129387824317\n",
            "\n",
            " RandomForestClassifier \t\t 0.8568090787716955\n",
            "\n",
            " RandomForestClassifier \t\t 0.8591925258591926\n",
            "\n",
            " RandomForestClassifier \t\t 0.8601574275665718\n",
            "\n",
            " RandomForestClassifier \t\t 0.8699866310160428\n"
          ],
          "name": "stdout"
        }
      ]
    },
    {
      "cell_type": "markdown",
      "metadata": {
        "id": "KAeFG6tN6-RV"
      },
      "source": [
        "### Save Best Model"
      ]
    },
    {
      "cell_type": "code",
      "metadata": {
        "id": "cqvXe3CW9n_Y",
        "colab": {
          "base_uri": "https://localhost:8080/"
        },
        "outputId": "d66ff063-8c0c-41bf-e9ac-9cd9682b1adc"
      },
      "source": [
        "container.save_results()"
      ],
      "execution_count": 48,
      "outputs": [
        {
          "output_type": "stream",
          "text": [
            "RandomForestClassifier(bootstrap=False, ccp_alpha=0.0, class_weight=None,\n",
            "                       criterion='gini', max_depth=12, max_features=6,\n",
            "                       max_leaf_nodes=None, max_samples=None,\n",
            "                       min_impurity_decrease=0.0, min_impurity_split=None,\n",
            "                       min_samples_leaf=2, min_samples_split=14,\n",
            "                       min_weight_fraction_leaf=0.0, n_estimators=50,\n",
            "                       n_jobs=None, oob_score=False, random_state=1, verbose=0,\n",
            "                       warm_start=False)\n"
          ],
          "name": "stdout"
        },
        {
          "output_type": "execute_result",
          "data": {
            "text/plain": [
              "<__main__.ModelContainer at 0x7fe9193d9310>"
            ]
          },
          "metadata": {
            "tags": []
          },
          "execution_count": 48
        }
      ]
    },
    {
      "cell_type": "markdown",
      "metadata": {
        "id": "wi3pvD-ZJryS"
      },
      "source": [
        "### **Save Data**"
      ]
    },
    {
      "cell_type": "code",
      "metadata": {
        "id": "JD1T5OkWeK8_",
        "colab": {
          "base_uri": "https://localhost:8080/",
          "height": 222
        },
        "outputId": "938d08d3-dc26-4312-b268-c021df3f81e0"
      },
      "source": [
        "New_X = (New_X[boruta_cols])\n",
        "New_X.head()"
      ],
      "execution_count": 49,
      "outputs": [
        {
          "output_type": "execute_result",
          "data": {
            "text/html": [
              "<div>\n",
              "<style scoped>\n",
              "    .dataframe tbody tr th:only-of-type {\n",
              "        vertical-align: middle;\n",
              "    }\n",
              "\n",
              "    .dataframe tbody tr th {\n",
              "        vertical-align: top;\n",
              "    }\n",
              "\n",
              "    .dataframe thead th {\n",
              "        text-align: right;\n",
              "    }\n",
              "</style>\n",
              "<table border=\"1\" class=\"dataframe\">\n",
              "  <thead>\n",
              "    <tr style=\"text-align: right;\">\n",
              "      <th></th>\n",
              "      <th>Diagnosed_Condition</th>\n",
              "      <th>Patient_Age</th>\n",
              "      <th>Patient_Body_Mass_Index</th>\n",
              "      <th>A</th>\n",
              "      <th>B</th>\n",
              "      <th>C</th>\n",
              "      <th>D</th>\n",
              "      <th>E</th>\n",
              "      <th>Number_of_prev_cond</th>\n",
              "      <th>DX1</th>\n",
              "      <th>DX2</th>\n",
              "      <th>DX3</th>\n",
              "      <th>DX4</th>\n",
              "      <th>DX5</th>\n",
              "      <th>DX6</th>\n",
              "      <th>Patient_Smoker_NO</th>\n",
              "      <th>Patient_Smoker_YES</th>\n",
              "      <th>Patient_Rural_Urban_RURAL</th>\n",
              "      <th>Patient_Rural_Urban_URBAN</th>\n",
              "    </tr>\n",
              "  </thead>\n",
              "  <tbody>\n",
              "    <tr>\n",
              "      <th>0</th>\n",
              "      <td>35</td>\n",
              "      <td>65</td>\n",
              "      <td>20.710365</td>\n",
              "      <td>1</td>\n",
              "      <td>0</td>\n",
              "      <td>0</td>\n",
              "      <td>0</td>\n",
              "      <td>1</td>\n",
              "      <td>2</td>\n",
              "      <td>0</td>\n",
              "      <td>0</td>\n",
              "      <td>0</td>\n",
              "      <td>0</td>\n",
              "      <td>1</td>\n",
              "      <td>0</td>\n",
              "      <td>1</td>\n",
              "      <td>0</td>\n",
              "      <td>1</td>\n",
              "      <td>0</td>\n",
              "    </tr>\n",
              "    <tr>\n",
              "      <th>1</th>\n",
              "      <td>30</td>\n",
              "      <td>2</td>\n",
              "      <td>24.250219</td>\n",
              "      <td>1</td>\n",
              "      <td>0</td>\n",
              "      <td>0</td>\n",
              "      <td>0</td>\n",
              "      <td>1</td>\n",
              "      <td>2</td>\n",
              "      <td>1</td>\n",
              "      <td>0</td>\n",
              "      <td>0</td>\n",
              "      <td>0</td>\n",
              "      <td>0</td>\n",
              "      <td>0</td>\n",
              "      <td>1</td>\n",
              "      <td>0</td>\n",
              "      <td>0</td>\n",
              "      <td>1</td>\n",
              "    </tr>\n",
              "    <tr>\n",
              "      <th>2</th>\n",
              "      <td>46</td>\n",
              "      <td>1</td>\n",
              "      <td>27.139276</td>\n",
              "      <td>1</td>\n",
              "      <td>0</td>\n",
              "      <td>0</td>\n",
              "      <td>0</td>\n",
              "      <td>0</td>\n",
              "      <td>1</td>\n",
              "      <td>0</td>\n",
              "      <td>0</td>\n",
              "      <td>0</td>\n",
              "      <td>0</td>\n",
              "      <td>0</td>\n",
              "      <td>1</td>\n",
              "      <td>1</td>\n",
              "      <td>0</td>\n",
              "      <td>0</td>\n",
              "      <td>1</td>\n",
              "    </tr>\n",
              "    <tr>\n",
              "      <th>3</th>\n",
              "      <td>44</td>\n",
              "      <td>29</td>\n",
              "      <td>29.191759</td>\n",
              "      <td>0</td>\n",
              "      <td>0</td>\n",
              "      <td>1</td>\n",
              "      <td>0</td>\n",
              "      <td>1</td>\n",
              "      <td>2</td>\n",
              "      <td>1</td>\n",
              "      <td>0</td>\n",
              "      <td>0</td>\n",
              "      <td>0</td>\n",
              "      <td>0</td>\n",
              "      <td>0</td>\n",
              "      <td>1</td>\n",
              "      <td>0</td>\n",
              "      <td>1</td>\n",
              "      <td>0</td>\n",
              "    </tr>\n",
              "    <tr>\n",
              "      <th>4</th>\n",
              "      <td>30</td>\n",
              "      <td>51</td>\n",
              "      <td>20.844146</td>\n",
              "      <td>0</td>\n",
              "      <td>0</td>\n",
              "      <td>0</td>\n",
              "      <td>0</td>\n",
              "      <td>1</td>\n",
              "      <td>1</td>\n",
              "      <td>0</td>\n",
              "      <td>0</td>\n",
              "      <td>0</td>\n",
              "      <td>0</td>\n",
              "      <td>1</td>\n",
              "      <td>0</td>\n",
              "      <td>1</td>\n",
              "      <td>0</td>\n",
              "      <td>0</td>\n",
              "      <td>1</td>\n",
              "    </tr>\n",
              "  </tbody>\n",
              "</table>\n",
              "</div>"
            ],
            "text/plain": [
              "   Diagnosed_Condition  ...  Patient_Rural_Urban_URBAN\n",
              "0                   35  ...                          0\n",
              "1                   30  ...                          1\n",
              "2                   46  ...                          1\n",
              "3                   44  ...                          0\n",
              "4                   30  ...                          1\n",
              "\n",
              "[5 rows x 19 columns]"
            ]
          },
          "metadata": {
            "tags": []
          },
          "execution_count": 49
        }
      ]
    },
    {
      "cell_type": "code",
      "metadata": {
        "id": "aT639NpZJryS"
      },
      "source": [
        "# pickle Training data\n",
        "X_ranked_train.to_pickle('/content/drive/My Drive/Heart_Patient/Data/train_data_4_predict.pkl')\n",
        "\n",
        "# pickle Testing data\n",
        "New_X.to_pickle('/content/drive/My Drive/Heart_Patient/Data/new_test_data_4_predict.pkl')"
      ],
      "execution_count": 50,
      "outputs": []
    },
    {
      "cell_type": "markdown",
      "metadata": {
        "id": "UcbW7zBTRYVp"
      },
      "source": [
        "# **Save Predictions**"
      ]
    },
    {
      "cell_type": "code",
      "metadata": {
        "id": "BlWG5IL2cEek",
        "colab": {
          "base_uri": "https://localhost:8080/"
        },
        "outputId": "4a940710-c790-4261-c547-40ad5d094b30"
      },
      "source": [
        "rf_gs"
      ],
      "execution_count": 51,
      "outputs": [
        {
          "output_type": "execute_result",
          "data": {
            "text/plain": [
              "RandomForestClassifier(bootstrap=False, ccp_alpha=0.0, class_weight=None,\n",
              "                       criterion='gini', max_depth=12, max_features=6,\n",
              "                       max_leaf_nodes=None, max_samples=None,\n",
              "                       min_impurity_decrease=0.0, min_impurity_split=None,\n",
              "                       min_samples_leaf=2, min_samples_split=14,\n",
              "                       min_weight_fraction_leaf=0.0, n_estimators=50,\n",
              "                       n_jobs=None, oob_score=False, random_state=1, verbose=0,\n",
              "                       warm_start=False)"
            ]
          },
          "metadata": {
            "tags": []
          },
          "execution_count": 51
        }
      ]
    },
    {
      "cell_type": "code",
      "metadata": {
        "id": "JzU1Kk6nCWkU",
        "colab": {
          "base_uri": "https://localhost:8080/",
          "height": 222
        },
        "outputId": "ae8e8d34-07f3-4204-dcaf-700867274150"
      },
      "source": [
        "X_ranked_test.head()"
      ],
      "execution_count": 52,
      "outputs": [
        {
          "output_type": "execute_result",
          "data": {
            "text/html": [
              "<div>\n",
              "<style scoped>\n",
              "    .dataframe tbody tr th:only-of-type {\n",
              "        vertical-align: middle;\n",
              "    }\n",
              "\n",
              "    .dataframe tbody tr th {\n",
              "        vertical-align: top;\n",
              "    }\n",
              "\n",
              "    .dataframe thead th {\n",
              "        text-align: right;\n",
              "    }\n",
              "</style>\n",
              "<table border=\"1\" class=\"dataframe\">\n",
              "  <thead>\n",
              "    <tr style=\"text-align: right;\">\n",
              "      <th></th>\n",
              "      <th>Diagnosed_Condition</th>\n",
              "      <th>Patient_Age</th>\n",
              "      <th>Patient_Body_Mass_Index</th>\n",
              "      <th>A</th>\n",
              "      <th>B</th>\n",
              "      <th>C</th>\n",
              "      <th>D</th>\n",
              "      <th>E</th>\n",
              "      <th>Number_of_prev_cond</th>\n",
              "      <th>DX1</th>\n",
              "      <th>DX2</th>\n",
              "      <th>DX3</th>\n",
              "      <th>DX4</th>\n",
              "      <th>DX5</th>\n",
              "      <th>DX6</th>\n",
              "      <th>Patient_Smoker_NO</th>\n",
              "      <th>Patient_Smoker_YES</th>\n",
              "      <th>Patient_Rural_Urban_RURAL</th>\n",
              "      <th>Patient_Rural_Urban_URBAN</th>\n",
              "    </tr>\n",
              "  </thead>\n",
              "  <tbody>\n",
              "    <tr>\n",
              "      <th>3604</th>\n",
              "      <td>19</td>\n",
              "      <td>43</td>\n",
              "      <td>17.291259</td>\n",
              "      <td>1</td>\n",
              "      <td>0</td>\n",
              "      <td>0</td>\n",
              "      <td>0</td>\n",
              "      <td>0</td>\n",
              "      <td>1</td>\n",
              "      <td>0</td>\n",
              "      <td>0</td>\n",
              "      <td>0</td>\n",
              "      <td>1</td>\n",
              "      <td>0</td>\n",
              "      <td>0</td>\n",
              "      <td>0</td>\n",
              "      <td>1</td>\n",
              "      <td>0</td>\n",
              "      <td>1</td>\n",
              "    </tr>\n",
              "    <tr>\n",
              "      <th>13554</th>\n",
              "      <td>42</td>\n",
              "      <td>32</td>\n",
              "      <td>28.637347</td>\n",
              "      <td>1</td>\n",
              "      <td>1</td>\n",
              "      <td>0</td>\n",
              "      <td>0</td>\n",
              "      <td>0</td>\n",
              "      <td>2</td>\n",
              "      <td>0</td>\n",
              "      <td>0</td>\n",
              "      <td>0</td>\n",
              "      <td>0</td>\n",
              "      <td>0</td>\n",
              "      <td>1</td>\n",
              "      <td>0</td>\n",
              "      <td>1</td>\n",
              "      <td>1</td>\n",
              "      <td>0</td>\n",
              "    </tr>\n",
              "    <tr>\n",
              "      <th>8788</th>\n",
              "      <td>19</td>\n",
              "      <td>33</td>\n",
              "      <td>25.739042</td>\n",
              "      <td>1</td>\n",
              "      <td>0</td>\n",
              "      <td>0</td>\n",
              "      <td>0</td>\n",
              "      <td>0</td>\n",
              "      <td>1</td>\n",
              "      <td>0</td>\n",
              "      <td>0</td>\n",
              "      <td>0</td>\n",
              "      <td>0</td>\n",
              "      <td>0</td>\n",
              "      <td>1</td>\n",
              "      <td>0</td>\n",
              "      <td>1</td>\n",
              "      <td>0</td>\n",
              "      <td>1</td>\n",
              "    </tr>\n",
              "    <tr>\n",
              "      <th>4847</th>\n",
              "      <td>20</td>\n",
              "      <td>28</td>\n",
              "      <td>20.549522</td>\n",
              "      <td>1</td>\n",
              "      <td>0</td>\n",
              "      <td>0</td>\n",
              "      <td>0</td>\n",
              "      <td>0</td>\n",
              "      <td>1</td>\n",
              "      <td>0</td>\n",
              "      <td>0</td>\n",
              "      <td>0</td>\n",
              "      <td>0</td>\n",
              "      <td>1</td>\n",
              "      <td>0</td>\n",
              "      <td>1</td>\n",
              "      <td>0</td>\n",
              "      <td>0</td>\n",
              "      <td>1</td>\n",
              "    </tr>\n",
              "    <tr>\n",
              "      <th>23082</th>\n",
              "      <td>2</td>\n",
              "      <td>38</td>\n",
              "      <td>22.700380</td>\n",
              "      <td>1</td>\n",
              "      <td>0</td>\n",
              "      <td>1</td>\n",
              "      <td>0</td>\n",
              "      <td>0</td>\n",
              "      <td>2</td>\n",
              "      <td>0</td>\n",
              "      <td>0</td>\n",
              "      <td>0</td>\n",
              "      <td>0</td>\n",
              "      <td>0</td>\n",
              "      <td>1</td>\n",
              "      <td>1</td>\n",
              "      <td>0</td>\n",
              "      <td>1</td>\n",
              "      <td>0</td>\n",
              "    </tr>\n",
              "  </tbody>\n",
              "</table>\n",
              "</div>"
            ],
            "text/plain": [
              "       Diagnosed_Condition  ...  Patient_Rural_Urban_URBAN\n",
              "3604                    19  ...                          1\n",
              "13554                   42  ...                          0\n",
              "8788                    19  ...                          1\n",
              "4847                    20  ...                          1\n",
              "23082                    2  ...                          0\n",
              "\n",
              "[5 rows x 19 columns]"
            ]
          },
          "metadata": {
            "tags": []
          },
          "execution_count": 52
        }
      ]
    },
    {
      "cell_type": "code",
      "metadata": {
        "id": "nLzLw7qmBWwZ"
      },
      "source": [
        "predictions = (rf_gs.predict(X_ranked_test))"
      ],
      "execution_count": 53,
      "outputs": []
    },
    {
      "cell_type": "markdown",
      "metadata": {
        "id": "MFG4tnCBcmDK"
      },
      "source": [
        "The predicted output (Target Feature) is now stored in the variable 'prediction'. "
      ]
    },
    {
      "cell_type": "code",
      "metadata": {
        "id": "hT9J19HqQA0x"
      },
      "source": [
        "pd.DataFrame(rf_gs.predict(X_ranked_test)).to_csv('/content/drive/My Drive/Heart_Patient/Data/DataPredictions.csv')"
      ],
      "execution_count": 54,
      "outputs": []
    }
  ]
}