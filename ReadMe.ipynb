{
  "nbformat": 4,
  "nbformat_minor": 0,
  "metadata": {
    "kernelspec": {
      "display_name": "Python 3",
      "language": "python",
      "name": "python3"
    },
    "language_info": {
      "codemirror_mode": {
        "name": "ipython",
        "version": 3
      },
      "file_extension": ".py",
      "mimetype": "text/x-python",
      "name": "python",
      "nbconvert_exporter": "python",
      "pygments_lexer": "ipython3",
      "version": "3.7.6"
    },
    "colab": {
      "name": "ReadMe.ipynb",
      "provenance": [],
      "collapsed_sections": [],
      "include_colab_link": true
    }
  },
  "cells": [
    {
      "cell_type": "markdown",
      "metadata": {
        "id": "view-in-github",
        "colab_type": "text"
      },
      "source": [
        "<a href=\"https://colab.research.google.com/github/gwittich/Heart-Patient-Prognosis/blob/main/ReadMe.ipynb\" target=\"_parent\"><img src=\"https://colab.research.google.com/assets/colab-badge.svg\" alt=\"Open In Colab\"/></a>"
      ]
    },
    {
      "cell_type": "markdown",
      "metadata": {
        "id": "qqCpSwZoejy6"
      },
      "source": [
        "# Heart Patient Prognosis"
      ]
    },
    {
      "cell_type": "markdown",
      "metadata": {
        "id": "9W96T_1xejzA"
      },
      "source": [
        "## Read Me"
      ]
    },
    {
      "cell_type": "markdown",
      "metadata": {
        "id": "MaYOezkKejzA"
      },
      "source": [
        "Data Scientist:   __Gail Wittich__\\\n",
        "Email:      gwittich@optusnet.com.au \\\n",
        "Website:    www.linkedin.com/in/gail-wittich \\\n",
        "Copyright:  Copyright 2020, Gail Wittich "
      ]
    },
    {
      "cell_type": "markdown",
      "metadata": {
        "id": "Tzyw_fdGejzB"
      },
      "source": [
        "# Contents\n",
        "*  Problem Statement\n",
        "  *  Data Description\n",
        "*  Load data\n",
        "*  Pre-process the data\n",
        "*  Data Analysis and Visualizations (EDA)\n",
        "*  Prepare train and test datasets\n",
        "*  Select a model\n",
        "*  Train model\n",
        "*  Evaluate model\n",
        "*  Optimize model\n",
        "*  Conclusion\n",
        "*  Prediction on New Test data"
      ]
    },
    {
      "cell_type": "markdown",
      "metadata": {
        "id": "K6JKhIp5ejzB"
      },
      "source": [
        "## Problem Statement\n",
        "\n",
        "A hospital in the province of Greenland has been trying to improve patient outcomes by looking at historic data on patient survival. They could not identify the factors leading to positive patient outcomes.\n",
        "\n",
        "Developing a model that will predict the patients prognosis in terms of whether they will survive for at least 1 year after initial treatment.\n",
        "\n",
        "### Data Description\n",
        "The dataset provided by the client contains patient records collected from a hospital in Greenland. \n",
        "The following is based on information provided by the client, in regard to the data:\n",
        "\n",
        "#### The Target Variable\n",
        "* **Survived_1_year**: contains binary values representing whether the patient survived for at least 1 year after treatment or not.\n",
        "\n",
        "    *  **0** - indicates that the patient **did not** survive for 1 year after treatment\n",
        "    *  **1** - indicates that the patient **survived** for at least 1 year after treatment\n",
        "\n",
        "#### Other Features:\n",
        "\n",
        "*  **ID_Patient_Care_Situation**: \n",
        "*  **Diagnosed_Condition**: The condition the patient was diagnosed as suffering from\n",
        "*  **ID_Patient**: Patient identifier number\n",
        "*  **Treatment_with_drugs**: Class of drugs used during treatment\n",
        "*  **Survived_1_year**: If the patient survived for at least 1 year after treatment or not. (0 indicates they did not, 1 indicates they did)\n",
        "*  **Patient_Age**: Age of the patient at time of treatment\n",
        "*  **Patient_Body_Mass_Index**: A calculated value based on the patient’s weight, height, etc.\n",
        "*  **Patient_Smoker**: If the patient was a smoker or not\n",
        "*  **Patient_Rural_Urban**: If the patient lives in Rural or Urban area\n",
        "*  **A, B, C, D, E, F, Z** : 7 individual features each representing one predefined condition.\n",
        "    *  **1** - indicates indicates that the patient **did** have the predefined condition prior to presenting for treatment (for a suspected heart condition)\n",
        "    *  **0** - indicates indicates that the pateint **did not** previously have the predefined condition prior to presenting for treatment (for a suspected heart condition)\n",
        "* **Number_of_prev_cond**: A count of the number of predefined pre-existing as per the preceeding 7 columns.\n",
        "\n",
        "A, B, C, D, E, F and Z are the previous conditions of the patient. 1 indicates that the patient had that condition previously (prior to treatment for heart condition) while 0 indicates that the pateint didn't previously have that condition.\n",
        "\n",
        "EXAMPLE: If the entry in column 'A' is '1', the patient had that condition prior to presenting for treatment. \n",
        "If a patient previously had conditions 'A' and 'C' only, columns 'A' and 'C' will each contain '1', while features 'B', 'D', 'E', 'F', 'Z' will each contain '0'. The column 'Number_of_prev_cond' will have entry as '2' (i.e. 1 + 0 + 1 + 0 + 0 + 0 + 0 + 0 = 2)"
      ]
    },
    {
      "cell_type": "code",
      "metadata": {
        "id": "3V1IqGwmejzC"
      },
      "source": [
        ""
      ],
      "execution_count": null,
      "outputs": []
    },
    {
      "cell_type": "code",
      "metadata": {
        "id": "vHdspM9qejzD"
      },
      "source": [
        ""
      ],
      "execution_count": null,
      "outputs": []
    }
  ]
}