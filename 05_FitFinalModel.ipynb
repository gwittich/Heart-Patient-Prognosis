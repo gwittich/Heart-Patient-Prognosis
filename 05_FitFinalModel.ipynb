{
  "nbformat": 4,
  "nbformat_minor": 0,
  "metadata": {
    "kernelspec": {
      "display_name": "Python 3",
      "language": "python",
      "name": "python3"
    },
    "language_info": {
      "codemirror_mode": {
        "name": "ipython",
        "version": 3
      },
      "file_extension": ".py",
      "mimetype": "text/x-python",
      "name": "python",
      "nbconvert_exporter": "python",
      "pygments_lexer": "ipython3",
      "version": "3.7.6"
    },
    "colab": {
      "name": "05_FitFinalModel.ipynb",
      "provenance": [],
      "include_colab_link": true
    }
  },
  "cells": [
    {
      "cell_type": "markdown",
      "metadata": {
        "id": "view-in-github",
        "colab_type": "text"
      },
      "source": [
        "<a href=\"https://colab.research.google.com/github/gwittich/Heart-Patient-Prognosis/blob/main/05_FitFinalModel.ipynb\" target=\"_parent\"><img src=\"https://colab.research.google.com/assets/colab-badge.svg\" alt=\"Open In Colab\"/></a>"
      ]
    },
    {
      "cell_type": "markdown",
      "metadata": {
        "id": "ts4YIugAu0qh"
      },
      "source": [
        "# Greenland Patient Survival Project"
      ]
    },
    {
      "cell_type": "markdown",
      "metadata": {
        "id": "lmzz3EMVu0qm"
      },
      "source": [
        "Data Scientist:   __Gail Wittich__\\\n",
        "Email:      gwittich@optusnet.com.au \\\n",
        "Website:    www.linkedin.com/in/gail-wittich \\\n",
        "Copyright:  Copyright 2020, Gail Wittich "
      ]
    },
    {
      "cell_type": "markdown",
      "metadata": {
        "id": "DGxVi39vu0qn"
      },
      "source": [
        "### Fit Final Model"
      ]
    },
    {
      "cell_type": "markdown",
      "metadata": {
        "id": "D-6Rc6sWu0qn"
      },
      "source": [
        "**Now let's predict the output for new test data**\n",
        "\n",
        "Well, we will predict the output for new test data using the Random Forest model with the selected features using Boruta and also with the best parameters that we got during hyper parmeter tunning because we have got the highest f1 score with this model on **X_test** data (also called the validation data). We can directly use **grid_search** variable to predict as this variable is the reference to the trained model."
      ]
    },
    {
      "cell_type": "markdown",
      "metadata": {
        "id": "tvEsJ-g3u0qo"
      },
      "source": [
        "### **Load Packages**"
      ]
    },
    {
      "cell_type": "code",
      "metadata": {
        "id": "b1Ig5Mhfu0qo"
      },
      "source": [
        "from boruta import BorutaPy                            # for feature selection\n",
        "# from google.colab import files                         # for file saving\n",
        "import matplotlib.pyplot as plt                        # for data visualisation\n",
        "import numpy as np                                     # for numeric computations\n",
        "import pandas as pd                                    # for data analysis\n",
        "import seaborn as sns                                  # for data visualisation\n",
        "from sklearn.ensemble import RandomForestClassifier\n",
        "from sklearn.feature_selection import SelectFromModel\n",
        "from sklearn.linear_model import LogisticRegression    # Logistic regression model\n",
        "from sklearn.model_selection import train_test_split, GridSearchCV   # to split the dataset into train and test, hyperparameter tuning\n",
        "from sklearn.metrics import accuracy_score, f1_score   # for model evaluation\n",
        "from sklearn import preprocessing                      # for data preprocessing\n",
        "from sklearn.preprocessing import LabelEncoder         # for converting categorical to numerical data\n",
        "\n",
        "import warnings                                        # to ignore warnings\n",
        "warnings.filterwarnings('ignore')"
      ],
      "execution_count": null,
      "outputs": []
    },
    {
      "cell_type": "markdown",
      "metadata": {
        "id": "2l5HYHL0u0qp"
      },
      "source": [
        "### Load Data"
      ]
    },
    {
      "cell_type": "code",
      "metadata": {
        "id": "WYz0klfUu0qp"
      },
      "source": [
        ""
      ],
      "execution_count": null,
      "outputs": []
    },
    {
      "cell_type": "markdown",
      "metadata": {
        "id": "DqSSZrPku0qp"
      },
      "source": [
        "### Load Best Model"
      ]
    },
    {
      "cell_type": "code",
      "metadata": {
        "id": "79KT47Nnu0qp"
      },
      "source": [
        ""
      ],
      "execution_count": null,
      "outputs": []
    },
    {
      "cell_type": "code",
      "metadata": {
        "id": "rhUjENG7u0qq"
      },
      "source": [
        ""
      ],
      "execution_count": null,
      "outputs": []
    },
    {
      "cell_type": "markdown",
      "metadata": {
        "id": "FyQq47wku0qq"
      },
      "source": [
        "### Prediction"
      ]
    },
    {
      "cell_type": "code",
      "metadata": {
        "id": "N35Lgq_pu0qq"
      },
      "source": [
        "imp_test_features = boruta_selector.transform(np.array(test_new_data))"
      ],
      "execution_count": null,
      "outputs": []
    },
    {
      "cell_type": "code",
      "metadata": {
        "id": "wWOKWJ5nu0qq"
      },
      "source": [
        "prediction = grid_search.predict(imp_test_features)"
      ],
      "execution_count": null,
      "outputs": []
    },
    {
      "cell_type": "markdown",
      "metadata": {
        "id": "6TeZX2gVu0qr"
      },
      "source": [
        "We have the predicted output stored in the variable 'prediction'. Let's download this prediction as csv file as shown below."
      ]
    },
    {
      "cell_type": "markdown",
      "metadata": {
        "id": "dPq-uLwTu0qr"
      },
      "source": [
        "## Save prediction file in csv"
      ]
    },
    {
      "cell_type": "code",
      "metadata": {
        "id": "lFTk5Z5iu0qr"
      },
      "source": [
        "res = pd.DataFrame(prediction)\n",
        "res.index = test_new_data.index \n",
        "res.columns = [\"prediction\"]\n",
        " \n",
        "# from google.colab import files\n",
        "res.to_csv('prediction_results_HP.csv')         \n",
        "files.download('prediction_results_HP.csv')"
      ],
      "execution_count": null,
      "outputs": []
    }
  ]
}