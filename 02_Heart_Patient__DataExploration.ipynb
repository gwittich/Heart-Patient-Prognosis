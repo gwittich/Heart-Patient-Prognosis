{
  "nbformat": 4,
  "nbformat_minor": 0,
  "metadata": {
    "kernelspec": {
      "display_name": "Python 3",
      "language": "python",
      "name": "python3"
    },
    "language_info": {
      "codemirror_mode": {
        "name": "ipython",
        "version": 3
      },
      "file_extension": ".py",
      "mimetype": "text/x-python",
      "name": "python",
      "nbconvert_exporter": "python",
      "pygments_lexer": "ipython3",
      "version": "3.7.6"
    },
    "colab": {
      "name": "02_Heart_Patient__DataExploration.ipynb",
      "provenance": [],
      "collapsed_sections": [],
      "include_colab_link": true
    }
  },
  "cells": [
    {
      "cell_type": "markdown",
      "metadata": {
        "id": "view-in-github",
        "colab_type": "text"
      },
      "source": [
        "<a href=\"https://colab.research.google.com/github/gwittich/Heart-Patient-Prognosis/blob/main/02_Heart_Patient__DataExploration.ipynb\" target=\"_parent\"><img src=\"https://colab.research.google.com/assets/colab-badge.svg\" alt=\"Open In Colab\"/></a>"
      ]
    },
    {
      "cell_type": "markdown",
      "metadata": {
        "id": "razAOXdh2jqU"
      },
      "source": [
        "# **Heart Patient Prognosis**"
      ]
    },
    {
      "cell_type": "markdown",
      "metadata": {
        "id": "-VAZENEc2jqV"
      },
      "source": [
        "Data Scientist:   __Gail Wittich__\\\n",
        "Email:      gwittich@optusnet.com.au \\\n",
        "Website:    www.linkedin.com/in/gail-wittich \\\n",
        "Copyright:  Copyright 2020, Gail Wittich "
      ]
    },
    {
      "cell_type": "markdown",
      "metadata": {
        "id": "ady1bB7e2jqV"
      },
      "source": [
        "# Data Exploration (EDA) "
      ]
    },
    {
      "cell_type": "markdown",
      "metadata": {
        "id": "I056BGnxzbaE"
      },
      "source": [
        "### **Load Packages**"
      ]
    },
    {
      "cell_type": "code",
      "metadata": {
        "id": "LlzCaIoW2jqW"
      },
      "source": [
        "from google.colab import drive                         # for accessing files\n",
        "import matplotlib.pyplot as plt                        # for data visualisation\n",
        "import numpy as np                                     # for numeric computations\n",
        "import pandas as pd                                    # for data analysis\n",
        "import pickle                                          # for file reading and saving\n",
        "import seaborn as sns                                  # for data visualisation\n",
        "\n",
        "import warnings                                        # to ignore warnings\n",
        "warnings.filterwarnings('ignore')"
      ],
      "execution_count": 1,
      "outputs": []
    },
    {
      "cell_type": "markdown",
      "metadata": {
        "id": "X6DEyzkd2jqZ"
      },
      "source": [
        "### **Load Data**"
      ]
    },
    {
      "cell_type": "code",
      "metadata": {
        "id": "-wKmkVju5wDG",
        "colab": {
          "base_uri": "https://localhost:8080/"
        },
        "outputId": "36b73df8-5a70-4d38-c26d-ccb427752350"
      },
      "source": [
        "# mount the google drive\n",
        "drive.mount(\"/content/drive\")"
      ],
      "execution_count": 2,
      "outputs": [
        {
          "output_type": "stream",
          "text": [
            "Mounted at /content/drive\n"
          ],
          "name": "stdout"
        }
      ]
    },
    {
      "cell_type": "code",
      "metadata": {
        "id": "4Wo5qrT42jqa"
      },
      "source": [
        "# Unpickle Training data\n",
        "EDA_train_df = pd.read_pickle('/content/drive/My Drive/Heart_Patient/Data/train_data_4_EDA.pkl')\n",
        "\n",
        "# Unpickle Test data\n",
        "EDA_new_test_df = pd.read_pickle('/content/drive/My Drive/Heart_Patient/Data/test_data_4_EDA.pkl')"
      ],
      "execution_count": 3,
      "outputs": []
    },
    {
      "cell_type": "markdown",
      "metadata": {
        "id": "MyVJsvDRGPk7"
      },
      "source": [
        "## EDA\n",
        "Primary screening\n",
        "1. Look at the data: feature names, kind of values they contain\n",
        "2. Look at an overview of the features: number, types, Null counts"
      ]
    },
    {
      "cell_type": "code",
      "metadata": {
        "id": "QFgQvD2j8xT0",
        "colab": {
          "base_uri": "https://localhost:8080/",
          "height": 224
        },
        "outputId": "cb999239-72f7-4eb4-8570-7578e3c8f5a2"
      },
      "source": [
        "EDA_train_df.head()"
      ],
      "execution_count": 4,
      "outputs": [
        {
          "output_type": "execute_result",
          "data": {
            "text/html": [
              "<div>\n",
              "<style scoped>\n",
              "    .dataframe tbody tr th:only-of-type {\n",
              "        vertical-align: middle;\n",
              "    }\n",
              "\n",
              "    .dataframe tbody tr th {\n",
              "        vertical-align: top;\n",
              "    }\n",
              "\n",
              "    .dataframe thead th {\n",
              "        text-align: right;\n",
              "    }\n",
              "</style>\n",
              "<table border=\"1\" class=\"dataframe\">\n",
              "  <thead>\n",
              "    <tr style=\"text-align: right;\">\n",
              "      <th></th>\n",
              "      <th>ID_Patient_Care_Situation</th>\n",
              "      <th>Diagnosed_Condition</th>\n",
              "      <th>Patient_ID</th>\n",
              "      <th>Treated_with_drugs</th>\n",
              "      <th>Patient_Age</th>\n",
              "      <th>Patient_Body_Mass_Index</th>\n",
              "      <th>Patient_Smoker</th>\n",
              "      <th>Patient_Rural_Urban</th>\n",
              "      <th>A</th>\n",
              "      <th>B</th>\n",
              "      <th>C</th>\n",
              "      <th>D</th>\n",
              "      <th>E</th>\n",
              "      <th>F</th>\n",
              "      <th>Z</th>\n",
              "      <th>Number_of_prev_cond</th>\n",
              "      <th>Survived_1_year</th>\n",
              "    </tr>\n",
              "  </thead>\n",
              "  <tbody>\n",
              "    <tr>\n",
              "      <th>0</th>\n",
              "      <td>16201</td>\n",
              "      <td>47</td>\n",
              "      <td>8433</td>\n",
              "      <td>DX2</td>\n",
              "      <td>60</td>\n",
              "      <td>21.655523</td>\n",
              "      <td>NO</td>\n",
              "      <td>URBAN</td>\n",
              "      <td>1.0</td>\n",
              "      <td>0.0</td>\n",
              "      <td>0.0</td>\n",
              "      <td>0.0</td>\n",
              "      <td>1.0</td>\n",
              "      <td>0.0</td>\n",
              "      <td>0.0</td>\n",
              "      <td>2.0</td>\n",
              "      <td>1</td>\n",
              "    </tr>\n",
              "    <tr>\n",
              "      <th>1</th>\n",
              "      <td>9421</td>\n",
              "      <td>3</td>\n",
              "      <td>2972</td>\n",
              "      <td>DX6</td>\n",
              "      <td>2</td>\n",
              "      <td>28.852743</td>\n",
              "      <td>NO</td>\n",
              "      <td>RURAL</td>\n",
              "      <td>1.0</td>\n",
              "      <td>0.0</td>\n",
              "      <td>1.0</td>\n",
              "      <td>0.0</td>\n",
              "      <td>1.0</td>\n",
              "      <td>0.0</td>\n",
              "      <td>0.0</td>\n",
              "      <td>3.0</td>\n",
              "      <td>0</td>\n",
              "    </tr>\n",
              "    <tr>\n",
              "      <th>2</th>\n",
              "      <td>16205</td>\n",
              "      <td>7</td>\n",
              "      <td>8608</td>\n",
              "      <td>DX6</td>\n",
              "      <td>20</td>\n",
              "      <td>26.179725</td>\n",
              "      <td>NO</td>\n",
              "      <td>RURAL</td>\n",
              "      <td>1.0</td>\n",
              "      <td>0.0</td>\n",
              "      <td>0.0</td>\n",
              "      <td>0.0</td>\n",
              "      <td>1.0</td>\n",
              "      <td>0.0</td>\n",
              "      <td>0.0</td>\n",
              "      <td>2.0</td>\n",
              "      <td>1</td>\n",
              "    </tr>\n",
              "    <tr>\n",
              "      <th>3</th>\n",
              "      <td>5582</td>\n",
              "      <td>31</td>\n",
              "      <td>10074</td>\n",
              "      <td>DX6</td>\n",
              "      <td>8</td>\n",
              "      <td>22.638945</td>\n",
              "      <td>NO</td>\n",
              "      <td>RURAL</td>\n",
              "      <td>1.0</td>\n",
              "      <td>0.0</td>\n",
              "      <td>0.0</td>\n",
              "      <td>0.0</td>\n",
              "      <td>1.0</td>\n",
              "      <td>0.0</td>\n",
              "      <td>0.0</td>\n",
              "      <td>2.0</td>\n",
              "      <td>0</td>\n",
              "    </tr>\n",
              "    <tr>\n",
              "      <th>4</th>\n",
              "      <td>20880</td>\n",
              "      <td>43</td>\n",
              "      <td>7462</td>\n",
              "      <td>DX1</td>\n",
              "      <td>53</td>\n",
              "      <td>21.326131</td>\n",
              "      <td>NO</td>\n",
              "      <td>RURAL</td>\n",
              "      <td>1.0</td>\n",
              "      <td>0.0</td>\n",
              "      <td>0.0</td>\n",
              "      <td>0.0</td>\n",
              "      <td>0.0</td>\n",
              "      <td>0.0</td>\n",
              "      <td>0.0</td>\n",
              "      <td>1.0</td>\n",
              "      <td>1</td>\n",
              "    </tr>\n",
              "  </tbody>\n",
              "</table>\n",
              "</div>"
            ],
            "text/plain": [
              "   ID_Patient_Care_Situation  ...  Survived_1_year\n",
              "0                      16201  ...                1\n",
              "1                       9421  ...                0\n",
              "2                      16205  ...                1\n",
              "3                       5582  ...                0\n",
              "4                      20880  ...                1\n",
              "\n",
              "[5 rows x 17 columns]"
            ]
          },
          "metadata": {
            "tags": []
          },
          "execution_count": 4
        }
      ]
    },
    {
      "cell_type": "code",
      "metadata": {
        "id": "z2I8ggsO2jqd",
        "colab": {
          "base_uri": "https://localhost:8080/"
        },
        "outputId": "db8c2810-2a80-46c1-8f88-07b629d0405d"
      },
      "source": [
        "# Summary of the data\n",
        "EDA_train_df.info()"
      ],
      "execution_count": 5,
      "outputs": [
        {
          "output_type": "stream",
          "text": [
            "<class 'pandas.core.frame.DataFrame'>\n",
            "Int64Index: 23097 entries, 0 to 23096\n",
            "Data columns (total 17 columns):\n",
            " #   Column                     Non-Null Count  Dtype  \n",
            "---  ------                     --------------  -----  \n",
            " 0   ID_Patient_Care_Situation  23097 non-null  int64  \n",
            " 1   Diagnosed_Condition        23097 non-null  int64  \n",
            " 2   Patient_ID                 23097 non-null  int64  \n",
            " 3   Treated_with_drugs         23089 non-null  object \n",
            " 4   Patient_Age                23097 non-null  int64  \n",
            " 5   Patient_Body_Mass_Index    23097 non-null  float64\n",
            " 6   Patient_Smoker             23097 non-null  object \n",
            " 7   Patient_Rural_Urban        23097 non-null  object \n",
            " 8   A                          21830 non-null  float64\n",
            " 9   B                          21830 non-null  float64\n",
            " 10  C                          21830 non-null  float64\n",
            " 11  D                          21830 non-null  float64\n",
            " 12  E                          21830 non-null  float64\n",
            " 13  F                          21830 non-null  float64\n",
            " 14  Z                          21830 non-null  float64\n",
            " 15  Number_of_prev_cond        21830 non-null  float64\n",
            " 16  Survived_1_year            23097 non-null  int64  \n",
            "dtypes: float64(9), int64(5), object(3)\n",
            "memory usage: 3.2+ MB\n"
          ],
          "name": "stdout"
        }
      ]
    },
    {
      "cell_type": "markdown",
      "metadata": {
        "id": "EEjTrZTE2jqi"
      },
      "source": [
        "**Observations:**\n",
        "\n",
        "1. There are 23097 records\n",
        "2. The data set has 16 features plus the Target.\n",
        "3. There are some missing values in the folowing features (non-null < 23097):\n",
        "    - Treated_with_drugs\n",
        "    - A\n",
        "    - B\n",
        "    - C\n",
        "    - D\n",
        "    - E\n",
        "    - F\n",
        "    - Z\n",
        "    - Number_of_prev_cond\n",
        "    \n",
        "4. There is a mix of feature data types: float64(9), int64(5), object(3)"
      ]
    },
    {
      "cell_type": "markdown",
      "metadata": {
        "id": "3MsxEzRz2jqi"
      },
      "source": [
        "Visualise the distribution of the target variable, 'Survived_1_year', to determine if the dataset is balanced."
      ]
    },
    {
      "cell_type": "code",
      "metadata": {
        "id": "rFeadmq02jqj",
        "colab": {
          "base_uri": "https://localhost:8080/",
          "height": 280
        },
        "outputId": "b91dd670-2bf7-4ef4-a7c5-abb31e580bf1"
      },
      "source": [
        "sns.countplot(x='Survived_1_year', data=EDA_train_df)\n",
        "plt.show()"
      ],
      "execution_count": 6,
      "outputs": [
        {
          "output_type": "display_data",
          "data": {
            "image/png": "[encoded data removed]",
            "text/plain": [
              "<Figure size 432x288 with 1 Axes>"
            ]
          },
          "metadata": {
            "tags": [],
            "needs_background": "light"
          }
        }
      ]
    },
    {
      "cell_type": "markdown",
      "metadata": {
        "id": "h6uc3QtW2jqm"
      },
      "source": [
        "There are 8000 + patients who did not survive for 1 year after treatment and more than 14000 patients who survived for at least 1 year after treatment. The ratio is approx 1:2. This is not a great enough imbalance (skew) to require attention."
      ]
    },
    {
      "cell_type": "markdown",
      "metadata": {
        "id": "Eq4Vg1fg2jqm"
      },
      "source": [
        "**Perform EDA on Numeric (continuous) variables**"
      ]
    },
    {
      "cell_type": "code",
      "metadata": {
        "id": "mr2VSLO92jqn",
        "colab": {
          "base_uri": "https://localhost:8080/"
        },
        "outputId": "12702d20-6d69-4461-d68f-48708ece3296"
      },
      "source": [
        "# Show only the numerical features\n",
        "print(EDA_train_df.select_dtypes(include=np.number).columns)"
      ],
      "execution_count": 7,
      "outputs": [
        {
          "output_type": "stream",
          "text": [
            "Index(['ID_Patient_Care_Situation', 'Diagnosed_Condition', 'Patient_ID',\n",
            "       'Patient_Age', 'Patient_Body_Mass_Index', 'A', 'B', 'C', 'D', 'E', 'F',\n",
            "       'Z', 'Number_of_prev_cond', 'Survived_1_year'],\n",
            "      dtype='object')\n"
          ],
          "name": "stdout"
        }
      ]
    },
    {
      "cell_type": "markdown",
      "metadata": {
        "id": "UIDBzAO36KPC"
      },
      "source": [
        "**Numeric (Continuous) variables**\\\n",
        "**Not all Numeric features are actually statistically significant Continuous Variables.** ie \n",
        "* ID_Patient_Care_Situation' is record identification data, they will be ignored for data analysis. \n",
        "* 'Patient_ID' is record identification data, they will be ignored for data analysis.\n",
        "* 'Diagnosed_Condition' uses a number to represent conditions, making it a Categorical feature.\n",
        "* A, B, C, D, E, F, Z are Categorical features. (addressed later)  A count of their values results in the feature 'Number_of_prev_cond'.\n",
        "* 'Survived_1_year' uses a number to represent yes or no.\n"
      ]
    },
    {
      "cell_type": "markdown",
      "metadata": {
        "id": "wvvR4uX4I96D"
      },
      "source": [
        "This leaves the following 3 Numeric Features:\n",
        "*   'Patient_Age', \n",
        "*   'Patient_Body_Mass_Index', \n",
        "*   'Number_of_prev_cond', "
      ]
    },
    {
      "cell_type": "code",
      "metadata": {
        "id": "zw7Ljv6W2jqp",
        "colab": {
          "base_uri": "https://localhost:8080/",
          "height": 359
        },
        "outputId": "6cce6992-7d44-4395-bb44-1e0fc0bb14be"
      },
      "source": [
        "# Create a List of just the numeric features\n",
        "numeric_cols_df = EDA_train_df[['Patient_Age', 'Patient_Body_Mass_Index', \n",
        "                                'Number_of_prev_cond']]\n",
        "numeric_cols_df.head(10)"
      ],
      "execution_count": 8,
      "outputs": [
        {
          "output_type": "execute_result",
          "data": {
            "text/html": [
              "<div>\n",
              "<style scoped>\n",
              "    .dataframe tbody tr th:only-of-type {\n",
              "        vertical-align: middle;\n",
              "    }\n",
              "\n",
              "    .dataframe tbody tr th {\n",
              "        vertical-align: top;\n",
              "    }\n",
              "\n",
              "    .dataframe thead th {\n",
              "        text-align: right;\n",
              "    }\n",
              "</style>\n",
              "<table border=\"1\" class=\"dataframe\">\n",
              "  <thead>\n",
              "    <tr style=\"text-align: right;\">\n",
              "      <th></th>\n",
              "      <th>Patient_Age</th>\n",
              "      <th>Patient_Body_Mass_Index</th>\n",
              "      <th>Number_of_prev_cond</th>\n",
              "    </tr>\n",
              "  </thead>\n",
              "  <tbody>\n",
              "    <tr>\n",
              "      <th>0</th>\n",
              "      <td>60</td>\n",
              "      <td>21.655523</td>\n",
              "      <td>2.0</td>\n",
              "    </tr>\n",
              "    <tr>\n",
              "      <th>1</th>\n",
              "      <td>2</td>\n",
              "      <td>28.852743</td>\n",
              "      <td>3.0</td>\n",
              "    </tr>\n",
              "    <tr>\n",
              "      <th>2</th>\n",
              "      <td>20</td>\n",
              "      <td>26.179725</td>\n",
              "      <td>2.0</td>\n",
              "    </tr>\n",
              "    <tr>\n",
              "      <th>3</th>\n",
              "      <td>8</td>\n",
              "      <td>22.638945</td>\n",
              "      <td>2.0</td>\n",
              "    </tr>\n",
              "    <tr>\n",
              "      <th>4</th>\n",
              "      <td>53</td>\n",
              "      <td>21.326131</td>\n",
              "      <td>1.0</td>\n",
              "    </tr>\n",
              "    <tr>\n",
              "      <th>5</th>\n",
              "      <td>20</td>\n",
              "      <td>23.438528</td>\n",
              "      <td>2.0</td>\n",
              "    </tr>\n",
              "    <tr>\n",
              "      <th>6</th>\n",
              "      <td>5</td>\n",
              "      <td>23.882432</td>\n",
              "      <td>2.0</td>\n",
              "    </tr>\n",
              "    <tr>\n",
              "      <th>7</th>\n",
              "      <td>45</td>\n",
              "      <td>17.059734</td>\n",
              "      <td>1.0</td>\n",
              "    </tr>\n",
              "    <tr>\n",
              "      <th>8</th>\n",
              "      <td>43</td>\n",
              "      <td>22.182933</td>\n",
              "      <td>2.0</td>\n",
              "    </tr>\n",
              "    <tr>\n",
              "      <th>9</th>\n",
              "      <td>60</td>\n",
              "      <td>17.956259</td>\n",
              "      <td>3.0</td>\n",
              "    </tr>\n",
              "  </tbody>\n",
              "</table>\n",
              "</div>"
            ],
            "text/plain": [
              "   Patient_Age  Patient_Body_Mass_Index  Number_of_prev_cond\n",
              "0           60                21.655523                  2.0\n",
              "1            2                28.852743                  3.0\n",
              "2           20                26.179725                  2.0\n",
              "3            8                22.638945                  2.0\n",
              "4           53                21.326131                  1.0\n",
              "5           20                23.438528                  2.0\n",
              "6            5                23.882432                  2.0\n",
              "7           45                17.059734                  1.0\n",
              "8           43                22.182933                  2.0\n",
              "9           60                17.956259                  3.0"
            ]
          },
          "metadata": {
            "tags": []
          },
          "execution_count": 8
        }
      ]
    },
    {
      "cell_type": "code",
      "metadata": {
        "id": "VDoFIYhiYnC3",
        "colab": {
          "base_uri": "https://localhost:8080/"
        },
        "outputId": "2d74e068-a4d4-4a48-de0d-9ad90df308d8"
      },
      "source": [
        "# Show the number of unique values in each feature\n",
        "numeric_cols_df.nunique()   # return the number of unique values in each feature"
      ],
      "execution_count": 9,
      "outputs": [
        {
          "output_type": "execute_result",
          "data": {
            "text/plain": [
              "Patient_Age                   74\n",
              "Patient_Body_Mass_Index    10599\n",
              "Number_of_prev_cond            5\n",
              "dtype: int64"
            ]
          },
          "metadata": {
            "tags": []
          },
          "execution_count": 9
        }
      ]
    },
    {
      "cell_type": "markdown",
      "metadata": {
        "id": "1iNp6IiEYyU1"
      },
      "source": [
        "The number of unique values for each of the numeric features appears reasonable given they are continuous variables. Each is with the range of possble for that feature."
      ]
    },
    {
      "cell_type": "code",
      "metadata": {
        "id": "xerj-Qfk2jqs",
        "colab": {
          "base_uri": "https://localhost:8080/"
        },
        "outputId": "2d70922f-333d-47ee-9d35-e77a05eeb8ce"
      },
      "source": [
        "# **Check for null values in numerical features**\n",
        "numeric_cols_df.isnull().sum()"
      ],
      "execution_count": 10,
      "outputs": [
        {
          "output_type": "execute_result",
          "data": {
            "text/plain": [
              "Patient_Age                   0\n",
              "Patient_Body_Mass_Index       0\n",
              "Number_of_prev_cond        1267\n",
              "dtype: int64"
            ]
          },
          "metadata": {
            "tags": []
          },
          "execution_count": 10
        }
      ]
    },
    {
      "cell_type": "markdown",
      "metadata": {
        "id": "ZL3iKhHQ2jqu"
      },
      "source": [
        "'Number_of_prev_cond' has 1356 (5.87% of records) missing values.\n",
        "\n",
        "Expected values in 'Number_of_prev_cond' is a discrete value integer ranging from 0 to 7.\n",
        "\n",
        "'Number_of_prev_cond' is dependent on the values in the seven features - 'A', 'B', 'C', 'D', 'E', 'F', 'Z' (i.e. what specifically the previous conditions were).\n",
        "One option is to fill the missing values with, for example, the Mode of the feature. Patients that DID NOT have any previous conditions would not have null values in the seven features - 'A', 'B', 'C', 'D', 'E', 'F', 'Z', meaning that the value of 'Number_of_prev_cond' would also not be Null, it would be '0'. Another option is to fill it with '0', to represent Unknown (prefered option in this situation).\n"
      ]
    },
    {
      "cell_type": "code",
      "metadata": {
        "id": "E-m-Xm3lNAsj",
        "colab": {
          "base_uri": "https://localhost:8080/",
          "height": 280
        },
        "outputId": "0c1dd0bc-7281-4b53-fbcc-63d48f189a71"
      },
      "source": [
        "sns.countplot(x='Number_of_prev_cond', data=EDA_train_df)\n",
        "plt.show()"
      ],
      "execution_count": 11,
      "outputs": [
        {
          "output_type": "display_data",
          "data": {
            "image/png": "[encoded data removed]",
            "text/plain": [
              "<Figure size 432x288 with 1 Axes>"
            ]
          },
          "metadata": {
            "tags": [],
            "needs_background": "light"
          }
        }
      ]
    },
    {
      "cell_type": "code",
      "metadata": {
        "id": "ySTVL5fP2jqv"
      },
      "source": [
        "# filling the missing value of 'Number_of_prev_cond' with '0'\n",
        "EDA_train_df['Number_of_prev_cond'] = EDA_train_df['Number_of_prev_cond'].fillna(0)"
      ],
      "execution_count": 12,
      "outputs": []
    },
    {
      "cell_type": "code",
      "metadata": {
        "id": "2HBZnb2CPrC0",
        "colab": {
          "base_uri": "https://localhost:8080/",
          "height": 280
        },
        "outputId": "d82b9a32-175d-422e-9cea-d1896f21df0d"
      },
      "source": [
        "sns.countplot(x='Number_of_prev_cond', data=EDA_train_df)\n",
        "plt.show()"
      ],
      "execution_count": 13,
      "outputs": [
        {
          "output_type": "display_data",
          "data": {
            "image/png": "[encoded data removed]",
            "text/plain": [
              "<Figure size 432x288 with 1 Axes>"
            ]
          },
          "metadata": {
            "tags": [],
            "needs_background": "light"
          }
        }
      ]
    },
    {
      "cell_type": "code",
      "metadata": {
        "id": "GXzRrMpz2jqz",
        "colab": {
          "base_uri": "https://localhost:8080/",
          "height": 297
        },
        "outputId": "ae8c9ae0-9b68-4f78-acc4-c87733015f0e"
      },
      "source": [
        "# Show the basic statistical description of the numerical features\n",
        "numeric_cols_df.describe()"
      ],
      "execution_count": 14,
      "outputs": [
        {
          "output_type": "execute_result",
          "data": {
            "text/html": [
              "<div>\n",
              "<style scoped>\n",
              "    .dataframe tbody tr th:only-of-type {\n",
              "        vertical-align: middle;\n",
              "    }\n",
              "\n",
              "    .dataframe tbody tr th {\n",
              "        vertical-align: top;\n",
              "    }\n",
              "\n",
              "    .dataframe thead th {\n",
              "        text-align: right;\n",
              "    }\n",
              "</style>\n",
              "<table border=\"1\" class=\"dataframe\">\n",
              "  <thead>\n",
              "    <tr style=\"text-align: right;\">\n",
              "      <th></th>\n",
              "      <th>Patient_Age</th>\n",
              "      <th>Patient_Body_Mass_Index</th>\n",
              "      <th>Number_of_prev_cond</th>\n",
              "    </tr>\n",
              "  </thead>\n",
              "  <tbody>\n",
              "    <tr>\n",
              "      <th>count</th>\n",
              "      <td>23097.000000</td>\n",
              "      <td>23097.000000</td>\n",
              "      <td>21830.000000</td>\n",
              "    </tr>\n",
              "    <tr>\n",
              "      <th>mean</th>\n",
              "      <td>33.235831</td>\n",
              "      <td>23.439701</td>\n",
              "      <td>1.749427</td>\n",
              "    </tr>\n",
              "    <tr>\n",
              "      <th>std</th>\n",
              "      <td>19.513294</td>\n",
              "      <td>3.783907</td>\n",
              "      <td>0.771039</td>\n",
              "    </tr>\n",
              "    <tr>\n",
              "      <th>min</th>\n",
              "      <td>0.000000</td>\n",
              "      <td>1.089300</td>\n",
              "      <td>1.000000</td>\n",
              "    </tr>\n",
              "    <tr>\n",
              "      <th>25%</th>\n",
              "      <td>16.000000</td>\n",
              "      <td>20.201721</td>\n",
              "      <td>1.000000</td>\n",
              "    </tr>\n",
              "    <tr>\n",
              "      <th>50%</th>\n",
              "      <td>33.000000</td>\n",
              "      <td>23.373801</td>\n",
              "      <td>2.000000</td>\n",
              "    </tr>\n",
              "    <tr>\n",
              "      <th>75%</th>\n",
              "      <td>50.000000</td>\n",
              "      <td>26.734052</td>\n",
              "      <td>2.000000</td>\n",
              "    </tr>\n",
              "    <tr>\n",
              "      <th>max</th>\n",
              "      <td>142.000000</td>\n",
              "      <td>29.999579</td>\n",
              "      <td>5.000000</td>\n",
              "    </tr>\n",
              "  </tbody>\n",
              "</table>\n",
              "</div>"
            ],
            "text/plain": [
              "        Patient_Age  Patient_Body_Mass_Index  Number_of_prev_cond\n",
              "count  23097.000000             23097.000000         21830.000000\n",
              "mean      33.235831                23.439701             1.749427\n",
              "std       19.513294                 3.783907             0.771039\n",
              "min        0.000000                 1.089300             1.000000\n",
              "25%       16.000000                20.201721             1.000000\n",
              "50%       33.000000                23.373801             2.000000\n",
              "75%       50.000000                26.734052             2.000000\n",
              "max      142.000000                29.999579             5.000000"
            ]
          },
          "metadata": {
            "tags": []
          },
          "execution_count": 14
        }
      ]
    },
    {
      "cell_type": "markdown",
      "metadata": {
        "id": "3Gxn2Eph2jq2"
      },
      "source": [
        "**Observation**\n",
        "\n",
        "1. This shows that the minimum and maximum values for numerical features are not all within expected ranges."
      ]
    },
    {
      "cell_type": "markdown",
      "metadata": {
        "id": "hrHNP6bg2jq2"
      },
      "source": [
        "**Box Plot**\n",
        "\n",
        "A Box Plot shows the data by feature, displaying:\n",
        "- The five-number summary of a set of the data, ie:\n",
        "  *  minimum\n",
        "  *  first quartile (Q1)\n",
        "  *  median\n",
        "  *  third quartile (Q3)\n",
        "  *  maximum\n",
        "- Value of first quartile\n",
        "- Value of third quartile\n",
        "- Median\n",
        "- outliers\n",
        "- outlier values\n",
        "- symmetry of data\n",
        "- how tightly data is grouped (distributed)\n",
        "- if and how the data is skewed."
      ]
    },
    {
      "cell_type": "code",
      "metadata": {
        "id": "8gxQXFnR2jq3",
        "colab": {
          "base_uri": "https://localhost:8080/",
          "height": 722
        },
        "outputId": "88385f82-ba96-4097-eacd-990bfa4eb930"
      },
      "source": [
        "# for feature in numeric_cols_df.drop('Survived_1_year', axis = 1).columns:\n",
        "#   sns.boxplot(x='Survived_1_year', y=feature, data=numeric_cols_df)\n",
        "#   plt.show()\n",
        "\n",
        "for feature in numeric_cols_df.columns:\n",
        "  sns.boxplot(y=feature, data=numeric_cols_df)\n",
        "  plt.show()"
      ],
      "execution_count": 15,
      "outputs": [
        {
          "output_type": "display_data",
          "data": {
            "image/png": "[encoded data removed]",
            "text/plain": [
              "<Figure size 432x288 with 1 Axes>"
            ]
          },
          "metadata": {
            "tags": [],
            "needs_background": "light"
          }
        },
        {
          "output_type": "display_data",
          "data": {
            "image/png": "[encoded data removed]",
            "text/plain": [
              "<Figure size 432x288 with 1 Axes>"
            ]
          },
          "metadata": {
            "tags": [],
            "needs_background": "light"
          }
        },
        {
          "output_type": "display_data",
          "data": {
            "image/png": "[encoded data removed]",
            "text/plain": [
              "<Figure size 432x288 with 1 Axes>"
            ]
          },
          "metadata": {
            "tags": [],
            "needs_background": "light"
          }
        }
      ]
    },
    {
      "cell_type": "markdown",
      "metadata": {
        "id": "RhDvZDyV2jq6"
      },
      "source": [
        "There are some outliers in the features:\n",
        " - 'Patient_Age'\n",
        " - 'Patient_Body_Mass_Index'\n",
        " - 'Number_of_prev_cond' - This is not of any concern - it is valuable data."
      ]
    },
    {
      "cell_type": "markdown",
      "metadata": {
        "id": "q7OxU42Pbnpr"
      },
      "source": [
        "####'Patient_Age' Outliers\n",
        "The 8 Outliers for 'Patient_Age' are in excess of 110. This is unlikely since the oldest person ever to have lived in Greenland died before turning 103yo. The outliers were replaced with the mean."
      ]
    },
    {
      "cell_type": "code",
      "metadata": {
        "id": "8G0kT8e8d43k",
        "colab": {
          "base_uri": "https://localhost:8080/",
          "height": 317
        },
        "outputId": "c2fe1bb6-d759-4602-f322-f5d9a4cb7796"
      },
      "source": [
        "EDA_train_df[(EDA_train_df.Patient_Age > 90)]"
      ],
      "execution_count": 16,
      "outputs": [
        {
          "output_type": "execute_result",
          "data": {
            "text/html": [
              "<div>\n",
              "<style scoped>\n",
              "    .dataframe tbody tr th:only-of-type {\n",
              "        vertical-align: middle;\n",
              "    }\n",
              "\n",
              "    .dataframe tbody tr th {\n",
              "        vertical-align: top;\n",
              "    }\n",
              "\n",
              "    .dataframe thead th {\n",
              "        text-align: right;\n",
              "    }\n",
              "</style>\n",
              "<table border=\"1\" class=\"dataframe\">\n",
              "  <thead>\n",
              "    <tr style=\"text-align: right;\">\n",
              "      <th></th>\n",
              "      <th>ID_Patient_Care_Situation</th>\n",
              "      <th>Diagnosed_Condition</th>\n",
              "      <th>Patient_ID</th>\n",
              "      <th>Treated_with_drugs</th>\n",
              "      <th>Patient_Age</th>\n",
              "      <th>Patient_Body_Mass_Index</th>\n",
              "      <th>Patient_Smoker</th>\n",
              "      <th>Patient_Rural_Urban</th>\n",
              "      <th>A</th>\n",
              "      <th>B</th>\n",
              "      <th>C</th>\n",
              "      <th>D</th>\n",
              "      <th>E</th>\n",
              "      <th>F</th>\n",
              "      <th>Z</th>\n",
              "      <th>Number_of_prev_cond</th>\n",
              "      <th>Survived_1_year</th>\n",
              "    </tr>\n",
              "  </thead>\n",
              "  <tbody>\n",
              "    <tr>\n",
              "      <th>1239</th>\n",
              "      <td>33007</td>\n",
              "      <td>0</td>\n",
              "      <td>12508</td>\n",
              "      <td>NaN</td>\n",
              "      <td>135</td>\n",
              "      <td>1.4606</td>\n",
              "      <td>UNKNOWN</td>\n",
              "      <td>RURAL</td>\n",
              "      <td>0.0</td>\n",
              "      <td>0.0</td>\n",
              "      <td>0.0</td>\n",
              "      <td>0.0</td>\n",
              "      <td>0.0</td>\n",
              "      <td>0.0</td>\n",
              "      <td>1.0</td>\n",
              "      <td>1.0</td>\n",
              "      <td>1</td>\n",
              "    </tr>\n",
              "    <tr>\n",
              "      <th>2137</th>\n",
              "      <td>33008</td>\n",
              "      <td>0</td>\n",
              "      <td>12509</td>\n",
              "      <td>NaN</td>\n",
              "      <td>112</td>\n",
              "      <td>1.2925</td>\n",
              "      <td>UNKNOWN</td>\n",
              "      <td>RURAL</td>\n",
              "      <td>0.0</td>\n",
              "      <td>0.0</td>\n",
              "      <td>0.0</td>\n",
              "      <td>0.0</td>\n",
              "      <td>0.0</td>\n",
              "      <td>0.0</td>\n",
              "      <td>1.0</td>\n",
              "      <td>1.0</td>\n",
              "      <td>1</td>\n",
              "    </tr>\n",
              "    <tr>\n",
              "      <th>3346</th>\n",
              "      <td>33010</td>\n",
              "      <td>0</td>\n",
              "      <td>12511</td>\n",
              "      <td>NaN</td>\n",
              "      <td>142</td>\n",
              "      <td>1.5701</td>\n",
              "      <td>UNKNOWN</td>\n",
              "      <td>RURAL</td>\n",
              "      <td>0.0</td>\n",
              "      <td>0.0</td>\n",
              "      <td>0.0</td>\n",
              "      <td>0.0</td>\n",
              "      <td>0.0</td>\n",
              "      <td>0.0</td>\n",
              "      <td>1.0</td>\n",
              "      <td>1.0</td>\n",
              "      <td>1</td>\n",
              "    </tr>\n",
              "    <tr>\n",
              "      <th>6257</th>\n",
              "      <td>33011</td>\n",
              "      <td>0</td>\n",
              "      <td>12512</td>\n",
              "      <td>NaN</td>\n",
              "      <td>132</td>\n",
              "      <td>1.9896</td>\n",
              "      <td>UNKNOWN</td>\n",
              "      <td>RURAL</td>\n",
              "      <td>0.0</td>\n",
              "      <td>0.0</td>\n",
              "      <td>0.0</td>\n",
              "      <td>0.0</td>\n",
              "      <td>0.0</td>\n",
              "      <td>0.0</td>\n",
              "      <td>1.0</td>\n",
              "      <td>1.0</td>\n",
              "      <td>1</td>\n",
              "    </tr>\n",
              "    <tr>\n",
              "      <th>12863</th>\n",
              "      <td>33009</td>\n",
              "      <td>0</td>\n",
              "      <td>12510</td>\n",
              "      <td>NaN</td>\n",
              "      <td>142</td>\n",
              "      <td>1.1450</td>\n",
              "      <td>UNKNOWN</td>\n",
              "      <td>RURAL</td>\n",
              "      <td>0.0</td>\n",
              "      <td>0.0</td>\n",
              "      <td>0.0</td>\n",
              "      <td>0.0</td>\n",
              "      <td>0.0</td>\n",
              "      <td>0.0</td>\n",
              "      <td>1.0</td>\n",
              "      <td>1.0</td>\n",
              "      <td>1</td>\n",
              "    </tr>\n",
              "    <tr>\n",
              "      <th>13192</th>\n",
              "      <td>33013</td>\n",
              "      <td>0</td>\n",
              "      <td>12514</td>\n",
              "      <td>NaN</td>\n",
              "      <td>121</td>\n",
              "      <td>1.0893</td>\n",
              "      <td>UNKNOWN</td>\n",
              "      <td>RURAL</td>\n",
              "      <td>0.0</td>\n",
              "      <td>0.0</td>\n",
              "      <td>0.0</td>\n",
              "      <td>0.0</td>\n",
              "      <td>0.0</td>\n",
              "      <td>0.0</td>\n",
              "      <td>1.0</td>\n",
              "      <td>1.0</td>\n",
              "      <td>1</td>\n",
              "    </tr>\n",
              "    <tr>\n",
              "      <th>14574</th>\n",
              "      <td>33003</td>\n",
              "      <td>0</td>\n",
              "      <td>12504</td>\n",
              "      <td>NaN</td>\n",
              "      <td>125</td>\n",
              "      <td>1.8282</td>\n",
              "      <td>UNKNOWN</td>\n",
              "      <td>RURAL</td>\n",
              "      <td>0.0</td>\n",
              "      <td>0.0</td>\n",
              "      <td>0.0</td>\n",
              "      <td>0.0</td>\n",
              "      <td>0.0</td>\n",
              "      <td>0.0</td>\n",
              "      <td>1.0</td>\n",
              "      <td>1.0</td>\n",
              "      <td>1</td>\n",
              "    </tr>\n",
              "    <tr>\n",
              "      <th>19669</th>\n",
              "      <td>33004</td>\n",
              "      <td>0</td>\n",
              "      <td>12505</td>\n",
              "      <td>NaN</td>\n",
              "      <td>123</td>\n",
              "      <td>1.9290</td>\n",
              "      <td>UNKNOWN</td>\n",
              "      <td>RURAL</td>\n",
              "      <td>0.0</td>\n",
              "      <td>0.0</td>\n",
              "      <td>0.0</td>\n",
              "      <td>0.0</td>\n",
              "      <td>0.0</td>\n",
              "      <td>0.0</td>\n",
              "      <td>1.0</td>\n",
              "      <td>1.0</td>\n",
              "      <td>1</td>\n",
              "    </tr>\n",
              "  </tbody>\n",
              "</table>\n",
              "</div>"
            ],
            "text/plain": [
              "       ID_Patient_Care_Situation  ...  Survived_1_year\n",
              "1239                       33007  ...                1\n",
              "2137                       33008  ...                1\n",
              "3346                       33010  ...                1\n",
              "6257                       33011  ...                1\n",
              "12863                      33009  ...                1\n",
              "13192                      33013  ...                1\n",
              "14574                      33003  ...                1\n",
              "19669                      33004  ...                1\n",
              "\n",
              "[8 rows x 17 columns]"
            ]
          },
          "metadata": {
            "tags": []
          },
          "execution_count": 16
        }
      ]
    },
    {
      "cell_type": "code",
      "metadata": {
        "id": "6MwjTv2YUPs2"
      },
      "source": [
        "# replace 'Patient_Age' with mean, if 'Patient_Age' > 90\n",
        "EDA_train_df.Patient_Age = np.where(EDA_train_df.Patient_Age > 90, EDA_train_df.Patient_Age.mean(), EDA_train_df.Patient_Age)"
      ],
      "execution_count": 17,
      "outputs": []
    },
    {
      "cell_type": "code",
      "metadata": {
        "id": "pCeLrP3IcmLk",
        "colab": {
          "base_uri": "https://localhost:8080/",
          "height": 69
        },
        "outputId": "633214ce-0b56-4b3e-feee-d9a12c7002ee"
      },
      "source": [
        "# check that there are no longer any 'Patient_Age' > 90\n",
        "EDA_train_df[(EDA_train_df.Patient_Age > 90)]"
      ],
      "execution_count": 18,
      "outputs": [
        {
          "output_type": "execute_result",
          "data": {
            "text/html": [
              "<div>\n",
              "<style scoped>\n",
              "    .dataframe tbody tr th:only-of-type {\n",
              "        vertical-align: middle;\n",
              "    }\n",
              "\n",
              "    .dataframe tbody tr th {\n",
              "        vertical-align: top;\n",
              "    }\n",
              "\n",
              "    .dataframe thead th {\n",
              "        text-align: right;\n",
              "    }\n",
              "</style>\n",
              "<table border=\"1\" class=\"dataframe\">\n",
              "  <thead>\n",
              "    <tr style=\"text-align: right;\">\n",
              "      <th></th>\n",
              "      <th>ID_Patient_Care_Situation</th>\n",
              "      <th>Diagnosed_Condition</th>\n",
              "      <th>Patient_ID</th>\n",
              "      <th>Treated_with_drugs</th>\n",
              "      <th>Patient_Age</th>\n",
              "      <th>Patient_Body_Mass_Index</th>\n",
              "      <th>Patient_Smoker</th>\n",
              "      <th>Patient_Rural_Urban</th>\n",
              "      <th>A</th>\n",
              "      <th>B</th>\n",
              "      <th>C</th>\n",
              "      <th>D</th>\n",
              "      <th>E</th>\n",
              "      <th>F</th>\n",
              "      <th>Z</th>\n",
              "      <th>Number_of_prev_cond</th>\n",
              "      <th>Survived_1_year</th>\n",
              "    </tr>\n",
              "  </thead>\n",
              "  <tbody>\n",
              "  </tbody>\n",
              "</table>\n",
              "</div>"
            ],
            "text/plain": [
              "Empty DataFrame\n",
              "Columns: [ID_Patient_Care_Situation, Diagnosed_Condition, Patient_ID, Treated_with_drugs, Patient_Age, Patient_Body_Mass_Index, Patient_Smoker, Patient_Rural_Urban, A, B, C, D, E, F, Z, Number_of_prev_cond, Survived_1_year]\n",
              "Index: []"
            ]
          },
          "metadata": {
            "tags": []
          },
          "execution_count": 18
        }
      ]
    },
    {
      "cell_type": "code",
      "metadata": {
        "id": "wyRdye5kmOnN",
        "colab": {
          "base_uri": "https://localhost:8080/",
          "height": 100
        },
        "outputId": "e677162f-e873-4857-acd5-685d41a0c3ef"
      },
      "source": [
        "# check the 'new' Patient_Age' of the first outlier, by index \n",
        "EDA_train_df.iloc[[1239]]"
      ],
      "execution_count": 19,
      "outputs": [
        {
          "output_type": "execute_result",
          "data": {
            "text/html": [
              "<div>\n",
              "<style scoped>\n",
              "    .dataframe tbody tr th:only-of-type {\n",
              "        vertical-align: middle;\n",
              "    }\n",
              "\n",
              "    .dataframe tbody tr th {\n",
              "        vertical-align: top;\n",
              "    }\n",
              "\n",
              "    .dataframe thead th {\n",
              "        text-align: right;\n",
              "    }\n",
              "</style>\n",
              "<table border=\"1\" class=\"dataframe\">\n",
              "  <thead>\n",
              "    <tr style=\"text-align: right;\">\n",
              "      <th></th>\n",
              "      <th>ID_Patient_Care_Situation</th>\n",
              "      <th>Diagnosed_Condition</th>\n",
              "      <th>Patient_ID</th>\n",
              "      <th>Treated_with_drugs</th>\n",
              "      <th>Patient_Age</th>\n",
              "      <th>Patient_Body_Mass_Index</th>\n",
              "      <th>Patient_Smoker</th>\n",
              "      <th>Patient_Rural_Urban</th>\n",
              "      <th>A</th>\n",
              "      <th>B</th>\n",
              "      <th>C</th>\n",
              "      <th>D</th>\n",
              "      <th>E</th>\n",
              "      <th>F</th>\n",
              "      <th>Z</th>\n",
              "      <th>Number_of_prev_cond</th>\n",
              "      <th>Survived_1_year</th>\n",
              "    </tr>\n",
              "  </thead>\n",
              "  <tbody>\n",
              "    <tr>\n",
              "      <th>1239</th>\n",
              "      <td>33007</td>\n",
              "      <td>0</td>\n",
              "      <td>12508</td>\n",
              "      <td>NaN</td>\n",
              "      <td>33.235831</td>\n",
              "      <td>1.4606</td>\n",
              "      <td>UNKNOWN</td>\n",
              "      <td>RURAL</td>\n",
              "      <td>0.0</td>\n",
              "      <td>0.0</td>\n",
              "      <td>0.0</td>\n",
              "      <td>0.0</td>\n",
              "      <td>0.0</td>\n",
              "      <td>0.0</td>\n",
              "      <td>1.0</td>\n",
              "      <td>1.0</td>\n",
              "      <td>1</td>\n",
              "    </tr>\n",
              "  </tbody>\n",
              "</table>\n",
              "</div>"
            ],
            "text/plain": [
              "      ID_Patient_Care_Situation  ...  Survived_1_year\n",
              "1239                      33007  ...                1\n",
              "\n",
              "[1 rows x 17 columns]"
            ]
          },
          "metadata": {
            "tags": []
          },
          "execution_count": 19
        }
      ]
    },
    {
      "cell_type": "markdown",
      "metadata": {
        "id": "C-iuGX__XnLa"
      },
      "source": [
        "#### 'Patient_Body_Mass_Index' Outliers\n",
        "The outliers for 'Patient_Body_Mass_Index' are closer to zero than the bulk of the data. \n",
        "**BMI = (Weight in kilograms) divided by (Height in metres squared)**\n",
        "\n",
        "A normal BMI is one that falls between **18.5 and 24.9**. This indicates that a person is within the normal weight range for his or her height.\n",
        "\n",
        "  Body Mass Index  (BMI)  | Weight Status\n",
        "  -------------  | -------------\n",
        "  Below 18.5 | Underweight\n",
        "  18.5 - 24.9 |\tNormal\n",
        "  25.0 - 29.9\t| Overweight\n",
        "  30.0 plus\t| Obese\n",
        "\n",
        "Given the data above, the outliers for 'Patient_Body_Mass_Index' are acceptable data."
      ]
    },
    {
      "cell_type": "markdown",
      "metadata": {
        "id": "Us7TMdHB2jq6"
      },
      "source": [
        "Heat map of the correlation analysis between the continuous varibles."
      ]
    },
    {
      "cell_type": "code",
      "metadata": {
        "id": "v6vxNjeT2jq6",
        "colab": {
          "base_uri": "https://localhost:8080/",
          "height": 357
        },
        "outputId": "5659507f-99c1-4418-bf79-4d9acf00d2f0"
      },
      "source": [
        "colormap = sns.diverging_palette(500, 500, as_cmap = True)\n",
        "sns.heatmap(EDA_train_df[['Patient_Age', 'Patient_Body_Mass_Index', 'Number_of_prev_cond']].corr(),\n",
        "            cmap = 'Greens',\n",
        "            square = True,\n",
        "            annot = True)\n",
        "plt.xticks(rotation=45)\n",
        "plt.show()"
      ],
      "execution_count": 20,
      "outputs": [
        {
          "output_type": "display_data",
          "data": {
            "image/png": "[encoded data removed]",
            "text/plain": [
              "<Figure size 432x288 with 2 Axes>"
            ]
          },
          "metadata": {
            "tags": [],
            "needs_background": "light"
          }
        }
      ]
    },
    {
      "cell_type": "markdown",
      "metadata": {
        "id": "_VGg3Geh3Ur9"
      },
      "source": [
        "There is very little correlation between Numeric variables."
      ]
    },
    {
      "cell_type": "markdown",
      "metadata": {
        "id": "5VhCMqDnDGN4"
      },
      "source": [
        "Check for missing Values"
      ]
    },
    {
      "cell_type": "code",
      "metadata": {
        "id": "eoDnYUgH2jq-",
        "colab": {
          "base_uri": "https://localhost:8080/"
        },
        "outputId": "fc029530-80ee-403a-da05-b27630cac0de"
      },
      "source": [
        "EDA_train_df.isnull().sum()"
      ],
      "execution_count": 21,
      "outputs": [
        {
          "output_type": "execute_result",
          "data": {
            "text/plain": [
              "ID_Patient_Care_Situation       0\n",
              "Diagnosed_Condition             0\n",
              "Patient_ID                      0\n",
              "Treated_with_drugs              8\n",
              "Patient_Age                     0\n",
              "Patient_Body_Mass_Index         0\n",
              "Patient_Smoker                  0\n",
              "Patient_Rural_Urban             0\n",
              "A                            1267\n",
              "B                            1267\n",
              "C                            1267\n",
              "D                            1267\n",
              "E                            1267\n",
              "F                            1267\n",
              "Z                            1267\n",
              "Number_of_prev_cond             0\n",
              "Survived_1_year                 0\n",
              "dtype: int64"
            ]
          },
          "metadata": {
            "tags": []
          },
          "execution_count": 21
        }
      ]
    },
    {
      "cell_type": "markdown",
      "metadata": {
        "id": "gFBicsED87k3"
      },
      "source": [
        "The following features have missing values: \n",
        "- 'Treated_with_drugs' - There are only 8 missing vlaues. It is possible that 8 patients were not treated with any drugs. These values will be replaced with '0'.\n",
        "\n",
        "- A\n",
        "- B\n",
        "- C \n",
        "- D \n",
        "- E \n",
        "- F \n",
        "- Z \n",
        "- 'Number_of_prev_cond'\n",
        "'Number_of_prev_cond' had 1356 missing values (exactly the same number of missing vales in each of features 'A', 'B', 'C', 'D', 'E', 'F', 'Z' - the specific condition features). Since 'Number_of_prev_cond' null values were replaced with '0' it follows that features 'A', 'B', 'C', 'D', 'E', 'F', 'Z' would also have null values replaced with '0'.\n"
      ]
    },
    {
      "cell_type": "code",
      "metadata": {
        "id": "FhWFz0aK76hv"
      },
      "source": [
        "# filling the missing value of features 'A', 'B', 'C', 'D', 'E', 'F', 'Z'  with '0'\n",
        "EDA_train_df[['Treated_with_drugs', 'A', 'B', 'C', 'D', 'E', 'F', 'Z', 'Number_of_prev_cond']] = EDA_train_df[['Treated_with_drugs', 'A', 'B', 'C', 'D', 'E', 'F', 'Z', 'Number_of_prev_cond']].fillna(value = 0)"
      ],
      "execution_count": 22,
      "outputs": []
    },
    {
      "cell_type": "code",
      "metadata": {
        "id": "uaXYe2Qe8hrc",
        "colab": {
          "base_uri": "https://localhost:8080/"
        },
        "outputId": "cae49c6d-9490-429e-cd1a-684d4dd387eb"
      },
      "source": [
        "EDA_train_df.isnull().sum()"
      ],
      "execution_count": 23,
      "outputs": [
        {
          "output_type": "execute_result",
          "data": {
            "text/plain": [
              "ID_Patient_Care_Situation    0\n",
              "Diagnosed_Condition          0\n",
              "Patient_ID                   0\n",
              "Treated_with_drugs           0\n",
              "Patient_Age                  0\n",
              "Patient_Body_Mass_Index      0\n",
              "Patient_Smoker               0\n",
              "Patient_Rural_Urban          0\n",
              "A                            0\n",
              "B                            0\n",
              "C                            0\n",
              "D                            0\n",
              "E                            0\n",
              "F                            0\n",
              "Z                            0\n",
              "Number_of_prev_cond          0\n",
              "Survived_1_year              0\n",
              "dtype: int64"
            ]
          },
          "metadata": {
            "tags": []
          },
          "execution_count": 23
        }
      ]
    },
    {
      "cell_type": "markdown",
      "metadata": {
        "id": "yRT6K4pW2jrA"
      },
      "source": [
        "### EDA on Categorical Data\n",
        "In 'categorical_data', keep all the categorical features and remove the rest.\n",
        "\n",
        "Features are not being removed from the main dataset, 'data'."
      ]
    },
    {
      "cell_type": "code",
      "metadata": {
        "id": "Jk82XPxHJTbv",
        "colab": {
          "base_uri": "https://localhost:8080/",
          "height": 224
        },
        "outputId": "a432bf9b-cbbe-4e6c-8b79-af899187e5e1"
      },
      "source": [
        "# Create a list of only the categorical features\n",
        "categorical_cols = EDA_train_df.drop(numeric_cols_df.columns, axis=1)\n",
        "categorical_cols.drop(['Patient_ID', 'ID_Patient_Care_Situation'], axis=1, inplace = True)\n",
        "\n",
        "categorical_cols.head()"
      ],
      "execution_count": 24,
      "outputs": [
        {
          "output_type": "execute_result",
          "data": {
            "text/html": [
              "<div>\n",
              "<style scoped>\n",
              "    .dataframe tbody tr th:only-of-type {\n",
              "        vertical-align: middle;\n",
              "    }\n",
              "\n",
              "    .dataframe tbody tr th {\n",
              "        vertical-align: top;\n",
              "    }\n",
              "\n",
              "    .dataframe thead th {\n",
              "        text-align: right;\n",
              "    }\n",
              "</style>\n",
              "<table border=\"1\" class=\"dataframe\">\n",
              "  <thead>\n",
              "    <tr style=\"text-align: right;\">\n",
              "      <th></th>\n",
              "      <th>Diagnosed_Condition</th>\n",
              "      <th>Treated_with_drugs</th>\n",
              "      <th>Patient_Smoker</th>\n",
              "      <th>Patient_Rural_Urban</th>\n",
              "      <th>A</th>\n",
              "      <th>B</th>\n",
              "      <th>C</th>\n",
              "      <th>D</th>\n",
              "      <th>E</th>\n",
              "      <th>F</th>\n",
              "      <th>Z</th>\n",
              "      <th>Survived_1_year</th>\n",
              "    </tr>\n",
              "  </thead>\n",
              "  <tbody>\n",
              "    <tr>\n",
              "      <th>0</th>\n",
              "      <td>47</td>\n",
              "      <td>DX2</td>\n",
              "      <td>NO</td>\n",
              "      <td>URBAN</td>\n",
              "      <td>1.0</td>\n",
              "      <td>0.0</td>\n",
              "      <td>0.0</td>\n",
              "      <td>0.0</td>\n",
              "      <td>1.0</td>\n",
              "      <td>0.0</td>\n",
              "      <td>0.0</td>\n",
              "      <td>1</td>\n",
              "    </tr>\n",
              "    <tr>\n",
              "      <th>1</th>\n",
              "      <td>3</td>\n",
              "      <td>DX6</td>\n",
              "      <td>NO</td>\n",
              "      <td>RURAL</td>\n",
              "      <td>1.0</td>\n",
              "      <td>0.0</td>\n",
              "      <td>1.0</td>\n",
              "      <td>0.0</td>\n",
              "      <td>1.0</td>\n",
              "      <td>0.0</td>\n",
              "      <td>0.0</td>\n",
              "      <td>0</td>\n",
              "    </tr>\n",
              "    <tr>\n",
              "      <th>2</th>\n",
              "      <td>7</td>\n",
              "      <td>DX6</td>\n",
              "      <td>NO</td>\n",
              "      <td>RURAL</td>\n",
              "      <td>1.0</td>\n",
              "      <td>0.0</td>\n",
              "      <td>0.0</td>\n",
              "      <td>0.0</td>\n",
              "      <td>1.0</td>\n",
              "      <td>0.0</td>\n",
              "      <td>0.0</td>\n",
              "      <td>1</td>\n",
              "    </tr>\n",
              "    <tr>\n",
              "      <th>3</th>\n",
              "      <td>31</td>\n",
              "      <td>DX6</td>\n",
              "      <td>NO</td>\n",
              "      <td>RURAL</td>\n",
              "      <td>1.0</td>\n",
              "      <td>0.0</td>\n",
              "      <td>0.0</td>\n",
              "      <td>0.0</td>\n",
              "      <td>1.0</td>\n",
              "      <td>0.0</td>\n",
              "      <td>0.0</td>\n",
              "      <td>0</td>\n",
              "    </tr>\n",
              "    <tr>\n",
              "      <th>4</th>\n",
              "      <td>43</td>\n",
              "      <td>DX1</td>\n",
              "      <td>NO</td>\n",
              "      <td>RURAL</td>\n",
              "      <td>1.0</td>\n",
              "      <td>0.0</td>\n",
              "      <td>0.0</td>\n",
              "      <td>0.0</td>\n",
              "      <td>0.0</td>\n",
              "      <td>0.0</td>\n",
              "      <td>0.0</td>\n",
              "      <td>1</td>\n",
              "    </tr>\n",
              "  </tbody>\n",
              "</table>\n",
              "</div>"
            ],
            "text/plain": [
              "   Diagnosed_Condition Treated_with_drugs  ...    Z Survived_1_year\n",
              "0                   47                DX2  ...  0.0               1\n",
              "1                    3                DX6  ...  0.0               0\n",
              "2                    7                DX6  ...  0.0               1\n",
              "3                   31                DX6  ...  0.0               0\n",
              "4                   43                DX1  ...  0.0               1\n",
              "\n",
              "[5 rows x 12 columns]"
            ]
          },
          "metadata": {
            "tags": []
          },
          "execution_count": 24
        }
      ]
    },
    {
      "cell_type": "code",
      "metadata": {
        "id": "6-AAOrPv2jrC",
        "colab": {
          "base_uri": "https://localhost:8080/"
        },
        "outputId": "a0f65372-a4fd-48b6-afd9-6264969bc5db"
      },
      "source": [
        "# Show the number of unique values for each feature\n",
        "categorical_cols.nunique()"
      ],
      "execution_count": 25,
      "outputs": [
        {
          "output_type": "execute_result",
          "data": {
            "text/plain": [
              "Diagnosed_Condition    53\n",
              "Treated_with_drugs     33\n",
              "Patient_Smoker          3\n",
              "Patient_Rural_Urban     2\n",
              "A                       2\n",
              "B                       2\n",
              "C                       2\n",
              "D                       2\n",
              "E                       2\n",
              "F                       2\n",
              "Z                       2\n",
              "Survived_1_year         2\n",
              "dtype: int64"
            ]
          },
          "metadata": {
            "tags": []
          },
          "execution_count": 25
        }
      ]
    },
    {
      "cell_type": "markdown",
      "metadata": {
        "id": "ng9a3CEm2jrF"
      },
      "source": [
        "- 'Treated_with_drugs' feature has 33 unique values. - this is as expected since each combination of drugs is a seperate value.\n",
        "- 'Patient_Smoker' has only 3 unique values. - this is as required"
      ]
    },
    {
      "cell_type": "markdown",
      "metadata": {
        "id": "Odx6WzQW-nBd"
      },
      "source": [
        "Plot the distribution of categorical variables."
      ]
    },
    {
      "cell_type": "code",
      "metadata": {
        "id": "eT5zTtMJ2jrF",
        "colab": {
          "base_uri": "https://localhost:8080/",
          "height": 934
        },
        "outputId": "9b80f615-267c-445d-bb3a-66eaf127892f"
      },
      "source": [
        "# Visualization of categorical Variables\n",
        "for feature in ['Patient_Smoker', 'Patient_Rural_Urban']:\n",
        "  sns.countplot(x=feature,  hue='Survived_1_year', data=EDA_train_df)\n",
        "  plt.show()\n",
        "\n",
        "plt.figure(figsize=(15,5))\n",
        "sns.countplot(x='Treated_with_drugs',  hue='Survived_1_year', data=EDA_train_df)\n",
        "plt.xticks(rotation=90)\n",
        "plt.show()"
      ],
      "execution_count": 26,
      "outputs": [
        {
          "output_type": "display_data",
          "data": {
            "image/png": "[encoded data removed]",
            "text/plain": [
              "<Figure size 432x288 with 1 Axes>"
            ]
          },
          "metadata": {
            "tags": [],
            "needs_background": "light"
          }
        },
        {
          "output_type": "display_data",
          "data": {
            "image/png": "[encoded data removed]",
            "text/plain": [
              "<Figure size 432x288 with 1 Axes>"
            ]
          },
          "metadata": {
            "tags": [],
            "needs_background": "light"
          }
        },
        {
          "output_type": "display_data",
          "data": {
            "image/png": "[encoded data removed]",
            "text/plain": [
              "<Figure size 1080x360 with 1 Axes>"
            ]
          },
          "metadata": {
            "tags": [],
            "needs_background": "light"
          }
        }
      ]
    },
    {
      "cell_type": "markdown",
      "metadata": {
        "id": "HD1vRYcdKAPf"
      },
      "source": [
        "Final data check before saving"
      ]
    },
    {
      "cell_type": "code",
      "metadata": {
        "id": "Z4N4dzIIKAnw",
        "colab": {
          "base_uri": "https://localhost:8080/"
        },
        "outputId": "c33169c4-0cf9-4f82-c277-ec688c65b144"
      },
      "source": [
        "EDA_train_df.isnull().sum()"
      ],
      "execution_count": 27,
      "outputs": [
        {
          "output_type": "execute_result",
          "data": {
            "text/plain": [
              "ID_Patient_Care_Situation    0\n",
              "Diagnosed_Condition          0\n",
              "Patient_ID                   0\n",
              "Treated_with_drugs           0\n",
              "Patient_Age                  0\n",
              "Patient_Body_Mass_Index      0\n",
              "Patient_Smoker               0\n",
              "Patient_Rural_Urban          0\n",
              "A                            0\n",
              "B                            0\n",
              "C                            0\n",
              "D                            0\n",
              "E                            0\n",
              "F                            0\n",
              "Z                            0\n",
              "Number_of_prev_cond          0\n",
              "Survived_1_year              0\n",
              "dtype: int64"
            ]
          },
          "metadata": {
            "tags": []
          },
          "execution_count": 27
        }
      ]
    },
    {
      "cell_type": "code",
      "metadata": {
        "id": "9so58VSBKF6O",
        "colab": {
          "base_uri": "https://localhost:8080/"
        },
        "outputId": "11253a28-b9ba-43bc-f8ab-ddb184d22f50"
      },
      "source": [
        "EDA_train_df.nunique() "
      ],
      "execution_count": 28,
      "outputs": [
        {
          "output_type": "execute_result",
          "data": {
            "text/plain": [
              "ID_Patient_Care_Situation    23097\n",
              "Diagnosed_Condition             53\n",
              "Patient_ID                   10599\n",
              "Treated_with_drugs              33\n",
              "Patient_Age                     68\n",
              "Patient_Body_Mass_Index      10599\n",
              "Patient_Smoker                   3\n",
              "Patient_Rural_Urban              2\n",
              "A                                2\n",
              "B                                2\n",
              "C                                2\n",
              "D                                2\n",
              "E                                2\n",
              "F                                2\n",
              "Z                                2\n",
              "Number_of_prev_cond              6\n",
              "Survived_1_year                  2\n",
              "dtype: int64"
            ]
          },
          "metadata": {
            "tags": []
          },
          "execution_count": 28
        }
      ]
    },
    {
      "cell_type": "markdown",
      "metadata": {
        "id": "zEgsTphsZiEW"
      },
      "source": [
        "Compare above summary of Training data to Test Data"
      ]
    },
    {
      "cell_type": "code",
      "metadata": {
        "id": "O20qV4MWWmg4",
        "colab": {
          "base_uri": "https://localhost:8080/"
        },
        "outputId": "d6d70fa5-ed73-49e1-f53e-2b6f3913d85a"
      },
      "source": [
        "EDA_new_test_df.isnull().sum()"
      ],
      "execution_count": 29,
      "outputs": [
        {
          "output_type": "execute_result",
          "data": {
            "text/plain": [
              "ID_Patient_Care_Situation    0\n",
              "Diagnosed_Condition          0\n",
              "Patient_ID                   0\n",
              "Treated_with_drugs           0\n",
              "Patient_Age                  0\n",
              "Patient_Body_Mass_Index      0\n",
              "Patient_Smoker               0\n",
              "Patient_Rural_Urban          0\n",
              "A                            0\n",
              "B                            0\n",
              "C                            0\n",
              "D                            0\n",
              "E                            0\n",
              "F                            0\n",
              "Z                            0\n",
              "Number_of_prev_cond          0\n",
              "dtype: int64"
            ]
          },
          "metadata": {
            "tags": []
          },
          "execution_count": 29
        }
      ]
    },
    {
      "cell_type": "code",
      "metadata": {
        "id": "LQPTcpLTWmOo",
        "colab": {
          "base_uri": "https://localhost:8080/"
        },
        "outputId": "bb697fdb-dff6-4ec6-f8a5-378d0037486d"
      },
      "source": [
        "EDA_new_test_df.nunique()"
      ],
      "execution_count": 30,
      "outputs": [
        {
          "output_type": "execute_result",
          "data": {
            "text/plain": [
              "ID_Patient_Care_Situation    9330\n",
              "Diagnosed_Condition            52\n",
              "Patient_ID                   6486\n",
              "Treated_with_drugs             32\n",
              "Patient_Age                    67\n",
              "Patient_Body_Mass_Index      6486\n",
              "Patient_Smoker                  2\n",
              "Patient_Rural_Urban             2\n",
              "A                               2\n",
              "B                               2\n",
              "C                               2\n",
              "D                               2\n",
              "E                               2\n",
              "F                               2\n",
              "Z                               1\n",
              "Number_of_prev_cond             5\n",
              "dtype: int64"
            ]
          },
          "metadata": {
            "tags": []
          },
          "execution_count": 30
        }
      ]
    },
    {
      "cell_type": "markdown",
      "metadata": {
        "id": "8Ibjxflg2jrH"
      },
      "source": [
        "### **Save Data**"
      ]
    },
    {
      "cell_type": "code",
      "metadata": {
        "id": "RBpaUJUH2jrI"
      },
      "source": [
        "# pickle Training data\n",
        "EDA_train_df.to_pickle('/content/drive/My Drive/Heart_Patient/Data/train_data_4_PP.pkl')\n",
        "\n",
        "# pickle Testing data\n",
        "EDA_new_test_df.to_pickle('/content/drive/My Drive/Heart_Patient/Data/new_test_data_4_PP.pkl')"
      ],
      "execution_count": 31,
      "outputs": []
    }
  ]
}