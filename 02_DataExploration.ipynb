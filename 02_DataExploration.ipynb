{
  "nbformat": 4,
  "nbformat_minor": 0,
  "metadata": {
    "kernelspec": {
      "display_name": "Python 3",
      "language": "python",
      "name": "python3"
    },
    "language_info": {
      "codemirror_mode": {
        "name": "ipython",
        "version": 3
      },
      "file_extension": ".py",
      "mimetype": "text/x-python",
      "name": "python",
      "nbconvert_exporter": "python",
      "pygments_lexer": "ipython3",
      "version": "3.7.6"
    },
    "colab": {
      "name": "02_DataExploration.ipynb",
      "provenance": [],
      "collapsed_sections": []
    }
  },
  "cells": [
    {
      "cell_type": "markdown",
      "metadata": {
        "id": "razAOXdh2jqU"
      },
      "source": [
        "# Heart Patient Prognosis"
      ]
    },
    {
      "cell_type": "markdown",
      "metadata": {
        "id": "-VAZENEc2jqV"
      },
      "source": [
        "Data Scientist:   __Gail Wittich__\\\n",
        "Email:      gwittich@optusnet.com.au \\\n",
        "Website:    www.linkedin.com/in/gail-wittich \\\n",
        "Copyright:  Copyright 2020, Gail Wittich "
      ]
    },
    {
      "cell_type": "markdown",
      "metadata": {
        "id": "ady1bB7e2jqV"
      },
      "source": [
        "### **EDA** "
      ]
    },
    {
      "cell_type": "code",
      "metadata": {
        "id": "LlzCaIoW2jqW"
      },
      "source": [
        "from google.colab import drive                         # for accessing files\n",
        "import matplotlib.pyplot as plt                        # for data visualisation\n",
        "import numpy as np                                     # for numeric computations\n",
        "import pandas as pd                                    # for data analysis\n",
        "import pickle                                          # for file reading and saving\n",
        "import seaborn as sns                                  # for data visualisation\n",
        "\n",
        "import warnings                                        # to ignore warnings\n",
        "warnings.filterwarnings('ignore')"
      ],
      "execution_count": null,
      "outputs": []
    },
    {
      "cell_type": "markdown",
      "metadata": {
        "id": "X6DEyzkd2jqZ"
      },
      "source": [
        "### **Load Data**"
      ]
    },
    {
      "cell_type": "code",
      "metadata": {
        "id": "-wKmkVju5wDG",
        "colab": {
          "base_uri": "https://localhost:8080/"
        },
        "outputId": "71e6e8f8-2458-415d-87ef-d3a1234c5d1d"
      },
      "source": [
        "# mount the google drive\n",
        "drive.mount(\"/content/drive\")"
      ],
      "execution_count": null,
      "outputs": [
        {
          "output_type": "stream",
          "text": [
            "Mounted at /content/drive\n"
          ],
          "name": "stdout"
        }
      ]
    },
    {
      "cell_type": "code",
      "metadata": {
        "id": "4Wo5qrT42jqa"
      },
      "source": [
        "# Unpickle Training data\n",
        "EDA_train_df = pd.read_pickle('/content/drive/My Drive/Colab Notebooks/ML Bootcamp/Heart_Patient/Data/train_data_4_EDA.pkl')\n",
        "\n",
        "# Unpickle Test data\n",
        "EDA_new_test_df = pd.read_pickle('/content/drive/My Drive/Colab Notebooks/ML Bootcamp/Heart_Patient/Data/test_data_4_EDA.pkl')"
      ],
      "execution_count": null,
      "outputs": []
    },
    {
      "cell_type": "markdown",
      "metadata": {
        "id": "MyVJsvDRGPk7"
      },
      "source": [
        "## EDA\n",
        "Primary screening\n",
        "1. Look at the data: feature names, kind of values they contain\n",
        "2. Look at an overview of the features: number, types, Null counts"
      ]
    },
    {
      "cell_type": "code",
      "metadata": {
        "id": "QFgQvD2j8xT0",
        "colab": {
          "base_uri": "https://localhost:8080/",
          "height": 224
        },
        "outputId": "f18cf67f-2479-4b44-a6fa-2e8d2662b2a8"
      },
      "source": [
        "EDA_train_df.head()"
      ],
      "execution_count": null,
      "outputs": [
        {
          "output_type": "execute_result",
          "data": {
            "text/html": [
              "<div>\n",
              "<style scoped>\n",
              "    .dataframe tbody tr th:only-of-type {\n",
              "        vertical-align: middle;\n",
              "    }\n",
              "\n",
              "    .dataframe tbody tr th {\n",
              "        vertical-align: top;\n",
              "    }\n",
              "\n",
              "    .dataframe thead th {\n",
              "        text-align: right;\n",
              "    }\n",
              "</style>\n",
              "<table border=\"1\" class=\"dataframe\">\n",
              "  <thead>\n",
              "    <tr style=\"text-align: right;\">\n",
              "      <th></th>\n",
              "      <th>ID_Patient_Care_Situation</th>\n",
              "      <th>Diagnosed_Condition</th>\n",
              "      <th>Patient_ID</th>\n",
              "      <th>Treated_with_drugs</th>\n",
              "      <th>Patient_Age</th>\n",
              "      <th>Patient_Body_Mass_Index</th>\n",
              "      <th>Patient_Smoker</th>\n",
              "      <th>Patient_Rural_Urban</th>\n",
              "      <th>A</th>\n",
              "      <th>B</th>\n",
              "      <th>C</th>\n",
              "      <th>D</th>\n",
              "      <th>E</th>\n",
              "      <th>F</th>\n",
              "      <th>Z</th>\n",
              "      <th>Number_of_prev_cond</th>\n",
              "      <th>Survived_1_year</th>\n",
              "    </tr>\n",
              "  </thead>\n",
              "  <tbody>\n",
              "    <tr>\n",
              "      <th>0</th>\n",
              "      <td>16201</td>\n",
              "      <td>47</td>\n",
              "      <td>8433</td>\n",
              "      <td>DX2</td>\n",
              "      <td>60</td>\n",
              "      <td>21.655523</td>\n",
              "      <td>NO</td>\n",
              "      <td>URBAN</td>\n",
              "      <td>1.0</td>\n",
              "      <td>0.0</td>\n",
              "      <td>0.0</td>\n",
              "      <td>0.0</td>\n",
              "      <td>1.0</td>\n",
              "      <td>0.0</td>\n",
              "      <td>0.0</td>\n",
              "      <td>2.0</td>\n",
              "      <td>1</td>\n",
              "    </tr>\n",
              "    <tr>\n",
              "      <th>1</th>\n",
              "      <td>9421</td>\n",
              "      <td>3</td>\n",
              "      <td>2972</td>\n",
              "      <td>DX6</td>\n",
              "      <td>2</td>\n",
              "      <td>28.852743</td>\n",
              "      <td>NO</td>\n",
              "      <td>RURAL</td>\n",
              "      <td>1.0</td>\n",
              "      <td>0.0</td>\n",
              "      <td>1.0</td>\n",
              "      <td>0.0</td>\n",
              "      <td>1.0</td>\n",
              "      <td>0.0</td>\n",
              "      <td>0.0</td>\n",
              "      <td>3.0</td>\n",
              "      <td>0</td>\n",
              "    </tr>\n",
              "    <tr>\n",
              "      <th>2</th>\n",
              "      <td>16205</td>\n",
              "      <td>7</td>\n",
              "      <td>8608</td>\n",
              "      <td>DX6</td>\n",
              "      <td>20</td>\n",
              "      <td>26.179725</td>\n",
              "      <td>NO</td>\n",
              "      <td>RURAL</td>\n",
              "      <td>1.0</td>\n",
              "      <td>0.0</td>\n",
              "      <td>0.0</td>\n",
              "      <td>0.0</td>\n",
              "      <td>1.0</td>\n",
              "      <td>0.0</td>\n",
              "      <td>0.0</td>\n",
              "      <td>2.0</td>\n",
              "      <td>1</td>\n",
              "    </tr>\n",
              "    <tr>\n",
              "      <th>3</th>\n",
              "      <td>5582</td>\n",
              "      <td>31</td>\n",
              "      <td>10074</td>\n",
              "      <td>DX6</td>\n",
              "      <td>8</td>\n",
              "      <td>22.638945</td>\n",
              "      <td>NO</td>\n",
              "      <td>RURAL</td>\n",
              "      <td>1.0</td>\n",
              "      <td>0.0</td>\n",
              "      <td>0.0</td>\n",
              "      <td>0.0</td>\n",
              "      <td>1.0</td>\n",
              "      <td>0.0</td>\n",
              "      <td>0.0</td>\n",
              "      <td>2.0</td>\n",
              "      <td>0</td>\n",
              "    </tr>\n",
              "    <tr>\n",
              "      <th>4</th>\n",
              "      <td>20880</td>\n",
              "      <td>43</td>\n",
              "      <td>7462</td>\n",
              "      <td>DX1</td>\n",
              "      <td>53</td>\n",
              "      <td>21.326131</td>\n",
              "      <td>NO</td>\n",
              "      <td>RURAL</td>\n",
              "      <td>1.0</td>\n",
              "      <td>0.0</td>\n",
              "      <td>0.0</td>\n",
              "      <td>0.0</td>\n",
              "      <td>0.0</td>\n",
              "      <td>0.0</td>\n",
              "      <td>0.0</td>\n",
              "      <td>1.0</td>\n",
              "      <td>1</td>\n",
              "    </tr>\n",
              "  </tbody>\n",
              "</table>\n",
              "</div>"
            ],
            "text/plain": [
              "   ID_Patient_Care_Situation  ...  Survived_1_year\n",
              "0                      16201  ...                1\n",
              "1                       9421  ...                0\n",
              "2                      16205  ...                1\n",
              "3                       5582  ...                0\n",
              "4                      20880  ...                1\n",
              "\n",
              "[5 rows x 17 columns]"
            ]
          },
          "metadata": {
            "tags": []
          },
          "execution_count": 4
        }
      ]
    },
    {
      "cell_type": "code",
      "metadata": {
        "id": "z2I8ggsO2jqd",
        "colab": {
          "base_uri": "https://localhost:8080/"
        },
        "outputId": "2bee0b4f-7337-4487-8077-02b7e09c7987"
      },
      "source": [
        "# Summary of the data\n",
        "EDA_train_df.info()"
      ],
      "execution_count": null,
      "outputs": [
        {
          "output_type": "stream",
          "text": [
            "<class 'pandas.core.frame.DataFrame'>\n",
            "Int64Index: 23097 entries, 0 to 23096\n",
            "Data columns (total 17 columns):\n",
            " #   Column                     Non-Null Count  Dtype  \n",
            "---  ------                     --------------  -----  \n",
            " 0   ID_Patient_Care_Situation  23097 non-null  int64  \n",
            " 1   Diagnosed_Condition        23097 non-null  int64  \n",
            " 2   Patient_ID                 23097 non-null  int64  \n",
            " 3   Treated_with_drugs         23089 non-null  object \n",
            " 4   Patient_Age                23097 non-null  int64  \n",
            " 5   Patient_Body_Mass_Index    23097 non-null  float64\n",
            " 6   Patient_Smoker             23097 non-null  object \n",
            " 7   Patient_Rural_Urban        23097 non-null  object \n",
            " 8   A                          21830 non-null  float64\n",
            " 9   B                          21830 non-null  float64\n",
            " 10  C                          21830 non-null  float64\n",
            " 11  D                          21830 non-null  float64\n",
            " 12  E                          21830 non-null  float64\n",
            " 13  F                          21830 non-null  float64\n",
            " 14  Z                          21830 non-null  float64\n",
            " 15  Number_of_prev_cond        21830 non-null  float64\n",
            " 16  Survived_1_year            23097 non-null  int64  \n",
            "dtypes: float64(9), int64(5), object(3)\n",
            "memory usage: 3.2+ MB\n"
          ],
          "name": "stdout"
        }
      ]
    },
    {
      "cell_type": "markdown",
      "metadata": {
        "id": "EEjTrZTE2jqi"
      },
      "source": [
        "**Observations:**\n",
        "\n",
        "1. There are 23097 records\n",
        "2. The data set has 16 features plus the Target.\n",
        "3. There are some missing values in the folowing features (non-null < 23097):\n",
        "    - Treated_with_drugs\n",
        "    - A\n",
        "    - B\n",
        "    - C\n",
        "    - D\n",
        "    - E\n",
        "    - F\n",
        "    - Z\n",
        "    - Number_of_prev_cond\n",
        "    \n",
        "4. There is a mix of feature data types: float64(9), int64(5), object(3)"
      ]
    },
    {
      "cell_type": "markdown",
      "metadata": {
        "id": "3MsxEzRz2jqi"
      },
      "source": [
        "Visualise the distribution of the target variable, 'Survived_1_year', to determine if the dataset is balanced."
      ]
    },
    {
      "cell_type": "code",
      "metadata": {
        "id": "rFeadmq02jqj",
        "colab": {
          "base_uri": "https://localhost:8080/",
          "height": 280
        },
        "outputId": "d0b2de2b-7877-4b6d-b641-7670263ae4ca"
      },
      "source": [
        "sns.countplot(x='Survived_1_year', data=EDA_train_df)\n",
        "plt.show()"
      ],
      "execution_count": null,
      "outputs": [
        {
          "output_type": "display_data",
          "data": {
            "image/png": "[encoded data removed]",
            "text/plain": [
              "<Figure size 432x288 with 1 Axes>"
            ]
          },
          "metadata": {
            "tags": [],
            "needs_background": "light"
          }
        }
      ]
    },
    {
      "cell_type": "markdown",
      "metadata": {
        "id": "h6uc3QtW2jqm"
      },
      "source": [
        "There are 8000 + patients who did not survive for 1 year after treatment and more than 14000 patients who survived for at least 1 year after treatment. The ratio is approx 1:2. This is not a great enough imbalance (skew) to require attention."
      ]
    },
    {
      "cell_type": "markdown",
      "metadata": {
        "id": "Eq4Vg1fg2jqm"
      },
      "source": [
        "**Perform EDA on Numeric (continuous) variables**"
      ]
    },
    {
      "cell_type": "code",
      "metadata": {
        "id": "mr2VSLO92jqn",
        "colab": {
          "base_uri": "https://localhost:8080/"
        },
        "outputId": "787338b6-054f-4c72-e6f0-a48cd788aa43"
      },
      "source": [
        "# Show only the numerical features\n",
        "print(EDA_train_df.select_dtypes(include=np.number).columns)"
      ],
      "execution_count": null,
      "outputs": [
        {
          "output_type": "stream",
          "text": [
            "Index(['ID_Patient_Care_Situation', 'Diagnosed_Condition', 'Patient_ID',\n",
            "       'Patient_Age', 'Patient_Body_Mass_Index', 'A', 'B', 'C', 'D', 'E', 'F',\n",
            "       'Z', 'Number_of_prev_cond', 'Survived_1_year'],\n",
            "      dtype='object')\n"
          ],
          "name": "stdout"
        }
      ]
    },
    {
      "cell_type": "markdown",
      "metadata": {
        "id": "UIDBzAO36KPC"
      },
      "source": [
        "ID_Patient_Care_Situation and Patient_ID are record identification data, they will be ignored for data analysis.\n",
        "Number_of_prev_cond is dependent on 7 features - A, B, C, D, E, F, Z, They are Categorical features. (addressed later)"
      ]
    },
    {
      "cell_type": "code",
      "metadata": {
        "id": "zw7Ljv6W2jqp",
        "colab": {
          "base_uri": "https://localhost:8080/",
          "height": 204
        },
        "outputId": "c7f7b36b-3f57-4869-fe4b-c0f73fc0d09e"
      },
      "source": [
        "# Create a List of just the numeric features\n",
        "numeric_cols_df = EDA_train_df[['Diagnosed_Condition', 'Patient_Age', \n",
        "                                'Patient_Body_Mass_Index', 'Number_of_prev_cond',\n",
        "                                'Survived_1_year']]\n",
        "numeric_cols_df.head()"
      ],
      "execution_count": null,
      "outputs": [
        {
          "output_type": "execute_result",
          "data": {
            "text/html": [
              "<div>\n",
              "<style scoped>\n",
              "    .dataframe tbody tr th:only-of-type {\n",
              "        vertical-align: middle;\n",
              "    }\n",
              "\n",
              "    .dataframe tbody tr th {\n",
              "        vertical-align: top;\n",
              "    }\n",
              "\n",
              "    .dataframe thead th {\n",
              "        text-align: right;\n",
              "    }\n",
              "</style>\n",
              "<table border=\"1\" class=\"dataframe\">\n",
              "  <thead>\n",
              "    <tr style=\"text-align: right;\">\n",
              "      <th></th>\n",
              "      <th>Diagnosed_Condition</th>\n",
              "      <th>Patient_Age</th>\n",
              "      <th>Patient_Body_Mass_Index</th>\n",
              "      <th>Number_of_prev_cond</th>\n",
              "      <th>Survived_1_year</th>\n",
              "    </tr>\n",
              "  </thead>\n",
              "  <tbody>\n",
              "    <tr>\n",
              "      <th>0</th>\n",
              "      <td>47</td>\n",
              "      <td>60</td>\n",
              "      <td>21.655523</td>\n",
              "      <td>2.0</td>\n",
              "      <td>1</td>\n",
              "    </tr>\n",
              "    <tr>\n",
              "      <th>1</th>\n",
              "      <td>3</td>\n",
              "      <td>2</td>\n",
              "      <td>28.852743</td>\n",
              "      <td>3.0</td>\n",
              "      <td>0</td>\n",
              "    </tr>\n",
              "    <tr>\n",
              "      <th>2</th>\n",
              "      <td>7</td>\n",
              "      <td>20</td>\n",
              "      <td>26.179725</td>\n",
              "      <td>2.0</td>\n",
              "      <td>1</td>\n",
              "    </tr>\n",
              "    <tr>\n",
              "      <th>3</th>\n",
              "      <td>31</td>\n",
              "      <td>8</td>\n",
              "      <td>22.638945</td>\n",
              "      <td>2.0</td>\n",
              "      <td>0</td>\n",
              "    </tr>\n",
              "    <tr>\n",
              "      <th>4</th>\n",
              "      <td>43</td>\n",
              "      <td>53</td>\n",
              "      <td>21.326131</td>\n",
              "      <td>1.0</td>\n",
              "      <td>1</td>\n",
              "    </tr>\n",
              "  </tbody>\n",
              "</table>\n",
              "</div>"
            ],
            "text/plain": [
              "   Diagnosed_Condition  Patient_Age  ...  Number_of_prev_cond  Survived_1_year\n",
              "0                   47           60  ...                  2.0                1\n",
              "1                    3            2  ...                  3.0                0\n",
              "2                    7           20  ...                  2.0                1\n",
              "3                   31            8  ...                  2.0                0\n",
              "4                   43           53  ...                  1.0                1\n",
              "\n",
              "[5 rows x 5 columns]"
            ]
          },
          "metadata": {
            "tags": []
          },
          "execution_count": 8
        }
      ]
    },
    {
      "cell_type": "code",
      "metadata": {
        "id": "VDoFIYhiYnC3",
        "colab": {
          "base_uri": "https://localhost:8080/"
        },
        "outputId": "c9f0521d-b6cd-478d-f7f7-46a4a092eb29"
      },
      "source": [
        "numeric_cols_df.nunique()   # return the number of unique values in each feature"
      ],
      "execution_count": null,
      "outputs": [
        {
          "output_type": "execute_result",
          "data": {
            "text/plain": [
              "Diagnosed_Condition           53\n",
              "Patient_Age                   74\n",
              "Patient_Body_Mass_Index    10599\n",
              "Number_of_prev_cond            5\n",
              "Survived_1_year                2\n",
              "dtype: int64"
            ]
          },
          "metadata": {
            "tags": []
          },
          "execution_count": 9
        }
      ]
    },
    {
      "cell_type": "markdown",
      "metadata": {
        "id": "1iNp6IiEYyU1"
      },
      "source": [
        "The number of unique values for each of the numeric features appears reasonable given they are continuous variables. Each is with the range of possble for that feature."
      ]
    },
    {
      "cell_type": "code",
      "metadata": {
        "id": "xerj-Qfk2jqs",
        "colab": {
          "base_uri": "https://localhost:8080/"
        },
        "outputId": "4fd6d546-bdd9-45dd-9d03-88670942316e"
      },
      "source": [
        "# **Checking the null values in numerical features**\n",
        "numeric_cols_df.isnull().sum()"
      ],
      "execution_count": null,
      "outputs": [
        {
          "output_type": "execute_result",
          "data": {
            "text/plain": [
              "Diagnosed_Condition           0\n",
              "Patient_Age                   0\n",
              "Patient_Body_Mass_Index       0\n",
              "Number_of_prev_cond        1267\n",
              "Survived_1_year               0\n",
              "dtype: int64"
            ]
          },
          "metadata": {
            "tags": []
          },
          "execution_count": 10
        }
      ]
    },
    {
      "cell_type": "markdown",
      "metadata": {
        "id": "ZL3iKhHQ2jqu"
      },
      "source": [
        "'Number_of_prev_cond' has 1356 missing values.\n",
        "\n",
        "Expected values in 'Number_of_prev_cond' is a discrete value integer ranging from 0 to 7.\n",
        "\n",
        "'Number_of_prev_cond' is dependent on the values in the seven features - 'A', 'B', 'C', 'D', 'E', 'F', 'Z' (i.e. what specifically the previous conditions were).\n",
        "One option is to fill the missing values with, for example, the Mode of the feature. However, it is possible that the patients DID NOT have any previous conditions. Another option is to fill it with '0' (prefered option in this situation).\n"
      ]
    },
    {
      "cell_type": "code",
      "metadata": {
        "id": "E-m-Xm3lNAsj",
        "colab": {
          "base_uri": "https://localhost:8080/",
          "height": 280
        },
        "outputId": "537fd7d4-9ef5-4313-d484-e45ddf8e9452"
      },
      "source": [
        "sns.countplot(x='Number_of_prev_cond', data=EDA_train_df)\n",
        "plt.show()"
      ],
      "execution_count": null,
      "outputs": [
        {
          "output_type": "display_data",
          "data": {
            "image/png": "[encoded data removed]",
            "text/plain": [
              "<Figure size 432x288 with 1 Axes>"
            ]
          },
          "metadata": {
            "tags": [],
            "needs_background": "light"
          }
        }
      ]
    },
    {
      "cell_type": "code",
      "metadata": {
        "id": "ySTVL5fP2jqv"
      },
      "source": [
        "# filling the missing value of 'Number_of_prev_cond' with '0'\n",
        "EDA_train_df['Number_of_prev_cond'] = EDA_train_df['Number_of_prev_cond'].fillna(0)"
      ],
      "execution_count": null,
      "outputs": []
    },
    {
      "cell_type": "code",
      "metadata": {
        "id": "2HBZnb2CPrC0",
        "colab": {
          "base_uri": "https://localhost:8080/",
          "height": 280
        },
        "outputId": "bf003e81-1e56-449b-ef2c-0a7d9e59e08d"
      },
      "source": [
        "sns.countplot(x='Number_of_prev_cond', data=EDA_train_df)\n",
        "plt.show()"
      ],
      "execution_count": null,
      "outputs": [
        {
          "output_type": "display_data",
          "data": {
            "image/png": "[encoded data removed]",
            "text/plain": [
              "<Figure size 432x288 with 1 Axes>"
            ]
          },
          "metadata": {
            "tags": [],
            "needs_background": "light"
          }
        }
      ]
    },
    {
      "cell_type": "code",
      "metadata": {
        "id": "GXzRrMpz2jqz",
        "colab": {
          "base_uri": "https://localhost:8080/",
          "height": 297
        },
        "outputId": "6fe667ab-2893-44eb-b097-3f2b2bf16ef6"
      },
      "source": [
        "# Show the basic statistical description of the numerical features\n",
        "numeric_cols_df.describe()"
      ],
      "execution_count": null,
      "outputs": [
        {
          "output_type": "execute_result",
          "data": {
            "text/html": [
              "<div>\n",
              "<style scoped>\n",
              "    .dataframe tbody tr th:only-of-type {\n",
              "        vertical-align: middle;\n",
              "    }\n",
              "\n",
              "    .dataframe tbody tr th {\n",
              "        vertical-align: top;\n",
              "    }\n",
              "\n",
              "    .dataframe thead th {\n",
              "        text-align: right;\n",
              "    }\n",
              "</style>\n",
              "<table border=\"1\" class=\"dataframe\">\n",
              "  <thead>\n",
              "    <tr style=\"text-align: right;\">\n",
              "      <th></th>\n",
              "      <th>Diagnosed_Condition</th>\n",
              "      <th>Patient_Age</th>\n",
              "      <th>Patient_Body_Mass_Index</th>\n",
              "      <th>Number_of_prev_cond</th>\n",
              "      <th>Survived_1_year</th>\n",
              "    </tr>\n",
              "  </thead>\n",
              "  <tbody>\n",
              "    <tr>\n",
              "      <th>count</th>\n",
              "      <td>23097.000000</td>\n",
              "      <td>23097.000000</td>\n",
              "      <td>23097.000000</td>\n",
              "      <td>21830.000000</td>\n",
              "      <td>23097.000000</td>\n",
              "    </tr>\n",
              "    <tr>\n",
              "      <th>mean</th>\n",
              "      <td>26.388708</td>\n",
              "      <td>33.235831</td>\n",
              "      <td>23.439701</td>\n",
              "      <td>1.749427</td>\n",
              "      <td>0.632247</td>\n",
              "    </tr>\n",
              "    <tr>\n",
              "      <th>std</th>\n",
              "      <td>15.079945</td>\n",
              "      <td>19.513294</td>\n",
              "      <td>3.783907</td>\n",
              "      <td>0.771039</td>\n",
              "      <td>0.482204</td>\n",
              "    </tr>\n",
              "    <tr>\n",
              "      <th>min</th>\n",
              "      <td>0.000000</td>\n",
              "      <td>0.000000</td>\n",
              "      <td>1.089300</td>\n",
              "      <td>1.000000</td>\n",
              "      <td>0.000000</td>\n",
              "    </tr>\n",
              "    <tr>\n",
              "      <th>25%</th>\n",
              "      <td>13.000000</td>\n",
              "      <td>16.000000</td>\n",
              "      <td>20.201721</td>\n",
              "      <td>1.000000</td>\n",
              "      <td>0.000000</td>\n",
              "    </tr>\n",
              "    <tr>\n",
              "      <th>50%</th>\n",
              "      <td>26.000000</td>\n",
              "      <td>33.000000</td>\n",
              "      <td>23.373801</td>\n",
              "      <td>2.000000</td>\n",
              "      <td>1.000000</td>\n",
              "    </tr>\n",
              "    <tr>\n",
              "      <th>75%</th>\n",
              "      <td>39.000000</td>\n",
              "      <td>50.000000</td>\n",
              "      <td>26.734052</td>\n",
              "      <td>2.000000</td>\n",
              "      <td>1.000000</td>\n",
              "    </tr>\n",
              "    <tr>\n",
              "      <th>max</th>\n",
              "      <td>52.000000</td>\n",
              "      <td>142.000000</td>\n",
              "      <td>29.999579</td>\n",
              "      <td>5.000000</td>\n",
              "      <td>1.000000</td>\n",
              "    </tr>\n",
              "  </tbody>\n",
              "</table>\n",
              "</div>"
            ],
            "text/plain": [
              "       Diagnosed_Condition   Patient_Age  ...  Number_of_prev_cond  Survived_1_year\n",
              "count         23097.000000  23097.000000  ...         21830.000000     23097.000000\n",
              "mean             26.388708     33.235831  ...             1.749427         0.632247\n",
              "std              15.079945     19.513294  ...             0.771039         0.482204\n",
              "min               0.000000      0.000000  ...             1.000000         0.000000\n",
              "25%              13.000000     16.000000  ...             1.000000         0.000000\n",
              "50%              26.000000     33.000000  ...             2.000000         1.000000\n",
              "75%              39.000000     50.000000  ...             2.000000         1.000000\n",
              "max              52.000000    142.000000  ...             5.000000         1.000000\n",
              "\n",
              "[8 rows x 5 columns]"
            ]
          },
          "metadata": {
            "tags": []
          },
          "execution_count": 14
        }
      ]
    },
    {
      "cell_type": "markdown",
      "metadata": {
        "id": "3Gxn2Eph2jq2"
      },
      "source": [
        "**Observation**\n",
        "\n",
        "1. The minimum and maximum values for all the numerical features."
      ]
    },
    {
      "cell_type": "markdown",
      "metadata": {
        "id": "hrHNP6bg2jq2"
      },
      "source": [
        "**Box Plot**\n",
        "\n",
        "A Box Plot shows the data by feature, displaying:\n",
        "- The five-number summary of a set of the data, ie:\n",
        "  *  minimum\n",
        "  *  first quartile (Q1)\n",
        "  *  median\n",
        "  *  third quartile (Q3)\n",
        "  *  maximum\n",
        "- Value of first quartile\n",
        "- Value of third quartile\n",
        "- Median\n",
        "- outliers\n",
        "- outlier values\n",
        "- symmetry of data\n",
        "- how tightly data is grouped (distributed)\n",
        "- if and how the data is skewed."
      ]
    },
    {
      "cell_type": "code",
      "metadata": {
        "id": "8gxQXFnR2jq3",
        "colab": {
          "base_uri": "https://localhost:8080/",
          "height": 1000
        },
        "outputId": "a45568d3-ef5c-4b67-adf0-e2fa8fbb4520"
      },
      "source": [
        "for feature in numeric_cols_df.drop('Survived_1_year', axis = 1).columns:\n",
        "  sns.boxplot(x='Survived_1_year', y=feature, data=numeric_cols_df)\n",
        "  plt.show()"
      ],
      "execution_count": null,
      "outputs": [
        {
          "output_type": "display_data",
          "data": {
            "image/png": "[encoded data removed]",
            "text/plain": [
              "<Figure size 432x288 with 1 Axes>"
            ]
          },
          "metadata": {
            "tags": [],
            "needs_background": "light"
          }
        },
        {
          "output_type": "display_data",
          "data": {
            "image/png": "[encoded data removed]",
            "text/plain": [
              "<Figure size 432x288 with 1 Axes>"
            ]
          },
          "metadata": {
            "tags": [],
            "needs_background": "light"
          }
        },
        {
          "output_type": "display_data",
          "data": {
            "image/png": "[encoded data removed]",
            "text/plain": [
              "<Figure size 432x288 with 1 Axes>"
            ]
          },
          "metadata": {
            "tags": [],
            "needs_background": "light"
          }
        },
        {
          "output_type": "display_data",
          "data": {
            "image/png": "[encoded data removed]",
            "text/plain": [
              "<Figure size 432x288 with 1 Axes>"
            ]
          },
          "metadata": {
            "tags": [],
            "needs_background": "light"
          }
        }
      ]
    },
    {
      "cell_type": "markdown",
      "metadata": {
        "id": "RhDvZDyV2jq6"
      },
      "source": [
        "There are some outliers in the features:\n",
        " - 'Patient_Age'\n",
        " - 'Patient_Body_Mass_Index'\n",
        " - 'Number_of_prev_cond' - This is not of any concern - it is valuable data."
      ]
    },
    {
      "cell_type": "markdown",
      "metadata": {
        "id": "q7OxU42Pbnpr"
      },
      "source": [
        "####'Patient_Age' Outliers\n",
        "The Outliers for 'Patient_Age' are in excess of 110. This is unlikely since the oldest person ever to have lived in the country studied was <103. \n",
        "The outliers will be replaced with the mean."
      ]
    },
    {
      "cell_type": "code",
      "metadata": {
        "id": "8G0kT8e8d43k",
        "colab": {
          "base_uri": "https://localhost:8080/",
          "height": 317
        },
        "outputId": "34cc204c-a74a-4dc3-d697-b96c5991a860"
      },
      "source": [
        "EDA_train_df[(EDA_train_df.Patient_Age > 90)]"
      ],
      "execution_count": null,
      "outputs": [
        {
          "output_type": "execute_result",
          "data": {
            "text/html": [
              "<div>\n",
              "<style scoped>\n",
              "    .dataframe tbody tr th:only-of-type {\n",
              "        vertical-align: middle;\n",
              "    }\n",
              "\n",
              "    .dataframe tbody tr th {\n",
              "        vertical-align: top;\n",
              "    }\n",
              "\n",
              "    .dataframe thead th {\n",
              "        text-align: right;\n",
              "    }\n",
              "</style>\n",
              "<table border=\"1\" class=\"dataframe\">\n",
              "  <thead>\n",
              "    <tr style=\"text-align: right;\">\n",
              "      <th></th>\n",
              "      <th>ID_Patient_Care_Situation</th>\n",
              "      <th>Diagnosed_Condition</th>\n",
              "      <th>Patient_ID</th>\n",
              "      <th>Treated_with_drugs</th>\n",
              "      <th>Patient_Age</th>\n",
              "      <th>Patient_Body_Mass_Index</th>\n",
              "      <th>Patient_Smoker</th>\n",
              "      <th>Patient_Rural_Urban</th>\n",
              "      <th>A</th>\n",
              "      <th>B</th>\n",
              "      <th>C</th>\n",
              "      <th>D</th>\n",
              "      <th>E</th>\n",
              "      <th>F</th>\n",
              "      <th>Z</th>\n",
              "      <th>Number_of_prev_cond</th>\n",
              "      <th>Survived_1_year</th>\n",
              "    </tr>\n",
              "  </thead>\n",
              "  <tbody>\n",
              "    <tr>\n",
              "      <th>1239</th>\n",
              "      <td>33007</td>\n",
              "      <td>0</td>\n",
              "      <td>12508</td>\n",
              "      <td>NaN</td>\n",
              "      <td>135</td>\n",
              "      <td>1.4606</td>\n",
              "      <td>UNKNOWN</td>\n",
              "      <td>RURAL</td>\n",
              "      <td>0.0</td>\n",
              "      <td>0.0</td>\n",
              "      <td>0.0</td>\n",
              "      <td>0.0</td>\n",
              "      <td>0.0</td>\n",
              "      <td>0.0</td>\n",
              "      <td>1.0</td>\n",
              "      <td>1.0</td>\n",
              "      <td>1</td>\n",
              "    </tr>\n",
              "    <tr>\n",
              "      <th>2137</th>\n",
              "      <td>33008</td>\n",
              "      <td>0</td>\n",
              "      <td>12509</td>\n",
              "      <td>NaN</td>\n",
              "      <td>112</td>\n",
              "      <td>1.2925</td>\n",
              "      <td>UNKNOWN</td>\n",
              "      <td>RURAL</td>\n",
              "      <td>0.0</td>\n",
              "      <td>0.0</td>\n",
              "      <td>0.0</td>\n",
              "      <td>0.0</td>\n",
              "      <td>0.0</td>\n",
              "      <td>0.0</td>\n",
              "      <td>1.0</td>\n",
              "      <td>1.0</td>\n",
              "      <td>1</td>\n",
              "    </tr>\n",
              "    <tr>\n",
              "      <th>3346</th>\n",
              "      <td>33010</td>\n",
              "      <td>0</td>\n",
              "      <td>12511</td>\n",
              "      <td>NaN</td>\n",
              "      <td>142</td>\n",
              "      <td>1.5701</td>\n",
              "      <td>UNKNOWN</td>\n",
              "      <td>RURAL</td>\n",
              "      <td>0.0</td>\n",
              "      <td>0.0</td>\n",
              "      <td>0.0</td>\n",
              "      <td>0.0</td>\n",
              "      <td>0.0</td>\n",
              "      <td>0.0</td>\n",
              "      <td>1.0</td>\n",
              "      <td>1.0</td>\n",
              "      <td>1</td>\n",
              "    </tr>\n",
              "    <tr>\n",
              "      <th>6257</th>\n",
              "      <td>33011</td>\n",
              "      <td>0</td>\n",
              "      <td>12512</td>\n",
              "      <td>NaN</td>\n",
              "      <td>132</td>\n",
              "      <td>1.9896</td>\n",
              "      <td>UNKNOWN</td>\n",
              "      <td>RURAL</td>\n",
              "      <td>0.0</td>\n",
              "      <td>0.0</td>\n",
              "      <td>0.0</td>\n",
              "      <td>0.0</td>\n",
              "      <td>0.0</td>\n",
              "      <td>0.0</td>\n",
              "      <td>1.0</td>\n",
              "      <td>1.0</td>\n",
              "      <td>1</td>\n",
              "    </tr>\n",
              "    <tr>\n",
              "      <th>12863</th>\n",
              "      <td>33009</td>\n",
              "      <td>0</td>\n",
              "      <td>12510</td>\n",
              "      <td>NaN</td>\n",
              "      <td>142</td>\n",
              "      <td>1.1450</td>\n",
              "      <td>UNKNOWN</td>\n",
              "      <td>RURAL</td>\n",
              "      <td>0.0</td>\n",
              "      <td>0.0</td>\n",
              "      <td>0.0</td>\n",
              "      <td>0.0</td>\n",
              "      <td>0.0</td>\n",
              "      <td>0.0</td>\n",
              "      <td>1.0</td>\n",
              "      <td>1.0</td>\n",
              "      <td>1</td>\n",
              "    </tr>\n",
              "    <tr>\n",
              "      <th>13192</th>\n",
              "      <td>33013</td>\n",
              "      <td>0</td>\n",
              "      <td>12514</td>\n",
              "      <td>NaN</td>\n",
              "      <td>121</td>\n",
              "      <td>1.0893</td>\n",
              "      <td>UNKNOWN</td>\n",
              "      <td>RURAL</td>\n",
              "      <td>0.0</td>\n",
              "      <td>0.0</td>\n",
              "      <td>0.0</td>\n",
              "      <td>0.0</td>\n",
              "      <td>0.0</td>\n",
              "      <td>0.0</td>\n",
              "      <td>1.0</td>\n",
              "      <td>1.0</td>\n",
              "      <td>1</td>\n",
              "    </tr>\n",
              "    <tr>\n",
              "      <th>14574</th>\n",
              "      <td>33003</td>\n",
              "      <td>0</td>\n",
              "      <td>12504</td>\n",
              "      <td>NaN</td>\n",
              "      <td>125</td>\n",
              "      <td>1.8282</td>\n",
              "      <td>UNKNOWN</td>\n",
              "      <td>RURAL</td>\n",
              "      <td>0.0</td>\n",
              "      <td>0.0</td>\n",
              "      <td>0.0</td>\n",
              "      <td>0.0</td>\n",
              "      <td>0.0</td>\n",
              "      <td>0.0</td>\n",
              "      <td>1.0</td>\n",
              "      <td>1.0</td>\n",
              "      <td>1</td>\n",
              "    </tr>\n",
              "    <tr>\n",
              "      <th>19669</th>\n",
              "      <td>33004</td>\n",
              "      <td>0</td>\n",
              "      <td>12505</td>\n",
              "      <td>NaN</td>\n",
              "      <td>123</td>\n",
              "      <td>1.9290</td>\n",
              "      <td>UNKNOWN</td>\n",
              "      <td>RURAL</td>\n",
              "      <td>0.0</td>\n",
              "      <td>0.0</td>\n",
              "      <td>0.0</td>\n",
              "      <td>0.0</td>\n",
              "      <td>0.0</td>\n",
              "      <td>0.0</td>\n",
              "      <td>1.0</td>\n",
              "      <td>1.0</td>\n",
              "      <td>1</td>\n",
              "    </tr>\n",
              "  </tbody>\n",
              "</table>\n",
              "</div>"
            ],
            "text/plain": [
              "       ID_Patient_Care_Situation  ...  Survived_1_year\n",
              "1239                       33007  ...                1\n",
              "2137                       33008  ...                1\n",
              "3346                       33010  ...                1\n",
              "6257                       33011  ...                1\n",
              "12863                      33009  ...                1\n",
              "13192                      33013  ...                1\n",
              "14574                      33003  ...                1\n",
              "19669                      33004  ...                1\n",
              "\n",
              "[8 rows x 17 columns]"
            ]
          },
          "metadata": {
            "tags": []
          },
          "execution_count": 16
        }
      ]
    },
    {
      "cell_type": "code",
      "metadata": {
        "id": "6MwjTv2YUPs2"
      },
      "source": [
        "# replace 'Patient_Age' with mean, if 'Patient_Age' > 90\n",
        "EDA_train_df.Patient_Age = np.where(EDA_train_df.Patient_Age > 90, EDA_train_df.Patient_Age.mean(), EDA_train_df.Patient_Age)"
      ],
      "execution_count": null,
      "outputs": []
    },
    {
      "cell_type": "code",
      "metadata": {
        "id": "pCeLrP3IcmLk",
        "colab": {
          "base_uri": "https://localhost:8080/",
          "height": 69
        },
        "outputId": "c60dd7e6-8269-4f7b-a10b-dfb7852f81bc"
      },
      "source": [
        "# check that there are no longer any 'Patient_Age' > 90\n",
        "EDA_train_df[(EDA_train_df.Patient_Age > 90)]"
      ],
      "execution_count": null,
      "outputs": [
        {
          "output_type": "execute_result",
          "data": {
            "text/html": [
              "<div>\n",
              "<style scoped>\n",
              "    .dataframe tbody tr th:only-of-type {\n",
              "        vertical-align: middle;\n",
              "    }\n",
              "\n",
              "    .dataframe tbody tr th {\n",
              "        vertical-align: top;\n",
              "    }\n",
              "\n",
              "    .dataframe thead th {\n",
              "        text-align: right;\n",
              "    }\n",
              "</style>\n",
              "<table border=\"1\" class=\"dataframe\">\n",
              "  <thead>\n",
              "    <tr style=\"text-align: right;\">\n",
              "      <th></th>\n",
              "      <th>ID_Patient_Care_Situation</th>\n",
              "      <th>Diagnosed_Condition</th>\n",
              "      <th>Patient_ID</th>\n",
              "      <th>Treated_with_drugs</th>\n",
              "      <th>Patient_Age</th>\n",
              "      <th>Patient_Body_Mass_Index</th>\n",
              "      <th>Patient_Smoker</th>\n",
              "      <th>Patient_Rural_Urban</th>\n",
              "      <th>A</th>\n",
              "      <th>B</th>\n",
              "      <th>C</th>\n",
              "      <th>D</th>\n",
              "      <th>E</th>\n",
              "      <th>F</th>\n",
              "      <th>Z</th>\n",
              "      <th>Number_of_prev_cond</th>\n",
              "      <th>Survived_1_year</th>\n",
              "    </tr>\n",
              "  </thead>\n",
              "  <tbody>\n",
              "  </tbody>\n",
              "</table>\n",
              "</div>"
            ],
            "text/plain": [
              "Empty DataFrame\n",
              "Columns: [ID_Patient_Care_Situation, Diagnosed_Condition, Patient_ID, Treated_with_drugs, Patient_Age, Patient_Body_Mass_Index, Patient_Smoker, Patient_Rural_Urban, A, B, C, D, E, F, Z, Number_of_prev_cond, Survived_1_year]\n",
              "Index: []"
            ]
          },
          "metadata": {
            "tags": []
          },
          "execution_count": 18
        }
      ]
    },
    {
      "cell_type": "code",
      "metadata": {
        "id": "wyRdye5kmOnN",
        "colab": {
          "base_uri": "https://localhost:8080/",
          "height": 100
        },
        "outputId": "16cae1d7-bdeb-49d5-c36a-ca7c19951130"
      },
      "source": [
        "# check the 'new' Patient_Age' of the first outlier, by index \n",
        "EDA_train_df.iloc[[1239]]"
      ],
      "execution_count": null,
      "outputs": [
        {
          "output_type": "execute_result",
          "data": {
            "text/html": [
              "<div>\n",
              "<style scoped>\n",
              "    .dataframe tbody tr th:only-of-type {\n",
              "        vertical-align: middle;\n",
              "    }\n",
              "\n",
              "    .dataframe tbody tr th {\n",
              "        vertical-align: top;\n",
              "    }\n",
              "\n",
              "    .dataframe thead th {\n",
              "        text-align: right;\n",
              "    }\n",
              "</style>\n",
              "<table border=\"1\" class=\"dataframe\">\n",
              "  <thead>\n",
              "    <tr style=\"text-align: right;\">\n",
              "      <th></th>\n",
              "      <th>ID_Patient_Care_Situation</th>\n",
              "      <th>Diagnosed_Condition</th>\n",
              "      <th>Patient_ID</th>\n",
              "      <th>Treated_with_drugs</th>\n",
              "      <th>Patient_Age</th>\n",
              "      <th>Patient_Body_Mass_Index</th>\n",
              "      <th>Patient_Smoker</th>\n",
              "      <th>Patient_Rural_Urban</th>\n",
              "      <th>A</th>\n",
              "      <th>B</th>\n",
              "      <th>C</th>\n",
              "      <th>D</th>\n",
              "      <th>E</th>\n",
              "      <th>F</th>\n",
              "      <th>Z</th>\n",
              "      <th>Number_of_prev_cond</th>\n",
              "      <th>Survived_1_year</th>\n",
              "    </tr>\n",
              "  </thead>\n",
              "  <tbody>\n",
              "    <tr>\n",
              "      <th>1239</th>\n",
              "      <td>33007</td>\n",
              "      <td>0</td>\n",
              "      <td>12508</td>\n",
              "      <td>NaN</td>\n",
              "      <td>33.235831</td>\n",
              "      <td>1.4606</td>\n",
              "      <td>UNKNOWN</td>\n",
              "      <td>RURAL</td>\n",
              "      <td>0.0</td>\n",
              "      <td>0.0</td>\n",
              "      <td>0.0</td>\n",
              "      <td>0.0</td>\n",
              "      <td>0.0</td>\n",
              "      <td>0.0</td>\n",
              "      <td>1.0</td>\n",
              "      <td>1.0</td>\n",
              "      <td>1</td>\n",
              "    </tr>\n",
              "  </tbody>\n",
              "</table>\n",
              "</div>"
            ],
            "text/plain": [
              "      ID_Patient_Care_Situation  ...  Survived_1_year\n",
              "1239                      33007  ...                1\n",
              "\n",
              "[1 rows x 17 columns]"
            ]
          },
          "metadata": {
            "tags": []
          },
          "execution_count": 19
        }
      ]
    },
    {
      "cell_type": "markdown",
      "metadata": {
        "id": "C-iuGX__XnLa"
      },
      "source": [
        "#### 'Patient_Body_Mass_Index' Outliers\n",
        "The outliers for 'Patient_Body_Mass_Index' are closer to zero than the bulk of the data. \n",
        "**BMI = (Weight in kilograms) divided by (Height in metres squared)**\n",
        "\n",
        "A normal BMI is one that falls between **18.5 and 24.9**. This indicates that a person is within the normal weight range for his or her height.\n",
        "\n",
        "  Body Mass Index  (BMI)  | Weight Status\n",
        "  -------------  | -------------\n",
        "  Below 18.5 | Underweight\n",
        "  18.5 - 24.9 |\tNormal\n",
        "  25.0 - 29.9\t| Overweight\n",
        "  30.0 plus\t| Obese\n",
        "\n",
        "  Therefore, the outliers for 'Patient_Body_Mass_Index' are acceptable data."
      ]
    },
    {
      "cell_type": "markdown",
      "metadata": {
        "id": "Us7TMdHB2jq6"
      },
      "source": [
        "Heat map of the correlation analysis between the continuous varibles."
      ]
    },
    {
      "cell_type": "code",
      "metadata": {
        "id": "v6vxNjeT2jq6",
        "colab": {
          "base_uri": "https://localhost:8080/",
          "height": 357
        },
        "outputId": "69ed382b-97f6-42d3-a2c5-c366d66e3187"
      },
      "source": [
        "colormap = sns.diverging_palette(500, 500, as_cmap = True)\n",
        "sns.heatmap(EDA_train_df[['Diagnosed_Condition', 'Patient_Age', 'Patient_Body_Mass_Index', 'Number_of_prev_cond', 'Survived_1_year']].corr(),\n",
        "            cmap = 'Greens',\n",
        "            square = True,\n",
        "            annot = True)\n",
        "plt.xticks(rotation=45)\n",
        "plt.show()"
      ],
      "execution_count": null,
      "outputs": [
        {
          "output_type": "display_data",
          "data": {
            "image/png": "[encoded data removed]",
            "text/plain": [
              "<Figure size 432x288 with 2 Axes>"
            ]
          },
          "metadata": {
            "tags": [],
            "needs_background": "light"
          }
        }
      ]
    },
    {
      "cell_type": "markdown",
      "metadata": {
        "id": "_VGg3Geh3Ur9"
      },
      "source": [
        "There is very little correlation between variables."
      ]
    },
    {
      "cell_type": "markdown",
      "metadata": {
        "id": "5VhCMqDnDGN4"
      },
      "source": [
        "Check for missing Values"
      ]
    },
    {
      "cell_type": "code",
      "metadata": {
        "id": "eoDnYUgH2jq-",
        "colab": {
          "base_uri": "https://localhost:8080/"
        },
        "outputId": "d5398db5-8277-4688-d407-e23fbe23f6ba"
      },
      "source": [
        "EDA_train_df.isnull().sum()"
      ],
      "execution_count": null,
      "outputs": [
        {
          "output_type": "execute_result",
          "data": {
            "text/plain": [
              "ID_Patient_Care_Situation       0\n",
              "Diagnosed_Condition             0\n",
              "Patient_ID                      0\n",
              "Treated_with_drugs              8\n",
              "Patient_Age                     0\n",
              "Patient_Body_Mass_Index         0\n",
              "Patient_Smoker                  0\n",
              "Patient_Rural_Urban             0\n",
              "A                            1267\n",
              "B                            1267\n",
              "C                            1267\n",
              "D                            1267\n",
              "E                            1267\n",
              "F                            1267\n",
              "Z                            1267\n",
              "Number_of_prev_cond             0\n",
              "Survived_1_year                 0\n",
              "dtype: int64"
            ]
          },
          "metadata": {
            "tags": []
          },
          "execution_count": 21
        }
      ]
    },
    {
      "cell_type": "markdown",
      "metadata": {
        "id": "gFBicsED87k3"
      },
      "source": [
        "The following features have missing values: \n",
        "- 'Treated_with_drugs' - There are only 8 missing vlaues. It is possible that 8 patients were not treated with any drugs. These values will be replaced with '0'.\n",
        "- A\n",
        "- B\n",
        "- C \n",
        "- D \n",
        "- E \n",
        "- F \n",
        "- Z \n",
        "\n",
        "'Number_of_prev_cond' is dependent on the values in the seven features - 'A', 'B', 'C', 'D', 'E', 'F', 'Z' (i.e. what specific previous conditions the patient had).\n",
        "As previously stated, it is possible that these patients DID NOT have any previous conditions. \n",
        "'Number_of_prev_cond' had 1356 missing values (exactly the same number of missing vales in each of features 'A', 'B', 'C', 'D', 'E', 'F', 'Z' - the specific condition features).\n",
        "Since 'Number_of_prev_cond' null values were replaced with '0' it follows that \n",
        "features 'A', 'B', 'C', 'D', 'E', 'F', 'Z' would also have null values replced with '0'."
      ]
    },
    {
      "cell_type": "code",
      "metadata": {
        "id": "FhWFz0aK76hv"
      },
      "source": [
        "# filling the missing value of features 'A', 'B', 'C', 'D', 'E', 'F', 'Z'  with '0'\n",
        "EDA_train_df[['Treated_with_drugs', 'A', 'B', 'C', 'D', 'E', 'F', 'Z', 'Number_of_prev_cond']] = EDA_train_df[['Treated_with_drugs', 'A', 'B', 'C', 'D', 'E', 'F', 'Z', 'Number_of_prev_cond']].fillna(value = 0)"
      ],
      "execution_count": null,
      "outputs": []
    },
    {
      "cell_type": "code",
      "metadata": {
        "id": "uaXYe2Qe8hrc",
        "colab": {
          "base_uri": "https://localhost:8080/"
        },
        "outputId": "a52bbcb7-1f75-4ddf-f8cc-2c4e430c25ab"
      },
      "source": [
        "EDA_train_df.isnull().sum()"
      ],
      "execution_count": null,
      "outputs": [
        {
          "output_type": "execute_result",
          "data": {
            "text/plain": [
              "ID_Patient_Care_Situation    0\n",
              "Diagnosed_Condition          0\n",
              "Patient_ID                   0\n",
              "Treated_with_drugs           0\n",
              "Patient_Age                  0\n",
              "Patient_Body_Mass_Index      0\n",
              "Patient_Smoker               0\n",
              "Patient_Rural_Urban          0\n",
              "A                            0\n",
              "B                            0\n",
              "C                            0\n",
              "D                            0\n",
              "E                            0\n",
              "F                            0\n",
              "Z                            0\n",
              "Number_of_prev_cond          0\n",
              "Survived_1_year              0\n",
              "dtype: int64"
            ]
          },
          "metadata": {
            "tags": []
          },
          "execution_count": 23
        }
      ]
    },
    {
      "cell_type": "markdown",
      "metadata": {
        "id": "yRT6K4pW2jrA"
      },
      "source": [
        "### EDA on Categorical Data\n",
        "In 'categorical_data', keep all the categorical features and remove the rest.\n",
        "\n",
        "Features are not being removed from the main dataset, 'data'."
      ]
    },
    {
      "cell_type": "code",
      "metadata": {
        "id": "Jk82XPxHJTbv",
        "colab": {
          "base_uri": "https://localhost:8080/",
          "height": 224
        },
        "outputId": "be189779-d8f8-4a6e-a381-7f5708ba11f6"
      },
      "source": [
        "# Create a dataframe of only the categorical features\n",
        "numeric_cols_df.drop(['Survived_1_year'], axis=1, inplace = True)\n",
        "categorical_cols_df = EDA_train_df.drop(numeric_cols_df.columns, axis=1)\n",
        "categorical_cols_df.drop(['Patient_ID', 'ID_Patient_Care_Situation'], axis=1, inplace = True)\n",
        "\n",
        "categorical_cols_df.head()"
      ],
      "execution_count": null,
      "outputs": [
        {
          "output_type": "execute_result",
          "data": {
            "text/html": [
              "<div>\n",
              "<style scoped>\n",
              "    .dataframe tbody tr th:only-of-type {\n",
              "        vertical-align: middle;\n",
              "    }\n",
              "\n",
              "    .dataframe tbody tr th {\n",
              "        vertical-align: top;\n",
              "    }\n",
              "\n",
              "    .dataframe thead th {\n",
              "        text-align: right;\n",
              "    }\n",
              "</style>\n",
              "<table border=\"1\" class=\"dataframe\">\n",
              "  <thead>\n",
              "    <tr style=\"text-align: right;\">\n",
              "      <th></th>\n",
              "      <th>Treated_with_drugs</th>\n",
              "      <th>Patient_Smoker</th>\n",
              "      <th>Patient_Rural_Urban</th>\n",
              "      <th>A</th>\n",
              "      <th>B</th>\n",
              "      <th>C</th>\n",
              "      <th>D</th>\n",
              "      <th>E</th>\n",
              "      <th>F</th>\n",
              "      <th>Z</th>\n",
              "      <th>Survived_1_year</th>\n",
              "    </tr>\n",
              "  </thead>\n",
              "  <tbody>\n",
              "    <tr>\n",
              "      <th>0</th>\n",
              "      <td>DX2</td>\n",
              "      <td>NO</td>\n",
              "      <td>URBAN</td>\n",
              "      <td>1.0</td>\n",
              "      <td>0.0</td>\n",
              "      <td>0.0</td>\n",
              "      <td>0.0</td>\n",
              "      <td>1.0</td>\n",
              "      <td>0.0</td>\n",
              "      <td>0.0</td>\n",
              "      <td>1</td>\n",
              "    </tr>\n",
              "    <tr>\n",
              "      <th>1</th>\n",
              "      <td>DX6</td>\n",
              "      <td>NO</td>\n",
              "      <td>RURAL</td>\n",
              "      <td>1.0</td>\n",
              "      <td>0.0</td>\n",
              "      <td>1.0</td>\n",
              "      <td>0.0</td>\n",
              "      <td>1.0</td>\n",
              "      <td>0.0</td>\n",
              "      <td>0.0</td>\n",
              "      <td>0</td>\n",
              "    </tr>\n",
              "    <tr>\n",
              "      <th>2</th>\n",
              "      <td>DX6</td>\n",
              "      <td>NO</td>\n",
              "      <td>RURAL</td>\n",
              "      <td>1.0</td>\n",
              "      <td>0.0</td>\n",
              "      <td>0.0</td>\n",
              "      <td>0.0</td>\n",
              "      <td>1.0</td>\n",
              "      <td>0.0</td>\n",
              "      <td>0.0</td>\n",
              "      <td>1</td>\n",
              "    </tr>\n",
              "    <tr>\n",
              "      <th>3</th>\n",
              "      <td>DX6</td>\n",
              "      <td>NO</td>\n",
              "      <td>RURAL</td>\n",
              "      <td>1.0</td>\n",
              "      <td>0.0</td>\n",
              "      <td>0.0</td>\n",
              "      <td>0.0</td>\n",
              "      <td>1.0</td>\n",
              "      <td>0.0</td>\n",
              "      <td>0.0</td>\n",
              "      <td>0</td>\n",
              "    </tr>\n",
              "    <tr>\n",
              "      <th>4</th>\n",
              "      <td>DX1</td>\n",
              "      <td>NO</td>\n",
              "      <td>RURAL</td>\n",
              "      <td>1.0</td>\n",
              "      <td>0.0</td>\n",
              "      <td>0.0</td>\n",
              "      <td>0.0</td>\n",
              "      <td>0.0</td>\n",
              "      <td>0.0</td>\n",
              "      <td>0.0</td>\n",
              "      <td>1</td>\n",
              "    </tr>\n",
              "  </tbody>\n",
              "</table>\n",
              "</div>"
            ],
            "text/plain": [
              "  Treated_with_drugs Patient_Smoker  ...    Z  Survived_1_year\n",
              "0                DX2             NO  ...  0.0                1\n",
              "1                DX6             NO  ...  0.0                0\n",
              "2                DX6             NO  ...  0.0                1\n",
              "3                DX6             NO  ...  0.0                0\n",
              "4                DX1             NO  ...  0.0                1\n",
              "\n",
              "[5 rows x 11 columns]"
            ]
          },
          "metadata": {
            "tags": []
          },
          "execution_count": 24
        }
      ]
    },
    {
      "cell_type": "code",
      "metadata": {
        "id": "6-AAOrPv2jrC",
        "colab": {
          "base_uri": "https://localhost:8080/"
        },
        "outputId": "b0644bbf-b5ce-49f0-b121-cebb2f837e6a"
      },
      "source": [
        "categorical_cols_df.nunique()   # return the number of unique values in each feature"
      ],
      "execution_count": null,
      "outputs": [
        {
          "output_type": "execute_result",
          "data": {
            "text/plain": [
              "Treated_with_drugs     33\n",
              "Patient_Smoker          3\n",
              "Patient_Rural_Urban     2\n",
              "A                       2\n",
              "B                       2\n",
              "C                       2\n",
              "D                       2\n",
              "E                       2\n",
              "F                       2\n",
              "Z                       2\n",
              "Survived_1_year         2\n",
              "dtype: int64"
            ]
          },
          "metadata": {
            "tags": []
          },
          "execution_count": 25
        }
      ]
    },
    {
      "cell_type": "markdown",
      "metadata": {
        "id": "ng9a3CEm2jrF"
      },
      "source": [
        "- 'Treated_with_drugs' feature has 32 unique values. - this is as expected\n",
        "- 'Patient_Smoker' has only 3 unique values. - this is as required"
      ]
    },
    {
      "cell_type": "markdown",
      "metadata": {
        "id": "Odx6WzQW-nBd"
      },
      "source": [
        "Plot the distribution of categorical variables."
      ]
    },
    {
      "cell_type": "code",
      "metadata": {
        "id": "eT5zTtMJ2jrF",
        "colab": {
          "base_uri": "https://localhost:8080/",
          "height": 932
        },
        "outputId": "bef983aa-83a1-472d-dcdf-93f859629367"
      },
      "source": [
        "# Visualization of categorical features\n",
        "for feature in ['Patient_Smoker', 'Patient_Rural_Urban']:\n",
        "  sns.countplot(x=feature,  hue='Survived_1_year', data=EDA_train_df)\n",
        "  plt.show()\n",
        "\n",
        "plt.figure(figsize=(15,5))\n",
        "sns.countplot(x='Treated_with_drugs',  hue='Survived_1_year', data=EDA_train_df)\n",
        "plt.xticks(rotation=90)\n",
        "plt.show()"
      ],
      "execution_count": null,
      "outputs": [
        {
          "output_type": "display_data",
          "data": {
            "image/png": "[encoded data removed]",
            "text/plain": [
              "<Figure size 432x288 with 1 Axes>"
            ]
          },
          "metadata": {
            "tags": [],
            "needs_background": "light"
          }
        },
        {
          "output_type": "display_data",
          "data": {
            "image/png": "[encoded data removed]",
            "text/plain": [
              "<Figure size 432x288 with 1 Axes>"
            ]
          },
          "metadata": {
            "tags": [],
            "needs_background": "light"
          }
        },
        {
          "output_type": "display_data",
          "data": {
            "image/png": "[encoded data removed]",
            "text/plain": [
              "<Figure size 1080x360 with 1 Axes>"
            ]
          },
          "metadata": {
            "tags": [],
            "needs_background": "light"
          }
        }
      ]
    },
    {
      "cell_type": "markdown",
      "metadata": {
        "id": "HD1vRYcdKAPf"
      },
      "source": [
        "Final data check before saving"
      ]
    },
    {
      "cell_type": "code",
      "metadata": {
        "id": "Z4N4dzIIKAnw",
        "colab": {
          "base_uri": "https://localhost:8080/"
        },
        "outputId": "f564221a-1b5c-4734-af6f-8c1cc6874331"
      },
      "source": [
        "EDA_train_df.isnull().sum()"
      ],
      "execution_count": null,
      "outputs": [
        {
          "output_type": "execute_result",
          "data": {
            "text/plain": [
              "ID_Patient_Care_Situation    0\n",
              "Diagnosed_Condition          0\n",
              "Patient_ID                   0\n",
              "Treated_with_drugs           0\n",
              "Patient_Age                  0\n",
              "Patient_Body_Mass_Index      0\n",
              "Patient_Smoker               0\n",
              "Patient_Rural_Urban          0\n",
              "A                            0\n",
              "B                            0\n",
              "C                            0\n",
              "D                            0\n",
              "E                            0\n",
              "F                            0\n",
              "Z                            0\n",
              "Number_of_prev_cond          0\n",
              "Survived_1_year              0\n",
              "dtype: int64"
            ]
          },
          "metadata": {
            "tags": []
          },
          "execution_count": 27
        }
      ]
    },
    {
      "cell_type": "code",
      "metadata": {
        "id": "9so58VSBKF6O",
        "colab": {
          "base_uri": "https://localhost:8080/"
        },
        "outputId": "6fa1962d-aad7-47f6-fbef-cf57c6349ce0"
      },
      "source": [
        "EDA_train_df.nunique() "
      ],
      "execution_count": null,
      "outputs": [
        {
          "output_type": "execute_result",
          "data": {
            "text/plain": [
              "ID_Patient_Care_Situation    23097\n",
              "Diagnosed_Condition             53\n",
              "Patient_ID                   10599\n",
              "Treated_with_drugs              33\n",
              "Patient_Age                     68\n",
              "Patient_Body_Mass_Index      10599\n",
              "Patient_Smoker                   3\n",
              "Patient_Rural_Urban              2\n",
              "A                                2\n",
              "B                                2\n",
              "C                                2\n",
              "D                                2\n",
              "E                                2\n",
              "F                                2\n",
              "Z                                2\n",
              "Number_of_prev_cond              6\n",
              "Survived_1_year                  2\n",
              "dtype: int64"
            ]
          },
          "metadata": {
            "tags": []
          },
          "execution_count": 28
        }
      ]
    },
    {
      "cell_type": "markdown",
      "metadata": {
        "id": "zEgsTphsZiEW"
      },
      "source": [
        "Compare above summary of Training data to Test Data"
      ]
    },
    {
      "cell_type": "code",
      "metadata": {
        "id": "O20qV4MWWmg4",
        "colab": {
          "base_uri": "https://localhost:8080/"
        },
        "outputId": "d6bd32fd-5569-4c7b-baa1-7ba62563dbbf"
      },
      "source": [
        "EDA_new_test_df.isnull().sum()"
      ],
      "execution_count": null,
      "outputs": [
        {
          "output_type": "execute_result",
          "data": {
            "text/plain": [
              "ID_Patient_Care_Situation    0\n",
              "Diagnosed_Condition          0\n",
              "Patient_ID                   0\n",
              "Treated_with_drugs           0\n",
              "Patient_Age                  0\n",
              "Patient_Body_Mass_Index      0\n",
              "Patient_Smoker               0\n",
              "Patient_Rural_Urban          0\n",
              "Patient_mental_condition     0\n",
              "A                            0\n",
              "B                            0\n",
              "C                            0\n",
              "D                            0\n",
              "E                            0\n",
              "F                            0\n",
              "Z                            0\n",
              "Number_of_prev_cond          0\n",
              "dtype: int64"
            ]
          },
          "metadata": {
            "tags": []
          },
          "execution_count": 29
        }
      ]
    },
    {
      "cell_type": "code",
      "metadata": {
        "id": "LQPTcpLTWmOo",
        "colab": {
          "base_uri": "https://localhost:8080/"
        },
        "outputId": "82d9a12d-d9a6-4fe4-87ea-21839c65d6fe"
      },
      "source": [
        "EDA_new_test_df.nunique()"
      ],
      "execution_count": null,
      "outputs": [
        {
          "output_type": "execute_result",
          "data": {
            "text/plain": [
              "ID_Patient_Care_Situation    9330\n",
              "Diagnosed_Condition            52\n",
              "Patient_ID                   6486\n",
              "Treated_with_drugs             32\n",
              "Patient_Age                    67\n",
              "Patient_Body_Mass_Index      6486\n",
              "Patient_Smoker                  2\n",
              "Patient_Rural_Urban             2\n",
              "Patient_mental_condition        1\n",
              "A                               2\n",
              "B                               2\n",
              "C                               2\n",
              "D                               2\n",
              "E                               2\n",
              "F                               2\n",
              "Z                               1\n",
              "Number_of_prev_cond             5\n",
              "dtype: int64"
            ]
          },
          "metadata": {
            "tags": []
          },
          "execution_count": 30
        }
      ]
    },
    {
      "cell_type": "markdown",
      "metadata": {
        "id": "8Ibjxflg2jrH"
      },
      "source": [
        "### **Save Data**"
      ]
    },
    {
      "cell_type": "code",
      "metadata": {
        "id": "RBpaUJUH2jrI"
      },
      "source": [
        "# pickle Training data\n",
        "EDA_train_df.to_pickle('/content/drive/My Drive/Colab Notebooks/ML Bootcamp/Heart_Patient/Data/train_data_4_PP.pkl')\n",
        "\n",
        "# pickle Testing data\n",
        "EDA_new_test_df.to_pickle('/content/drive/My Drive/Colab Notebooks/ML Bootcamp/Heart_Patient/Data/new_test_data_4_PP.pkl')"
      ],
      "execution_count": null,
      "outputs": []
    }
  ]
}